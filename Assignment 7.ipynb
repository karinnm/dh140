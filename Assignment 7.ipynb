{
 "cells": [
  {
   "cell_type": "markdown",
   "id": "844e55d3-ec9a-4976-85fb-cca51cf5858c",
   "metadata": {},
   "source": [
    "# Assignment 7"
   ]
  },
  {
   "cell_type": "code",
   "execution_count": 2,
   "id": "c55c8c01-9aa4-4cb2-8a0f-7760b90f552a",
   "metadata": {},
   "outputs": [],
   "source": [
    "# importing Shakespeare's play Macbeth from Project Gutenberg "
   ]
  },
  {
   "cell_type": "code",
   "execution_count": 3,
   "id": "29155235-8c8c-4887-8ecc-b9c7c970557b",
   "metadata": {},
   "outputs": [],
   "source": [
    "import requests\n",
    "import nltk\n",
    "from nltk.tokenize import word_tokenize, sent_tokenize\n",
    "from string import punctuation\n",
    "from nltk.probability import FreqDist\n",
    "from nltk.stem import WordNetLemmatizer\n",
    "import pandas as pd"
   ]
  },
  {
   "cell_type": "code",
   "execution_count": 4,
   "id": "4a4f0ea7-1afd-40a5-98f1-3c61900d4867",
   "metadata": {},
   "outputs": [],
   "source": [
    "response = requests.get('https://www.gutenberg.org/cache/epub/2264/pg2264.html')"
   ]
  },
  {
   "cell_type": "code",
   "execution_count": 5,
   "id": "e7c9e7db-88ff-4f12-9efd-20b13b6eb218",
   "metadata": {},
   "outputs": [
    {
     "data": {
      "text/plain": [
       "<Response [200]>"
      ]
     },
     "execution_count": 5,
     "metadata": {},
     "output_type": "execute_result"
    }
   ],
   "source": [
    "response"
   ]
  },
  {
   "cell_type": "code",
   "execution_count": 6,
   "id": "b7543525-7172-40cb-8cfa-5575ef7dad37",
   "metadata": {},
   "outputs": [],
   "source": [
    "from bs4 import BeautifulSoup"
   ]
  },
  {
   "cell_type": "code",
   "execution_count": 7,
   "id": "7cc723d8-2cfc-4184-923a-7e1be58d836b",
   "metadata": {},
   "outputs": [],
   "source": [
    "document = BeautifulSoup(response.text, \"html.parser\")"
   ]
  },
  {
   "cell_type": "code",
   "execution_count": 8,
   "id": "783a2ce1-64ec-454b-911d-e278ab47f744",
   "metadata": {},
   "outputs": [],
   "source": [
    "text = document.text"
   ]
  },
  {
   "cell_type": "code",
   "execution_count": 9,
   "id": "fe12b1be-551d-4a44-861d-b010e270f7e4",
   "metadata": {},
   "outputs": [],
   "source": [
    "# tokenizing the words"
   ]
  },
  {
   "cell_type": "code",
   "execution_count": 10,
   "id": "6eb774ba-5d61-4da6-af22-7816408ae103",
   "metadata": {
    "tags": []
   },
   "outputs": [],
   "source": [
    "sent = sent_tokenize(text)\n",
    "new_sent = sent[140:1603]"
   ]
  },
  {
   "cell_type": "code",
   "execution_count": 11,
   "id": "1aac921c-49a6-430f-a5d6-0ecb6e06a336",
   "metadata": {
    "collapsed": true,
    "jupyter": {
     "outputs_hidden": true
    },
    "tags": []
   },
   "outputs": [
    {
     "name": "stdout",
     "output_type": "stream",
     "text": [
      "['Scoena', 'Prima', '.', 'Thunder', 'and', 'Lightning', '.', 'Enter', 'three', 'Witches', '.', '1', '.', 'When', 'shall', 'we', 'three', 'meet', 'againe', '?', 'In', 'Thunder', ',', 'Lightning', ',', 'or', 'in', 'Raine', '?', '2', '.', 'When', 'the', 'Hurley-burley', \"'s\", 'done', ',', 'When', 'the', 'Battaile', \"'s\", 'lost', ',', 'and', 'wonne', '3', '.', 'That', 'will', 'be', 'ere', 'the', 'set', 'of', 'Sunne', '1', '.', 'Where', 'the', 'place', '?', '2', '.', 'Vpon', 'the', 'Heath', '3', '.', 'There', 'to', 'meet', 'with', 'Macbeth', '1', '.', 'I', 'come', ',', 'Gray-Malkin', 'All', '.', 'Padock', 'calls', 'anon', ':', 'faire', 'is', 'foule', ',', 'and', 'foule', 'is', 'faire', ',', 'Houer', 'through', 'the', 'fogge', 'and', 'filthie', 'ayre', '.', 'Exeunt', '.', 'Scena', 'Secunda', '.', 'Alarum', 'within', '.', 'Enter', 'King', ',', 'Malcome', ',', 'Donalbaine', ',', 'Lenox', ',', 'with', 'attendants', ',', 'meeting', 'a', 'bleeding', 'Captaine', '.', 'King', '.', 'What', 'bloody', 'man', 'is', 'that', '?', 'he', 'can', 'report', ',', 'As', 'seemeth', 'by', 'his', 'plight', ',', 'of', 'the', 'Reuolt', 'The', 'newest', 'state', 'Mal', '.', 'This', 'is', 'the', 'Serieant', ',', 'Who', 'like', 'a', 'good', 'and', 'hardie', 'Souldier', 'fought', \"'Gainst\", 'my', 'Captiuitie', ':', 'Haile', 'braue', 'friend', ';', 'Say', 'to', 'the', 'King', ',', 'the', 'knowledge', 'of', 'the', 'Broyle', ',', 'As', 'thou', 'didst', 'leaue', 'it', 'Cap', '.', 'Doubtfull', 'it', 'stood', ',', 'As', 'two', 'spent', 'Swimmers', ',', 'that', 'doe', 'cling', 'together', ',', 'And', 'choake', 'their', 'Art', ':', 'The', 'mercilesse', 'Macdonwald', '(', 'Worthie', 'to', 'be', 'a', 'Rebell', ',', 'for', 'to', 'that', 'The', 'multiplying', 'Villanies', 'of', 'Nature', 'Doe', 'swarme', 'vpon', 'him', ')', 'from', 'the', 'Westerne', 'Isles', 'Of', 'Kernes', 'and', 'Gallowgrosses', 'is', 'supply', \"'d\", ',', 'And', 'Fortune', 'on', 'his', 'damned', 'Quarry', 'smiling', ',', 'Shew', \"'d\", 'like', 'a', 'Rebells', 'Whore', ':', 'but', 'all', \"'s\", 'too', 'weake', ':', 'For', 'braue', 'Macbeth', '(', 'well', 'hee', 'deserues', 'that', 'Name', ')', 'Disdayning', 'Fortune', ',', 'with', 'his', 'brandisht', 'Steele', ',', 'Which', 'smoak', \"'d\", 'with', 'bloody', 'execution', '(', 'Like', 'Valours', 'Minion', ')', 'caru', \"'d\", 'out', 'his', 'passage', ',', 'Till', 'hee', 'fac', \"'d\", 'the', 'Slaue', ':', 'Which', 'neu', \"'\", 'r', 'shooke', 'hands', ',', 'nor', 'bad', 'farwell', 'to', 'him', ',', 'Till', 'he', 'vnseam', \"'d\", 'him', 'from', 'the', 'Naue', 'toth', \"'\", 'Chops', ',', 'And', 'fix', \"'d\", 'his', 'Head', 'vpon', 'our', 'Battlements', 'King', '.', 'O', 'valiant', 'Cousin', ',', 'worthy', 'Gentleman', 'Cap', '.', 'As', 'whence', 'the', 'Sunne', \"'gins\", 'his', 'reflection', ',', 'Shipwracking', 'Stormes', ',', 'and', 'direfull', 'Thunders', ':', 'So', 'from', 'that', 'Spring', ',', 'whence', 'comfort', 'seem', \"'d\", 'to', 'come', ',', 'Discomfort', 'swells', ':', 'Marke', 'King', 'of', 'Scotland', ',', 'marke', ',', 'No', 'sooner', 'Iustice', 'had', ',', 'with', 'Valour', 'arm', \"'d\", ',', 'Compell', \"'d\", 'these', 'skipping', 'Kernes', 'to', 'trust', 'their', 'heeles', ',', 'But', 'the', 'Norweyan', 'Lord', ',', 'surueying', 'vantage', ',', 'With', 'furbusht', 'Armes', ',', 'and', 'new', 'supplyes', 'of', 'men', ',', 'Began', 'a', 'fresh', 'assault', 'King', '.', 'Dismay', \"'d\", 'not', 'this', 'our', 'Captaines', ',', 'Macbeth', 'and', 'Banquoh', '?', 'Cap', '.', 'Yes', ',', 'as', 'Sparrowes', ',', 'Eagles', ';', 'Or', 'the', 'Hare', ',', 'the', 'Lyon', ':', 'If', 'I', 'say', 'sooth', ',', 'I', 'must', 'report', 'they', 'were', 'As', 'Cannons', 'ouer-charg', \"'d\", 'with', 'double', 'Cracks', ',', 'So', 'they', 'doubly', 'redoubled', 'stroakes', 'vpon', 'the', 'Foe', ':', 'Except', 'they', 'meant', 'to', 'bathe', 'in', 'reeking', 'Wounds', ',', 'Or', 'memorize', 'another', 'Golgotha', ',', 'I', 'can', 'not', 'tell', ':', 'but', 'I', 'am', 'faint', ',', 'My', 'Gashes', 'cry', 'for', 'helpe', 'King', '.', 'So', 'well', 'thy', 'words', 'become', 'thee', ',', 'as', 'thy', 'wounds', ',', 'They', 'smack', 'of', 'Honor', 'both', ':', 'Goe', 'get', 'him', 'Surgeons', '.', 'Enter', 'Rosse', 'and', 'Angus', '.', 'Who', 'comes', 'here', '?', 'Mal', '.', 'The', 'worthy', 'Thane', 'of', 'Rosse', 'Lenox', '.', 'What', 'a', 'haste', 'lookes', 'through', 'his', 'eyes', '?', 'So', 'should', 'he', 'looke', ',', 'that', 'seemes', 'to', 'speake', 'things', 'strange', 'Rosse', '.', 'God', 'saue', 'the', 'King', 'King', '.', 'Whence', \"cam'st\", 'thou', ',', 'worthy', 'Thane', '?', 'Rosse', '.', 'From', 'Fiffe', ',', 'great', 'King', ',', 'Where', 'the', 'Norweyan', 'Banners', 'flowt', 'the', 'Skie', ',', 'And', 'fanne', 'our', 'people', 'cold', '.', 'Norway', 'himselfe', ',', 'with', 'terrible', 'numbers', ',', 'Assisted', 'by', 'that', 'most', 'disloyall', 'Traytor', ',', 'The', 'Thane', 'of', 'Cawdor', ',', 'began', 'a', 'dismall', 'Conflict', ',', 'Till', 'that', 'Bellona', \"'s\", 'Bridegroome', ',', 'lapt', 'in', 'proofe', ',', 'Confronted', 'him', 'with', 'selfe-comparisons', ',', 'Point', 'against', 'Point', ',', 'rebellious', 'Arme', \"'gainst\", 'Arme', ',', 'Curbing', 'his', 'lauish', 'spirit', ':', 'and', 'to', 'conclude', ',', 'The', 'Victorie', 'fell', 'on', 'vs', 'King', '.', 'Great', 'happinesse', 'Rosse', '.', 'That', 'now', 'Sweno', ',', 'the', 'Norwayes', 'King', ',', 'Craues', 'composition', ':', 'Nor', 'would', 'we', 'deigne', 'him', 'buriall', 'of', 'his', 'men', ',', 'Till', 'he', 'disbursed', ',', 'at', 'Saint', 'Colmes', 'ynch', ',', 'Ten', 'thousand', 'Dollars', ',', 'to', 'our', 'generall', 'vse', 'King', '.', 'No', 'more', 'that', 'Thane', 'of', 'Cawdor', 'shall', 'deceiue', 'Our', 'Bosome', 'interest', ':', 'Goe', 'pronounce', 'his', 'present', 'death', ',', 'And', 'with', 'his', 'former', 'Title', 'greet', 'Macbeth', 'Rosse', '.', 'Ile', 'see', 'it', 'done', 'King', '.', 'What', 'he', 'hath', 'lost', ',', 'Noble', 'Macbeth', 'hath', 'wonne', '.', 'Exeunt', '.', 'Scena', 'Tertia', '.', 'Thunder', '.', 'Enter', 'the', 'three', 'Witches', '.', '1', '.', 'Where', 'hast', 'thou', 'beene', ',', 'Sister', '?', '2', '.', 'Killing', 'Swine', '3', '.', 'Sister', ',', 'where', 'thou', '?', '1', '.', 'A', 'Saylors', 'Wife', 'had', 'Chestnuts', 'in', 'her', 'Lappe', ',', 'And', 'mouncht', ',', '&', 'mouncht', ',', 'and', 'mouncht', ':', 'Giue', 'me', ',', 'quoth', 'I.', 'Aroynt', 'thee', ',', 'Witch', ',', 'the', 'rumpe-fed', 'Ronyon', 'cryes', '.', 'Her', 'Husband', \"'s\", 'to', 'Aleppo', 'gone', ',', 'Master', \"o'th\", \"'\", 'Tiger', ':', 'But', 'in', 'a', 'Syue', 'Ile', 'thither', 'sayle', ',', 'And', 'like', 'a', 'Rat', 'without', 'a', 'tayle', ',', 'Ile', 'doe', ',', 'Ile', 'doe', ',', 'and', 'Ile', 'doe', '2', '.', 'Ile', 'giue', 'thee', 'a', 'Winde', '1', '.', \"Th'art\", 'kinde', '3', '.', 'And', 'I', 'another', '1', '.', 'I', 'my', 'selfe', 'haue', 'all', 'the', 'other', ',', 'And', 'the', 'very', 'Ports', 'they', 'blow', ',', 'All', 'the', 'Quarters', 'that', 'they', 'know', ',', \"I'th\", \"'\", 'Ship-mans', 'Card', '.', 'Ile', 'dreyne', 'him', 'drie', 'as', 'Hay', ':', 'Sleepe', 'shall', 'neyther', 'Night', 'nor', 'Day', 'Hang', 'vpon', 'his', 'Pent-house', 'Lid', ':', 'He', 'shall', 'liue', 'a', 'man', 'forbid', ':', 'Wearie', \"Seu'nights\", ',', 'nine', 'times', 'nine', ',', 'Shall', 'he', 'dwindle', ',', 'peake', ',', 'and', 'pine', ':', 'Though', 'his', 'Barke', 'can', 'not', 'be', 'lost', ',', 'Yet', 'it', 'shall', 'be', 'Tempest-tost', '.', 'Looke', 'what', 'I', 'haue', '2', '.', 'Shew', 'me', ',', 'shew', 'me', '1', '.', 'Here', 'I', 'haue', 'a', 'Pilots', 'Thumbe', ',', 'Wrackt', ',', 'as', 'homeward', 'he', 'did', 'come', '.', 'Drum', 'within', '.', '3', '.', 'A', 'Drumme', ',', 'a', 'Drumme', ':', 'Macbeth', 'doth', 'come', 'All', '.', 'The', 'weyward', 'Sisters', ',', 'hand', 'in', 'hand', ',', 'Posters', 'of', 'the', 'Sea', 'and', 'Land', ',', 'Thus', 'doe', 'goe', ',', 'about', ',', 'about', ',', 'Thrice', 'to', 'thine', ',', 'and', 'thrice', 'to', 'mine', ',', 'And', 'thrice', 'againe', ',', 'to', 'make', 'vp', 'nine', '.', 'Peace', ',', 'the', 'Charme', \"'s\", 'wound', 'vp', '.', 'Enter', 'Macbeth', 'and', 'Banquo', '.', 'Macb', '.', 'So', 'foule', 'and', 'faire', 'a', 'day', 'I', 'haue', 'not', 'seene', 'Banquo', '.', 'How', 'farre', \"is't\", 'call', \"'d\", 'to', 'Soris', '?', 'What', 'are', 'these', ',', 'So', 'wither', \"'d\", ',', 'and', 'so', 'wilde', 'in', 'their', 'attyre', ',', 'That', 'looke', 'not', 'like', 'th', \"'\", 'Inhabitants', \"o'th\", \"'\", 'Earth', ',', 'And', 'yet', 'are', 'o', \"n't\", '?', 'Liue', 'you', ',', 'or', 'are', 'you', 'aught', 'That', 'man', 'may', 'question', '?', 'you', 'seeme', 'to', 'vnderstand', 'me', ',', 'By', 'each', 'at', 'once', 'her', 'choppie', 'finger', 'laying', 'Vpon', 'her', 'skinnie', 'Lips', ':', 'you', 'should', 'be', 'Women', ',', 'And', 'yet', 'your', 'Beards', 'forbid', 'me', 'to', 'interprete', 'That', 'you', 'are', 'so', 'Mac', '.', 'Speake', 'if', 'you', 'can', ':', 'what', 'are', 'you', '?', '1', '.', 'All', 'haile', 'Macbeth', ',', 'haile', 'to', 'thee', 'Thane', 'of', 'Glamis', '2', '.', 'All', 'haile', 'Macbeth', ',', 'haile', 'to', 'thee', 'Thane', 'of', 'Cawdor', '3', '.', 'All', 'haile', 'Macbeth', ',', 'that', 'shalt', 'be', 'King', 'hereafter', 'Banq', '.', 'Good', 'Sir', ',', 'why', 'doe', 'you', 'start', ',', 'and', 'seeme', 'to', 'feare', 'Things', 'that', 'doe', 'sound', 'so', 'faire', '?', \"i'th\", \"'\", 'name', 'of', 'truth', 'Are', 'ye', 'fantasticall', ',', 'or', 'that', 'indeed', 'Which', 'outwardly', 'ye', 'shew', '?', 'My', 'Noble', 'Partner', 'You', 'greet', 'with', 'present', 'Grace', ',', 'and', 'great', 'prediction', 'Of', 'Noble', 'hauing', ',', 'and', 'of', 'Royall', 'hope', ',', 'That', 'he', 'seemes', 'wrapt', 'withall', ':', 'to', 'me', 'you', 'speake', 'not', '.', 'If', 'you', 'can', 'looke', 'into', 'the', 'Seedes', 'of', 'Time', ',', 'And', 'say', ',', 'which', 'Graine', 'will', 'grow', ',', 'and', 'which', 'will', 'not', ',', 'Speake', 'then', 'to', 'me', ',', 'who', 'neyther', 'begge', ',', 'nor', 'feare', 'Your', 'fauors', ',', 'nor', 'your', 'hate', '1', '.', 'Hayle', '2', '.', 'Hayle', '3', '.', 'Hayle', '1', '.', 'Lesser', 'than', 'Macbeth', ',', 'and', 'greater', '2', '.', 'Not', 'so', 'happy', ',', 'yet', 'much', 'happyer', '3', '.', 'Thou', 'shalt', 'get', 'Kings', ',', 'though', 'thou', 'be', 'none', ':', 'So', 'all', 'haile', 'Macbeth', ',', 'and', 'Banquo', '1', '.', 'Banquo', ',', 'and', 'Macbeth', ',', 'all', 'haile', 'Macb', '.', 'Stay', 'you', 'imperfect', 'Speakers', ',', 'tell', 'me', 'more', ':', 'By', 'Sinells', 'death', ',', 'I', 'know', 'I', 'am', 'Thane', 'of', 'Glamis', ',', 'But', 'how', ',', 'of', 'Cawdor', '?', 'the', 'Thane', 'of', 'Cawdor', 'liues', 'A', 'prosperous', 'Gentleman', ':', 'And', 'to', 'be', 'King', ',', 'Stands', 'not', 'within', 'the', 'prospect', 'of', 'beleefe', ',', 'No', 'more', 'then', 'to', 'be', 'Cawdor', '.', 'Say', 'from', 'whence', 'You', 'owe', 'this', 'strange', 'Intelligence', ',', 'or', 'why', 'Vpon', 'this', 'blasted', 'Heath', 'you', 'stop', 'our', 'way', 'With', 'such', 'Prophetique', 'greeting', '?', 'Speake', ',', 'I', 'charge', 'you', '.', 'Witches', 'vanish', '.', 'Banq', '.', 'The', 'Earth', 'hath', 'bubbles', ',', 'as', 'the', 'Water', 'ha', \"'s\", ',', 'And', 'these', 'are', 'of', 'them', ':', 'whither', 'are', 'they', 'vanish', \"'d\", '?', 'Macb', '.', 'Into', 'the', 'Ayre', ':', 'and', 'what', 'seem', \"'d\", 'corporall', ',', 'Melted', ',', 'as', 'breath', 'into', 'the', 'Winde', '.', 'Would', 'they', 'had', \"stay'd\", 'Banq', '.', 'Were', 'such', 'things', 'here', ',', 'as', 'we', 'doe', 'speake', 'about', '?', 'Or', 'haue', 'we', 'eaten', 'on', 'the', 'insane', 'Root', ',', 'That', 'takes', 'the', 'Reason', 'Prisoner', '?', 'Macb', '.', 'Your', 'Children', 'shall', 'be', 'Kings', 'Banq', '.', 'You', 'shall', 'be', 'King', 'Macb', '.', 'And', 'Thane', 'of', 'Cawdor', 'too', ':', 'went', 'it', 'not', 'so', '?', 'Banq', '.', 'Toth', \"'\", 'selfe-same', 'tune', 'and', 'words', ':', 'who', \"'s\", 'here', '?', 'Enter', 'Rosse', 'and', 'Angus', '.', 'Rosse', '.', 'The', 'King', 'hath', 'happily', 'receiu', \"'d\", ',', 'Macbeth', ',', 'The', 'newes', 'of', 'thy', 'successe', ':', 'and', 'when', 'he', 'reades', 'Thy', 'personall', 'Venture', 'in', 'the', 'Rebels', 'sight', ',', 'His', 'Wonders', 'and', 'his', 'Prayses', 'doe', 'contend', ',', 'Which', 'should', 'be', 'thine', ',', 'or', 'his', ':', 'silenc', \"'d\", 'with', 'that', ',', 'In', 'viewing', 'o', \"'re\", 'the', 'rest', \"o'th\", \"'\", 'selfe-same', 'day', ',', 'He', 'findes', 'thee', 'in', 'the', 'stout', 'Norweyan', 'Rankes', ',', 'Nothing', 'afeard', 'of', 'what', 'thy', 'selfe', 'didst', 'make', 'Strange', 'Images', 'of', 'death', ',', 'as', 'thick', 'as', 'Tale', 'Can', 'post', 'with', 'post', ',', 'and', 'euery', 'one', 'did', 'beare', 'Thy', 'prayses', 'in', 'his', 'Kingdomes', 'great', 'defence', ',', 'And', 'powr', \"'d\", 'them', 'downe', 'before', 'him', 'Ang', '.', 'Wee', 'are', 'sent', ',', 'To', 'giue', 'thee', 'from', 'our', 'Royall', 'Master', 'thanks', ',', 'Onely', 'to', 'harrold', 'thee', 'into', 'his', 'sight', ',', 'Not', 'pay', 'thee', 'Rosse', '.', 'And', 'for', 'an', 'earnest', 'of', 'a', 'greater', 'Honor', ',', 'He', 'bad', 'me', ',', 'from', 'him', ',', 'call', 'thee', 'Thane', 'of', 'Cawdor', ':', 'In', 'which', 'addition', ',', 'haile', 'most', 'worthy', 'Thane', ',', 'For', 'it', 'is', 'thine', 'Banq', '.', 'What', ',', 'can', 'the', 'Deuill', 'speake', 'true', '?', 'Macb', '.', 'The', 'Thane', 'of', 'Cawdor', 'liues', ':', 'Why', 'doe', 'you', 'dresse', 'me', 'in', 'borrowed', 'Robes', '?', 'Ang', '.', 'Who', 'was', 'the', 'Thane', ',', 'liues', 'yet', ',', 'But', 'vnder', 'heauie', 'Iudgement', 'beares', 'that', 'Life', ',', 'Which', 'he', 'deserues', 'to', 'loose', '.', 'Whether', 'he', 'was', 'combin', \"'d\", 'with', 'those', 'of', 'Norway', ',', 'Or', 'did', 'lyne', 'the', 'Rebell', 'with', 'hidden', 'helpe', ',', 'And', 'vantage', ';', 'or', 'that', 'with', 'both', 'he', \"labour'd\", 'In', 'his', 'Countreyes', 'wracke', ',', 'I', 'know', 'not', ':', 'But', 'Treasons', 'Capitall', ',', 'confess', \"'d\", ',', 'and', 'prou', \"'d\", ',', 'Haue', 'ouerthrowne', 'him', 'Macb', '.', 'Glamys', ',', 'and', 'Thane', 'of', 'Cawdor', ':', 'The', 'greatest', 'is', 'behinde', '.', 'Thankes', 'for', 'your', 'paines', '.', 'Doe', 'you', 'not', 'hope', 'your', 'Children', 'shall', 'be', 'Kings', ',', 'When', 'those', 'that', 'gaue', 'the', 'Thane', 'of', 'Cawdor', 'to', 'me', ',', 'Promis', \"'d\", 'no', 'lesse', 'to', 'them', 'Banq', '.', 'That', 'trusted', 'home', ',', 'Might', 'yet', 'enkindle', 'you', 'vnto', 'the', 'Crowne', ',', 'Besides', 'the', 'Thane', 'of', 'Cawdor', '.', 'But', \"'t\", 'is', 'strange', ':', 'And', 'oftentimes', ',', 'to', 'winne', 'vs', 'to', 'our', 'harme', ',', 'The', 'Instruments', 'of', 'Darknesse', 'tell', 'vs', 'Truths', ',', 'Winne', 'vs', 'with', 'honest', 'Trifles', ',', 'to', \"betray's\", 'In', 'deepest', 'consequence', '.', 'Cousins', ',', 'a', 'word', ',', 'I', 'pray', 'you', 'Macb', '.', 'Two', 'Truths', 'are', 'told', ',', 'As', 'happy', 'Prologues', 'to', 'the', 'swelling', 'Act', 'Of', 'the', 'Imperiall', 'Theame', '.', 'I', 'thanke', 'you', 'Gentlemen', ':', 'This', 'supernaturall', 'solliciting', 'Can', 'not', 'be', 'ill', ';', 'can', 'not', 'be', 'good', '.', 'If', 'ill', '?', 'why', 'hath', 'it', 'giuen', 'me', 'earnest', 'of', 'successe', ',', 'Commencing', 'in', 'a', 'Truth', '?', 'I', 'am', 'Thane', 'of', 'Cawdor', '.', 'If', 'good', '?', 'why', 'doe', 'I', 'yeeld', 'to', 'that', 'suggestion', ',', 'Whose', 'horrid', 'Image', 'doth', 'vnfixe', 'my', 'Heire', ',', 'And', 'make', 'my', 'seated', 'Heart', 'knock', 'at', 'my', 'Ribbes', ',', 'Against', 'the', 'vse', 'of', 'Nature', '?', 'Present', 'Feares', 'Are', 'lesse', 'then', 'horrible', 'Imaginings', ':', 'My', 'Thought', ',', 'whose', 'Murther', 'yet', 'is', 'but', 'fantasticall', ',', 'Shakes', 'so', 'my', 'single', 'state', 'of', 'Man', ',', 'That', 'Function', 'is', 'smother', \"'d\", 'in', 'surmise', ',', 'And', 'nothing', 'is', ',', 'but', 'what', 'is', 'not', 'Banq', '.', 'Looke', 'how', 'our', 'Partner', \"'s\", 'rapt', 'Macb', '.', 'If', 'Chance', 'will', 'haue', 'me', 'King', ',', 'Why', 'Chance', 'may', 'Crowne', 'me', ',', 'Without', 'my', 'stirre', 'Banq', '.', 'New', 'Honors', 'come', 'vpon', 'him', 'Like', 'our', 'strange', 'Garments', ',', 'cleaue', 'not', 'to', 'their', 'mould', ',', 'But', 'with', 'the', 'aid', 'of', 'vse', 'Macb', '.', 'Come', 'what', 'come', 'may', ',', 'Time', ',', 'and', 'the', 'Houre', ',', 'runs', 'through', 'the', 'roughest', 'Day', 'Banq', '.', 'Worthy', 'Macbeth', ',', 'wee', 'stay', 'vpon', 'your', 'leysure', 'Macb', '.', 'Giue', 'me', 'your', 'fauour', ':', 'My', 'dull', 'Braine', 'was', 'wrought', 'with', 'things', 'forgotten', '.', 'Kinde', 'Gentlemen', ',', 'your', 'paines', 'are', 'registred', ',', 'Where', 'euery', 'day', 'I', 'turne', 'the', 'Leafe', ',', 'To', 'reade', 'them', '.', 'Let', 'vs', 'toward', 'the', 'King', ':', 'thinke', 'vpon', 'What', 'hath', 'chanc', \"'d\", ':', 'and', 'at', 'more', 'time', ',', 'The', 'Interim', 'hauing', 'weigh', \"'d\", 'it', ',', 'let', 'vs', 'speake', 'Our', 'free', 'Hearts', 'each', 'to', 'other', 'Banq', '.', 'Very', 'gladly', 'Macb', '.', 'Till', 'then', 'enough', ':', 'Come', 'friends', '.', 'Exeunt', '.', 'Scena', 'Quarta', '.', 'Flourish', '.', 'Enter', 'King', ',', 'Lenox', ',', 'Malcolme', ',', 'Donalbaine', ',', 'and', 'Attendants', '.', 'King', '.', 'Is', 'execution', 'done', 'on', 'Cawdor', '?', 'Or', 'not', 'those', 'in', 'Commission', 'yet', 'return', \"'d\", '?', 'Mal', '.', 'My', 'Liege', ',', 'they', 'are', 'not', 'yet', 'come', 'back', '.', 'But', 'I', 'haue', 'spoke', 'with', 'one', 'that', 'saw', 'him', 'die', ':', 'Who', 'did', 'report', ',', 'that', 'very', 'frankly', 'hee', 'Confess', \"'d\", 'his', 'Treasons', ',', 'implor', \"'d\", 'your', 'Highnesse', 'Pardon', ',', 'And', 'set', 'forth', 'a', 'deepe', 'Repentance', ':', 'Nothing', 'in', 'his', 'Life', 'became', 'him', ',', 'Like', 'the', 'leauing', 'it', '.', 'Hee', \"dy'de\", ',', 'As', 'one', 'that', 'had', 'beene', 'studied', 'in', 'his', 'death', ',', 'To', 'throw', 'away', 'the', 'dearest', 'thing', 'he', 'ow', \"'d\", ',', 'As', \"'twere\", 'a', 'carelesse', 'Trifle', 'King', '.', 'There', \"'s\", 'no', 'Art', ',', 'To', 'finde', 'the', 'Mindes', 'construction', 'in', 'the', 'Face', '.', 'He', 'was', 'a', 'Gentleman', ',', 'on', 'whom', 'I', 'built', 'An', 'absolute', 'Trust', '.', 'Enter', 'Macbeth', ',', 'Banquo', ',', 'Rosse', ',', 'and', 'Angus', '.', 'O', 'worthyest', 'Cousin', ',', 'The', 'sinne', 'of', 'my', 'Ingratitude', 'euen', 'now', 'Was', 'heauie', 'on', 'me', '.', 'Thou', 'art', 'so', 'farre', 'before', ',', 'That', 'swiftest', 'Wing', 'of', 'Recompence', 'is', 'slow', ',', 'To', 'ouertake', 'thee', '.', 'Would', 'thou', 'hadst', 'lesse', 'deseru', \"'d\", ',', 'That', 'the', 'proportion', 'both', 'of', 'thanks', ',', 'and', 'payment', ',', 'Might', 'haue', 'beene', 'mine', ':', 'onely', 'I', 'haue', 'left', 'to', 'say', ',', 'More', 'is', 'thy', 'due', ',', 'then', 'more', 'then', 'all', 'can', 'pay', 'Macb', '.', 'The', 'seruice', ',', 'and', 'the', 'loyaltie', 'I', 'owe', ',', 'In', 'doing', 'it', ',', 'payes', 'it', 'selfe', '.', 'Your', 'Highnesse', 'part', ',', 'is', 'to', 'receiue', 'our', 'Duties', ':', 'And', 'our', 'Duties', 'are', 'to', 'your', 'Throne', ',', 'and', 'State', ',', 'Children', ',', 'and', 'Seruants', ';', 'which', 'doe', 'but', 'what', 'they', 'should', ',', 'By', 'doing', 'euery', 'thing', 'safe', 'toward', 'your', 'Loue', 'And', 'Honor', 'King', '.', 'Welcome', 'hither', ':', 'I', 'haue', 'begun', 'to', 'plant', 'thee', ',', 'and', 'will', 'labour', 'To', 'make', 'thee', 'full', 'of', 'growing', '.', 'Noble', 'Banquo', ',', 'That', 'hast', 'no', 'lesse', 'deseru', \"'d\", ',', 'nor', 'must', 'be', 'knowne', 'No', 'lesse', 'to', 'haue', 'done', 'so', ':', 'Let', 'me', 'enfold', 'thee', ',', 'And', 'hold', 'thee', 'to', 'my', 'Heart', 'Banq', '.', 'There', 'if', 'I', 'grow', ',', 'The', 'Haruest', 'is', 'your', 'owne', 'King', '.', 'My', 'plenteous', 'Ioyes', ',', 'Wanton', 'in', 'fulnesse', ',', 'seeke', 'to', 'hide', 'themselues', 'In', 'drops', 'of', 'sorrow', '.', 'Sonnes', ',', 'Kinsmen', ',', 'Thanes', ',', 'And', 'you', 'whose', 'places', 'are', 'the', 'nearest', ',', 'know', ',', 'We', 'will', 'establish', 'our', 'Estate', 'vpon', 'Our', 'eldest', ',', 'Malcolme', ',', 'whom', 'we', 'name', 'hereafter', ',', 'The', 'Prince', 'of', 'Cumberland', ':', 'which', 'Honor', 'must', 'Not', 'vnaccompanied', ',', 'inuest', 'him', 'onely', ',', 'But', 'signes', 'of', 'Noblenesse', ',', 'like', 'Starres', ',', 'shall', 'shine', 'On', 'all', 'deseruers', '.', 'From', 'hence', 'to', 'Envernes', ',', 'And', 'binde', 'vs', 'further', 'to', 'you', 'Macb', '.', 'The', 'Rest', 'is', 'Labor', ',', 'which', 'is', 'not', 'vs', \"'d\", 'for', 'you', ':', 'Ile', 'be', 'my', 'selfe', 'the', 'Herbenger', ',', 'and', 'make', 'ioyfull', 'The', 'hearing', 'of', 'my', 'Wife', ',', 'with', 'your', 'approach', ':', 'So', 'humbly', 'take', 'my', 'leaue', 'King', '.', 'My', 'worthy', 'Cawdor', 'Macb', '.', 'The', 'Prince', 'of', 'Cumberland', ':', 'that', 'is', 'a', 'step', ',', 'On', 'which', 'I', 'must', 'fall', 'downe', ',', 'or', 'else', \"o're-leape\", ',', 'For', 'in', 'my', 'way', 'it', 'lyes', '.', 'Starres', 'hide', 'your', 'fires', ',', 'Let', 'not', 'Light', 'see', 'my', 'black', 'and', 'deepe', 'desires', ':', 'The', 'Eye', 'winke', 'at', 'the', 'Hand', ':', 'yet', 'let', 'that', 'bee', ',', 'Which', 'the', 'Eye', 'feares', ',', 'when', 'it', 'is', 'done', 'to', 'see', '.', 'Enter', '.', 'King', '.', 'True', 'worthy', 'Banquo', ':', 'he', 'is', 'full', 'so', 'valiant', ',', 'And', 'in', 'his', 'commendations', ',', 'I', 'am', 'fed', ':', 'It', 'is', 'a', 'Banquet', 'to', 'me', '.', 'Let', \"'s\", 'after', 'him', ',', 'Whose', 'care', 'is', 'gone', 'before', ',', 'to', 'bid', 'vs', 'welcome', ':', 'It', 'is', 'a', 'peerelesse', 'Kinsman', '.', 'Flourish', '.', 'Exeunt', '.', 'Scena', 'Quinta', '.', 'Enter', 'Macbeths', 'Wife', 'alone', 'with', 'a', 'Letter', '.', 'Lady', '.', 'They', 'met', 'me', 'in', 'the', 'day', 'of', 'successe', ':', 'and', 'I', 'haue', 'learn', \"'d\", 'by', 'the', \"perfect'st\", 'report', ',', 'they', 'haue', 'more', 'in', 'them', ',', 'then', 'mortall', 'knowledge', '.', 'When', 'I', 'burnt', 'in', 'desire', 'to', 'question', 'them', 'further', ',', 'they', 'made', 'themselues', 'Ayre', ',', 'into', 'which', 'they', 'vanish', \"'d\", '.', 'Whiles', 'I', 'stood', 'rapt', 'in', 'the', 'wonder', 'of', 'it', ',', 'came', 'Missiues', 'from', 'the', 'King', ',', 'who', 'all-hail', \"'d\", 'me', 'Thane', 'of', 'Cawdor', ',', 'by', 'which', 'Title', 'before', ',', 'these', 'weyward', 'Sisters', 'saluted', 'me', ',', 'and', 'referr', \"'d\", 'me', 'to', 'the', 'comming', 'on', 'of', 'time', ',', 'with', 'haile', 'King', 'that', 'shalt', 'be', '.', 'This', 'haue', 'I', 'thought', 'good', 'to', 'deliuer', 'thee', '(', 'my', 'dearest', 'Partner', 'of', 'Greatnesse', ')', 'that', 'thou', \"might'st\", 'not', 'loose', 'the', 'dues', 'of', 'reioycing', 'by', 'being', 'ignorant', 'of', 'what', 'Greatnesse', 'is', 'promis', \"'d\", 'thee', '.', 'Lay', 'it', 'to', 'thy', 'heart', 'and', 'farewell', '.', 'Glamys', 'thou', 'art', ',', 'and', 'Cawdor', ',', 'and', 'shalt', 'be', 'What', 'thou', 'art', 'promis', \"'d\", ':', 'yet', 'doe', 'I', 'feare', 'thy', 'Nature', ',', 'It', 'is', 'too', 'full', \"o'th\", \"'\", 'Milke', 'of', 'humane', 'kindnesse', ',', 'To', 'catch', 'the', 'neerest', 'way', '.', 'Thou', \"would'st\", 'be', 'great', ',', 'Art', 'not', 'without', 'Ambition', ',', 'but', 'without', 'The', 'illnesse', 'should', 'attend', 'it', '.', 'What', 'thou', \"would'st\", 'highly', ',', 'That', \"would'st\", 'thou', 'holily', ':', \"would'st\", 'not', 'play', 'false', ',', 'And', 'yet', \"would'st\", 'wrongly', 'winne', '.', \"Thould'st\", 'haue', ',', 'great', 'Glamys', ',', 'that', 'which', 'cryes', ',', 'Thus', 'thou', 'must', 'doe', ',', 'if', 'thou', 'haue', 'it', ';', 'And', 'that', 'which', 'rather', 'thou', \"do'st\", 'feare', 'to', 'doe', ',', 'Then', 'wishest', 'should', 'be', 'vndone', '.', 'High', 'thee', 'hither', ',', 'That', 'I', 'may', 'powre', 'my', 'Spirits', 'in', 'thine', 'Eare', ',', 'And', 'chastise', 'with', 'the', 'valour', 'of', 'my', 'Tongue', 'All', 'that', 'impeides', 'thee', 'from', 'the', 'Golden', 'Round', ',', 'Which', 'Fate', 'and', 'Metaphysicall', 'ayde', 'doth', 'seeme', 'To', 'haue', 'thee', 'crown', \"'d\", 'withall', '.', 'Enter', 'Messenger', '.', 'What', 'is', 'your', 'tidings', '?', 'Mess', '.', 'The', 'King', 'comes', 'here', 'to', 'Night', 'Lady', '.', \"Thou'rt\", 'mad', 'to', 'say', 'it', '.', 'Is', 'not', 'thy', 'Master', 'with', 'him', '?', 'who', ',', \"wer't\", 'so', ',', 'Would', 'haue', 'inform', \"'d\", 'for', 'preparation', 'Mess', '.', 'So', 'please', 'you', ',', 'it', 'is', 'true', ':', 'our', 'Thane', 'is', 'comming', ':', 'One', 'of', 'my', 'fellowes', 'had', 'the', 'speed', 'of', 'him', ';', 'Who', 'almost', 'dead', 'for', 'breath', ',', 'had', 'scarcely', 'more', 'Then', 'would', 'make', 'vp', 'his', 'Message', 'Lady', '.', 'Giue', 'him', 'tending', ',', 'He', 'brings', 'great', 'newes', ',', 'Exit', 'Messenger', '.', 'The', 'Rauen', 'himselfe', 'is', 'hoarse', ',', 'That', 'croakes', 'the', 'fatall', 'entrance', 'of', 'Duncan', 'Vnder', 'my', 'Battlements', '.', 'Come', 'you', 'Spirits', ',', 'That', 'tend', 'on', 'mortall', 'thoughts', ',', 'vnsex', 'me', 'here', ',', 'And', 'fill', 'me', 'from', 'the', 'Crowne', 'to', 'the', 'Toe', ',', 'top-full', 'Of', 'direst', 'Crueltie', ':', 'make', 'thick', 'my', 'blood', ',', 'Stop', 'vp', 'th', \"'\", 'accesse', ',', 'and', 'passage', 'to', 'Remorse', ',', 'That', 'no', 'compunctious', 'visitings', 'of', 'Nature', 'Shake', 'my', 'fell', 'purpose', ',', 'nor', 'keepe', 'peace', 'betweene', 'Th', \"'\", 'effect', ',', 'and', 'hit', '.', 'Come', 'to', 'my', 'Womans', 'Brests', ',', 'And', 'take', 'my', 'Milke', 'for', 'Gall', ',', 'you', \"murth'ring\", 'Ministers', ',', 'Where-euer', ',', 'in', 'your', 'sightlesse', 'substances', ',', 'You', 'wait', 'on', 'Natures', 'Mischiefe', '.', 'Come', 'thick', 'Night', ',', 'And', 'pall', 'thee', 'in', 'the', 'dunnest', 'smoake', 'of', 'Hell', ',', 'That', 'my', 'keene', 'Knife', 'see', 'not', 'the', 'Wound', 'it', 'makes', ',', 'Nor', 'Heauen', 'peepe', 'through', 'the', 'Blanket', 'of', 'the', 'darke', ',', 'To', 'cry', ',', 'hold', ',', 'hold', '.', 'Enter', 'Macbeth', '.', 'Great', 'Glamys', ',', 'worthy', 'Cawdor', ',', 'Greater', 'then', 'both', ',', 'by', 'the', 'all-haile', 'hereafter', ',', 'Thy', 'Letters', 'haue', 'transported', 'me', 'beyond', 'This', 'ignorant', 'present', ',', 'and', 'I', 'feele', 'now', 'The', 'future', 'in', 'the', 'instant', 'Macb', '.', 'My', 'dearest', 'Loue', ',', 'Duncan', 'comes', 'here', 'to', 'Night', 'Lady', '.', 'And', 'when', 'goes', 'hence', '?', 'Macb', '.', 'To', 'morrow', ',', 'as', 'he', 'purposes', 'Lady', '.', 'O', 'neuer', ',', 'Shall', 'Sunne', 'that', 'Morrow', 'see', '.', 'Your', 'Face', ',', 'my', 'Thane', ',', 'is', 'as', 'a', 'Booke', ',', 'where', 'men', 'May', 'reade', 'strange', 'matters', ',', 'to', 'beguile', 'the', 'time', '.', 'Looke', 'like', 'the', 'time', ',', 'beare', 'welcome', 'in', 'your', 'Eye', ',', 'Your', 'Hand', ',', 'your', 'Tongue', ':', 'looke', 'like', 'th', \"'\", 'innocent', 'flower', ',', 'But', 'be', 'the', 'Serpent', \"vnder't\", '.', 'He', 'that', \"'s\", 'comming', ',', 'Must', 'be', 'prouided', 'for', ':', 'and', 'you', 'shall', 'put', 'This', 'Nights', 'great', 'Businesse', 'into', 'my', 'dispatch', ',', 'Which', 'shall', 'to', 'all', 'our', 'Nights', ',', 'and', 'Dayes', 'to', 'come', ',', 'Giue', 'solely', 'soueraigne', 'sway', ',', 'and', 'Masterdome', 'Macb', '.', 'We', 'will', 'speake', 'further', ',', 'Lady', '.', 'Onely', 'looke', 'vp', 'cleare', ':', 'To', 'alter', 'fauor', ',', 'euer', 'is', 'to', 'feare', ':', 'Leaue', 'all', 'the', 'rest', 'to', 'me', '.', 'Exeunt', '.', 'Scena', 'Sexta', '.', 'Hoboyes', ',', 'and', 'Torches', '.', 'Enter', 'King', ',', 'Malcolme', ',', 'Donalbaine', ',', 'Banquo', ',', 'Lenox', ',', 'Macduff', ',', 'Rosse', ',', 'Angus', ',', 'and', 'Attendants', '.', 'King', '.', 'This', 'Castle', 'hath', 'a', 'pleasant', 'seat', ',', 'The', 'ayre', 'nimbly', 'and', 'sweetly', 'recommends', 'it', 'selfe', 'Vnto', 'our', 'gentle', 'sences', 'Banq', '.', 'This', 'Guest', 'of', 'Summer', ',', 'The', 'Temple-haunting', 'Barlet', 'does', 'approue', ',', 'By', 'his', 'loued', 'Mansonry', ',', 'that', 'the', 'Heauens', 'breath', 'Smells', 'wooingly', 'here', ':', 'no', 'Iutty', 'frieze', ',', 'Buttrice', ',', 'nor', 'Coigne', 'of', 'Vantage', ',', 'but', 'this', 'Bird', 'Hath', 'made', 'his', 'pendant', 'Bed', ',', 'and', 'procreant', 'Cradle', ',', 'Where', 'they', 'must', 'breed', ',', 'and', 'haunt', ':', 'I', 'haue', \"obseru'd\", 'The', 'ayre', 'is', 'delicate', '.', 'Enter', 'Lady', '.', 'King', '.', 'See', ',', 'see', 'our', 'honor', \"'d\", 'Hostesse', ':', 'The', 'Loue', 'that', 'followes', 'vs', ',', 'sometime', 'is', 'our', 'trouble', ',', 'Which', 'still', 'we', 'thanke', 'as', 'Loue', '.', 'Herein', 'I', 'teach', 'you', ',', 'How', 'you', 'shall', 'bid', 'God-eyld', 'vs', 'for', 'your', 'paines', ',', 'And', 'thanke', 'vs', 'for', 'your', 'trouble', 'Lady', '.', 'All', 'our', 'seruice', ',', 'In', 'euery', 'point', 'twice', 'done', ',', 'and', 'then', 'done', 'double', ',', 'Were', 'poore', ',', 'and', 'single', 'Businesse', ',', 'to', 'contend', 'Against', 'those', 'Honors', 'deepe', ',', 'and', 'broad', ',', 'Wherewith', 'your', 'Maiestie', 'loades', 'our', 'House', ':', 'For', 'those', 'of', 'old', ',', 'and', 'the', 'late', 'Dignities', ',', 'Heap', \"'d\", 'vp', 'to', 'them', ',', 'we', 'rest', 'your', 'Ermites', 'King', '.', 'Where', \"'s\", 'the', 'Thane', 'of', 'Cawdor', '?', 'We', 'courst', 'him', 'at', 'the', 'heeles', ',', 'and', 'had', 'a', 'purpose', 'To', 'be', 'his', 'Purueyor', ':', 'But', 'he', 'rides', 'well', ',', 'And', 'his', 'great', 'Loue', '(', 'sharpe', 'as', 'his', 'Spurre', ')', 'hath', 'holp', 'him', 'To', 'his', 'home', 'before', 'vs', ':', 'Faire', 'and', 'Noble', 'Hostesse', 'We', 'are', 'your', 'guest', 'to', 'night', 'La', '.', 'Your', 'Seruants', 'euer', ',', 'Haue', 'theirs', ',', 'themselues', ',', 'and', 'what', 'is', 'theirs', 'in', 'compt', ',', 'To', 'make', 'their', 'Audit', 'at', 'your', 'Highnesse', 'pleasure', ',', 'Still', 'to', 'returne', 'your', 'owne', 'King', '.', 'Giue', 'me', 'your', 'hand', ':', 'Conduct', 'me', 'to', 'mine', 'Host', 'we', 'loue', 'him', 'highly', ',', 'And', 'shall', 'continue', ',', 'our', 'Graces', 'towards', 'him', '.', 'By', 'your', 'leaue', 'Hostesse', '.', 'Exeunt', '.', 'Scena', 'Septima', '.', 'Hoboyes', '.', 'Torches', '.', 'Enter', 'a', 'Sewer', ',', 'and', 'diuers', 'Seruants', 'with', 'Dishes', 'and', 'Seruice', 'ouer', 'the', 'Stage', '.', 'Then', 'enter', 'Macbeth', 'Macb', '.', 'If', 'it', 'were', 'done', ',', 'when', \"'t\", 'is', 'done', ',', 'then', \"'twer\", 'well', ',', 'It', 'were', 'done', 'quickly', ':', 'If', 'th', \"'\", 'Assassination', 'Could', 'trammell', 'vp', 'the', 'Consequence', ',', 'and', 'catch', 'With', 'his', 'surcease', ',', 'Successe', ':', 'that', 'but', 'this', 'blow', 'Might', 'be', 'the', 'be', 'all', ',', 'and', 'the', 'end', 'all', '.', 'Heere', ',', 'But', 'heere', ',', 'vpon', 'this', 'Banke', 'and', 'Schoole', 'of', 'time', ',', \"Wee'ld\", 'iumpe', 'the', 'life', 'to', 'come', '.', 'But', 'in', 'these', 'Cases', ',', 'We', 'still', 'haue', 'iudgement', 'heere', ',', 'that', 'we', 'but', 'teach', 'Bloody', 'Instructions', ',', 'which', 'being', 'taught', ',', 'returne', 'To', 'plague', 'th', \"'\", 'Inuenter', ',', 'this', 'euen-handed', 'Iustice', 'Commends', 'th', \"'\", 'Ingredience', 'of', 'our', 'poyson', \"'d\", 'Challice', 'To', 'our', 'owne', 'lips', '.', 'Hee', \"'s\", 'heere', 'in', 'double', 'trust', ';', 'First', ',', 'as', 'I', 'am', 'his', 'Kinsman', ',', 'and', 'his', 'Subiect', ',', 'Strong', 'both', 'against', 'the', 'Deed', ':', 'Then', ',', 'as', 'his', 'Host', ',', 'Who', 'should', 'against', 'his', 'Murtherer', 'shut', 'the', 'doore', ',', 'Not', 'beare', 'the', 'knife', 'my', 'selfe', '.', 'Besides', ',', 'this', 'Duncane', 'Hath', 'borne', 'his', 'Faculties', 'so', 'meeke', ';', 'hath', 'bin', 'So', 'cleere', 'in', 'his', 'great', 'Office', ',', 'that', 'his', 'Vertues', 'Will', 'pleade', 'like', 'Angels', ',', 'Trumpet-tongu', \"'d\", 'against', 'The', 'deepe', 'damnation', 'of', 'his', 'taking', 'off', ':', 'And', 'Pitty', ',', 'like', 'a', 'naked', 'New-borne-Babe', ',', 'Striding', 'the', 'blast', ',', 'or', 'Heauens', 'Cherubin', ',', \"hors'd\", 'Vpon', 'the', 'sightlesse', 'Curriors', 'of', 'the', 'Ayre', ',', 'Shall', 'blow', 'the', 'horrid', 'deed', 'in', 'euery', 'eye', ',', 'That', 'teares', 'shall', 'drowne', 'the', 'winde', '.', 'I', 'haue', 'no', 'Spurre', 'To', 'pricke', 'the', 'sides', 'of', 'my', 'intent', ',', 'but', 'onely', 'Vaulting', 'Ambition', ',', 'which', 'ore-leapes', 'it', 'selfe', ',', 'And', 'falles', 'on', 'th', \"'\", 'other', '.', 'Enter', 'Lady', '.', 'How', 'now', '?', 'What', 'Newes', '?', 'La', '.', 'He', 'has', 'almost', 'supt', ':', 'why', 'haue', 'you', 'left', 'the', 'chamber', '?', 'Mac', '.', 'Hath', 'he', 'ask', \"'d\", 'for', 'me', '?', 'La', '.', 'Know', 'you', 'not', ',', 'he', 'ha', \"'s\", '?', 'Mac', '.', 'We', 'will', 'proceed', 'no', 'further', 'in', 'this', 'Businesse', ':', 'He', 'hath', 'Honour', \"'d\", 'me', 'of', 'late', ',', 'and', 'I', 'haue', 'bought', 'Golden', 'Opinions', 'from', 'all', 'sorts', 'of', 'people', ',', 'Which', 'would', 'be', 'worne', 'now', 'in', 'their', 'newest', 'glosse', ',', 'Not', 'cast', 'aside', 'so', 'soone', 'La', '.', 'Was', 'the', 'hope', 'drunke', ',', 'Wherein', 'you', 'drest', 'your', 'selfe', '?', 'Hath', 'it', 'slept', 'since', '?', 'And', 'wakes', 'it', 'now', 'to', 'looke', 'so', 'greene', ',', 'and', 'pale', ',', 'At', 'what', 'it', 'did', 'so', 'freely', '?', 'From', 'this', 'time', ',', 'Such', 'I', 'account', 'thy', 'loue', '.', 'Art', 'thou', \"affear'd\", 'To', 'be', 'the', 'same', 'in', 'thine', 'owne', 'Act', ',', 'and', 'Valour', ',', 'As', 'thou', 'art', 'in', 'desire', '?', \"Would'st\", 'thou', 'haue', 'that', 'Which', 'thou', \"esteem'st\", 'the', 'Ornament', 'of', 'Life', ',', 'And', 'liue', 'a', 'Coward', 'in', 'thine', 'owne', 'Esteeme', '?', 'Letting', 'I', 'dare', 'not', ',', 'wait', 'vpon', 'I', 'would', ',', 'Like', 'the', 'poore', 'Cat', \"i'th\", \"'\", 'Addage', 'Macb', '.', 'Prythee', 'peace', ':', 'I', 'dare', 'do', 'all', 'that', 'may', 'become', 'a', 'man', ',', 'Who', 'dares', 'do', 'more', ',', 'is', 'none', 'La', '.', 'What', 'Beast', \"was't\", 'then', 'That', 'made', 'you', 'breake', 'this', 'enterprize', 'to', 'me', '?', 'When', 'you', 'durst', 'do', 'it', ',', 'then', 'you', 'were', 'a', 'man', ':', 'And', 'to', 'be', 'more', 'then', 'what', 'you', 'were', ',', 'you', 'would', 'Be', 'so', 'much', 'more', 'the', 'man', '.', 'Nor', 'time', ',', 'nor', 'place', 'Did', 'then', 'adhere', ',', 'and', 'yet', 'you', 'would', 'make', 'both', ':', 'They', 'haue', 'made', 'themselues', ',', 'and', 'that', 'their', 'fitnesse', 'now', 'Do', \"'s\", 'vnmake', 'you', '.', 'I', 'haue', 'giuen', 'Sucke', ',', 'and', 'know', 'How', 'tender', \"'t\", 'is', 'to', 'loue', 'the', 'Babe', 'that', 'milkes', 'me', ',', 'I', 'would', ',', 'while', 'it', 'was', 'smyling', 'in', 'my', 'Face', ',', 'Haue', 'pluckt', 'my', 'Nipple', 'from', 'his', 'Bonelesse', 'Gummes', ',', 'And', 'dasht', 'the', 'Braines', 'out', ',', 'had', 'I', 'so', 'sworne', 'As', 'you', 'haue', 'done', 'to', 'this', 'Macb', '.', 'If', 'we', 'should', 'faile', '?', 'Lady', '.', 'We', 'faile', '?', 'But', 'screw', 'your', 'courage', 'to', 'the', 'sticking', 'place', ',', 'And', \"wee'le\", 'not', 'fayle', ':', 'when', 'Duncan', 'is', 'asleepe', ',', '(', 'Whereto', 'the', 'rather', 'shall', 'his', 'dayes', 'hard', 'Iourney', 'Soundly', 'inuite', 'him', ')', 'his', 'two', 'Chamberlaines', 'Will', 'I', 'with', 'Wine', ',', 'and', 'Wassell', ',', 'so', 'conuince', ',', 'That', 'Memorie', ',', 'the', 'Warder', 'of', 'the', 'Braine', ',', 'Shall', 'be', 'a', 'Fume', ',', 'and', 'the', 'Receit', 'of', 'Reason', 'A', 'Lymbeck', 'onely', ':', 'when', 'in', 'Swinish', 'sleepe', ',', 'Their', 'drenched', 'Natures', 'lyes', 'as', 'in', 'a', 'Death', ',', 'What', 'can', 'not', 'you', 'and', 'I', 'performe', 'vpon', 'Th', \"'\", 'vnguarded', 'Duncan', '?', 'What', 'not', 'put', 'vpon', 'His', 'spungie', 'Officers', '?', 'who', 'shall', 'beare', 'the', 'guilt', 'Of', 'our', 'great', 'quell', 'Macb', '.', 'Bring', 'forth', 'Men-Children', 'onely', ':', 'For', 'thy', 'vndaunted', 'Mettle', 'should', 'compose', 'Nothing', 'but', 'Males', '.', 'Will', 'it', 'not', 'be', 'receiu', \"'d\", ',', 'When', 'we', 'haue', 'mark', \"'d\", 'with', 'blood', 'those', 'sleepie', 'two', 'Of', 'his', 'owne', 'Chamber', ',', 'and', 'vs', \"'d\", 'their', 'very', 'Daggers', ',', 'That', 'they', 'haue', 'do', \"n't\", '?', 'Lady', '.', 'Who', 'dares', 'receiue', 'it', 'other', ',', 'As', 'we', 'shall', 'make', 'our', 'Griefes', 'and', 'Clamor', 'rore', ',', 'Vpon', 'his', 'Death', '?', 'Macb', '.', 'I', 'am', 'settled', ',', 'and', 'bend', 'vp', 'Each', 'corporall', 'Agent', 'to', 'this', 'terrible', 'Feat', '.', 'Away', ',', 'and', 'mock', 'the', 'time', 'with', 'fairest', 'show', ',', 'False', 'Face', 'must', 'hide', 'what', 'the', 'false', 'Heart', 'doth', 'know', '.', 'Exeunt', '.', 'Actus', 'Secundus', '.', 'Scena', 'Prima', '.', 'Enter', 'Banquo', ',', 'and', 'Fleance', ',', 'with', 'a', 'Torch', 'before', 'him', '.', 'Banq', '.', 'How', 'goes', 'the', 'Night', ',', 'Boy', '?', 'Fleance', '.', 'The', 'Moone', 'is', 'downe', ':', 'I', 'haue', 'not', 'heard', 'the', 'Clock', 'Banq', '.', 'And', 'she', 'goes', 'downe', 'at', 'Twelue', 'Fleance', '.', 'I', \"take't\", ',', \"'t\", 'is', 'later', ',', 'Sir', 'Banq', '.', 'Hold', ',', 'take', 'my', 'Sword', ':', 'There', \"'s\", 'Husbandry', 'in', 'Heauen', ',', 'Their', 'Candles', 'are', 'all', 'out', ':', 'take', 'thee', 'that', 'too', '.', 'A', 'heauie', 'Summons', 'lyes', 'like', 'Lead', 'vpon', 'me', ',', 'And', 'yet', 'I', 'would', 'not', 'sleepe', ':', 'Mercifull', 'Powers', ',', 'restraine', 'in', 'me', 'the', 'cursed', 'thoughts', 'That', 'Nature', 'giues', 'way', 'to', 'in', 'repose', '.', 'Enter', 'Macbeth', ',', 'and', 'a', 'Seruant', 'with', 'a', 'Torch', '.', 'Giue', 'me', 'my', 'Sword', ':', 'who', \"'s\", 'there', '?', 'Macb', '.', 'A', 'Friend', 'Banq', '.', 'What', 'Sir', ',', 'not', 'yet', 'at', 'rest', '?', 'the', 'King', \"'s\", 'a', 'bed', '.', 'He', 'hath', 'beene', 'in', 'vnusuall', 'Pleasure', ',', 'And', 'sent', 'forth', 'great', 'Largesse', 'to', 'your', 'Offices', '.', 'This', 'Diamond', 'he', 'greetes', 'your', 'Wife', 'withall', ',', 'By', 'the', 'name', 'of', 'most', 'kind', 'Hostesse', ',', 'And', 'shut', 'vp', 'in', 'measurelesse', 'content', 'Mac', '.', 'Being', 'vnprepar', \"'d\", ',', 'Our', 'will', 'became', 'the', 'seruant', 'to', 'defect', ',', 'Which', 'else', 'should', 'free', 'haue', 'wrought', 'Banq', '.', 'All', \"'s\", 'well', '.', 'I', 'dreamt', 'last', 'Night', 'of', 'the', 'three', 'weyward', 'Sisters', ':', 'To', 'you', 'they', 'haue', 'shew', \"'d\", 'some', 'truth', 'Macb', '.', 'I', 'thinke', 'not', 'of', 'them', ':', 'Yet', 'when', 'we', 'can', 'entreat', 'an', 'houre', 'to', 'serue', ',', 'We', 'would', 'spend', 'it', 'in', 'some', 'words', 'vpon', 'that', 'Businesse', ',', 'If', 'you', 'would', 'graunt', 'the', 'time', 'Banq', '.', 'At', 'your', \"kind'st\", 'leysure', 'Macb', '.', 'If', 'you', 'shall', 'cleaue', 'to', 'my', 'consent', ',', 'When', \"'t\", 'is', ',', 'it', 'shall', 'make', 'Honor', 'for', 'you', 'Banq', '.', 'So', 'I', 'lose', 'none', ',', 'In', 'seeking', 'to', 'augment', 'it', ',', 'but', 'still', 'keepe', 'My', 'Bosome', 'franchis', \"'d\", ',', 'and', 'Allegeance', 'cleare', ',', 'I', 'shall', 'be', \"counsail'd\", 'Macb', '.', 'Good', 'repose', 'the', 'while', 'Banq', '.', 'Thankes', 'Sir', ':', 'the', 'like', 'to', 'you', '.', 'Exit', 'Banquo', '.', 'Macb', '.', 'Goe', 'bid', 'thy', 'Mistresse', ',', 'when', 'my', 'drinke', 'is', 'ready', ',', 'She', 'strike', 'vpon', 'the', 'Bell', '.', 'Get', 'thee', 'to', 'bed', '.', 'Enter', '.', 'Is', 'this', 'a', 'Dagger', ',', 'which', 'I', 'see', 'before', 'me', ',', 'The', 'Handle', 'toward', 'my', 'Hand', '?', 'Come', ',', 'let', 'me', 'clutch', 'thee', ':', 'I', 'haue', 'thee', 'not', ',', 'and', 'yet', 'I', 'see', 'thee', 'still', '.', 'Art', 'thou', 'not', 'fatall', 'Vision', ',', 'sensible', 'To', 'feeling', ',', 'as', 'to', 'sight', '?', 'or', 'art', 'thou', 'but', 'A', 'Dagger', 'of', 'the', 'Minde', ',', 'a', 'false', 'Creation', ',', 'Proceeding', 'from', 'the', 'heat-oppressed', 'Braine', '?', 'I', 'see', 'thee', 'yet', ',', 'in', 'forme', 'as', 'palpable', ',', 'As', 'this', 'which', 'now', 'I', 'draw', '.', 'Thou', \"marshall'st\", 'me', 'the', 'way', 'that', 'I', 'was', 'going', ',', 'And', 'such', 'an', 'Instrument', 'I', 'was', 'to', 'vse', '.', 'Mine', 'Eyes', 'are', 'made', 'the', 'fooles', \"o'th\", \"'\", 'other', 'Sences', ',', 'Or', 'else', 'worth', 'all', 'the', 'rest', ':', 'I', 'see', 'thee', 'still', ';', 'And', 'on', 'thy', 'Blade', ',', 'and', 'Dudgeon', ',', 'Gouts', 'of', 'Blood', ',', 'Which', 'was', 'not', 'so', 'before', '.', 'There', \"'s\", 'no', 'such', 'thing', ':', 'It', 'is', 'the', 'bloody', 'Businesse', ',', 'which', 'informes', 'Thus', 'to', 'mine', 'Eyes', '.', 'Now', 'o', \"'re\", 'the', 'one', 'halfe', 'World', 'Nature', 'seemes', 'dead', ',', 'and', 'wicked', 'Dreames', 'abuse', 'The', 'Curtain', \"'d\", 'sleepe', ':', 'Witchcraft', 'celebrates', 'Pale', 'Heccats', 'Offrings', ':', 'and', 'wither', \"'d\", 'Murther', ',', 'Alarum', \"'d\", 'by', 'his', 'Centinell', ',', 'the', 'Wolfe', ',', 'Whose', 'howle', \"'s\", 'his', 'Watch', ',', 'thus', 'with', 'his', 'stealthy', 'pace', ',', 'With', 'Tarquins', 'rauishing', 'sides', ',', 'towards', 'his', 'designe', 'Moues', 'like', 'a', 'Ghost', '.', 'Thou', 'sowre', 'and', 'firme-set', 'Earth', 'Heare', 'not', 'my', 'steps', ',', 'which', 'they', 'may', 'walke', ',', 'for', 'feare', 'Thy', 'very', 'stones', 'prate', 'of', 'my', 'where-about', ',', 'And', 'take', 'the', 'present', 'horror', 'from', 'the', 'time', ',', 'Which', 'now', 'sutes', 'with', 'it', '.', 'Whiles', 'I', 'threat', ',', 'he', 'liues', ':', 'Words', 'to', 'the', 'heat', 'of', 'deedes', 'too', 'cold', 'breath', 'giues', '.', 'A', 'Bell', 'rings', '.', 'I', 'goe', ',', 'and', 'it', 'is', 'done', ':', 'the', 'Bell', 'inuites', 'me', '.', 'Heare', 'it', 'not', ',', 'Duncan', ',', 'for', 'it', 'is', 'a', 'Knell', ',', 'That', 'summons', 'thee', 'to', 'Heauen', ',', 'or', 'to', 'Hell', '.', 'Enter', '.', 'Scena', 'Secunda', '.', 'Enter', 'Lady', '.', 'La', '.', 'That', 'which', 'hath', 'made', 'the', '[', 'm', ']', 'drunk', ',', 'hath', 'made', 'me', 'bold', ':', 'What', 'hath', 'quench', \"'d\", 'them', ',', 'hath', 'giuen', 'me', 'fire', '.', 'Hearke', ',', 'peace', ':', 'it', 'was', 'the', 'Owle', 'that', 'shriek', \"'d\", ',', 'The', 'fatall', 'Bell-man', ',', 'which', 'giues', 'the', \"stern'st\", 'good-night', '.', 'He', 'is', 'about', 'it', ',', 'the', 'Doores', 'are', 'open', ':', 'And', 'the', 'surfeted', 'Groomes', 'doe', 'mock', 'their', 'charge', 'With', 'Snores', '.', 'I', 'haue', 'drugg', \"'d\", 'their', 'Possets', ',', 'That', 'Death', 'and', 'Nature', 'doe', 'contend', 'about', 'them', ',', 'Whether', 'they', 'liue', ',', 'or', 'dye', '.', 'Enter', 'Macbeth', '.', 'Macb', '.', 'Who', \"'s\", 'there', '?', 'what', 'hoa', '?', 'Lady', '.', 'Alack', ',', 'I', 'am', 'afraid', 'they', 'haue', 'awak', \"'d\", ',', 'And', \"'t\", 'is', 'not', 'done', ':', 'th', \"'\", 'attempt', ',', 'and', 'not', 'the', 'deed', ',', 'Confounds', 'vs', ':', 'hearke', ':', 'I', 'lay', \"'d\", 'their', 'Daggers', 'ready', ',', 'He', 'could', 'not', 'misse', \"'em\", '.', 'Had', 'he', 'not', 'resembled', 'My', 'Father', 'as', 'he', 'slept', ',', 'I', 'had', 'do', \"n't\", '.', 'My', 'Husband', '?', 'Macb', '.', 'I', 'haue', 'done', 'the', 'deed', ':', 'Didst', 'thou', 'not', 'heare', 'a', 'noyse', '?', 'Lady', '.', 'I', 'heard', 'the', 'Owle', 'schreame', ',', 'and', 'the', 'Crickets', 'cry', '.', 'Did', 'not', 'you', 'speake', '?', 'Macb', '.', 'When', '?', 'Lady', '.', 'Now', 'Macb', '.', 'As', 'I', 'descended', '?', 'Lady', '.', 'I', 'Macb', '.', 'Hearke', ',', 'who', 'lyes', \"i'th\", \"'\", 'second', 'Chamber', '?', 'Lady', '.', 'Donalbaine', 'Mac', '.', 'This', 'is', 'a', 'sorry', 'sight', 'Lady', '.', 'A', 'foolish', 'thought', ',', 'to', 'say', 'a', 'sorry', 'sight', 'Macb', '.', 'There', \"'s\", 'one', 'did', 'laugh', 'in', \"'s\", 'sleepe', ',', 'And', 'one', 'cry', \"'d\", 'Murther', ',', 'that', 'they', 'did', 'wake', 'each', 'other', ':', 'I', 'stood', ',', 'and', 'heard', 'them', ':', 'But', 'they', 'did', 'say', 'their', 'Prayers', ',', 'And', 'addrest', 'them', 'againe', 'to', 'sleepe', 'Lady', '.', 'There', 'are', 'two', 'lodg', \"'d\", 'together', 'Macb', '.', 'One', 'cry', \"'d\", 'God', 'blesse', 'vs', ',', 'and', 'Amen', 'the', 'other', ',', 'As', 'they', 'had', 'seene', 'me', 'with', 'these', 'Hangmans', 'hands', ':', 'Listning', 'their', 'feare', ',', 'I', 'could', 'not', 'say', 'Amen', ',', 'When', 'they', 'did', 'say', 'God', 'blesse', 'vs', 'Lady', '.', 'Consider', 'it', 'not', 'so', 'deepely', 'Mac', '.', 'But', 'wherefore', 'could', 'not', 'I', 'pronounce', 'Amen', '?', 'I', 'had', 'most', 'need', 'of', 'Blessing', ',', 'and', 'Amen', 'stuck', 'in', 'my', 'throat', 'Lady', '.', 'These', 'deeds', 'must', 'not', 'be', 'thought', 'After', 'these', 'wayes', ':', 'so', ',', 'it', 'will', 'make', 'vs', 'mad', 'Macb', '.', 'Me', 'thought', 'I', 'heard', 'a', 'voyce', 'cry', ',', 'Sleep', 'no', 'more', ':', 'Macbeth', 'does', 'murther', 'Sleepe', ',', 'the', 'innocent', 'Sleepe', ',', 'Sleepe', 'that', 'knits', 'vp', 'the', 'rauel', \"'d\", 'Sleeue', 'of', 'Care', ',', 'The', 'death', 'of', 'each', 'dayes', 'Life', ',', 'sore', 'Labors', 'Bath', ',', 'Balme', 'of', 'hurt', 'Mindes', ',', 'great', 'Natures', 'second', 'Course', ',', 'Chiefe', 'nourisher', 'in', 'Life', \"'s\", 'Feast', 'Lady', '.', 'What', 'doe', 'you', 'meane', '?', 'Macb', '.', 'Still', 'it', 'cry', \"'d\", ',', 'Sleepe', 'no', 'more', 'to', 'all', 'the', 'House', ':', 'Glamis', 'hath', 'murther', \"'d\", 'Sleepe', ',', 'and', 'therefore', 'Cawdor', 'Shall', 'sleepe', 'no', 'more', ':', 'Macbeth', 'shall', 'sleepe', 'no', 'more', 'Lady', '.', 'Who', 'was', 'it', ',', 'that', 'thus', 'cry', \"'d\", '?', 'why', 'worthy', 'Thane', ',', 'You', 'doe', 'vnbend', 'your', 'Noble', 'strength', ',', 'to', 'thinke', 'So', 'braine-sickly', 'of', 'things', ':', 'Goe', 'get', 'some', 'Water', ',', 'And', 'wash', 'this', 'filthie', 'Witnesse', 'from', 'your', 'Hand', '.', 'Why', 'did', 'you', 'bring', 'these', 'Daggers', 'from', 'the', 'place', '?', 'They', 'must', 'lye', 'there', ':', 'goe', 'carry', 'them', ',', 'and', 'smeare', 'The', 'sleepie', 'Groomes', 'with', 'blood', 'Macb', '.', 'Ile', 'goe', 'no', 'more', ':', 'I', 'am', 'afraid', ',', 'to', 'thinke', 'what', 'I', 'haue', 'done', ':', 'Looke', 'o', \"n't\", 'againe', ',', 'I', 'dare', 'not', 'Lady', '.', 'Infirme', 'of', 'purpose', ':', 'Giue', 'me', 'the', 'Daggers', ':', 'the', 'sleeping', ',', 'and', 'the', 'dead', ',', 'Are', 'but', 'as', 'Pictures', ':', \"'t\", 'is', 'the', 'Eye', 'of', 'Childhood', ',', 'That', 'feares', 'a', 'painted', 'Deuill', '.', 'If', 'he', 'doe', 'bleed', ',', 'Ile', 'guild', 'the', 'Faces', 'of', 'the', 'Groomes', 'withall', ',', 'For', 'it', 'must', 'seeme', 'their', 'Guilt', '.', 'Enter', '.', 'Knocke', 'within', '.', 'Macb', '.', 'Whence', 'is', 'that', 'knocking', '?', 'How', \"is't\", 'with', 'me', ',', 'when', 'euery', 'noyse', 'appalls', 'me', '?', 'What', 'Hands', 'are', 'here', '?', 'hah', ':', 'they', 'pluck', 'out', 'mine', 'Eyes', '.', 'Will', 'all', 'great', 'Neptunes', 'Ocean', 'wash', 'this', 'blood', 'Cleane', 'from', 'my', 'Hand', '?', 'no', ':', 'this', 'my', 'Hand', 'will', 'rather', 'The', 'multitudinous', 'Seas', 'incarnardine', ',', 'Making', 'the', 'Greene', 'one', ',', 'Red', '.', 'Enter', 'Lady', '.', 'Lady', '.', 'My', 'Hands', 'are', 'of', 'your', 'colour', ':', 'but', 'I', 'shame', 'To', 'weare', 'a', 'Heart', 'so', 'white', '.', 'Knocke', '.', 'I', 'heare', 'a', 'knocking', 'at', 'the', 'South', 'entry', ':', 'Retyre', 'we', 'to', 'our', 'Chamber', ':', 'A', 'little', 'Water', 'cleares', 'vs', 'of', 'this', 'deed', '.', 'How', 'easie', 'is', 'it', 'then', '?', 'your', 'Constancie', 'Hath', 'left', 'you', 'vnattended', '.', 'Knocke', '.', 'Hearke', ',', 'more', 'knocking', '.', 'Get', 'on', 'your', 'Night-Gowne', ',', 'least', 'occasion', 'call', 'vs', ',', 'And', 'shew', 'vs', 'to', 'be', 'Watchers', ':', 'be', 'not', 'lost', 'So', 'poorely', 'in', 'your', 'thoughts', 'Macb', '.', 'To', 'know', 'my', 'deed', ',', 'Knocke', '.', \"'Twere\", 'best', 'not', 'know', 'my', 'selfe', '.', 'Wake', 'Duncan', 'with', 'thy', 'knocking', ':', 'I', 'would', 'thou', \"could'st\", '.', 'Exeunt', '.', 'Scena', 'Tertia', '.', 'Enter', 'a', 'Porter', '.', 'Knocking', 'within', '.', 'Porter', '.', 'Here', \"'s\", 'a', 'knocking', 'indeede', ':', 'if', 'a', 'man', 'were', 'Porter', 'of', 'Hell', 'Gate', ',', 'hee', 'should', 'haue', 'old', 'turning', 'the', 'Key', '.', 'Knock', '.', 'Knock', ',', 'Knock', ',', 'Knock', '.', 'Who', \"'s\", 'there', \"i'th\", \"'\", 'name', 'of', 'Belzebub', '?', 'Here', \"'s\", 'a', 'Farmer', ',', 'that', \"hang'd\", 'himselfe', 'on', 'th', \"'\", 'expectation', 'of', 'Plentie', ':', 'Come', 'in', 'time', ',', 'haue', 'Napkins', 'enow', 'about', 'you', ',', 'here', \"you'le\", 'sweat', \"for't\", '.', 'Knock', '.', 'Knock', ',', 'knock', '.', 'Who', \"'s\", 'there', 'in', 'th', \"'\", 'other', 'Deuils', 'Name', '?', 'Faith', 'here', \"'s\", 'an', 'Equiuocator', ',', 'that', 'could', 'sweare', 'in', 'both', 'the', 'Scales', 'against', 'eyther', 'Scale', ',', 'who', 'committed', 'Treason', 'enough', 'for', 'Gods', 'sake', ',', 'yet', 'could', 'not', 'equiuocate', 'to', 'Heauen', ':', 'oh', 'come', 'in', ',', 'Equiuocator', '.', 'Knock', '.', 'Knock', ',', 'Knock', ',', 'Knock', '.', 'Who', \"'s\", 'there', '?', \"'Faith\", 'here', \"'s\", 'an', 'English', 'Taylor', 'come', 'hither', ',', 'for', 'stealing', 'out', 'of', 'a', 'French', 'Hose', ':', 'Come', 'in', 'Taylor', ',', 'here', 'you', 'may', 'rost', 'your', 'Goose', '.', 'Knock', '.', 'Knock', ',', 'Knock', '.', 'Neuer', 'at', 'quiet', ':', 'What', 'are', 'you', '?', 'but', 'this', 'place', 'is', 'too', 'cold', 'for', 'Hell', '.', 'Ile', 'Deuill-Porter', 'it', 'no', 'further', ':', 'I', 'had', 'thought', 'to', 'haue', 'let', 'in', 'some', 'of', 'all', 'Professions', ',', 'that', 'goe', 'the', 'Primrose', 'way', 'to', 'th', \"'\", 'euerlasting', 'Bonfire', '.', 'Knock', '.', 'Anon', ',', 'anon', ',', 'I', 'pray', 'you', 'remember', 'the', 'Porter', '.', 'Enter', 'Macduff', ',', 'and', 'Lenox', '.', 'Macd', '.', 'Was', 'it', 'so', 'late', ',', 'friend', ',', 'ere', 'you', 'went', 'to', 'Bed', ',', 'That', 'you', 'doe', 'lye', 'so', 'late', '?', 'Port', '.', 'Faith', 'Sir', ',', 'we', 'were', 'carowsing', 'till', 'the', 'second', 'Cock', ':', 'And', 'Drinke', ',', 'Sir', ',', 'is', 'a', 'great', 'prouoker', 'of', 'three', 'things', 'Macd', '.', 'What', 'three', 'things', 'does', 'Drinke', 'especially', 'prouoke', '?', 'Port', '.', 'Marry', ',', 'Sir', ',', 'Nose-painting', ',', 'Sleepe', ',', 'and', 'Vrine', '.', 'Lecherie', ',', 'Sir', ',', 'it', 'prouokes', ',', 'and', 'vnprouokes', ':', 'it', 'prouokes', 'the', 'desire', ',', 'but', 'it', 'takes', 'away', 'the', 'performance', '.', 'Therefore', 'much', 'Drinke', 'may', 'be', 'said', 'to', 'be', 'an', 'Equiuocator', 'with', 'Lecherie', ':', 'it', 'makes', 'him', ',', 'and', 'it', 'marres', 'him', ';', 'it', 'sets', 'him', 'on', ',', 'and', 'it', 'takes', 'him', 'off', ';', 'it', 'perswades', 'him', ',', 'and', 'dis-heartens', 'him', ';', 'makes', 'him', 'stand', 'too', ',', 'and', 'not', 'stand', 'too', ':', 'in', 'conclusion', ',', 'equiuocates', 'him', 'in', 'a', 'sleepe', ',', 'and', 'giuing', 'him', 'the', 'Lye', ',', 'leaues', 'him', 'Macd', '.', 'I', 'beleeue', ',', 'Drinke', 'gaue', 'thee', 'the', 'Lye', 'last', 'Night', 'Port', '.', 'That', 'it', 'did', ',', 'Sir', ',', \"i'the\", 'very', 'Throat', 'on', 'me', ':', 'but', 'I', 'requited', 'him', 'for', 'his', 'Lye', ',', 'and', '(', 'I', 'thinke', ')', 'being', 'too', 'strong', 'for', 'him', ',', 'though', 'he', 'tooke', 'vp', 'my', 'Legges', 'sometime', ',', 'yet', 'I', 'made', 'a', 'Shift', 'to', 'cast', 'him', '.', 'Enter', 'Macbeth', '.', 'Macd', '.', 'Is', 'thy', 'Master', 'stirring', '?', 'Our', 'knocking', 'ha', \"'s\", 'awak', \"'d\", 'him', ':', 'here', 'he', 'comes', 'Lenox', '.', 'Good', 'morrow', ',', 'Noble', 'Sir', 'Macb', '.', 'Good', 'morrow', 'both', 'Macd', '.', 'Is', 'the', 'King', 'stirring', ',', 'worthy', 'Thane', '?', 'Macb', '.', 'Not', 'yet', 'Macd', '.', 'He', 'did', 'command', 'me', 'to', 'call', 'timely', 'on', 'him', ',', 'I', 'haue', 'almost', 'slipt', 'the', 'houre', 'Macb', '.', 'Ile', 'bring', 'you', 'to', 'him', 'Macd', '.', 'I', 'know', 'this', 'is', 'a', 'ioyfull', 'trouble', 'to', 'you', ':', 'But', 'yet', \"'t\", 'is', 'one', 'Macb', '.', 'The', 'labour', 'we', 'delight', 'in', ',', 'Physicks', 'paine', ':', 'This', 'is', 'the', 'Doore', 'Macd', '.', 'Ile', 'make', 'so', 'bold', 'to', 'call', ',', 'for', \"'t\", 'is', 'my', 'limitted', 'seruice', '.', 'Exit', 'Macduffe', '.', 'Lenox', '.', 'Goes', 'the', 'King', 'hence', 'to', 'day', '?', 'Macb', '.', 'He', 'does', ':', 'he', 'did', 'appoint', 'so', 'Lenox', '.', 'The', 'Night', 'ha', \"'s\", 'been', 'vnruly', ':', 'Where', 'we', 'lay', ',', 'our', 'Chimneys', 'were', 'blowne', 'downe', ',', 'And', '(', 'as', 'they', 'say', ')', 'lamentings', 'heard', \"i'th\", \"'\", 'Ayre', ';', 'Strange', 'Schreemes', 'of', 'Death', ',', 'And', 'Prophecying', ',', 'with', 'Accents', 'terrible', ',', 'Of', 'dyre', 'Combustion', ',', 'and', 'confus', \"'d\", 'Euents', ',', 'New', 'hatch', \"'d\", 'toth', \"'\", 'wofull', 'time', '.', 'The', 'obscure', 'Bird', 'clamor', \"'d\", 'the', 'liue-long', 'Night', '.', 'Some', 'say', ',', 'the', 'Earth', 'was', 'Feuorous', ',', 'And', 'did', 'shake', 'Macb', '.', \"'T\", 'was', 'a', 'rough', 'Night', 'Lenox', '.', 'My', 'young', 'remembrance', 'can', 'not', 'paralell', 'A', 'fellow', 'to', 'it', '.', 'Enter', 'Macduff', '.', 'Macd', '.', 'O', 'horror', ',', 'horror', ',', 'horror', ',', 'Tongue', 'nor', 'Heart', 'can', 'not', 'conceiue', ',', 'nor', 'name', 'thee', 'Macb', '.', 'and', 'Lenox', '.', 'What', \"'s\", 'the', 'matter', '?', 'Macd', '.', 'Confusion', 'now', 'hath', 'made', 'his', 'Master-peece', ':', 'Most', 'sacrilegious', 'Murther', 'hath', 'broke', 'ope', 'The', 'Lords', 'anoynted', 'Temple', ',', 'and', 'stole', 'thence', 'The', 'Life', \"o'th\", \"'\", 'Building', 'Macb', '.', 'What', \"is't\", 'you', 'say', ',', 'the', 'Life', '?', 'Lenox', '.', 'Meane', 'you', 'his', 'Maiestie', '?', 'Macd', '.', 'Approch', 'the', 'Chamber', ',', 'and', 'destroy', 'your', 'sight', 'With', 'a', 'new', 'Gorgon', '.', 'Doe', 'not', 'bid', 'me', 'speake', ':', 'See', ',', 'and', 'then', 'speake', 'your', 'selues', ':', 'awake', ',', 'awake', ',', 'Exeunt', '.', 'Macbeth', 'and', 'Lenox', '.', 'Ring', 'the', 'Alarum', 'Bell', ':', 'Murther', ',', 'and', 'Treason', ',', 'Banquo', ',', 'and', 'Donalbaine', ':', 'Malcolme', 'awake', ',', 'Shake', 'off', 'this', 'Downey', 'sleepe', ',', 'Deaths', 'counterfeit', ',', 'And', 'looke', 'on', 'Death', 'it', 'selfe', ':', 'vp', ',', 'vp', ',', 'and', 'see', 'The', 'great', 'Doomes', 'Image', ':', 'Malcolme', ',', 'Banquo', ',', 'As', 'from', 'your', 'Graues', 'rise', 'vp', ',', 'and', 'walke', 'like', 'Sprights', ',', 'To', 'countenance', 'this', 'horror', '.', 'Ring', 'the', 'Bell', '.', 'Bell', 'rings', '.', 'Enter', 'Lady', '.', 'Lady', '.', 'What', \"'s\", 'the', 'Businesse', '?', 'That', 'such', 'a', 'hideous', 'Trumpet', 'calls', 'to', 'parley', 'The', 'sleepers', 'of', 'the', 'House', '?', 'speake', ',', 'speake', 'Macd', '.', 'O', 'gentle', 'Lady', ',', \"'Tis\", 'not', 'for', 'you', 'to', 'heare', 'what', 'I', 'can', 'speake', ':', 'The', 'repetition', 'in', 'a', 'Womans', 'eare', ',', 'Would', 'murther', 'as', 'it', 'fell', '.', 'Enter', 'Banquo', '.', 'O', 'Banquo', ',', 'Banquo', ',', 'Our', 'Royall', 'Master', \"'s\", \"murther'd\", 'Lady', '.', 'Woe', ',', 'alas', ':', 'What', ',', 'in', 'our', 'House', '?', 'Ban', '.', 'Too', 'cruell', ',', 'any', 'where', '.', 'Deare', 'Duff', ',', 'I', 'prythee', 'contradict', 'thy', 'selfe', ',', 'And', 'say', ',', 'it', 'is', 'not', 'so', '.', 'Enter', 'Macbeth', ',', 'Lenox', ',', 'and', 'Rosse', '.', 'Macb', '.', 'Had', 'I', 'but', 'dy', \"'d\", 'an', 'houre', 'before', 'this', 'chance', ',', 'I', 'had', 'liu', \"'d\", 'a', 'blessed', 'time', ':', 'for', 'from', 'this', 'instant', ',', 'There', \"'s\", 'nothing', 'serious', 'in', 'Mortalitie', ':', 'All', 'is', 'but', 'Toyes', ':', 'Renowne', 'and', 'Grace', 'is', 'dead', ',', 'The', 'Wine', 'of', 'Life', 'is', 'drawne', ',', 'and', 'the', 'meere', 'Lees', 'Is', 'left', 'this', 'Vault', ',', 'to', 'brag', 'of', '.', 'Enter', 'Malcolme', 'and', 'Donalbaine', '.', 'Donal', '.', 'What', 'is', 'amisse', '?', 'Macb', '.', 'You', 'are', ',', 'and', 'doe', 'not', \"know't\", ':', 'The', 'Spring', ',', 'the', 'Head', ',', 'the', 'Fountaine', 'of', 'your', 'Blood', 'Is', 'stopt', ',', 'the', 'very', 'Source', 'of', 'it', 'is', 'stopt', 'Macd', '.', 'Your', 'Royall', 'Father', \"'s\", \"murther'd\", 'Mal', '.', 'Oh', ',', 'by', 'whom', '?', 'Lenox', '.', 'Those', 'of', 'his', 'Chamber', ',', 'as', 'it', 'seem', \"'d\", ',', 'had', 'do', \"n't\", ':', 'Their', 'Hands', 'and', 'Faces', 'were', 'all', 'badg', \"'d\", 'with', 'blood', ',', 'So', 'were', 'their', 'Daggers', ',', 'which', 'vnwip', \"'d\", ',', 'we', 'found', 'Vpon', 'their', 'Pillowes', ':', 'they', 'star', \"'d\", ',', 'and', 'were', 'distracted', ',', 'No', 'mans', 'Life', 'was', 'to', 'be', 'trusted', 'with', 'them', 'Macb', '.', 'O', ',', 'yet', 'I', 'doe', 'repent', 'me', 'of', 'my', 'furie', ',', 'That', 'I', 'did', 'kill', 'them', 'Macd', '.', 'Wherefore', 'did', 'you', 'so', '?', 'Macb', '.', 'Who', 'can', 'be', 'wise', ',', 'amaz', \"'d\", ',', \"temp'rate\", ',', '&', 'furious', ',', 'Loyall', ',', 'and', 'Neutrall', ',', 'in', 'a', 'moment', '?', 'No', 'man', ':', 'Th', \"'\", 'expedition', 'of', 'my', 'violent', 'Loue', 'Out-run', 'the', 'pawser', ',', 'Reason', '.', 'Here', 'lay', 'Duncan', ',', 'His', 'Siluer', 'skinne', ',', 'lac', \"'d\", 'with', 'His', 'Golden', 'Blood', ',', 'And', 'his', 'gash', \"'d\", 'Stabs', ',', 'look', \"'d\", 'like', 'a', 'Breach', 'in', 'Nature', ',', 'For', 'Ruines', 'wastfull', 'entrance', ':', 'there', 'the', 'Murtherers', ',', 'Steep', \"'d\", 'in', 'the', 'Colours', 'of', 'their', 'Trade', ';', 'their', 'Daggers', 'Vnmannerly', 'breech', \"'d\", 'with', 'gore', ':', 'who', 'could', 'refraine', ',', 'That', 'had', 'a', 'heart', 'to', 'loue', ';', 'and', 'in', 'that', 'heart', ',', 'Courage', ',', 'to', 'make', \"'s\", 'loue', 'knowne', '?', 'Lady', '.', 'Helpe', 'me', 'hence', ',', 'hoa', 'Macd', '.', 'Looke', 'to', 'the', 'Lady', 'Mal', '.', 'Why', 'doe', 'we', 'hold', 'our', 'tongues', ',', 'That', 'most', 'may', 'clayme', 'this', 'argument', 'for', 'ours', '?', 'Donal', '.', 'What', 'should', 'be', 'spoken', 'here', ',', 'Where', 'our', 'Fate', 'hid', 'in', 'an', 'augure', 'hole', ',', 'May', 'rush', ',', 'and', 'seize', 'vs', '?', 'Let', \"'s\", 'away', ',', 'Our', 'Teares', 'are', 'not', 'yet', \"brew'd\", 'Mal', '.', 'Nor', 'our', 'strong', 'Sorrow', 'Vpon', 'the', 'foot', 'of', 'Motion', 'Banq', '.', 'Looke', 'to', 'the', 'Lady', ':', 'And', 'when', 'we', 'haue', 'our', 'naked', 'Frailties', 'hid', ',', 'That', 'suffer', 'in', 'exposure', ';', 'let', 'vs', 'meet', ',', 'And', 'question', 'this', 'most', 'bloody', 'piece', 'of', 'worke', ',', 'To', 'know', 'it', 'further', '.', 'Feares', 'and', 'scruples', 'shake', 'vs', ':', 'In', 'the', 'great', 'Hand', 'of', 'God', 'I', 'stand', ',', 'and', 'thence', ',', 'Against', 'the', 'vndivulg', \"'d\", 'pretence', ',', 'I', 'fight', 'Of', 'Treasonous', 'Mallice', 'Macd', '.', 'And', 'so', 'doe', 'I', 'All', '.', 'So', 'all', 'Macb', '.', 'Let', \"'s\", 'briefely', 'put', 'on', 'manly', 'readinesse', ',', 'And', 'meet', \"i'th\", \"'\", 'Hall', 'together', 'All', '.', 'Well', 'contented', '.', 'Exeunt', '.', 'Malc', '.', 'What', 'will', 'you', 'doe', '?', 'Let', \"'s\", 'not', 'consort', 'with', 'them', ':', 'To', 'shew', 'an', 'vnfelt', 'Sorrow', ',', 'is', 'an', 'Office', 'Which', 'the', 'false', 'man', 'do', \"'s\", 'easie', '.', 'Ile', 'to', 'England', 'Don', '.', 'To', 'Ireland', ',', 'I', ':', 'Our', 'seperated', 'fortune', 'shall', 'keepe', 'vs', 'both', 'the', 'safer', ':', 'Where', 'we', 'are', ',', 'there', \"'s\", 'Daggers', 'in', 'mens', 'smiles', ';', 'The', 'neere', 'in', 'blood', ',', 'the', 'neerer', 'bloody', 'Malc', '.', 'This', 'murtherous', 'Shaft', 'that', \"'s\", 'shot', ',', 'Hath', 'not', 'yet', 'lighted', ':', 'and', 'our', 'safest', 'way', ',', 'Is', 'to', 'auoid', 'the', 'ayme', '.', 'Therefore', 'to', 'Horse', ',', 'And', 'let', 'vs', 'not', 'be', 'daintie', 'of', 'leaue-taking', ',', 'But', 'shift', 'away', ':', 'there', \"'s\", 'warrant', 'in', 'that', 'Theft', ',', 'Which', 'steales', 'it', 'selfe', ',', 'when', 'there', \"'s\", 'no', 'mercie', 'left', '.', 'Exeunt', '.', 'Scena', 'Quarta', '.', 'Enter', 'Rosse', ',', 'with', 'an', 'Old', 'man', '.', 'Old', 'man', '.', 'Threescore', 'and', 'ten', 'I', 'can', 'remember', 'well', ',', 'Within', 'the', 'Volume', 'of', 'which', 'Time', ',', 'I', 'haue', 'seene', 'Houres', 'dreadfull', ',', 'and', 'things', 'strange', ':', 'but', 'this', 'sore', 'Night', 'Hath', 'trifled', 'former', 'knowings', 'Rosse', '.', 'Ha', ',', 'good', 'Father', ',', 'Thou', 'seest', 'the', 'Heauens', ',', 'as', 'troubled', 'with', 'mans', 'Act', ',', 'Threatens', 'his', 'bloody', 'Stage', ':', 'byth', \"'\", 'Clock', \"'t\", 'is', 'Day', ',', 'And', 'yet', 'darke', 'Night', 'strangles', 'the', 'trauailing', 'Lampe', ':', \"Is't\", 'Nights', 'predominance', ',', 'or', 'the', 'Dayes', 'shame', ',', 'That', 'Darknesse', 'does', 'the', 'face', 'of', 'Earth', 'intombe', ',', 'When', 'liuing', 'Light', 'should', 'kisse', 'it', '?', 'Old', 'man', '.', \"'T\", 'is', 'vnnaturall', ',', 'Euen', 'like', 'the', 'deed', 'that', \"'s\", 'done', ':', 'On', 'Tuesday', 'last', ',', 'A', 'Faulcon', 'towring', 'in', 'her', 'pride', 'of', 'place', ',', 'Was', 'by', 'a', 'Mowsing', 'Owle', 'hawkt', 'at', ',', 'and', \"kill'd\", 'Rosse', '.', 'And', 'Duncans', 'Horses', ',', '(', 'A', 'thing', 'most', 'strange', ',', 'and', 'certaine', ')', 'Beauteous', ',', 'and', 'swift', ',', 'the', 'Minions', 'of', 'their', 'Race', ',', 'Turn', \"'d\", 'wilde', 'in', 'nature', ',', 'broke', 'their', 'stalls', ',', 'flong', 'out', ',', 'Contending', \"'gainst\", 'Obedience', ',', 'as', 'they', 'would', 'Make', 'Warre', 'with', 'Mankinde', 'Old', 'man', '.', \"'T\", 'is', 'said', ',', 'they', 'eate', 'each', 'other', 'Rosse', '.', 'They', 'did', 'so', ':', 'To', 'th', \"'\", 'amazement', 'of', 'mine', 'eyes', 'that', 'look', \"'d\", 'vpo', \"n't\", '.', 'Enter', 'Macduffe', '.', 'Heere', 'comes', 'the', 'good', 'Macduffe', '.', 'How', 'goes', 'the', 'world', 'Sir', ',', 'now', '?', 'Macd', '.', 'Why', 'see', 'you', 'not', '?', 'Ross', '.', \"Is't\", 'known', 'who', 'did', 'this', 'more', 'then', 'bloody', 'deed', '?', 'Macd', '.', 'Those', 'that', 'Macbeth', 'hath', 'slaine', 'Ross', '.', 'Alas', 'the', 'day', ',', 'What', 'good', 'could', 'they', 'pretend', '?', 'Macd', '.', 'They', 'were', 'subborned', ',', 'Malcolme', ',', 'and', 'Donalbaine', 'the', 'Kings', 'two', 'Sonnes', 'Are', 'stolne', 'away', 'and', 'fled', ',', 'which', 'puts', 'vpon', 'them', 'Suspition', 'of', 'the', 'deed', 'Rosse', '.', \"'Gainst\", 'Nature', 'still', ',', 'Thriftlesse', 'Ambition', ',', 'that', 'will', 'rauen', 'vp', 'Thine', 'owne', 'liues', 'meanes', ':', 'Then', \"'t\", 'is', 'most', 'like', ',', 'The', 'Soueraignty', 'will', 'fall', 'vpon', 'Macbeth', 'Macd', '.', 'He', 'is', 'already', 'nam', \"'d\", ',', 'and', 'gone', 'to', 'Scone', 'To', 'be', 'inuested', 'Rosse', '.', 'Where', 'is', 'Duncans', 'body', '?', 'Macd', '.', 'Carried', 'to', 'Colmekill', ',', 'The', 'Sacred', 'Store-house', 'of', 'his', 'Predecessors', ',', 'And', 'Guardian', 'of', 'their', 'Bones', 'Rosse', '.', 'Will', 'you', 'to', 'Scone', '?', 'Macd', '.', 'No', 'Cosin', ',', 'Ile', 'to', 'Fife', 'Rosse', '.', 'Well', ',', 'I', 'will', 'thither', 'Macd', '.', 'Well', 'may', 'you', 'see', 'things', 'wel', 'done', 'there', ':', 'Adieu', 'Least', 'our', 'old', 'Robes', 'sit', 'easier', 'then', 'our', 'new', 'Rosse', '.', 'Farewell', ',', 'Father', 'Old', 'M.', 'Gods', 'benyson', 'go', 'with', 'you', ',', 'and', 'with', 'those', 'That', 'would', 'make', 'good', 'of', 'bad', ',', 'and', 'Friends', 'of', 'Foes', '.', 'Exeunt', '.', 'omnes', 'Actus', 'Tertius', '.', 'Scena', 'Prima', '.', 'Enter', 'Banquo', '.', 'Banq', '.', 'Thou', 'hast', 'it', 'now', ',', 'King', ',', 'Cawdor', ',', 'Glamis', ',', 'all', ',', 'As', 'the', 'weyard', 'Women', 'promis', \"'d\", ',', 'and', 'I', 'feare', 'Thou', \"playd'st\", 'most', 'fowly', \"for't\", ':', 'yet', 'it', 'was', 'saide', 'It', 'should', 'not', 'stand', 'in', 'thy', 'Posterity', ',', 'But', 'that', 'my', 'selfe', 'should', 'be', 'the', 'Roote', ',', 'and', 'Father', 'Of', 'many', 'Kings', '.', 'If', 'there', 'come', 'truth', 'from', 'them', ',', 'As', 'vpon', 'thee', 'Macbeth', ',', 'their', 'Speeches', 'shine', ',', 'Why', 'by', 'the', 'verities', 'on', 'thee', 'made', 'good', ',', 'May', 'they', 'not', 'be', 'my', 'Oracles', 'as', 'well', ',', 'And', 'set', 'me', 'vp', 'in', 'hope', '.', 'But', 'hush', ',', 'no', 'more', '.', 'Senit', 'sounded', '.', 'Enter', 'Macbeth', 'as', 'King', ',', 'Lady', 'Lenox', ',', 'Rosse', ',', 'Lords', ',', 'and', 'Attendants', '.', 'Macb', '.', 'Heere', \"'s\", 'our', 'chiefe', 'Guest', 'La', '.', 'If', 'he', 'had', 'beene', 'forgotten', ',', 'It', 'had', 'bene', 'as', 'a', 'gap', 'in', 'our', 'great', 'Feast', ',', 'And', 'all-thing', 'vnbecomming', 'Macb', '.', 'To', 'night', 'we', 'hold', 'a', 'solemne', 'Supper', 'sir', ',', 'And', 'Ile', 'request', 'your', 'presence', 'Banq', '.', 'Let', 'your', 'Highnesse', 'Command', 'vpon', 'me', ',', 'to', 'the', 'which', 'my', 'duties', 'Are', 'with', 'a', 'most', 'indissoluble', 'tye', 'For', 'euer', 'knit', 'Macb', '.', 'Ride', 'you', 'this', 'afternoone', '?', 'Ban', '.', 'I', ',', 'my', 'good', 'Lord', 'Macb', '.', 'We', 'should', 'haue', 'else', 'desir', \"'d\", 'your', 'good', 'aduice', '(', 'Which', 'still', 'hath', 'been', 'both', 'graue', ',', 'and', 'prosperous', ')', 'In', 'this', 'dayes', 'Councell', ':', 'but', \"wee'le\", 'take', 'to', 'morrow', '.', \"Is't\", 'farre', 'you', 'ride', '?', 'Ban', '.', 'As', 'farre', ',', 'my', 'Lord', ',', 'as', 'will', 'fill', 'vp', 'the', 'time', \"'Twixt\", 'this', ',', 'and', 'Supper', '.', 'Goe', 'not', 'my', 'Horse', 'the', 'better', ',', 'I', 'must', 'become', 'a', 'borrower', 'of', 'the', 'Night', ',', 'For', 'a', 'darke', 'houre', ',', 'or', 'twaine', 'Macb', '.', 'Faile', 'not', 'our', 'Feast', 'Ban', '.', 'My', 'Lord', ',', 'I', 'will', 'not', 'Macb', '.', 'We', 'heare', 'our', 'bloody', 'Cozens', 'are', \"bestow'd\", 'In', 'England', ',', 'and', 'in', 'Ireland', ',', 'not', 'confessing', 'Their', 'cruell', 'Parricide', ',', 'filling', 'their', 'hearers', 'With', 'strange', 'inuention', '.', 'But', 'of', 'that', 'to', 'morrow', ',', 'When', 'therewithall', ',', 'we', 'shall', 'haue', 'cause', 'of', 'State', ',', 'Crauing', 'vs', 'ioyntly', '.', 'Hye', 'you', 'to', 'Horse', ':', 'Adieu', ',', 'till', 'you', 'returne', 'at', 'Night', '.', 'Goes', 'Fleance', 'with', 'you', '?', 'Ban', '.', 'I', ',', 'my', 'good', 'Lord', ':', 'our', 'time', 'does', 'call', \"vpon's\", 'Macb', '.', 'I', 'wish', 'your', 'Horses', 'swift', ',', 'and', 'sure', 'of', 'foot', ':', 'And', 'so', 'I', 'doe', 'commend', 'you', 'to', 'their', 'backs', '.', 'Farwell', '.', 'Exit', 'Banquo', '.', 'Let', 'euery', 'man', 'be', 'master', 'of', 'his', 'time', ',', 'Till', 'seuen', 'at', 'Night', ',', 'to', 'make', 'societie', 'The', 'sweeter', 'welcome', ':', 'We', 'will', 'keepe', 'our', 'selfe', 'till', 'Supper', 'time', 'alone', ':', 'While', 'then', ',', 'God', 'be', 'with', 'you', '.', 'Exeunt', '.', 'Lords', '.', 'Sirrha', ',', 'a', 'word', 'with', 'you', ':', 'Attend', 'those', 'men', 'Our', 'pleasure', '?', 'Seruant', '.', 'They', 'are', ',', 'my', 'Lord', ',', 'without', 'the', 'Pallace', 'Gate', 'Macb', '.', 'Bring', 'them', 'before', 'vs.', 'Exit', 'Seruant', '.', 'To', 'be', 'thus', ',', 'is', 'nothing', ',', 'but', 'to', 'be', 'safely', 'thus', 'Our', 'feares', 'in', 'Banquo', 'sticke', 'deepe', ',', 'And', 'in', 'his', 'Royaltie', 'of', 'Nature', 'reignes', 'that', 'Which', 'would', 'be', 'fear', \"'d\", '.', \"'T\", 'is', 'much', 'he', 'dares', ',', 'And', 'to', 'that', 'dauntlesse', 'temper', 'of', 'his', 'Minde', ',', 'He', 'hath', 'a', 'Wisdome', ',', 'that', 'doth', 'guide', 'his', 'Valour', ',', 'To', 'act', 'in', 'safetie', '.', 'There', 'is', 'none', 'but', 'he', ',', 'Whose', 'being', 'I', 'doe', 'feare', ':', 'and', 'vnder', 'him', ',', 'My', 'Genius', 'is', 'rebuk', \"'d\", ',', 'as', 'it', 'is', 'said', 'Mark', 'Anthonies', 'was', 'by', 'Caesar', '.', 'He', 'chid', 'the', 'Sisters', ',', 'When', 'first', 'they', 'put', 'the', 'Name', 'of', 'King', 'vpon', 'me', ',', 'And', 'bad', 'them', 'speake', 'to', 'him', '.', 'Then', 'Prophet-like', ',', 'They', 'hayl', \"'d\", 'him', 'Father', 'to', 'a', 'Line', 'of', 'Kings', '.', 'Vpon', 'my', 'Head', 'they', 'plac', \"'d\", 'a', 'fruitlesse', 'Crowne', ',', 'And', 'put', 'a', 'barren', 'Scepter', 'in', 'my', 'Gripe', ',', 'Thence', 'to', 'be', 'wrencht', 'with', 'an', 'vnlineall', 'Hand', ',', 'No', 'Sonne', 'of', 'mine', 'succeeding', ':', \"if't\", 'be', 'so', ',', 'For', 'Banquo', \"'s\", 'Issue', 'haue', 'I', 'fil', \"'d\", 'my', 'Minde', ',', 'For', 'them', ',', 'the', 'gracious', 'Duncan', 'haue', 'I', 'murther', \"'d\", ',', 'Put', 'Rancours', 'in', 'the', 'Vessell', 'of', 'my', 'Peace', 'Onely', 'for', 'them', ',', 'and', 'mine', 'eternall', 'Iewell', 'Giuen', 'to', 'the', 'common', 'Enemie', 'of', 'Man', ',', 'To', 'make', 'them', 'Kings', ',', 'the', 'Seedes', 'of', 'Banquo', 'Kings', '.', 'Rather', 'then', 'so', ',', 'come', 'Fate', 'into', 'the', 'Lyst', ',', 'And', 'champion', 'me', 'to', 'th', \"'\", 'vtterance', '.', 'Who', \"'s\", 'there', '?', 'Enter', 'Seruant', ',', 'and', 'two', 'Murtherers', '.', 'Now', 'goe', 'to', 'the', 'Doore', ',', 'and', 'stay', 'there', 'till', 'we', 'call', '.', 'Exit', 'Seruant', '.', 'Was', 'it', 'not', 'yesterday', 'we', 'spoke', 'together', '?', 'Murth', '.', 'It', 'was', ',', 'so', 'please', 'your', 'Highnesse', 'Macb', '.', 'Well', 'then', ',', 'Now', 'haue', 'you', 'consider', \"'d\", 'of', 'my', 'speeches', ':', 'Know', ',', 'that', 'it', 'was', 'he', ',', 'in', 'the', 'times', 'past', ',', 'Which', 'held', 'you', 'so', 'vnder', 'fortune', ',', 'Which', 'you', 'thought', 'had', 'been', 'our', 'innocent', 'selfe', '.', 'This', 'I', 'made', 'good', 'to', 'you', ',', 'in', 'our', 'last', 'conference', ',', 'Past', 'in', 'probation', 'with', 'you', ':', 'How', 'you', 'were', 'borne', 'in', 'hand', ',', 'how', 'crost', ':', 'The', 'Instruments', ':', 'who', 'wrought', 'with', 'them', ':', 'And', 'all', 'things', 'else', ',', 'that', 'might', 'To', 'halfe', 'a', 'Soule', ',', 'and', 'to', 'a', 'Notion', 'craz', \"'d\", ',', 'Say', ',', 'Thus', 'did', 'Banquo', '1.Murth', '.', 'You', 'made', 'it', 'knowne', 'to', 'vs', 'Macb', '.', 'I', 'did', 'so', ':', 'And', 'went', 'further', ',', 'which', 'is', 'now', 'Our', 'point', 'of', 'second', 'meeting', '.', 'Doe', 'you', 'finde', 'your', 'patience', 'so', 'predominant', ',', 'In', 'your', 'nature', ',', 'that', 'you', 'can', 'let', 'this', 'goe', '?', 'Are', 'you', 'so', 'Gospell', \"'d\", ',', 'to', 'pray', 'for', 'this', 'good', 'man', ',', 'And', 'for', 'his', 'Issue', ',', 'whose', 'heauie', 'hand', 'Hath', 'bow', \"'d\", 'you', 'to', 'the', 'Graue', ',', 'and', \"begger'd\", 'Yours', 'for', 'euer', '?', '1.Murth', '.', 'We', 'are', 'men', ',', 'my', 'Liege', 'Macb', '.', 'I', ',', 'in', 'the', 'Catalogue', 'ye', 'goe', 'for', 'men', ',', 'As', 'Hounds', ',', 'and', 'Greyhounds', ',', 'Mungrels', ',', 'Spaniels', ',', 'Curres', ',', 'Showghes', ',', 'Water-Rugs', ',', 'and', 'Demy-Wolues', 'are', 'clipt', 'All', 'by', 'the', 'Name', 'of', 'Dogges', ':', 'the', 'valued', 'file', 'Distinguishes', 'the', 'swift', ',', 'the', 'slow', ',', 'the', 'subtle', ',', 'The', 'House-keeper', ',', 'the', 'Hunter', ',', 'euery', 'one', 'According', 'to', 'the', 'gift', ',', 'which', 'bounteous', 'Nature', 'Hath', 'in', 'him', 'clos', \"'d\", ':', 'whereby', 'he', 'does', 'receiue', 'Particular', 'addition', ',', 'from', 'the', 'Bill', ',', 'That', 'writes', 'them', 'all', 'alike', ':', 'and', 'so', 'of', 'men', '.', 'Now', ',', 'if', 'you', 'haue', 'a', 'station', 'in', 'the', 'file', ',', 'Not', \"i'th\", \"'\", 'worst', 'ranke', 'of', 'Manhood', ',', \"say't\", ',', 'And', 'I', 'will', 'put', 'that', 'Businesse', 'in', 'your', 'Bosomes', ',', 'Whose', 'execution', 'takes', 'your', 'Enemie', 'off', ',', 'Grapples', 'you', 'to', 'the', 'heart', ';', 'and', 'loue', 'of', 'vs', ',', 'Who', 'weare', 'our', 'Health', 'but', 'sickly', 'in', 'his', 'Life', ',', 'Which', 'in', 'his', 'Death', 'were', 'perfect', '2.Murth', '.', 'I', 'am', 'one', ',', 'my', 'Liege', ',', 'Whom', 'the', 'vile', 'Blowes', 'and', 'Buffets', 'of', 'the', 'World', 'Hath', 'so', 'incens', \"'d\", ',', 'that', 'I', 'am', 'recklesse', 'what', 'I', 'doe', ',', 'To', 'spight', 'the', 'World', '1.Murth', '.', 'And', 'I', 'another', ',', 'So', 'wearie', 'with', 'Disasters', ',', 'tugg', \"'d\", 'with', 'Fortune', ',', 'That', 'I', 'would', 'set', 'my', 'Life', 'on', 'any', 'Chance', ',', 'To', 'mend', 'it', ',', 'or', 'be', 'rid', \"on't\", 'Macb', '.', 'Both', 'of', 'you', 'know', 'Banquo', 'was', 'your', 'Enemie', 'Murth', '.', 'True', ',', 'my', 'Lord', 'Macb', '.', 'So', 'is', 'he', 'mine', ':', 'and', 'in', 'such', 'bloody', 'distance', ',', 'That', 'euery', 'minute', 'of', 'his', 'being', ',', 'thrusts', 'Against', 'my', \"neer'st\", 'of', 'Life', ':', 'and', 'though', 'I', 'could', 'With', 'bare-fac', \"'d\", 'power', 'sweepe', 'him', 'from', 'my', 'sight', ',', 'And', 'bid', 'my', 'will', 'auouch', 'it', ';', 'yet', 'I', 'must', 'not', ',', 'For', 'certaine', 'friends', 'that', 'are', 'both', 'his', ',', 'and', 'mine', ',', 'Whose', 'loues', 'I', 'may', 'not', 'drop', ',', 'but', 'wayle', 'his', 'fall', ',', 'Who', 'I', 'my', 'selfe', 'struck', 'downe', ':', 'and', 'thence', 'it', 'is', ',', 'That', 'I', 'to', 'your', 'assistance', 'doe', 'make', 'loue', ',', 'Masking', 'the', 'Businesse', 'from', 'the', 'common', 'Eye', ',', 'For', 'sundry', 'weightie', 'Reasons', '2.Murth', '.', 'We', 'shall', ',', 'my', 'Lord', ',', 'Performe', 'what', 'you', 'command', 'vs', '1.Murth', '.', 'Though', 'our', 'Liues-', 'Macb', '.', 'Your', 'Spirits', 'shine', 'through', 'you', '.', 'Within', 'this', 'houre', ',', 'at', 'most', ',', 'I', 'will', 'aduise', 'you', 'where', 'to', 'plant', 'your', 'selues', ',', 'Acquaint', 'you', 'with', 'the', 'perfect', 'Spy', \"o'th\", \"'\", 'time', ',', 'The', 'moment', 'o', \"n't\", ',', \"for't\", 'must', 'be', 'done', 'to', 'Night', ',', 'And', 'something', 'from', 'the', 'Pallace', ':', 'alwayes', 'thought', ',', 'That', 'I', 'require', 'a', 'clearenesse', ';', 'and', 'with', 'him', ',', 'To', 'leaue', 'no', 'Rubs', 'nor', 'Botches', 'in', 'the', 'Worke', ':', 'Fleans', ',', 'his', 'Sonne', ',', 'that', 'keepes', 'him', 'companie', ',', 'Whose', 'absence', 'is', 'no', 'lesse', 'materiall', 'to', 'me', ',', 'Then', 'is', 'his', 'Fathers', ',', 'must', 'embrace', 'the', 'fate', 'Of', 'that', 'darke', 'houre', ':', 'resolue', 'your', 'selues', 'apart', ',', 'Ile', 'come', 'to', 'you', 'anon', 'Murth', '.', 'We', 'are', 'resolu', \"'d\", ',', 'my', 'Lord', 'Macb', '.', 'Ile', 'call', 'vpon', 'you', 'straight', ':', 'abide', 'within', ',', 'It', 'is', 'concluded', ':', 'Banquo', ',', 'thy', 'Soules', 'flight', ',', 'If', 'it', 'finde', 'Heauen', ',', 'must', 'finde', 'it', 'out', 'to', 'Night', '.', 'Exeunt', '.', 'Scena', 'Secunda', '.', 'Enter', 'Macbeths', 'Lady', ',', 'and', 'a', 'Seruant', '.', 'Lady', '.', 'Is', 'Banquo', 'gone', 'from', 'Court', '?', 'Seruant', '.', 'I', ',', 'Madame', ',', 'but', 'returnes', 'againe', 'to', 'Night', 'Lady', '.', 'Say', 'to', 'the', 'King', ',', 'I', 'would', 'attend', 'his', 'leysure', ',', 'For', 'a', 'few', 'words', 'Seruant', '.', 'Madame', ',', 'I', 'will', '.', 'Enter', '.', 'Lady', '.', 'Nought', \"'s\", 'had', ',', 'all', \"'s\", 'spent', '.', 'Where', 'our', 'desire', 'is', 'got', 'without', 'content', ':', \"'Tis\", 'safer', ',', 'to', 'be', 'that', 'which', 'we', 'destroy', ',', 'Then', 'by', 'destruction', 'dwell', 'in', 'doubtfull', 'ioy', '.', 'Enter', 'Macbeth', '.', 'How', 'now', ',', 'my', 'Lord', ',', 'why', 'doe', 'you', 'keepe', 'alone', '?', 'Of', 'sorryest', 'Fancies', 'your', 'Companions', 'making', ',', 'Vsing', 'those', 'Thoughts', ',', 'which', 'should', 'indeed', 'haue', \"dy'd\", 'With', 'them', 'they', 'thinke', 'on', ':', 'things', 'without', 'all', 'remedie', 'Should', 'be', 'without', 'regard', ':', 'what', \"'s\", 'done', ',', 'is', 'done', 'Macb', '.', 'We', 'haue', 'scorch', \"'d\", 'the', 'Snake', ',', 'not', 'kill', \"'d\", 'it', ':', \"Shee'le\", 'close', ',', 'and', 'be', 'her', 'selfe', ',', 'whilest', 'our', 'poore', 'Mallice', 'Remaines', 'in', 'danger', 'of', 'her', 'former', 'Tooth', '.', 'But', 'let', 'the', 'frame', 'of', 'things', 'dis-ioynt', ',', 'Both', 'the', 'Worlds', 'suffer', ',', 'Ere', 'we', 'will', 'eate', 'our', 'Meale', 'in', 'feare', ',', 'and', 'sleepe', 'In', 'the', 'affliction', 'of', 'these', 'terrible', 'Dreames', ',', 'That', 'shake', 'vs', 'Nightly', ':', 'Better', 'be', 'with', 'the', 'dead', ',', 'Whom', 'we', ',', 'to', 'gayne', 'our', 'peace', ',', 'haue', 'sent', 'to', 'peace', ',', 'Then', 'on', 'the', 'torture', 'of', 'the', 'Minde', 'to', 'lye', 'In', 'restlesse', 'extasie', '.', 'Duncane', 'is', 'in', 'his', 'Graue', ':', 'After', 'Lifes', 'fitfull', 'Feuer', ',', 'he', 'sleepes', 'well', ',', 'Treason', 'ha', \"'s\", 'done', 'his', 'worst', ':', 'nor', 'Steele', ',', 'nor', 'Poyson', ',', 'Mallice', 'domestique', ',', 'forraine', 'Leuie', ',', 'nothing', ',', 'Can', 'touch', 'him', 'further', 'Lady', '.', 'Come', 'on', ':', 'Gentle', 'my', 'Lord', ',', 'sleeke', 'o', \"'re\", 'your', 'rugged', 'Lookes', ',', 'Be', 'bright', 'and', 'Iouiall', 'among', 'your', 'Guests', 'to', 'Night', 'Macb', '.', 'So', 'shall', 'I', 'Loue', ',', 'and', 'so', 'I', 'pray', 'be', 'you', ':', 'Let', 'your', 'remembrance', 'apply', 'to', 'Banquo', ',', 'Present', 'him', 'Eminence', ',', 'both', 'with', 'Eye', 'and', 'Tongue', ':', 'Vnsafe', 'the', 'while', ',', 'that', 'wee', 'must', 'laue', 'Our', 'Honors', 'in', 'these', 'flattering', 'streames', ',', 'And', 'make', 'our', 'Faces', 'Vizards', 'to', 'our', 'Hearts', ',', 'Disguising', 'what', 'they', 'are', 'Lady', '.', 'You', 'must', 'leaue', 'this', 'Macb', '.', 'O', ',', 'full', 'of', 'Scorpions', 'is', 'my', 'Minde', ',', 'deare', 'Wife', ':', 'Thou', \"know'st\", ',', 'that', 'Banquo', 'and', 'his', 'Fleans', 'liues', 'Lady', '.', 'But', 'in', 'them', ',', 'Natures', 'Coppie', \"'s\", 'not', 'eterne', 'Macb', '.', 'There', \"'s\", 'comfort', 'yet', ',', 'they', 'are', 'assaileable', ',', 'Then', 'be', 'thou', 'iocund', ':', 'ere', 'the', 'Bat', 'hath', 'flowne', 'His', 'Cloyster', \"'d\", 'flight', ',', 'ere', 'to', 'black', 'Heccats', 'summons', 'The', 'shard-borne', 'Beetle', ',', 'with', 'his', 'drowsie', 'hums', ',', 'Hath', 'rung', 'Nights', 'yawning', 'Peale', ',', 'There', 'shall', 'be', 'done', 'a', 'deed', 'of', 'dreadfull', 'note', 'Lady', '.', 'What', \"'s\", 'to', 'be', 'done', '?', 'Macb', '.', 'Be', 'innocent', 'of', 'the', 'knowledge', ',', 'dearest', 'Chuck', ',', 'Till', 'thou', 'applaud', 'the', 'deed', ':', 'Come', ',', 'seeling', 'Night', ',', 'Skarfe', 'vp', 'the', 'tender', 'Eye', 'of', 'pittifull', 'Day', ',', 'And', 'with', 'thy', 'bloodie', 'and', 'inuisible', 'Hand', 'Cancell', 'and', 'teare', 'to', 'pieces', 'that', 'great', 'Bond', ',', 'Which', 'keepes', 'me', 'pale', '.', 'Light', 'thickens', ',', 'And', 'the', 'Crow', 'makes', 'Wing', 'toth', \"'\", 'Rookie', 'Wood', ':', 'Good', 'things', 'of', 'Day', 'begin', 'to', 'droope', ',', 'and', 'drowse', ',', 'Whiles', 'Nights', 'black', 'Agents', 'to', 'their', 'Prey', \"'s\", 'doe', 'rowse', '.', 'Thou', \"maruell'st\", 'at', 'my', 'words', ':', 'but', 'hold', 'thee', 'still', ',', 'Things', 'bad', 'begun', ',', 'make', 'strong', 'themselues', 'by', 'ill', ':', 'So', 'prythee', 'goe', 'with', 'me', '.', 'Exeunt', '.', 'Scena', 'Tertia', '.', 'Enter', 'three', 'Murtherers', '.', '1', '.', 'But', 'who', 'did', 'bid', 'thee', 'ioyne', 'with', 'vs', '?', '3', '.', 'Macbeth', '2', '.', 'He', 'needes', 'not', 'our', 'mistrust', ',', 'since', 'he', 'deliuers', 'Our', 'Offices', ',', 'and', 'what', 'we', 'haue', 'to', 'doe', ',', 'To', 'the', 'direction', 'iust', '1', '.', 'Then', 'stand', 'with', 'vs', ':', 'The', 'West', 'yet', 'glimmers', 'with', 'some', 'streakes', 'of', 'Day', '.', 'Now', 'spurres', 'the', 'lated', 'Traueller', 'apace', ',', 'To', 'gayne', 'the', 'timely', 'Inne', ',', 'and', 'neere', 'approches', 'The', 'subiect', 'of', 'our', 'Watch', '3', '.', 'Hearke', ',', 'I', 'heare', 'Horses', 'Banquo', 'within', '.', 'Giue', 'vs', 'a', 'Light', 'there', ',', 'hoa', '2', '.', 'Then', \"'t\", 'is', 'hee', ':', 'The', 'rest', ',', 'that', 'are', 'within', 'the', 'note', 'of', 'expectation', ',', 'Alreadie', 'are', \"i'th\", \"'\", 'Court', '1', '.', 'His', 'Horses', 'goe', 'about', '3', '.', 'Almost', 'a', 'mile', ':', 'but', 'he', 'does', 'vsually', ',', 'So', 'all', 'men', 'doe', ',', 'from', 'hence', 'toth', \"'\", 'Pallace', 'Gate', 'Make', 'it', 'their', 'Walke', '.', 'Enter', 'Banquo', 'and', 'Fleans', ',', 'with', 'a', 'Torch', '.', '2', '.', 'A', 'Light', ',', 'a', 'Light', '3', '.', \"'T\", 'is', 'hee', '1', '.', 'Stand', \"too't\", 'Ban', '.', 'It', 'will', 'be', 'Rayne', 'to', 'Night', '1', '.', 'Let', 'it', 'come', 'downe', 'Ban', '.', 'O', ',', 'Trecherie', '!', 'Flye', 'good', 'Fleans', ',', 'flye', ',', 'flye', ',', 'flye', ',', 'Thou', \"may'st\", 'reuenge', '.', 'O', 'Slaue', '!', '3.', 'Who', 'did', 'strike', 'out', 'the', 'Light', '?', '1', '.', \"Was't\", 'not', 'the', 'way', '?', '3', '.', 'There', \"'s\", 'but', 'one', 'downe', ':', 'the', 'Sonne', 'is', 'fled', '2', '.', 'We', 'haue', 'lost', 'Best', 'halfe', 'of', 'our', 'Affaire', '1', '.', 'Well', ',', 'let', \"'s\", 'away', ',', 'and', 'say', 'how', 'much', 'is', 'done', '.', 'Exeunt', '.', 'Scaena', 'Quarta', '.', 'Banquet', 'prepar', \"'d\", '.', 'Enter', 'Macbeth', ',', 'Lady', ',', 'Rosse', ',', 'Lenox', ',', 'Lords', ',', 'and', 'Attendants', '.', 'Macb', '.', 'You', 'know', 'your', 'owne', 'degrees', ',', 'sit', 'downe', ':', 'At', 'first', 'and', 'last', ',', 'the', 'hearty', 'welcome', 'Lords', '.', 'Thankes', 'to', 'your', 'Maiesty', 'Macb', '.', 'Our', 'selfe', 'will', 'mingle', 'with', 'Society', ',', 'And', 'play', 'the', 'humble', 'Host', ':', 'Our', 'Hostesse', 'keepes', 'her', 'State', ',', 'but', 'in', 'best', 'time', 'We', 'will', 'require', 'her', 'welcome', 'La', '.', 'Pronounce', 'it', 'for', 'me', 'Sir', ',', 'to', 'all', 'our', 'Friends', ',', 'For', 'my', 'heart', 'speakes', ',', 'they', 'are', 'welcome', '.', 'Enter', 'first', 'Murtherer', '.', 'Macb', '.', 'See', 'they', 'encounter', 'thee', 'with', 'their', 'harts', 'thanks', 'Both', 'sides', 'are', 'euen', ':', 'heere', 'Ile', 'sit', \"i'th\", \"'\", \"mid'st\", ',', 'Be', 'large', 'in', 'mirth', ',', 'anon', 'wee', \"'\", 'l', 'drinke', 'a', 'Measure', 'The', 'Table', 'round', '.', 'There', \"'s\", 'blood', 'vpon', 'thy', 'face', 'Mur', '.', \"'T\", 'is', 'Banquo', \"'s\", 'then', 'Macb', '.', \"'T\", 'is', 'better', 'thee', 'without', ',', 'then', 'he', 'within', '.', 'Is', 'he', 'dispatch', \"'d\", '?', 'Mur', '.', 'My', 'Lord', 'his', 'throat', 'is', 'cut', ',', 'that', 'I', 'did', 'for', 'him', 'Mac', '.', 'Thou', 'art', 'the', 'best', \"o'th\", \"'\", 'Cut-throats', ',', 'Yet', 'hee', \"'s\", 'good', 'that', 'did', 'the', 'like', 'for', 'Fleans', ':', 'If', 'thou', \"did'st\", 'it', ',', 'thou', 'art', 'the', 'Non-pareill', 'Mur', '.', 'Most', 'Royall', 'Sir', 'Fleans', 'is', \"scap'd\", 'Macb', '.', 'Then', 'comes', 'my', 'Fit', 'againe', ':', 'I', 'had', 'else', 'beene', 'perfect', ';', 'Whole', 'as', 'the', 'Marble', ',', 'founded', 'as', 'the', 'Rocke', ',', 'As', 'broad', ',', 'and', 'generall', ',', 'as', 'the', 'casing', 'Ayre', ':', 'But', 'now', 'I', 'am', 'cabin', \"'d\", ',', 'crib', \"'d\", ',', 'confin', \"'d\", ',', 'bound', 'in', 'To', 'sawcy', 'doubts', ',', 'and', 'feares', '.', 'But', 'Banquo', \"'s\", 'safe', '?', 'Mur', '.', 'I', ',', 'my', 'good', 'Lord', ':', 'safe', 'in', 'a', 'ditch', 'he', 'bides', ',', 'With', 'twenty', 'trenched', 'gashes', 'on', 'his', 'head', ';', 'The', 'least', 'a', 'Death', 'to', 'Nature', 'Macb', '.', 'Thankes', 'for', 'that', ':', 'There', 'the', 'growne', 'Serpent', 'lyes', ',', 'the', 'worme', 'that', \"'s\", 'fled', 'Hath', 'Nature', 'that', 'in', 'time', 'will', 'Venom', 'breed', ',', 'No', 'teeth', 'for', 'th', \"'\", 'present', '.', 'Get', 'thee', 'gone', ',', 'to', 'morrow', 'Wee', \"'\", 'l', 'heare', 'our', 'selues', 'againe', '.', 'Exit', 'Murderer', '.', 'Lady', '.', 'My', 'Royall', 'Lord', ',', 'You', 'do', 'not', 'giue', 'the', 'Cheere', ',', 'the', 'Feast', 'is', 'sold', 'That', 'is', 'not', 'often', 'vouch', \"'d\", ',', 'while', \"'t\", 'is', 'a', 'making', ':', \"'Tis\", 'giuen', ',', 'with', 'welcome', ':', 'to', 'feede', 'were', 'best', 'at', 'home', ':', 'From', 'thence', ',', 'the', 'sawce', 'to', 'meate', 'is', 'Ceremony', ',', 'Meeting', 'were', 'bare', 'without', 'it', '.', 'Enter', 'the', 'Ghost', 'of', 'Banquo', ',', 'and', 'sits', 'in', 'Macbeths', 'place', '.', 'Macb', '.', 'Sweet', 'Remembrancer', ':', 'Now', 'good', 'digestion', 'waite', 'on', 'Appetite', ',', 'And', 'health', 'on', 'both', 'Lenox', '.', \"May't\", 'please', 'your', 'Highnesse', 'sit', 'Macb', '.', 'Here', 'had', 'we', 'now', 'our', 'Countries', 'Honor', ',', 'roof', \"'d\", ',', 'Were', 'the', 'grac', \"'d\", 'person', 'of', 'our', 'Banquo', 'present', ':', 'Who', ',', 'may', 'I', 'rather', 'challenge', 'for', 'vnkindnesse', ',', 'Then', 'pitty', 'for', 'Mischance', 'Rosse', '.', 'His', 'absence', '(', 'Sir', ')', 'Layes', 'blame', 'vpon', 'his', 'promise', '.', \"Pleas't\", 'your', 'Highnesse', 'To', 'grace', 'vs', 'with', 'your', 'Royall', 'Company', '?', 'Macb', '.', 'The', 'Table', \"'s\", 'full', 'Lenox', '.', 'Heere', 'is', 'a', 'place', 'reseru', \"'d\", 'Sir', 'Macb', '.', 'Where', '?', 'Lenox', '.', 'Heere', 'my', 'good', 'Lord', '.', 'What', \"is't\", 'that', 'moues', 'your', 'Highnesse', '?', 'Macb', '.', 'Which', 'of', 'you', 'haue', 'done', 'this', '?', 'Lords', '.', 'What', ',', 'my', 'good', 'Lord', '?', 'Macb', '.', 'Thou', 'canst', 'not', 'say', 'I', 'did', 'it', ':', 'neuer', 'shake', 'Thy', 'goary', 'lockes', 'at', 'me', 'Rosse', '.', 'Gentlemen', 'rise', ',', 'his', 'Highnesse', 'is', 'not', 'well', 'Lady', '.', 'Sit', 'worthy', 'Friends', ':', 'my', 'Lord', 'is', 'often', 'thus', ',', 'And', 'hath', 'beene', 'from', 'his', 'youth', '.', 'Pray', 'you', 'keepe', 'Seat', ',', 'The', 'fit', 'is', 'momentary', ',', 'vpon', 'a', 'thought', 'He', 'will', 'againe', 'be', 'well', '.', 'If', 'much', 'you', 'note', 'him', 'You', 'shall', 'offend', 'him', ',', 'and', 'extend', 'his', 'Passion', ',', 'Feed', ',', 'and', 'regard', 'him', 'not', '.', 'Are', 'you', 'a', 'man', '?', 'Macb', '.', 'I', ',', 'and', 'a', 'bold', 'one', ',', 'that', 'dare', 'looke', 'on', 'that', 'Which', 'might', 'appall', 'the', 'Diuell', 'La', '.', 'O', 'proper', 'stuffe', ':', 'This', 'is', 'the', 'very', 'painting', 'of', 'your', 'feare', ':', 'This', 'is', 'the', 'Ayre-drawne-Dagger', 'which', 'you', 'said', 'Led', 'you', 'to', 'Duncan', '.', 'O', ',', 'these', 'flawes', 'and', 'starts', '(', 'Impostors', 'to', 'true', 'feare', ')', 'would', 'well', 'become', 'A', 'womans', 'story', ',', 'at', 'a', 'Winters', 'fire', 'Authoriz', \"'d\", 'by', 'her', 'Grandam', ':', 'shame', 'it', 'selfe', ',', 'Why', 'do', 'you', 'make', 'such', 'faces', '?', 'When', 'all', \"'s\", 'done', 'You', 'looke', 'but', 'on', 'a', 'stoole', 'Macb', '.', 'Prythee', 'see', 'there', ':', 'Behold', ',', 'looke', ',', 'loe', ',', 'how', 'say', 'you', ':', 'Why', 'what', 'care', 'I', ',', 'if', 'thou', 'canst', 'nod', ',', 'speake', 'too', '.', 'If', 'Charnell', 'houses', ',', 'and', 'our', 'Graues', 'must', 'send', 'Those', 'that', 'we', 'bury', ',', 'backe', ';', 'our', 'Monuments', 'Shall', 'be', 'the', 'Mawes', 'of', 'Kytes', 'La', '.', 'What', '?', 'quite', 'vnmann', \"'d\", 'in', 'folly', 'Macb', '.', 'If', 'I', 'stand', 'heere', ',', 'I', 'saw', 'him', 'La', '.', 'Fie', 'for', 'shame', 'Macb', '.', 'Blood', 'hath', 'bene', 'shed', 'ere', 'now', ',', \"i'th\", \"'\", 'olden', 'time', 'Ere', 'humane', 'Statute', 'purg', \"'d\", 'the', 'gentle', 'Weale', ':', 'I', ',', 'and', 'since', 'too', ',', 'Murthers', 'haue', 'bene', \"perform'd\", 'Too', 'terrible', 'for', 'the', 'eare', '.', 'The', 'times', 'has', 'bene', ',', 'That', 'when', 'the', 'Braines', 'were', 'out', ',', 'the', 'man', 'would', 'dye', ',', 'And', 'there', 'an', 'end', ':', 'But', 'now', 'they', 'rise', 'againe', 'With', 'twenty', 'mortall', 'murthers', 'on', 'their', 'crownes', ',', 'And', 'push', 'vs', 'from', 'our', 'stooles', '.', 'This', 'is', 'more', 'strange', 'Then', 'such', 'a', 'murther', 'is', 'La', '.', 'My', 'worthy', 'Lord', 'Your', 'Noble', 'Friends', 'do', 'lacke', 'you', 'Macb', '.', 'I', 'do', 'forget', ':', 'Do', 'not', 'muse', 'at', 'me', 'my', 'most', 'worthy', 'Friends', ',', 'I', 'haue', 'a', 'strange', 'infirmity', ',', 'which', 'is', 'nothing', 'To', 'those', 'that', 'know', 'me', '.', 'Come', ',', 'loue', 'and', 'health', 'to', 'all', ',', 'Then', 'Ile', 'sit', 'downe', ':', 'Giue', 'me', 'some', 'Wine', ',', 'fill', 'full', ':', 'Enter', 'Ghost', '.', 'I', 'drinke', 'to', 'th', \"'\", 'generall', 'ioy', \"o'th\", \"'\", 'whole', 'Table', ',', 'And', 'to', 'our', 'deere', 'Friend', 'Banquo', ',', 'whom', 'we', 'misse', ':', 'Would', 'he', 'were', 'heere', ':', 'to', 'all', ',', 'and', 'him', 'we', 'thirst', ',', 'And', 'all', 'to', 'all', 'Lords', '.', 'Our', 'duties', ',', 'and', 'the', 'pledge', 'Mac', '.', 'Auant', ',', '&', 'quit', 'my', 'sight', ',', 'let', 'the', 'earth', 'hide', 'thee', ':', 'Thy', 'bones', 'are', 'marrowlesse', ',', 'thy', 'blood', 'is', 'cold', ':', 'Thou', 'hast', 'no', 'speculation', 'in', 'those', 'eyes', 'Which', 'thou', 'dost', 'glare', 'with', 'La', '.', 'Thinke', 'of', 'this', 'good', 'Peeres', 'But', 'as', 'a', 'thing', 'of', 'Custome', ':', \"'T\", 'is', 'no', 'other', ',', 'Onely', 'it', 'spoyles', 'the', 'pleasure', 'of', 'the', 'time', 'Macb', '.', 'What', 'man', 'dare', ',', 'I', 'dare', ':', 'Approach', 'thou', 'like', 'the', 'rugged', 'Russian', 'Beare', ',', 'The', 'arm', \"'d\", 'Rhinoceros', ',', 'or', 'th', \"'\", 'Hircan', 'Tiger', ',', 'Take', 'any', 'shape', 'but', 'that', ',', 'and', 'my', 'firme', 'Nerues', 'Shall', 'neuer', 'tremble', '.', 'Or', 'be', 'aliue', 'againe', ',', 'And', 'dare', 'me', 'to', 'the', 'Desart', 'with', 'thy', 'Sword', ':', 'If', 'trembling', 'I', 'inhabit', 'then', ',', 'protest', 'mee', 'The', 'Baby', 'of', 'a', 'Girle', '.', 'Hence', 'horrible', 'shadow', ',', 'Vnreall', \"mock'ry\", 'hence', '.', 'Why', 'so', ',', 'being', 'gone', 'I', 'am', 'a', 'man', 'againe', ':', 'pray', 'you', 'sit', 'still', 'La', '.', 'You', 'haue', 'displac', \"'d\", 'the', 'mirth', ',', 'Broke', 'the', 'good', 'meeting', ',', 'with', 'most', 'admir', \"'d\", 'disorder', 'Macb', '.', 'Can', 'such', 'things', 'be', ',', 'And', 'ouercome', 'vs', 'like', 'a', 'Summers', 'Clowd', ',', 'Without', 'our', 'speciall', 'wonder', '?', 'You', 'make', 'me', 'strange', 'Euen', 'to', 'the', 'disposition', 'that', 'I', 'owe', ',', 'When', 'now', 'I', 'thinke', 'you', 'can', 'behold', 'such', 'sights', ',', 'And', 'keepe', 'the', 'naturall', 'Rubie', 'of', 'your', 'Cheekes', ',', 'When', 'mine', 'is', 'blanch', \"'d\", 'with', 'feare', 'Rosse', '.', 'What', 'sights', ',', 'my', 'Lord', '?', 'La', '.', 'I', 'pray', 'you', 'speake', 'not', ':', 'he', 'growes', 'worse', '&', 'worse', 'Question', 'enrages', 'him', ':', 'at', 'once', ',', 'goodnight', '.', 'Stand', 'not', 'vpon', 'the', 'order', 'of', 'your', 'going', ',', 'But', 'go', 'at', 'once', 'Len', '.', 'Good', 'night', ',', 'and', 'better', 'health', 'Attend', 'his', 'Maiesty', 'La', '.', 'A', 'kinde', 'goodnight', 'to', 'all', '.', 'Exit', 'Lords', '.', 'Macb', '.', 'It', 'will', 'haue', 'blood', 'they', 'say', ':', 'Blood', 'will', 'haue', 'Blood', ':', 'Stones', 'haue', 'beene', 'knowne', 'to', 'moue', ',', '&', 'Trees', 'to', 'speake', ':', 'Augures', ',', 'and', 'vnderstood', 'Relations', ',', 'haue', 'By', 'Maggot', 'Pyes', ',', '&', 'Choughes', ',', '&', 'Rookes', 'brought', 'forth', 'The', \"secret'st\", 'man', 'of', 'Blood', '.', 'What', 'is', 'the', 'night', '?', 'La', '.', 'Almost', 'at', 'oddes', 'with', 'morning', ',', 'which', 'is', 'which', 'Macb', '.', 'How', \"say'st\", 'thou', 'that', 'Macduff', 'denies', 'his', 'person', 'At', 'our', 'great', 'bidding', 'La', '.', 'Did', 'you', 'send', 'to', 'him', 'Sir', '?', 'Macb', '.', 'I', 'heare', 'it', 'by', 'the', 'way', ':', 'But', 'I', 'will', 'send', ':', 'There', \"'s\", 'not', 'a', 'one', 'of', 'them', 'but', 'in', 'his', 'house', 'I', 'keepe', 'a', 'Seruant', 'Feed', '.', 'I', 'will', 'to', 'morrow', '(', 'And', 'betimes', 'I', 'will', ')', 'to', 'the', 'weyard', 'Sisters', '.', 'More', 'shall', 'they', 'speake', ':', 'for', 'now', 'I', 'am', 'bent', 'to', 'know', 'By', 'the', 'worst', 'meanes', ',', 'the', 'worst', ',', 'for', 'mine', 'owne', 'good', ',', 'All', 'causes', 'shall', 'giue', 'way', '.', 'I', 'am', 'in', 'blood', 'Stept', 'in', 'so', 'farre', ',', 'that', 'should', 'I', 'wade', 'no', 'more', ',', 'Returning', 'were', 'as', 'tedious', 'as', 'go', 'ore', ':', 'Strange', 'things', 'I', 'haue', 'in', 'head', ',', 'that', 'will', 'to', 'hand', ',', 'Which', 'must', 'be', 'acted', ',', 'ere', 'they', 'may', 'be', 'scand', 'La', '.', 'You', 'lacke', 'the', 'season', 'of', 'all', 'Natures', ',', 'sleepe', 'Macb', '.', 'Come', ',', 'wee', \"'\", 'l', 'to', 'sleepe', ':', 'My', 'strange', '&', 'self-abuse', 'Is', 'the', 'initiate', 'feare', ',', 'that', 'wants', 'hard', 'vse', ':', 'We', 'are', 'yet', 'but', 'yong', 'indeed', '.', 'Exeunt', '.', 'Scena', 'Quinta', '.', 'Thunder', '.', 'Enter', 'the', 'three', 'Witches', ',', 'meeting', 'Hecat', '.', '1', '.', 'Why', 'how', 'now', 'Hecat', ',', 'you', 'looke', 'angerly', '?', 'Hec', '.', 'Haue', 'I', 'not', 'reason', '(', 'Beldams', ')', 'as', 'you', 'are', '?', 'Sawcy', ',', 'and', 'ouer-bold', ',', 'how', 'did', 'you', 'dare', 'To', 'Trade', ',', 'and', 'Trafficke', 'with', 'Macbeth', ',', 'In', 'Riddles', ',', 'and', 'Affaires', 'of', 'death', ';', 'And', 'I', 'the', 'Mistris', 'of', 'your', 'Charmes', ',', 'The', 'close', 'contriuer', 'of', 'all', 'harmes', ',', 'Was', 'neuer', 'call', \"'d\", 'to', 'beare', 'my', 'part', ',', 'Or', 'shew', 'the', 'glory', 'of', 'our', 'Art', '?', 'And', 'which', 'is', 'worse', ',', 'all', 'you', 'haue', 'done', 'Hath', 'bene', 'but', 'for', 'a', 'wayward', 'Sonne', ',', 'Spightfull', ',', 'and', 'wrathfull', ',', 'who', '(', 'as', 'others', 'do', ')', 'Loues', 'for', 'his', 'owne', 'ends', ',', 'not', 'for', 'you', '.', 'But', 'make', 'amends', 'now', ':', 'Get', 'you', 'gon', ',', 'And', 'at', 'the', 'pit', 'of', 'Acheron', 'Meete', 'me', \"i'th\", \"'\", 'Morning', ':', 'thither', 'he', 'Will', 'come', ',', 'to', 'know', 'his', 'Destinie', '.', 'Your', 'Vessels', ',', 'and', 'your', 'Spels', 'prouide', ',', 'Your', 'Charmes', ',', 'and', 'euery', 'thing', 'beside', ';', 'I', 'am', 'for', 'th', \"'\", 'Ayre', ':', 'This', 'night', 'Ile', 'spend', 'Vnto', 'a', 'dismall', ',', 'and', 'a', 'Fatall', 'end', '.', 'Great', 'businesse', 'must', 'be', 'wrought', 'ere', 'Noone', '.', 'Vpon', 'the', 'Corner', 'of', 'the', 'Moone', 'There', 'hangs', 'a', \"vap'rous\", 'drop', ',', 'profound', ',', 'Ile', 'catch', 'it', 'ere', 'it', 'come', 'to', 'ground', ';', 'And', 'that', 'distill', \"'d\", 'by', 'Magicke', 'slights', ',', 'Shall', 'raise', 'such', 'Artificiall', 'Sprights', ',', 'As', 'by', 'the', 'strength', 'of', 'their', 'illusion', ',', 'Shall', 'draw', 'him', 'on', 'to', 'his', 'Confusion', '.', 'He', 'shall', 'spurne', 'Fate', ',', 'scorne', 'Death', ',', 'and', 'beare', 'His', 'hopes', \"'boue\", 'Wisedome', ',', 'Grace', ',', 'and', 'Feare', ':', 'And', 'you', 'all', 'know', ',', 'Security', 'Is', 'Mortals', 'cheefest', 'Enemie', '.', 'Musicke', ',', 'and', 'a', 'Song', '.', 'Hearke', ',', 'I', 'am', 'call', \"'d\", ':', 'my', 'little', 'Spirit', 'see', 'Sits', 'in', 'Foggy', 'cloud', ',', 'and', 'stayes', 'for', 'me', '.', 'Sing', 'within', '.', 'Come', 'away', ',', 'come', 'away', ',', '&', 'c.', '1', 'Come', ',', 'let', \"'s\", 'make', 'hast', ',', 'shee', \"'\", 'l', 'soone', 'be', 'Backe', 'againe', '.', 'Exeunt', '.', 'Scaena', 'Sexta', '.', 'Enter', 'Lenox', ',', 'and', 'another', 'Lord', '.', 'Lenox', '.', 'My', 'former', 'Speeches', ',', 'Haue', 'but', 'hit', 'your', 'Thoughts', 'Which', 'can', 'interpret', 'farther', ':', 'Onely', 'I', 'say', 'Things', 'haue', 'bin', 'strangely', 'borne', '.', 'The', 'gracious', 'Duncan', 'Was', 'pittied', 'of', 'Macbeth', ':', 'marry', 'he', 'was', 'dead', ':', 'And', 'the', 'right', 'valiant', 'Banquo', 'walk', \"'d\", 'too', 'late', ',', 'Whom', 'you', 'may', 'say', '(', \"if't\", 'please', 'you', ')', 'Fleans', 'kill', \"'d\", ',', 'For', 'Fleans', 'fled', ':', 'Men', 'must', 'not', 'walke', 'too', 'late', '.', 'Who', 'can', 'not', 'want', 'the', 'thought', ',', 'how', 'monstrous', 'It', 'was', 'for', 'Malcolme', ',', 'and', 'for', 'Donalbane', 'To', 'kill', 'their', 'gracious', 'Father', '?', 'Damned', 'Fact', ',', 'How', 'it', 'did', 'greeue', 'Macbeth', '?', 'Did', 'he', 'not', 'straight', 'In', 'pious', 'rage', ',', 'the', 'two', 'delinquents', 'teare', ',', 'That', 'were', 'the', 'Slaues', 'of', 'drinke', ',', 'and', 'thralles', 'of', 'sleepe', '?', 'Was', 'not', 'that', 'Nobly', 'done', '?', 'I', ',', 'and', 'wisely', 'too', ':', 'For', \"'twould\", 'haue', 'anger', \"'d\", 'any', 'heart', 'aliue', 'To', 'heare', 'the', 'men', \"deny't\", '.', 'So', 'that', 'I', 'say', ',', 'He', 'ha', \"'s\", 'borne', 'all', 'things', 'well', ',', 'and', 'I', 'do', 'thinke', ',', 'That', 'had', 'he', 'Duncans', 'Sonnes', 'vnder', 'his', 'Key', ',', '(', 'As', ',', \"and't\", 'please', 'Heauen', 'he', 'shall', 'not', ')', 'they', 'should', 'finde', 'What', \"'twere\", 'to', 'kill', 'a', 'Father', ':', 'So', 'should', 'Fleans', '.', 'But', 'peace', ';', 'for', 'from', 'broad', 'words', ',', 'and', 'cause', 'he', \"fayl'd\", 'His', 'presence', 'at', 'the', 'Tyrants', 'Feast', ',', 'I', 'heare', 'Macduffe', 'liues', 'in', 'disgrace', '.', 'Sir', ',', 'can', 'you', 'tell', 'Where', 'he', 'bestowes', 'himselfe', '?', 'Lord', '.', 'The', 'Sonnes', 'of', 'Duncane', '(', 'From', 'whom', 'this', 'Tyrant', 'holds', 'the', 'due', 'of', 'Birth', ')', 'Liues', 'in', 'the', 'English', 'Court', ',', 'and', 'is', \"receyu'd\", 'Of', 'the', 'most', 'Pious', 'Edward', ',', 'with', 'such', 'grace', ',', 'That', 'the', 'maleuolence', 'of', 'Fortune', ',', 'nothing', 'Takes', 'from', 'his', 'high', 'respect', '.', 'Thither', 'Macduffe', 'Is', 'gone', ',', 'to', 'pray', 'the', 'Holy', 'King', ',', 'vpon', 'his', 'ayd', 'To', 'wake', 'Northumberland', ',', 'and', 'warlike', 'Seyward', ',', 'That', 'by', 'the', 'helpe', 'of', 'these', '(', 'with', 'him', 'aboue', ')', 'To', 'ratifie', 'the', 'Worke', ')', 'we', 'may', 'againe', 'Giue', 'to', 'our', 'Tables', 'meate', ',', 'sleepe', 'to', 'our', 'Nights', ':', 'Free', 'from', 'our', 'Feasts', ',', 'and', 'Banquets', 'bloody', 'kniues', ';', 'Do', 'faithfull', 'Homage', ',', 'and', 'receiue', 'free', 'Honors', ',', 'All', 'which', 'we', 'pine', 'for', 'now', '.', 'And', 'this', 'report', 'Hath', 'so', 'exasperate', 'their', 'King', ',', 'that', 'hee', 'Prepares', 'for', 'some', 'attempt', 'of', 'Warre', 'Len', '.', 'Sent', 'he', 'to', 'Macduffe', '?', 'Lord', '.', 'He', 'did', ':', 'and', 'with', 'an', 'absolute', 'Sir', ',', 'not', 'I', 'The', 'clowdy', 'Messenger', 'turnes', 'me', 'his', 'backe', ',', 'And', 'hums', ';', 'as', 'who', 'should', 'say', ',', 'you', \"'\", 'l', 'rue', 'the', 'time', 'That', 'clogges', 'me', 'with', 'this', 'Answer', 'Lenox', '.', 'And', 'that', 'well', 'might', 'Aduise', 'him', 'to', 'a', 'Caution', ',', 't', \"'\", 'hold', 'what', 'distance', 'His', 'wisedome', 'can', 'prouide', '.', 'Some', 'holy', 'Angell', 'Flye', 'to', 'the', 'Court', 'of', 'England', ',', 'and', 'vnfold', 'His', 'Message', 'ere', 'he', 'come', ',', 'that', 'a', 'swift', 'blessing', 'May', 'soone', 'returne', 'to', 'this', 'our', 'suffering', 'Country', ',', 'Vnder', 'a', 'hand', \"accurs'd\", 'Lord', '.', 'Ile', 'send', 'my', 'Prayers', 'with', 'him', '.', 'Exeunt', '.', 'Actus', 'Quartus', '.', 'Scena', 'Prima', '.', 'Thunder', '.', 'Enter', 'the', 'three', 'Witches', '.', '1', 'Thrice', 'the', 'brinded', 'Cat', 'hath', \"mew'd\", '2', 'Thrice', ',', 'and', 'once', 'the', 'Hedge-Pigge', \"whin'd\", '3', 'Harpier', 'cries', ',', \"'t\", 'is', 'time', ',', \"'t\", 'is', 'time', '1', 'Round', 'about', 'the', 'Caldron', 'go', ':', 'In', 'the', 'poysond', 'Entrailes', 'throw', 'Toad', ',', 'that', 'vnder', 'cold', 'stone', ',', 'Dayes', 'and', 'Nights', ',', 'ha', \"'s\", 'thirty', 'one', ':', 'Sweltred', 'Venom', 'sleeping', 'got', ',', 'Boyle', 'thou', 'first', \"i'th\", \"'\", 'charmed', 'pot', 'All', '.', 'Double', ',', 'double', ',', 'toile', 'and', 'trouble', ';', 'Fire', 'burne', ',', 'and', 'Cauldron', 'bubble', '2', 'Fillet', 'of', 'a', 'Fenny', 'Snake', ',', 'In', 'the', 'Cauldron', 'boyle', 'and', 'bake', ':', 'Eye', 'of', 'Newt', ',', 'and', 'Toe', 'of', 'Frogge', ',', 'Wooll', 'of', 'Bat', ',', 'and', 'Tongue', 'of', 'Dogge', ':', 'Adders', 'Forke', ',', 'and', 'Blinde-wormes', 'Sting', ',', 'Lizards', 'legge', ',', 'and', 'Howlets', 'wing', ':', 'For', 'a', 'Charme', 'of', 'powrefull', 'trouble', ',', 'Like', 'a', 'Hell-broth', ',', 'boyle', 'and', 'bubble', 'All', '.', 'Double', ',', 'double', ',', 'toyle', 'and', 'trouble', ',', 'Fire', 'burne', ',', 'and', 'Cauldron', 'bubble', '3', 'Scale', 'of', 'Dragon', ',', 'Tooth', 'of', 'Wolfe', ',', 'Witches', 'Mummey', ',', 'Maw', ',', 'and', 'Gulfe', 'Of', 'the', 'rauin', \"'d\", 'salt', 'Sea', 'sharke', ':', 'Roote', 'of', 'Hemlocke', ',', 'digg', \"'d\", \"i'th\", \"'\", 'darke', ':', 'Liuer', 'of', 'Blaspheming', 'Iew', ',', 'Gall', 'of', 'Goate', ',', 'and', 'Slippes', 'of', 'Yew', ',', 'Sliuer', \"'d\", 'in', 'the', 'Moones', 'Ecclipse', ':', 'Nose', 'of', 'Turke', ',', 'and', 'Tartars', 'lips', ':', 'Finger', 'of', 'Birth-strangled', 'Babe', ',', 'Ditch-deliuer', \"'d\", 'by', 'a', 'Drab', ',', 'Make', 'the', 'Grewell', 'thicke', ',', 'and', 'slab', '.', 'Adde', 'thereto', 'a', 'Tigers', 'Chawdron', ',', 'For', 'th', \"'\", 'Ingredience', 'of', 'our', 'Cawdron', 'All', '.', 'Double', ',', 'double', ',', 'toyle', 'and', 'trouble', ',', 'Fire', 'burne', ',', 'and', 'Cauldron', 'bubble', '2', 'Coole', 'it', 'with', 'a', 'Baboones', 'blood', ',', 'Then', 'the', 'Charme', 'is', 'firme', 'and', 'good', '.', 'Enter', 'Hecat', ',', 'and', 'the', 'other', 'three', 'Witches', '.', 'Hec', '.', 'O', 'well', 'done', ':', 'I', 'commend', 'your', 'paines', ',', 'And', 'euery', 'one', 'shall', 'share', \"i'th\", \"'\", 'gaines', ':', 'And', 'now', 'about', 'the', 'Cauldron', 'sing', 'Like', 'Elues', 'and', 'Fairies', 'in', 'a', 'Ring', ',', 'Inchanting', 'all', 'that', 'you', 'put', 'in', '.', 'Musicke', 'and', 'a', 'Song', '.', 'Blacke', 'Spirits', ',', '&', 'c.', '2', 'By', 'the', 'pricking', 'of', 'my', 'Thumbes', ',', 'Something', 'wicked', 'this', 'way', 'comes', ':', 'Open', 'Lockes', ',', 'who', 'euer', 'knockes', '.', 'Enter', 'Macbeth', '.', 'Macb', '.', 'How', 'now', 'you', 'secret', ',', 'black', ',', '&', 'midnight', 'Hags', '?', 'What', \"is't\", 'you', 'do', '?', 'All', '.', 'A', 'deed', 'without', 'a', 'name', 'Macb', '.', 'I', 'coniure', 'you', ',', 'by', 'that', 'which', 'you', 'Professe', ',', '(', 'How', 'ere', 'you', 'come', 'to', 'know', 'it', ')', 'answer', 'me', ':', 'Though', 'you', 'vntye', 'the', 'Windes', ',', 'and', 'let', 'them', 'fight', 'Against', 'the', 'Churches', ':', 'Though', 'the', 'yesty', 'Waues', 'Confound', 'and', 'swallow', 'Nauigation', 'vp', ':', 'Though', 'bladed', 'Corne', 'be', 'lodg', \"'d\", ',', '&', 'Trees', 'blown', 'downe', ',', 'Though', 'Castles', 'topple', 'on', 'their', 'Warders', 'heads', ':', 'Though', 'Pallaces', ',', 'and', 'Pyramids', 'do', 'slope', 'Their', 'heads', 'to', 'their', 'Foundations', ':', 'Though', 'the', 'treasure', 'Of', 'Natures', 'Germaine', ',', 'tumble', 'altogether', ',', 'Euen', 'till', 'destruction', 'sicken', ':', 'Answer', 'me', 'To', 'what', 'I', 'aske', 'you', '1', 'Speake', '2', 'Demand', '3', 'Wee', \"'\", 'l', 'answer', '1', 'Say', ',', 'if', \"th'hadst\", 'rather', 'heare', 'it', 'from', 'our', 'mouthes', ',', 'Or', 'from', 'our', 'Masters', 'Macb', '.', 'Call', \"'em\", ':', 'let', 'me', 'see', \"'em\", '1', 'Powre', 'in', 'Sowes', 'blood', ',', 'that', 'hath', 'eaten', 'Her', 'nine', 'Farrow', ':', 'Greaze', 'that', \"'s\", 'sweaten', 'From', 'the', 'Murderers', 'Gibbet', ',', 'throw', 'Into', 'the', 'Flame', 'All', '.', 'Come', 'high', 'or', 'low', ':', 'Thy', 'Selfe', 'and', 'Office', 'deaftly', 'show', '.', 'Thunder', '.', '1', '.', 'Apparation', ',', 'an', 'Armed', 'Head', '.', 'Macb', '.', 'Tell', 'me', ',', 'thou', 'vnknowne', 'power', '1', 'He', 'knowes', 'thy', 'thought', ':', 'Heare', 'his', 'speech', ',', 'but', 'say', 'thou', 'nought', '1', 'Appar', '.', 'Macbeth', ',', 'Macbeth', ',', 'Macbeth', ':', 'Beware', 'Macduffe', ',', 'Beware', 'the', 'Thane', 'of', 'Fife', ':', 'dismisse', 'me', '.', 'Enough', '.', 'He', 'Descends', '.', 'Macb', '.', 'What', 'ere', 'thou', 'art', ',', 'for', 'thy', 'good', 'caution', ',', 'thanks', 'Thou', 'hast', 'harp', \"'d\", 'my', 'feare', 'aright', '.', 'But', 'one', 'word', 'more', '1', 'He', 'will', 'not', 'be', 'commanded', ':', 'heere', \"'s\", 'another', 'More', 'potent', 'then', 'the', 'first', '.', 'Thunder', '.', '2', 'Apparition', ',', 'a', 'Bloody', 'Childe', '.', '2', 'Appar', '.', 'Macbeth', ',', 'Macbeth', ',', 'Macbeth', 'Macb', '.', 'Had', 'I', 'three', 'eares', ',', 'Il', \"'d\", 'heare', 'thee', 'Appar', '.', 'Be', 'bloody', ',', 'bold', ',', '&', 'resolute', ':', 'Laugh', 'to', 'scorne', 'The', 'powre', 'of', 'man', ':', 'For', 'none', 'of', 'woman', 'borne', 'Shall', 'harme', 'Macbeth', '.', 'Descends', '.', 'Mac', '.', 'Then', 'liue', 'Macduffe', ':', 'what', 'need', 'I', 'feare', 'of', 'thee', '?', 'But', 'yet', 'Ile', 'make', 'assurance', ':', 'double', 'sure', ',', 'And', 'take', 'a', 'Bond', 'of', 'Fate', ':', 'thou', 'shalt', 'not', 'liue', ',', 'That', 'I', 'may', 'tell', 'pale-hearted', 'Feare', ',', 'it', 'lies', ';', 'And', 'sleepe', 'in', 'spight', 'of', 'Thunder', '.', 'Thunder', '3', 'Apparation', ',', 'a', 'Childe', 'Crowned', ',', 'with', 'a', 'Tree', 'in', 'his', 'hand', '.', 'What', 'is', 'this', ',', 'that', 'rises', 'like', 'the', 'issue', 'of', 'a', 'King', ',', 'And', 'weares', 'vpon', 'his', 'Baby-brow', ',', 'the', 'round', 'And', 'top', 'of', 'Soueraignty', '?', 'All', '.', 'Listen', ',', 'but', 'speake', 'not', \"too't\", '3', 'Appar', '.', 'Be', 'Lyon', 'metled', ',', 'proud', ',', 'and', 'take', 'no', 'care', ':', 'Who', 'chafes', ',', 'who', 'frets', ',', 'or', 'where', 'Conspirers', 'are', ':', 'Macbeth', 'shall', 'neuer', 'vanquish', \"'d\", 'be', ',', 'vntill', 'Great', 'Byrnam', 'Wood', ',', 'to', 'high', 'Dunsmane', 'Hill', 'Shall', 'come', 'against', 'him', '.', 'Descend', '.', 'Macb', '.', 'That', 'will', 'neuer', 'bee', ':', 'Who', 'can', 'impresse', 'the', 'Forrest', ',', 'bid', 'the', 'Tree', 'Vnfixe', 'his', 'earth-bound', 'Root', '?', 'Sweet', 'boadments', ',', 'good', ':', 'Rebellious', 'dead', ',', 'rise', 'neuer', 'till', 'the', 'Wood', 'Of', 'Byrnan', 'rise', ',', 'and', 'our', 'high', 'plac', \"'d\", 'Macbeth', 'Shall', 'liue', 'the', 'Lease', 'of', 'Nature', ',', 'pay', 'his', 'breath', 'To', 'time', ',', 'and', 'mortall', 'Custome', '.', 'Yet', 'my', 'Hart', 'Throbs', 'to', 'know', 'one', 'thing', ':', 'Tell', 'me', ',', 'if', 'your', 'Art', 'Can', 'tell', 'so', 'much', ':', 'Shall', 'Banquo', \"'s\", 'issue', 'euer', 'Reigne', 'in', 'this', 'Kingdome', '?', 'All', '.', 'Seeke', 'to', 'know', 'no', 'more', 'Macb', '.', 'I', 'will', 'be', 'satisfied', '.', 'Deny', 'me', 'this', ',', 'And', 'an', 'eternall', 'Curse', 'fall', 'on', 'you', ':', 'Let', 'me', 'know', '.', 'Why', 'sinkes', 'that', 'Caldron', '?', '&', 'what', 'noise', 'is', 'this', '?', 'Hoboyes', '1', 'Shew', '2', 'Shew', '3', 'Shew', 'All', '.', 'Shew', 'his', 'Eyes', ',', 'and', 'greeue', 'his', 'Hart', ',', 'Come', 'like', 'shadowes', ',', 'so', 'depart', '.', 'A', 'shew', 'of', 'eight', 'Kings', ',', 'and', 'Banquo', 'last', ',', 'with', 'a', 'glasse', 'in', 'his', 'hand', '.', 'Macb', '.', 'Thou', 'art', 'too', 'like', 'the', 'Spirit', 'of', 'Banquo', ':', 'Down', ':', 'Thy', 'Crowne', 'do', \"'s\", 'seare', 'mine', 'Eye-bals', '.', 'And', 'thy', 'haire', 'Thou', 'other', 'Gold-bound-brow', ',', 'is', 'like', 'the', 'first', ':', 'A', 'third', ',', 'is', 'like', 'the', 'former', '.', 'Filthy', 'Hagges', ',', 'Why', 'do', 'you', 'shew', 'me', 'this', '?', '-', 'A', 'fourth', '?', 'Start', 'eyes', '!', 'What', 'will', 'the', 'Line', 'stretch', 'out', \"to'th\", \"'\", 'cracke', 'of', 'Doome', '?', 'Another', 'yet', '?', 'A', 'seauenth', '?', 'Ile', 'see', 'no', 'more', ':', 'And', 'yet', 'the', 'eighth', 'appeares', ',', 'who', 'beares', 'a', 'glasse', ',', 'Which', 'shewes', 'me', 'many', 'more', ':', 'and', 'some', 'I', 'see', ',', 'That', 'two-fold', 'Balles', ',', 'and', 'trebble', 'Scepters', 'carry', '.', 'Horrible', 'sight', ':', 'Now', 'I', 'see', \"'t\", 'is', 'true', ',', 'For', 'the', 'Blood-bolter', \"'d\", 'Banquo', 'smiles', 'vpon', 'me', ',', 'And', 'points', 'at', 'them', 'for', 'his', '.', 'What', '?', 'is', 'this', 'so', '?', '1', 'I', 'Sir', ',', 'all', 'this', 'is', 'so', '.', 'But', 'why', 'Stands', 'Macbeth', 'thus', 'amazedly', '?', 'Come', 'Sisters', ',', 'cheere', 'we', 'vp', 'his', 'sprights', ',', 'And', 'shew', 'the', 'best', 'of', 'our', 'delights', '.', 'Ile', 'Charme', 'the', 'Ayre', 'to', 'giue', 'a', 'sound', ',', 'While', 'you', 'performe', 'your', 'Antique', 'round', ':', 'That', 'this', 'great', 'King', 'may', 'kindly', 'say', ',', 'Our', 'duties', ',', 'did', 'his', 'welcome', 'pay', '.', 'Musicke', '.', 'The', 'Witches', 'Dance', ',', 'and', 'vanish', '.', 'Macb', '.', 'Where', 'are', 'they', '?', 'Gone', '?', 'Let', 'this', 'pernitious', 'houre', ',', 'Stand', 'aye', 'accursed', 'in', 'the', 'Kalender', '.', 'Come', 'in', ',', 'without', 'there', '.', 'Enter', 'Lenox', '.', 'Lenox', '.', 'What', \"'s\", 'your', 'Graces', 'will', 'Macb', '.', 'Saw', 'you', 'the', 'Weyard', 'Sisters', '?', 'Lenox', '.', 'No', 'my', 'Lord', 'Macb', '.', 'Came', 'they', 'not', 'by', 'you', '?', 'Lenox', '.', 'No', 'indeed', 'my', 'Lord', 'Macb', '.', 'Infected', 'be', 'the', 'Ayre', 'whereon', 'they', 'ride', ',', 'And', 'damn', \"'d\", 'all', 'those', 'that', 'trust', 'them', '.', 'I', 'did', 'heare', 'The', 'gallopping', 'of', 'Horse', '.', 'Who', \"was't\", 'came', 'by', '?', 'Len', '.', \"'T\", 'is', 'two', 'or', 'three', 'my', 'Lord', ',', 'that', 'bring', 'you', 'word', ':', 'Macduff', 'is', 'fled', 'to', 'England', 'Macb', '.', 'Fled', 'to', 'England', '?', 'Len', '.', 'I', ',', 'my', 'good', 'Lord', 'Macb', '.', 'Time', ',', 'thou', \"anticipat'st\", 'my', 'dread', 'exploits', ':', 'The', 'flighty', 'purpose', 'neuer', 'is', \"o're-tooke\", 'Vnlesse', 'the', 'deed', 'go', 'with', 'it', '.', 'From', 'this', 'moment', ',', 'The', 'very', 'firstlings', 'of', 'my', 'heart', 'shall', 'be', 'The', 'firstlings', 'of', 'my', 'hand', '.', 'And', 'euen', 'now', 'To', 'Crown', 'my', 'thoughts', 'with', 'Acts', ':', 'be', 'it', 'thoght', '&', 'done', ':', 'The', 'Castle', 'of', 'Macduff', ',', 'I', 'will', 'surprize', '.', 'Seize', 'vpon', 'Fife', ';', 'giue', 'to', 'th', \"'\", 'edge', \"o'th\", \"'\", 'Sword', 'His', 'Wife', ',', 'his', 'Babes', ',', 'and', 'all', 'vnfortunate', 'Soules', 'That', 'trace', 'him', 'in', 'his', 'Line', '.', 'No', 'boasting', 'like', 'a', 'Foole', ',', 'This', 'deed', 'Ile', 'do', ',', 'before', 'this', 'purpose', 'coole', ',', 'But', 'no', 'more', 'sights', '.', 'Where', 'are', 'these', 'Gentlemen', '?', 'Come', 'bring', 'me', 'where', 'they', 'are', '.', 'Exeunt', '.', 'Scena', 'Secunda', '.', 'Enter', 'Macduffes', 'Wife', ',', 'her', 'Son', ',', 'and', 'Rosse', '.', 'Wife', '.', 'What', 'had', 'he', 'done', ',', 'to', 'make', 'him', 'fly', 'the', 'Land', '?', 'Rosse', '.', 'You', 'must', 'haue', 'patience', 'Madam', 'Wife', '.', 'He', 'had', 'none', ':', 'His', 'flight', 'was', 'madnesse', ':', 'when', 'our', 'Actions', 'do', 'not', ',', 'Our', 'feares', 'do', 'make', 'vs', 'Traitors', 'Rosse', '.', 'You', 'know', 'not', 'Whether', 'it', 'was', 'his', 'wisedome', ',', 'or', 'his', 'feare', 'Wife', '.', 'Wisedom', '?', 'to', 'leaue', 'his', 'wife', ',', 'to', 'leaue', 'his', 'Babes', ',', 'His', 'Mansion', ',', 'and', 'his', 'Titles', ',', 'in', 'a', 'place', 'From', 'whence', 'himselfe', 'do', \"'s\", 'flye', '?', 'He', 'loues', 'vs', 'not', ',', 'He', 'wants', 'the', 'naturall', 'touch', '.', 'For', 'the', 'poore', 'Wren', '(', 'The', 'most', 'diminitiue', 'of', 'Birds', ')', 'will', 'fight', ',', 'Her', 'yong', 'ones', 'in', 'her', 'Nest', ',', 'against', 'the', 'Owle', ':', 'All', 'is', 'the', 'Feare', ',', 'and', 'nothing', 'is', 'the', 'Loue', ';', 'As', 'little', 'is', 'the', 'Wisedome', ',', 'where', 'the', 'flight', 'So', 'runnes', 'against', 'all', 'reason', 'Rosse', '.', 'My', 'deerest', 'Cooz', ',', 'I', 'pray', 'you', 'schoole', 'your', 'selfe', '.', 'But', 'for', 'your', 'Husband', ',', 'He', 'is', 'Noble', ',', 'Wise', ',', 'Iudicious', ',', 'and', 'best', 'knowes', 'The', 'fits', \"o'th\", \"'\", 'Season', '.', 'I', 'dare', 'not', 'speake', 'much', 'further', ',', 'But', 'cruell', 'are', 'the', 'times', ',', 'when', 'we', 'are', 'Traitors', 'And', 'do', 'not', 'know', 'our', 'selues', ':', 'when', 'we', 'hold', 'Rumor', 'From', 'what', 'we', 'feare', ',', 'yet', 'know', 'not', 'what', 'we', 'feare', ',', 'But', 'floate', 'vpon', 'a', 'wilde', 'and', 'violent', 'Sea', 'Each', 'way', ',', 'and', 'moue', '.', 'I', 'take', 'my', 'leaue', 'of', 'you', ':', 'Shall', 'not', 'be', 'long', 'but', 'Ile', 'be', 'heere', 'againe', ':', 'Things', 'at', 'the', 'worst', 'will', 'cease', ',', 'or', 'else', 'climbe', 'vpward', ',', 'To', 'what', 'they', 'were', 'before', '.', 'My', 'pretty', 'Cosine', ',', 'Blessing', 'vpon', 'you', 'Wife', '.', 'Father', \"'d\", 'he', 'is', ',', 'And', 'yet', 'hee', \"'s\", 'Father-lesse', 'Rosse', '.', 'I', 'am', 'so', 'much', 'a', 'Foole', ',', 'should', 'I', 'stay', 'longer', 'It', 'would', 'be', 'my', 'disgrace', ',', 'and', 'your', 'discomfort', '.', 'I', 'take', 'my', 'leaue', 'at', 'once', '.', 'Exit', 'Rosse', '.', 'Wife', '.', 'Sirra', ',', 'your', 'Fathers', 'dead', ',', 'And', 'what', 'will', 'you', 'do', 'now', '?', 'How', 'will', 'you', 'liue', '?', 'Son', '.', 'As', 'Birds', 'do', 'Mother', 'Wife', '.', 'What', 'with', 'Wormes', ',', 'and', 'Flyes', '?', 'Son', '.', 'With', 'what', 'I', 'get', 'I', 'meane', ',', 'and', 'so', 'do', 'they', 'Wife', '.', 'Poore', 'Bird', ',', \"Thou'dst\", 'neuer', 'Feare', 'the', 'Net', ',', 'nor', 'Lime', ',', 'The', 'Pitfall', ',', 'nor', 'the', 'Gin', 'Son', '.', 'Why', 'should', 'I', 'Mother', '?', 'Poore', 'Birds', 'they', 'are', 'not', 'set', 'for', ':', 'My', 'Father', 'is', 'not', 'dead', 'for', 'all', 'your', 'saying', 'Wife', '.', 'Yes', ',', 'he', 'is', 'dead', ':', 'How', 'wilt', 'thou', 'do', 'for', 'a', 'Father', '?', 'Son', '.', 'Nay', 'how', 'will', 'you', 'do', 'for', 'a', 'Husband', '?', 'Wife', '.', 'Why', 'I', 'can', 'buy', 'me', 'twenty', 'at', 'any', 'Market', 'Son', '.', 'Then', 'you', \"'\", 'l', 'by', \"'em\", 'to', 'sell', 'againe', 'Wife', '.', 'Thou', \"speak'st\", 'withall', 'thy', 'wit', ',', 'And', 'yet', \"I'faith\", 'with', 'wit', 'enough', 'for', 'thee', 'Son', '.', 'Was', 'my', 'Father', 'a', 'Traitor', ',', 'Mother', '?', 'Wife', '.', 'I', ',', 'that', 'he', 'was', 'Son', '.', 'What', 'is', 'a', 'Traitor', '?', 'Wife', '.', 'Why', 'one', 'that', 'sweares', ',', 'and', 'lyes', 'Son', '.', 'And', 'be', 'all', 'Traitors', ',', 'that', 'do', 'so', 'Wife', '.', 'Euery', 'one', 'that', 'do', \"'s\", 'so', ',', 'is', 'a', 'Traitor', ',', 'And', 'must', 'be', \"hang'd\", 'Son', '.', 'And', 'must', 'they', 'all', 'be', 'hang', \"'d\", ',', 'that', 'swear', 'and', 'lye', '?', 'Wife', '.', 'Euery', 'one', 'Son', '.', 'Who', 'must', 'hang', 'them', '?', 'Wife', '.', 'Why', ',', 'the', 'honest', 'men', 'Son', '.', 'Then', 'the', 'Liars', 'and', 'Swearers', 'are', 'Fools', ':', 'for', 'there', 'are', 'Lyars', 'and', 'Swearers', 'enow', ',', 'to', 'beate', 'the', 'honest', 'men', ',', 'and', 'hang', 'vp', 'them', 'Wife', '.', 'Now', 'God', 'helpe', 'thee', ',', 'poore', 'Monkie', ':', 'But', 'how', 'wilt', 'thou', 'do', 'for', 'a', 'Father', '?', 'Son', '.', 'If', 'he', 'were', 'dead', ',', 'youl', \"'d\", 'weepe', 'for', 'him', ':', 'if', 'you', 'would', 'not', ',', 'it', 'were', 'a', 'good', 'signe', ',', 'that', 'I', 'should', 'quickely', 'haue', 'a', 'new', 'Father', 'Wife', '.', 'Poore', 'pratler', ',', 'how', 'thou', \"talk'st\", '?', 'Enter', 'a', 'Messenger', '.', 'Mes', '.', 'Blesse', 'you', 'faire', 'Dame', ':', 'I', 'am', 'not', 'to', 'you', 'known', ',', 'Though', 'in', 'your', 'state', 'of', 'Honor', 'I', 'am', 'perfect', ';', 'I', 'doubt', 'some', 'danger', 'do', \"'s\", 'approach', 'you', 'neerely', '.', 'If', 'you', 'will', 'take', 'a', 'homely', 'mans', 'aduice', ',', 'Be', 'not', 'found', 'heere', ':', 'Hence', 'with', 'your', 'little', 'ones', 'To', 'fright', 'you', 'thus', '.', 'Me', 'thinkes', 'I', 'am', 'too', 'sauage', ':', 'To', 'do', 'worse', 'to', 'you', ',', 'were', 'fell', 'Cruelty', ',', 'Which', 'is', 'too', 'nie', 'your', 'person', '.', 'Heauen', 'preserue', 'you', ',', 'I', 'dare', 'abide', 'no', 'longer', '.', 'Exit', 'Messenger', 'Wife', '.', 'Whether', 'should', 'I', 'flye', '?', 'I', 'haue', 'done', 'no', 'harme', '.', 'But', 'I', 'remember', 'now', 'I', 'am', 'in', 'this', 'earthly', 'world', ':', 'where', 'to', 'do', 'harme', 'Is', 'often', 'laudable', ',', 'to', 'do', 'good', 'sometime', 'Accounted', 'dangerous', 'folly', '.', 'Why', 'then', '(', 'alas', ')', 'Do', 'I', 'put', 'vp', 'that', 'womanly', 'defence', ',', 'To', 'say', 'I', 'haue', 'done', 'no', 'harme', '?', 'What', 'are', 'these', 'faces', '?', 'Enter', 'Murtherers', '.', 'Mur', '.', 'Where', 'is', 'your', 'Husband', '?', 'Wife', '.', 'I', 'hope', 'in', 'no', 'place', 'so', 'vnsanctified', ',', 'Where', 'such', 'as', 'thou', \"may'st\", 'finde', 'him', 'Mur', '.', 'He', \"'s\", 'a', 'Traitor', 'Son', '.', 'Thou', \"ly'st\", 'thou', 'shagge-ear', \"'d\", 'Villaine', 'Mur', '.', 'What', 'you', 'Egge', '?', 'Yong', 'fry', 'of', 'Treachery', '?', 'Son', '.', 'He', 'ha', \"'s\", 'kill', \"'d\", 'me', 'Mother', ',', 'Run', 'away', 'I', 'pray', 'you', '.', 'Exit', 'crying', 'Murther', '.', 'Scaena', 'Tertia', '.', 'Enter', 'Malcolme', 'and', 'Macduffe', '.', 'Mal', '.', 'Let', 'vs', 'seeke', 'out', 'some', 'desolate', 'shade', ',', '&', 'there', 'Weepe', 'our', 'sad', 'bosomes', 'empty', 'Macd', '.', 'Let', 'vs', 'rather', 'Hold', 'fast', 'the', 'mortall', 'Sword', ':', 'and', 'like', 'good', 'men', ',', 'Bestride', 'our', 'downfall', 'Birthdome', ':', 'each', 'new', 'Morne', ',', 'New', 'Widdowes', 'howle', ',', 'new', 'Orphans', 'cry', ',', 'new', 'sorowes', 'Strike', 'heauen', 'on', 'the', 'face', ',', 'that', 'it', 'resounds', 'As', 'if', 'it', 'felt', 'with', 'Scotland', ',', 'and', 'yell', \"'d\", 'out', 'Like', 'Syllable', 'of', 'Dolour', 'Mal', '.', 'What', 'I', 'beleeue', ',', 'Ile', 'waile', ';', 'What', 'know', ',', 'beleeue', ';', 'and', 'what', 'I', 'can', 'redresse', ',', 'As', 'I', 'shall', 'finde', 'the', 'time', 'to', 'friend', ':', 'I', 'wil', '.', 'What', 'you', 'haue', 'spoke', ',', 'it', 'may', 'be', 'so', 'perchance', '.', 'This', 'Tyrant', ',', 'whose', 'sole', 'name', 'blisters', 'our', 'tongues', ',', 'Was', 'once', 'thought', 'honest', ':', 'you', 'haue', 'lou', \"'d\", 'him', 'well', ',', 'He', 'hath', 'not', 'touch', \"'d\", 'you', 'yet', '.', 'I', 'am', 'yong', ',', 'but', 'something', 'You', 'may', 'discerne', 'of', 'him', 'through', 'me', ',', 'and', 'wisedome', 'To', 'offer', 'vp', 'a', 'weake', ',', 'poore', 'innocent', 'Lambe', 'T', \"'\", 'appease', 'an', 'angry', 'God', 'Macd', '.', 'I', 'am', 'not', 'treacherous', 'Malc', '.', 'But', 'Macbeth', 'is', '.', 'A', 'good', 'and', 'vertuous', 'Nature', 'may', 'recoyle', 'In', 'an', 'Imperiall', 'charge', '.', 'But', 'I', 'shall', 'craue', 'your', 'pardon', ':', 'That', 'which', 'you', 'are', ',', 'my', 'thoughts', 'can', 'not', 'transpose', ';', 'Angels', 'are', 'bright', 'still', ',', 'though', 'the', 'brightest', 'fell', '.', 'Though', 'all', 'things', 'foule', ',', 'would', 'wear', 'the', 'brows', 'of', 'grace', 'Yet', 'Grace', 'must', 'still', 'looke', 'so', 'Macd', '.', 'I', 'haue', 'lost', 'my', 'Hopes', 'Malc', '.', 'Perchance', 'euen', 'there', 'Where', 'I', 'did', 'finde', 'my', 'doubts', '.', 'Why', 'in', 'that', 'rawnesse', 'left', 'you', 'Wife', ',', 'and', 'Childe', '?', 'Those', 'precious', 'Motiues', ',', 'those', 'strong', 'knots', 'of', 'Loue', ',', 'Without', 'leaue-taking', '.', 'I', 'pray', 'you', ',', 'Let', 'not', 'my', 'Iealousies', ',', 'be', 'your', 'Dishonors', ',', 'But', 'mine', 'owne', 'Safeties', ':', 'you', 'may', 'be', 'rightly', 'iust', ',', 'What', 'euer', 'I', 'shall', 'thinke', 'Macd', '.', 'Bleed', ',', 'bleed', 'poore', 'Country', ',', 'Great', 'Tyrrany', ',', 'lay', 'thou', 'thy', 'basis', 'sure', ',', 'For', 'goodnesse', 'dare', 'not', 'check', 'thee', ':', 'wear', 'y', 'thy', 'wrongs', ',', 'The', 'Title', ',', 'is', 'affear', \"'d\", '.', 'Far', 'thee', 'well', 'Lord', ',', 'I', 'would', 'not', 'be', 'the', 'Villaine', 'that', 'thou', \"think'st\", ',', 'For', 'the', 'whole', 'Space', 'that', \"'s\", 'in', 'the', 'Tyrants', 'Graspe', ',', 'And', 'the', 'rich', 'East', 'to', 'boot', 'Mal', '.', 'Be', 'not', 'offended', ':', 'I', 'speake', 'not', 'as', 'in', 'absolute', 'feare', 'of', 'you', ':', 'I', 'thinke', 'our', 'Country', 'sinkes', 'beneath', 'the', 'yoake', ',', 'It', 'weepes', ',', 'it', 'bleeds', ',', 'and', 'each', 'new', 'day', 'a', 'gash', 'Is', 'added', 'to', 'her', 'wounds', '.', 'I', 'thinke', 'withall', ',', 'There', 'would', 'be', 'hands', 'vplifted', 'in', 'my', 'right', ':', 'And', 'heere', 'from', 'gracious', 'England', 'haue', 'I', 'offer', 'Of', 'goodly', 'thousands', '.', 'But', 'for', 'all', 'this', ',', 'When', 'I', 'shall', 'treade', 'vpon', 'the', 'Tyrants', 'head', ',', 'Or', 'weare', 'it', 'on', 'my', 'Sword', ';', 'yet', 'my', 'poore', 'Country', 'Shall', 'haue', 'more', 'vices', 'then', 'it', 'had', 'before', ',', 'More', 'suffer', ',', 'and', 'more', 'sundry', 'wayes', 'then', 'euer', ',', 'By', 'him', 'that', 'shall', 'succeede', 'Macd', '.', 'What', 'should', 'he', 'be', '?', 'Mal', '.', 'It', 'is', 'my', 'selfe', 'I', 'meane', ':', 'in', 'whom', 'I', 'know', 'All', 'the', 'particulars', 'of', 'Vice', 'so', 'grafted', ',', 'That', 'when', 'they', 'shall', 'be', 'open', \"'d\", ',', 'blacke', 'Macbeth', 'Will', 'seeme', 'as', 'pure', 'as', 'Snow', ',', 'and', 'the', 'poore', 'State', 'Esteeme', 'him', 'as', 'a', 'Lambe', ',', 'being', \"compar'd\", 'With', 'my', 'confinelesse', 'harmes', 'Macd', '.', 'Not', 'in', 'the', 'Legions', 'Of', 'horrid', 'Hell', ',', 'can', 'come', 'a', 'Diuell', 'more', \"damn'd\", 'In', 'euils', ',', 'to', 'top', 'Macbeth', 'Mal', '.', 'I', 'grant', 'him', 'Bloody', ',', 'Luxurious', ',', 'Auaricious', ',', 'False', ',', 'Deceitfull', ',', 'Sodaine', ',', 'Malicious', ',', 'smacking', 'of', 'euery', 'sinne', 'That', 'ha', \"'s\", 'a', 'name', '.', 'But', 'there', \"'s\", 'no', 'bottome', ',', 'none', 'In', 'my', 'Voluptuousnesse', ':', 'Your', 'Wiues', ',', 'your', 'Daughters', ',', 'Your', 'Matrons', ',', 'and', 'your', 'Maides', ',', 'could', 'not', 'fill', 'vp', 'The', 'Cesterne', 'of', 'my', 'Lust', ',', 'and', 'my', 'Desire', 'All', 'continent', 'Impediments', 'would', 'ore-beare', 'That', 'did', 'oppose', 'my', 'will', '.', 'Better', 'Macbeth', ',', 'Then', 'such', 'an', 'one', 'to', 'reigne', 'Macd', '.', 'Boundlesse', 'intemperance', 'In', 'Nature', 'is', 'a', 'Tyranny', ':', 'It', 'hath', 'beene', 'Th', \"'\", 'vntimely', 'emptying', 'of', 'the', 'happy', 'Throne', ',', 'And', 'fall', 'of', 'many', 'Kings', '.', 'But', 'feare', 'not', 'yet', 'To', 'take', 'vpon', 'you', 'what', 'is', 'yours', ':', 'you', 'may', 'Conuey', 'your', 'pleasures', 'in', 'a', 'spacious', 'plenty', ',', 'And', 'yet', 'seeme', 'cold', '.', 'The', 'time', 'you', 'may', 'so', 'hoodwinke', ':', 'We', 'haue', 'willing', 'Dames', 'enough', ':', 'there', 'can', 'not', 'be', 'That', 'Vulture', 'in', 'you', ',', 'to', 'deuoure', 'so', 'many', 'As', 'will', 'to', 'Greatnesse', 'dedicate', 'themselues', ',', 'Finding', 'it', 'so', 'inclinde', 'Mal', '.', 'With', 'this', ',', 'there', 'growes', 'In', 'my', 'most', 'ill-composd', 'Affection', ',', 'such', 'A', 'stanchlesse', 'Auarice', ',', 'that', 'were', 'I', 'King', ',', 'I', 'should', 'cut', 'off', 'the', 'Nobles', 'for', 'their', 'Lands', ',', 'Desire', 'his', 'Iewels', ',', 'and', 'this', 'others', 'House', ',', 'And', 'my', 'more-hauing', ',', 'would', 'be', 'as', 'a', 'Sawce', 'To', 'make', 'me', 'hunger', 'more', ',', 'that', 'I', 'should', 'forge', 'Quarrels', 'vniust', 'against', 'the', 'Good', 'and', 'Loyall', ',', 'Destroying', 'them', 'for', 'wealth', 'Macd', '.', 'This', 'Auarice', 'stickes', 'deeper', ':', 'growes', 'with', 'more', 'pernicious', 'roote', 'Then', 'Summer-seeming', 'Lust', ':', 'and', 'it', 'hath', 'bin', 'The', 'Sword', 'of', 'our', 'slaine', 'Kings', ':', 'yet', 'do', 'not', 'feare', ',', 'Scotland', 'hath', 'Foysons', ',', 'to', 'fill', 'vp', 'your', 'will', 'Of', 'your', 'meere', 'Owne', '.', 'All', 'these', 'are', 'portable', ',', 'With', 'other', 'Graces', \"weigh'd\", 'Mal', '.', 'But', 'I', 'haue', 'none', '.', 'The', 'King-becoming', 'Graces', ',', 'As', 'Iustice', ',', 'Verity', ',', \"Temp'rance\", ',', 'Stablenesse', ',', 'Bounty', ',', 'Perseuerance', ',', 'Mercy', ',', 'Lowlinesse', ',', 'Deuotion', ',', 'Patience', ',', 'Courage', ',', 'Fortitude', ',', 'I', 'haue', 'no', 'rellish', 'of', 'them', ',', 'but', 'abound', 'In', 'the', 'diuision', 'of', 'each', 'seuerall', 'Crime', ',', 'Acting', 'it', 'many', 'wayes', '.', 'Nay', ',', 'had', 'I', 'powre', ',', 'I', 'should', 'Poure', 'the', 'sweet', 'Milke', 'of', 'Concord', ',', 'into', 'Hell', ',', 'Vprore', 'the', 'vniuersall', 'peace', ',', 'confound', 'All', 'vnity', 'on', 'earth', 'Macd', '.', 'O', 'Scotland', ',', 'Scotland', 'Mal', '.', 'If', 'such', 'a', 'one', 'be', 'fit', 'to', 'gouerne', ',', 'speake', ':', 'I', 'am', 'as', 'I', 'haue', 'spoken', 'Mac', '.', 'Fit', 'to', 'gouern', '?', 'No', 'not', 'to', 'liue', '.', 'O', 'Natio', '[', 'n', ']', 'miserable', '!', 'With', 'an', 'vntitled', 'Tyrant', ',', 'bloody', 'Sceptred', ',', 'When', 'shalt', 'thou', 'see', 'thy', 'wholsome', 'dayes', 'againe', '?', 'Since', 'that', 'the', 'truest', 'Issue', 'of', 'thy', 'Throne', 'By', 'his', 'owne', 'Interdiction', 'stands', 'accust', ',', 'And', 'do', \"'s\", 'blaspheme', 'his', 'breed', '?', 'Thy', 'Royall', 'Father', 'Was', 'a', 'most', 'Sainted-King', ':', 'the', 'Queene', 'that', 'bore', 'thee', ',', 'Oftner', 'vpon', 'her', 'knees', ',', 'then', 'on', 'her', 'feet', ',', \"Dy'de\", 'euery', 'day', 'she', 'liu', \"'d\", '.', 'Fare', 'thee', 'well', ',', 'These', 'Euils', 'thou', \"repeat'st\", 'vpon', 'thy', 'selfe', ',', 'Hath', 'banish', \"'d\", 'me', 'from', 'Scotland', '.', 'O', 'my', 'Brest', ',', 'Thy', 'hope', 'ends', 'heere', 'Mal', '.', 'Macduff', ',', 'this', 'Noble', 'passion', 'Childe', 'of', 'integrity', ',', 'hath', 'from', 'my', 'soule', 'Wip', \"'d\", 'the', 'blacke', 'Scruples', ',', 'reconcil', \"'d\", 'my', 'thoughts', 'To', 'thy', 'good', 'Truth', ',', 'and', 'Honor', '.', 'Diuellish', 'Macbeth', ',', 'By', 'many', 'of', 'these', 'traines', ',', 'hath', 'sought', 'to', 'win', 'me', 'Into', 'his', 'power', ':', 'and', 'modest', 'Wisedome', 'pluckes', 'me', 'From', 'ouer-credulous', 'hast', ':', 'but', 'God', 'aboue', 'Deale', 'betweene', 'thee', 'and', 'me', ';', 'For', 'euen', 'now', 'I', 'put', 'my', 'selfe', 'to', 'thy', 'Direction', ',', 'and', 'Vnspeake', 'mine', 'owne', 'detraction', '.', 'Heere', 'abiure', 'The', 'taints', ',', 'and', 'blames', 'I', 'laide', 'vpon', 'my', 'selfe', ',', 'For', 'strangers', 'to', 'my', 'Nature', '.', 'I', 'am', 'yet', 'Vnknowne', 'to', 'Woman', ',', 'neuer', 'was', 'forsworne', ',', 'Scarsely', 'haue', 'coueted', 'what', 'was', 'mine', 'owne', '.', 'At', 'no', 'time', 'broke', 'my', 'Faith', ',', 'would', 'not', 'betray', 'The', 'Deuill', 'to', 'his', 'Fellow', ',', 'and', 'delight', 'No', 'lesse', 'in', 'truth', 'then', 'life', '.', 'My', 'first', 'false', 'speaking', 'Was', 'this', 'vpon', 'my', 'selfe', '.', 'What', 'I', 'am', 'truly', 'Is', 'thine', ',', 'and', 'my', 'poore', 'Countries', 'to', 'command', ':', 'Whither', 'indeed', ',', 'before', 'they', 'heere', 'approach', 'Old', 'Seyward', 'with', 'ten', 'thousand', 'warlike', 'men', 'Already', 'at', 'a', 'point', ',', 'was', 'setting', 'foorth', ':', 'Now', 'wee', \"'\", 'l', 'together', ',', 'and', 'the', 'chance', 'of', 'goodnesse', 'Be', 'like', 'our', 'warranted', 'Quarrell', '.', 'Why', 'are', 'you', 'silent', '?', 'Macd', '.', 'Such', 'welcome', ',', 'and', 'vnwelcom', 'things', 'at', 'once', \"'Tis\", 'hard', 'to', 'reconcile', '.', 'Enter', 'a', 'Doctor', '.', 'Mal', '.', 'Well', ',', 'more', 'anon', '.', 'Comes', 'the', 'King', 'forth', 'I', 'pray', 'you', '?', 'Doct', '.', 'I', 'Sir', ':', 'there', 'are', 'a', 'crew', 'of', 'wretched', 'Soules', 'That', 'stay', 'his', 'Cure', ':', 'their', 'malady', 'conuinces', 'The', 'great', 'assay', 'of', 'Art', '.', 'But', 'at', 'his', 'touch', ',', 'Such', 'sanctity', 'hath', 'Heauen', 'giuen', 'his', 'hand', ',', 'They', 'presently', 'amend', '.', 'Enter', '.', 'Mal', '.', 'I', 'thanke', 'you', 'Doctor', 'Macd', '.', 'What', \"'s\", 'the', 'Disease', 'he', 'meanes', '?', 'Mal', '.', 'Tis', 'call', \"'d\", 'the', 'Euill', '.', 'A', 'most', 'myraculous', 'worke', 'in', 'this', 'good', 'King', ',', 'Which', 'often', 'since', 'my', 'heere', 'remaine', 'in', 'England', ',', 'I', 'haue', 'seene', 'him', 'do', ':', 'How', 'he', 'solicites', 'heauen', 'Himselfe', 'best', 'knowes', ':', 'but', 'strangely', 'visited', 'people', 'All', 'swolne', 'and', 'Vlcerous', ',', 'pittifull', 'to', 'the', 'eye', ',', 'The', 'meere', 'dispaire', 'of', 'Surgery', ',', 'he', 'cures', ',', 'Hanging', 'a', 'golden', 'stampe', 'about', 'their', 'neckes', ',', 'Put', 'on', 'with', 'holy', 'Prayers', ',', 'and', \"'t\", 'is', 'spoken', 'To', 'the', 'succeeding', 'Royalty', 'he', 'leaues', 'The', 'healing', 'Benediction', '.', 'With', 'this', 'strange', 'vertue', ',', 'He', 'hath', 'a', 'heauenly', 'guift', 'of', 'Prophesie', ',', 'And', 'sundry', 'Blessings', 'hang', 'about', 'his', 'Throne', ',', 'That', 'speake', 'him', 'full', 'of', 'Grace', '.', 'Enter', 'Rosse', '.', 'Macd', '.', 'See', 'who', 'comes', 'heere', 'Malc', '.', 'My', 'Countryman', ':', 'but', 'yet', 'I', 'know', 'him', 'not', 'Macd', '.', 'My', 'euer', 'gentle', 'Cozen', ',', 'welcome', 'hither', 'Malc', '.', 'I', 'know', 'him', 'now', '.', 'Good', 'God', 'betimes', 'remoue', 'The', 'meanes', 'that', 'makes', 'vs', 'Strangers', 'Rosse', '.', 'Sir', ',', 'Amen', 'Macd', '.', 'Stands', 'Scotland', 'where', 'it', 'did', '?', 'Rosse', '.', 'Alas', 'poore', 'Countrey', ',', 'Almost', 'affraid', 'to', 'know', 'it', 'selfe', '.', 'It', 'can', 'not', 'Be', 'call', \"'d\", 'our', 'Mother', ',', 'but', 'our', 'Graue', ';', 'where', 'nothing', 'But', 'who', 'knowes', 'nothing', ',', 'is', 'once', 'seene', 'to', 'smile', ':', 'Where', 'sighes', ',', 'and', 'groanes', ',', 'and', 'shrieks', 'that', 'rent', 'the', 'ayre', 'Are', 'made', ',', 'not', 'mark', \"'d\", ':', 'Where', 'violent', 'sorrow', 'seemes', 'A', 'Moderne', 'extasie', ':', 'The', 'Deadmans', 'knell', ',', 'Is', 'there', 'scarse', 'ask', \"'d\", 'for', 'who', ',', 'and', 'good', 'mens', 'liues', 'Expire', 'before', 'the', 'Flowers', 'in', 'their', 'Caps', ',', 'Dying', ',', 'or', 'ere', 'they', 'sicken', 'Macd', '.', 'Oh', 'Relation', ';', 'too', 'nice', ',', 'and', 'yet', 'too', 'true', 'Malc', '.', 'What', \"'s\", 'the', 'newest', 'griefe', '?', 'Rosse', '.', 'That', 'of', 'an', 'houres', 'age', ',', 'doth', 'hisse', 'the', 'speaker', ',', 'Each', 'minute', 'teemes', 'a', 'new', 'one', 'Macd', '.', 'How', 'do', \"'s\", 'my', 'Wife', '?', 'Rosse', '.', 'Why', 'well', 'Macd', '.', 'And', 'all', 'my', 'Children', '?', 'Rosse', '.', 'Well', 'too', 'Macd', '.', 'The', 'Tyrant', 'ha', \"'s\", 'not', 'batter', \"'d\", 'at', 'their', 'peace', '?', 'Rosse', '.', 'No', ',', 'they', 'were', 'wel', 'at', 'peace', ',', 'when', 'I', 'did', 'leaue', \"'em\", 'Macd', '.', 'Be', 'not', 'a', 'niggard', 'of', 'your', 'speech', ':', 'How', \"gos't\", '?', 'Rosse', '.', 'When', 'I', 'came', 'hither', 'to', 'transport', 'the', 'Tydings', 'Which', 'I', 'haue', 'heauily', 'borne', ',', 'there', 'ran', 'a', 'Rumour', 'Of', 'many', 'worthy', 'Fellowes', ',', 'that', 'were', 'out', ',', 'Which', 'was', 'to', 'my', 'beleefe', 'witnest', 'the', 'rather', ',', 'For', 'that', 'I', 'saw', 'the', 'Tyrants', 'Power', 'a-foot', '.', 'Now', 'is', 'the', 'time', 'of', 'helpe', ':', 'your', 'eye', 'in', 'Scotland', 'Would', 'create', 'Soldiours', ',', 'make', 'our', 'women', 'fight', ',', 'To', 'doffe', 'their', 'dire', 'distresses', 'Malc', '.', \"Bee't\", 'their', 'comfort', 'We', 'are', 'comming', 'thither', ':', 'Gracious', 'England', 'hath', 'Lent', 'vs', 'good', 'Seyward', ',', 'and', 'ten', 'thousand', 'men', ',', 'An', 'older', ',', 'and', 'a', 'better', 'Souldier', ',', 'none', 'That', 'Christendome', 'giues', 'out', 'Rosse', '.', 'Would', 'I', 'could', 'answer', 'This', 'comfort', 'with', 'the', 'like', '.', 'But', 'I', 'haue', 'words', 'That', 'would', 'be', 'howl', \"'d\", 'out', 'in', 'the', 'desert', 'ayre', ',', 'Where', 'hearing', 'should', 'not', 'latch', 'them', 'Macd', '.', 'What', 'concerne', 'they', ',', 'The', 'generall', 'cause', ',', 'or', 'is', 'it', 'a', 'Fee-griefe', 'Due', 'to', 'some', 'single', 'brest', '?', 'Rosse', '.', 'No', 'minde', 'that', \"'s\", 'honest', 'But', 'in', 'it', 'shares', 'some', 'woe', ',', 'though', 'the', 'maine', 'part', 'Pertaines', 'to', 'you', 'alone', 'Macd', '.', 'If', 'it', 'be', 'mine', 'Keepe', 'it', 'not', 'from', 'me', ',', 'quickly', 'let', 'me', 'haue', 'it', 'Rosse', '.', 'Let', 'not', 'your', 'eares', 'dispise', 'my', 'tongue', 'for', 'euer', ',', 'Which', 'shall', 'possesse', 'them', 'with', 'the', 'heauiest', 'sound', 'that', 'euer', 'yet', 'they', 'heard', 'Macd', '.', 'Humh', ':', 'I', 'guesse', 'at', 'it', 'Rosse', '.', 'Your', 'Castle', 'is', 'surpriz', \"'d\", ':', 'your', 'Wife', ',', 'and', 'Babes', 'Sauagely', 'slaughter', \"'d\", ':', 'To', 'relate', 'the', 'manner', 'Were', 'on', 'the', 'Quarry', 'of', 'these', 'murther', \"'d\", 'Deere', 'To', 'adde', 'the', 'death', 'of', 'you', 'Malc', '.', 'Mercifull', 'Heauen', ':', 'What', 'man', ',', 'ne', \"'re\", 'pull', 'your', 'hat', 'vpon', 'your', 'browes', ':', 'Giue', 'sorrow', 'words', ';', 'the', 'griefe', 'that', 'do', \"'s\", 'not', 'speake', ',', 'Whispers', 'the', \"o're-fraught\", 'heart', ',', 'and', 'bids', 'it', 'breake', 'Macd', '.', 'My', 'Children', 'too', '?', 'Ro', '.', 'Wife', ',', 'Children', ',', 'Seruants', ',', 'all', 'that', 'could', 'be', 'found', 'Macd', '.', 'And', 'I', 'must', 'be', 'from', 'thence', '?', 'My', 'wife', 'kil', \"'d\", 'too', '?', 'Rosse', '.', 'I', 'haue', 'said', 'Malc', '.', 'Be', 'comforted', '.', 'Let', \"'s\", 'make', 'vs', \"Med'cines\", 'of', 'our', 'great', 'Reuenge', ',', 'To', 'cure', 'this', 'deadly', 'greefe', 'Macd', '.', 'He', 'ha', \"'s\", 'no', 'Children', '.', 'All', 'my', 'pretty', 'ones', '?', 'Did', 'you', 'say', 'All', '?', 'Oh', 'Hell-Kite', '!', 'All', '?', 'What', ',', 'All', 'my', 'pretty', 'Chickens', ',', 'and', 'their', 'Damme', 'At', 'one', 'fell', 'swoope', '?', 'Malc', '.', 'Dispute', 'it', 'like', 'a', 'man', 'Macd', '.', 'I', 'shall', 'do', 'so', ':', 'But', 'I', 'must', 'also', 'feele', 'it', 'as', 'a', 'man', ';', 'I', 'can', 'not', 'but', 'remember', 'such', 'things', 'were', 'That', 'were', 'most', 'precious', 'to', 'me', ':', 'Did', 'heauen', 'looke', 'on', ',', 'And', 'would', 'not', 'take', 'their', 'part', '?', 'Sinfull', 'Macduff', ',', 'They', 'were', 'all', 'strooke', 'for', 'thee', ':', 'Naught', 'that', 'I', 'am', ',', 'Not', 'for', 'their', 'owne', 'demerits', ',', 'but', 'for', 'mine', 'Fell', 'slaughter', 'on', 'their', 'soules', ':', 'Heauen', 'rest', 'them', 'now', 'Mal', '.', 'Be', 'this', 'the', 'Whetstone', 'of', 'your', 'sword', ',', 'let', 'griefe', 'Conuert', 'to', 'anger', ':', 'blunt', 'not', 'the', 'heart', ',', 'enrage', 'it', 'Macd', '.', 'O', 'I', 'could', 'play', 'the', 'woman', 'with', 'mine', 'eyes', ',', 'And', 'Braggart', 'with', 'my', 'tongue', '.', 'But', 'gentle', 'Heauens', ',', 'Cut', 'short', 'all', 'intermission', ':', 'Front', 'to', 'Front', ',', 'Bring', 'thou', 'this', 'Fiend', 'of', 'Scotland', ',', 'and', 'my', 'selfe', 'Within', 'my', 'Swords', 'length', 'set', 'him', ',', 'if', 'he', 'scape', 'Heauen', 'forgiue', 'him', 'too', 'Mal', '.', 'This', 'time', 'goes', 'manly', ':', 'Come', 'go', 'we', 'to', 'the', 'King', ',', 'our', 'Power', 'is', 'ready', ',', 'Our', 'lacke', 'is', 'nothing', 'but', 'our', 'leaue', '.', 'Macbeth', 'Is', 'ripe', 'for', 'shaking', ',', 'and', 'the', 'Powres', 'aboue', 'Put', 'on', 'their', 'Instruments', ':', 'Receiue', 'what', 'cheere', 'you', 'may', ',', 'The', 'Night', 'is', 'long', ',', 'that', 'neuer', 'findes', 'the', 'Day', '.', 'Exeunt', '.', 'Actus', 'Quintus', '.', 'Scena', 'Prima', '.', 'Enter', 'a', 'Doctor', 'of', 'Physicke', ',', 'and', 'a', 'Wayting', 'Gentlewoman', '.', 'Doct', '.', 'I', 'haue', 'too', 'Nights', 'watch', \"'d\", 'with', 'you', ',', 'but', 'can', 'perceiue', 'no', 'truth', 'in', 'your', 'report', '.', 'When', 'was', 'it', 'shee', 'last', 'walk', \"'d\", '?', 'Gent', '.', 'Since', 'his', 'Maiesty', 'went', 'into', 'the', 'Field', ',', 'I', 'haue', 'seene', 'her', 'rise', 'from', 'her', 'bed', ',', 'throw', 'her', 'Night-Gown', 'vppon', 'her', ',', 'vnlocke', 'her', 'Closset', ',', 'take', 'foorth', 'paper', ',', 'folde', 'it', ',', 'write', 'vpo', \"n't\", ',', 'read', 'it', ',', 'afterwards', 'Seale', 'it', ',', 'and', 'againe', 'returne', 'to', 'bed', ';', 'yet', 'all', 'this', 'while', 'in', 'a', 'most', 'fast', 'sleepe', 'Doct', '.', 'A', 'great', 'perturbation', 'in', 'Nature', ',', 'to', 'receyue', 'at', 'once', 'the', 'benefit', 'of', 'sleep', ',', 'and', 'do', 'the', 'effects', 'of', 'watching', '.', 'In', 'this', 'slumbry', 'agitation', ',', 'besides', 'her', 'walking', ',', 'and', 'other', 'actuall', 'performances', ',', 'what', '(', 'at', 'any', 'time', ')', 'haue', 'you', 'heard', 'her', 'say', '?', 'Gent', '.', 'That', 'Sir', ',', 'which', 'I', 'will', 'not', 'report', 'after', 'her', 'Doct', '.', 'You', 'may', 'to', 'me', ',', 'and', \"'t\", 'is', 'most', 'meet', 'you', 'should', 'Gent', '.', 'Neither', 'to', 'you', ',', 'nor', 'any', 'one', ',', 'hauing', 'no', 'witnesse', 'to', 'confirme', 'my', 'speech', '.', 'Enter', 'Lady', ',', 'with', 'a', 'Taper', '.', 'Lo', 'you', ',', 'heere', 'she', 'comes', ':', 'This', 'is', 'her', 'very', 'guise', ',', 'and', 'vpon', 'my', 'life', 'fast', 'asleepe', ':', 'obserue', 'her', ',', 'stand', 'close', 'Doct', '.', 'How', 'came', 'she', 'by', 'that', 'light', '?', 'Gent', '.', 'Why', 'it', 'stood', 'by', 'her', ':', 'she', 'ha', \"'s\", 'light', 'by', 'her', 'continually', ',', \"'tis\", 'her', 'command', 'Doct', '.', 'You', 'see', 'her', 'eyes', 'are', 'open', 'Gent', '.', 'I', ',', 'but', 'their', 'sense', 'are', 'shut', 'Doct', '.', 'What', 'is', 'it', 'she', 'do', \"'s\", 'now', '?', 'Looke', 'how', 'she', 'rubbes', 'her', 'hands', 'Gent', '.', 'It', 'is', 'an', 'accustom', \"'d\", 'action', 'with', 'her', ',', 'to', 'seeme', 'thus', 'washing', 'her', 'hands', ':', 'I', 'haue', 'knowne', 'her', 'continue', 'in', 'this', 'a', 'quarter', 'of', 'an', 'houre', 'Lad', '.', 'Yet', 'heere', \"'s\", 'a', 'spot', 'Doct', '.', 'Heark', ',', 'she', 'speaks', ',', 'I', 'will', 'set', 'downe', 'what', 'comes', 'from', 'her', ',', 'to', 'satisfie', 'my', 'remembrance', 'the', 'more', 'strongly', 'La', '.', 'Out', 'damned', 'spot', ':', 'out', 'I', 'say', '.', 'One', ':', 'Two', ':', 'Why', 'then', \"'t\", 'is', 'time', 'to', \"doo't\", ':', 'Hell', 'is', 'murky', '.', 'Fye', ',', 'my', 'Lord', ',', 'fie', ',', 'a', 'Souldier', ',', 'and', 'affear', \"'d\", '?', 'what', 'need', 'we', 'feare', '?', 'who', 'knowes', 'it', ',', 'when', 'none', 'can', 'call', 'our', 'powre', 'to', 'accompt', ':', 'yet', 'who', 'would', 'haue', 'thought', 'the', 'olde', 'man', 'to', 'haue', 'had', 'so', 'much', 'blood', 'in', 'him', 'Doct', '.', 'Do', 'you', 'marke', 'that', '?', 'Lad', '.', 'The', 'Thane', 'of', 'Fife', ',', 'had', 'a', 'wife', ':', 'where', 'is', 'she', 'now', '?', 'What', 'will', 'these', 'hands', 'ne', \"'re\", 'be', 'cleane', '?', 'No', 'more', \"o'that\", 'my', 'Lord', ',', 'no', 'more', \"o'that\", ':', 'you', 'marre', 'all', 'with', 'this', 'starting', 'Doct', '.', 'Go', 'too', ',', 'go', 'too', ':', 'You', 'haue', 'knowne', 'what', 'you', 'should', 'not', 'Gent', '.', 'She', 'ha', \"'s\", 'spoke', 'what', 'shee', 'should', 'not', ',', 'I', 'am', 'sure', 'of', 'that', ':', 'Heauen', 'knowes', 'what', 'she', 'ha', \"'s\", 'knowne', 'La', '.', 'Heere', \"'s\", 'the', 'smell', 'of', 'the', 'blood', 'still', ':', 'all', 'the', 'perfumes', 'of', 'Arabia', 'will', 'not', 'sweeten', 'this', 'little', 'hand', '.', 'Oh', ',', 'oh', ',', 'oh', 'Doct', '.', 'What', 'a', 'sigh', 'is', 'there', '?', 'The', 'hart', 'is', 'sorely', \"charg'd\", 'Gent', '.', 'I', 'would', 'not', 'haue', 'such', 'a', 'heart', 'in', 'my', 'bosome', ',', 'for', 'the', 'dignity', 'of', 'the', 'whole', 'body', 'Doct', '.', 'Well', ',', 'well', ',', 'well', 'Gent', '.', 'Pray', 'God', 'it', 'be', 'sir', 'Doct', '.', 'This', 'disease', 'is', 'beyond', 'my', 'practise', ':', 'yet', 'I', 'haue', 'knowne', 'those', 'which', 'haue', 'walkt', 'in', 'their', 'sleep', ',', 'who', 'haue', 'dyed', 'holily', 'in', 'their', 'beds', 'Lad', '.', 'Wash', 'your', 'hands', ',', 'put', 'on', 'your', 'Night-Gowne', ',', 'looke', 'not', 'so', 'pale', ':', 'I', 'tell', 'you', 'yet', 'againe', 'Banquo', \"'s\", 'buried', ';', 'he', 'can', 'not', 'come', 'out', 'on', \"'s\", 'graue', 'Doct', '.', 'Euen', 'so', '?', 'Lady', '.', 'To', 'bed', ',', 'to', 'bed', ':', 'there', \"'s\", 'knocking', 'at', 'the', 'gate', ':', 'Come', ',', 'come', ',', 'come', ',', 'come', ',', 'giue', 'me', 'your', 'hand', ':', \"What's\", 'done', ',', 'can', 'not', 'be', 'vndone', '.', 'To', 'bed', ',', 'to', 'bed', ',', 'to', 'bed', '.', 'Exit', 'Lady', '.', 'Doct', '.', 'Will', 'she', 'go', 'now', 'to', 'bed', '?', 'Gent', '.', 'Directly', 'Doct', '.', 'Foule', \"whisp'rings\", 'are', 'abroad', ':', 'vnnaturall', 'deeds', 'Do', 'breed', 'vnnaturall', 'troubles', ':', 'infected', 'mindes', 'To', 'their', 'deafe', 'pillowes', 'will', 'discharge', 'their', 'Secrets', ':', 'More', 'needs', 'she', 'the', 'Diuine', ',', 'then', 'the', 'Physitian', ':', 'God', ',', 'God', 'forgiue', 'vs', 'all', '.', 'Looke', 'after', 'her', ',', 'Remoue', 'from', 'her', 'the', 'meanes', 'of', 'all', 'annoyance', ',', 'And', 'still', 'keepe', 'eyes', 'vpon', 'her', ':', 'So', 'goodnight', ',', 'My', 'minde', 'she', 'ha', \"'s\", 'mated', ',', 'and', 'amaz', \"'d\", 'my', 'sight', '.', 'I', 'thinke', ',', 'but', 'dare', 'not', 'speake', 'Gent', '.', 'Good', 'night', 'good', 'Doctor', '.', 'Exeunt', '.', 'Scena', 'Secunda', '.', 'Drum', 'and', 'Colours', '.', 'Enter', 'Menteth', ',', 'Cathnes', ',', 'Angus', ',', 'Lenox', ',', 'Soldiers', '.', 'Ment', '.', 'The', 'English', 'powre', 'is', 'neere', ',', 'led', 'on', 'by', 'Malcolm', ',', 'His', 'Vnkle', 'Seyward', ',', 'and', 'the', 'good', 'Macduff', '.', 'Reuenges', 'burne', 'in', 'them', ':', 'for', 'their', 'deere', 'causes', 'Would', 'to', 'the', 'bleeding', ',', 'and', 'the', 'grim', 'Alarme', 'Excite', 'the', 'mortified', 'man', 'Ang', '.', 'Neere', 'Byrnan', 'wood', 'Shall', 'we', 'well', 'meet', 'them', ',', 'that', 'way', 'are', 'they', 'comming', 'Cath', '.', 'Who', 'knowes', 'if', 'Donalbane', 'be', 'with', 'his', 'brother', '?', 'Len', '.', 'For', 'certaine', 'Sir', ',', 'he', 'is', 'not', ':', 'I', 'haue', 'a', 'File', 'Of', 'all', 'the', 'Gentry', ';', 'there', 'is', 'Seywards', 'Sonne', ',', 'And', 'many', 'vnruffe', 'youths', ',', 'that', 'euen', 'now', 'Protest', 'their', 'first', 'of', 'Manhood', 'Ment', '.', 'What', 'do', \"'s\", 'the', 'Tyrant', 'Cath', '.', 'Great', 'Dunsinane', 'he', 'strongly', 'Fortifies', ':', 'Some', 'say', 'hee', \"'s\", 'mad', ':', 'Others', ',', 'that', 'lesser', 'hate', 'him', ',', 'Do', 'call', 'it', 'valiant', 'Fury', ',', 'but', 'for', 'certaine', 'He', 'can', 'not', 'buckle', 'his', 'distemper', \"'d\", 'cause', 'Within', 'the', 'belt', 'of', 'Rule', 'Ang', '.', 'Now', 'do', \"'s\", 'he', 'feele', 'His', 'secret', 'Murthers', 'sticking', 'on', 'his', 'hands', ',', 'Now', 'minutely', 'Reuolts', 'vpbraid', 'his', 'Faith-breach', ':', 'Those', 'he', 'commands', ',', 'moue', 'onely', 'in', 'command', ',', 'Nothing', 'in', 'loue', ':', 'Now', 'do', \"'s\", 'he', 'feele', 'his', 'Title', 'Hang', 'loose', 'about', 'him', ',', 'like', 'a', 'Giants', 'Robe', 'Vpon', 'a', 'dwarfish', 'Theefe', 'Ment', '.', 'Who', 'then', 'shall', 'blame', 'His', 'pester', \"'d\", 'Senses', 'to', 'recoyle', ',', 'and', 'start', ',', 'When', 'all', 'that', 'is', 'within', 'him', ',', 'do', \"'s\", 'condemne', 'It', 'selfe', ',', 'for', 'being', 'there', 'Cath', '.', 'Well', ',', 'march', 'we', 'on', ',', 'To', 'giue', 'Obedience', ',', 'where', \"'t\", 'is', 'truly', 'ow', \"'d\", ':', 'Meet', 'we', 'the', \"Med'cine\", 'of', 'the', 'sickly', 'Weale', ',', 'And', 'with', 'him', 'poure', 'we', 'in', 'our', 'Countries', 'purge', ',', 'Each', 'drop', 'of', 'vs', 'Lenox', '.', 'Or', 'so', 'much', 'as', 'it', 'needes', ',', 'To', 'dew', 'the', 'Soueraigne', 'Flower', ',', 'and', 'drowne', 'the', 'Weeds', ':', 'Make', 'we', 'our', 'March', 'towards', 'Birnan', '.', 'Exeunt', '.', 'marching', '.', 'Scaena', 'Tertia', '.', 'Enter', 'Macbeth', ',', 'Doctor', ',', 'and', 'Attendants', '.', 'Macb', '.', 'Bring', 'me', 'no', 'more', 'Reports', ',', 'let', 'them', 'flye', 'all', ':', 'Till', 'Byrnane', 'wood', 'remoue', 'to', 'Dunsinane', ',', 'I', 'can', 'not', 'taint', 'with', 'Feare', '.', 'What', \"'s\", 'the', 'Boy', 'Malcolme', '?', 'Was', 'he', 'not', 'borne', 'of', 'woman', '?', 'The', 'Spirits', 'that', 'know', 'All', 'mortall', 'Consequences', ',', 'haue', 'pronounc', \"'d\", 'me', 'thus', ':', 'Feare', 'not', 'Macbeth', ',', 'no', 'man', 'that', \"'s\", 'borne', 'of', 'woman', 'Shall', 'ere', 'haue', 'power', 'vpon', 'thee', '.', 'Then', 'fly', 'false', 'Thanes', ',', 'And', 'mingle', 'with', 'the', 'English', 'Epicures', ',', 'The', 'minde', 'I', 'sway', 'by', ',', 'and', 'the', 'heart', 'I', 'beare', ',', 'Shall', 'neuer', 'sagge', 'with', 'doubt', ',', 'nor', 'shake', 'with', 'feare', '.', 'Enter', 'Seruant', '.', 'The', 'diuell', 'damne', 'thee', 'blacke', ',', 'thou', 'cream-fac', \"'d\", 'Loone', ':', 'Where', \"got'st\", 'thou', 'that', 'Goose-looke', 'Ser', '.', 'There', 'is', 'ten', 'thousand', 'Macb', '.', 'Geese', 'Villaine', '?', 'Ser', '.', 'Souldiers', 'Sir', 'Macb', '.', 'Go', 'pricke', 'thy', 'face', ',', 'and', 'ouer-red', 'thy', 'feare', 'Thou', 'Lilly-liuer', \"'d\", 'Boy', '.', 'What', 'Soldiers', ',', 'Patch', '?', 'Death', 'of', 'thy', 'Soule', ',', 'those', 'Linnen', 'cheekes', 'of', 'thine', 'Are', 'Counsailers', 'to', 'feare', '.', 'What', 'Soldiers', 'Whay-face', '?', 'Ser', '.', 'The', 'English', 'Force', ',', 'so', 'please', 'you', 'Macb', '.', 'Take', 'thy', 'face', 'hence', '.', 'Seyton', ',', 'I', 'am', 'sick', 'at', 'hart', ',', 'When', 'I', 'behold', ':', 'Seyton', ',', 'I', 'say', ',', 'this', 'push', 'Will', 'cheere', 'me', 'euer', ',', 'or', 'dis-eate', 'me', 'now', '.', 'I', 'haue', 'liu', \"'d\", 'long', 'enough', ':', 'my', 'way', 'of', 'life', 'Is', 'falne', 'into', 'the', 'Seare', ',', 'the', 'yellow', 'Leafe', ',', 'And', 'that', 'which', 'should', 'accompany', 'Old-Age', ',', 'As', 'Honor', ',', 'Loue', ',', 'Obedience', ',', 'Troopes', 'of', 'Friends', ',', 'I', 'must', 'not', 'looke', 'to', 'haue', ':', 'but', 'in', 'their', 'steed', ',', 'Curses', ',', 'not', 'lowd', 'but', 'deepe', ',', 'Mouth-honor', ',', 'breath', 'Which', 'the', 'poore', 'heart', 'would', 'faine', 'deny', ',', 'and', 'dare', 'not', '.', 'Seyton', '?', 'Enter', 'Seyton', '.', 'Sey', '.', 'What', \"'s\", 'your', 'gracious', 'pleasure', '?', 'Macb', '.', 'What', 'Newes', 'more', '?', 'Sey', '.', 'All', 'is', 'confirm', \"'d\", 'my', 'Lord', ',', 'which', 'was', 'reported', 'Macb', '.', 'Ile', 'fight', ',', 'till', 'from', 'my', 'bones', ',', 'my', 'flesh', 'be', 'hackt', '.', 'Giue', 'me', 'my', 'Armor', 'Seyt', '.', \"'T\", 'is', 'not', 'needed', 'yet', 'Macb', '.', 'Ile', 'put', 'it', 'on', ':', 'Send', 'out', 'moe', 'Horses', ',', 'skirre', 'the', 'Country', 'round', ',', 'Hang', 'those', 'that', 'talke', 'of', 'Feare', '.', 'Giue', 'me', 'mine', 'Armor', ':', 'How', 'do', \"'s\", 'your', 'Patient', ',', 'Doctor', '?', 'Doct', '.', 'Not', 'so', 'sicke', 'my', 'Lord', ',', 'As', 'she', 'is', 'troubled', 'with', 'thicke-comming', 'Fancies', 'That', 'keepe', 'her', 'from', 'her', 'rest', 'Macb', '.', 'Cure', 'of', 'that', ':', \"Can'st\", 'thou', 'not', 'Minister', 'to', 'a', 'minde', 'diseas', \"'d\", ',', 'Plucke', 'from', 'the', 'Memory', 'a', 'rooted', 'Sorrow', ',', 'Raze', 'out', 'the', 'written', 'troubles', 'of', 'the', 'Braine', ',', 'And', 'with', 'some', 'sweet', 'Obliuious', 'Antidote', 'Cleanse', 'the', 'stufft', 'bosome', ',', 'of', 'that', 'perillous', 'stuffe', 'Which', 'weighes', 'vpon', 'the', 'heart', '?', 'Doct', '.', 'Therein', 'the', 'Patient', 'Must', 'minister', 'to', 'himselfe', 'Macb', '.', 'Throw', 'Physicke', 'to', 'the', 'Dogs', ',', 'Ile', 'none', 'of', 'it', '.', 'Come', ',', 'put', 'mine', 'Armour', 'on', ':', 'giue', 'me', 'my', 'Staffe', ':', 'Seyton', ',', 'send', 'out', ':', 'Doctor', ',', 'the', 'Thanes', 'flye', 'from', 'me', ':', 'Come', 'sir', ',', 'dispatch', '.', 'If', 'thou', \"could'st\", 'Doctor', ',', 'cast', 'The', 'Water', 'of', 'my', 'Land', ',', 'finde', 'her', 'Disease', ',', 'And', 'purge', 'it', 'to', 'a', 'sound', 'and', 'pristine', 'Health', ',', 'I', 'would', 'applaud', 'thee', 'to', 'the', 'very', 'Eccho', ',', 'That', 'should', 'applaud', 'againe', '.', \"Pull't\", 'off', 'I', 'say', ',', 'What', 'Rubarb', ',', 'Cyme', ',', 'or', 'what', 'Purgatiue', 'drugge', 'Would', 'scowre', 'these', 'English', 'hence', ':', \"hear'st\", 'y', 'of', 'them', '?', 'Doct', '.', 'I', 'my', 'good', 'Lord', ':', 'your', 'Royall', 'Preparation', 'Makes', 'vs', 'heare', 'something', 'Macb', '.', 'Bring', 'it', 'after', 'me', ':', 'I', 'will', 'not', 'be', 'affraid', 'of', 'Death', 'and', 'Bane', ',', 'Till', 'Birnane', 'Forrest', 'come', 'to', 'Dunsinane', 'Doct', '.', 'Were', 'I', 'from', 'Dunsinane', 'away', ',', 'and', 'cleere', ',', 'Profit', 'againe', 'should', 'hardly', 'draw', 'me', 'heere', '.', 'Exeunt', '.', 'Scena', 'Quarta', '.', 'Drum', 'and', 'Colours', '.', 'Enter', 'Malcolme', ',', 'Seyward', ',', 'Macduffe', ',', 'Seywards', 'Sonne', ',', 'Menteth', ',', 'Cathnes', ',', 'Angus', ',', 'and', 'Soldiers', 'Marching', '.', 'Malc', '.', 'Cosins', ',', 'I', 'hope', 'the', 'dayes', 'are', 'neere', 'at', 'hand', 'That', 'Chambers', 'will', 'be', 'safe', 'Ment', '.', 'We', 'doubt', 'it', 'nothing', 'Seyw', '.', 'What', 'wood', 'is', 'this', 'before', 'vs', '?', 'Ment', '.', 'The', 'wood', 'of', 'Birnane', 'Malc', '.', 'Let', 'euery', 'Souldier', 'hew', 'him', 'downe', 'a', 'Bough', ',', 'And', \"bear't\", 'before', 'him', ',', 'thereby', 'shall', 'we', 'shadow', 'The', 'numbers', 'of', 'our', 'Hoast', ',', 'and', 'make', 'discouery', 'Erre', 'in', 'report', 'of', 'vs', 'Sold', '.', 'It', 'shall', 'be', 'done', 'Syw', '.', 'We', 'learne', 'no', 'other', ',', 'but', 'the', 'confident', 'Tyrant', 'Keepes', 'still', 'in', 'Dunsinane', ',', 'and', 'will', 'indure', 'Our', 'setting', 'downe', \"befor't\", 'Malc', '.', \"'T\", 'is', 'his', 'maine', 'hope', ':', 'For', 'where', 'there', 'is', 'aduantage', 'to', 'be', 'giuen', ',', 'Both', 'more', 'and', 'lesse', 'haue', 'giuen', 'him', 'the', 'Reuolt', ',', 'And', 'none', 'serue', 'with', 'him', ',', 'but', 'constrained', 'things', ',', 'Whose', 'hearts', 'are', 'absent', 'too', 'Macd', '.', 'Let', 'our', 'iust', 'Censures', 'Attend', 'the', 'true', 'euent', ',', 'and', 'put', 'we', 'on', 'Industrious', 'Souldiership', 'Sey', '.', 'The', 'time', 'approaches', ',', 'That', 'will', 'with', 'due', 'decision', 'make', 'vs', 'know', 'What', 'we', 'shall', 'say', 'we', 'haue', ',', 'and', 'what', 'we', 'owe', ':', 'Thoughts', 'speculatiue', ',', 'their', 'vnsure', 'hopes', 'relate', ',', 'But', 'certaine', 'issue', ',', 'stroakes', 'must', 'arbitrate', ',', 'Towards', 'which', ',', 'aduance', 'the', 'warre', '.', 'Exeunt', '.', 'marching', 'Scena', 'Quinta', '.', 'Enter', 'Macbeth', ',', 'Seyton', ',', '&', 'Souldiers', ',', 'with', 'Drum', 'and', 'Colours', '.', 'Macb', '.', 'Hang', 'out', 'our', 'Banners', 'on', 'the', 'outward', 'walls', ',', 'The', 'Cry', 'is', 'still', ',', 'they', 'come', ':', 'our', 'Castles', 'strength', 'Will', 'laugh', 'a', 'Siedge', 'to', 'scorne', ':', 'Heere', 'let', 'them', 'lye', ',', 'Till', 'Famine', 'and', 'the', 'Ague', 'eate', 'them', 'vp', ':', 'Were', 'they', 'not', 'forc', \"'d\", 'with', 'those', 'that', 'should', 'be', 'ours', ',', 'We', 'might', 'haue', 'met', 'them', 'darefull', ',', 'beard', 'to', 'beard', ',', 'And', 'beate', 'them', 'backward', 'home', '.', 'What', 'is', 'that', 'noyse', '?', 'A', 'Cry', 'within', 'of', 'Women', '.', 'Sey', '.', 'It', 'is', 'the', 'cry', 'of', 'women', ',', 'my', 'good', 'Lord', 'Macb', '.', 'I', 'haue', 'almost', 'forgot', 'the', 'taste', 'of', 'Feares', ':', 'The', 'time', 'ha', \"'s\", 'beene', ',', 'my', 'sences', 'would', 'haue', \"cool'd\", 'To', 'heare', 'a', 'Night-shrieke', ',', 'and', 'my', 'Fell', 'of', 'haire', 'Would', 'at', 'a', 'dismall', 'Treatise', 'rowze', ',', 'and', 'stirre', 'As', 'life', 'were', 'i', \"n't\", '.', 'I', 'haue', 'supt', 'full', 'with', 'horrors', ',', 'Direnesse', 'familiar', 'to', 'my', 'slaughterous', 'thoughts', 'Can', 'not', 'once', 'start', 'me', '.', 'Wherefore', 'was', 'that', 'cry', '?', 'Sey', '.', 'The', 'Queene', '(', 'my', 'Lord', ')', 'is', 'dead', 'Macb', '.', 'She', 'should', 'haue', \"dy'de\", 'heereafter', ';', 'There', 'would', 'haue', 'beene', 'a', 'time', 'for', 'such', 'a', 'word', ':', 'To', 'morrow', ',', 'and', 'to', 'morrow', ',', 'and', 'to', 'morrow', ',', 'Creepes', 'in', 'this', 'petty', 'pace', 'from', 'day', 'to', 'day', ',', 'To', 'the', 'last', 'Syllable', 'of', 'Recorded', 'time', ':', 'And', 'all', 'our', 'yesterdayes', ',', 'haue', 'lighted', 'Fooles', 'The', 'way', 'to', 'dusty', 'death', '.', 'Out', ',', 'out', ',', 'breefe', 'Candle', ',', 'Life', \"'s\", 'but', 'a', 'walking', 'Shadow', ',', 'a', 'poore', 'Player', ',', 'That', 'struts', 'and', 'frets', 'his', 'houre', 'vpon', 'the', 'Stage', ',', 'And', 'then', 'is', 'heard', 'no', 'more', '.', 'It', 'is', 'a', 'Tale', 'Told', 'by', 'an', 'Ideot', ',', 'full', 'of', 'sound', 'and', 'fury', 'Signifying', 'nothing', '.', 'Enter', 'a', 'Messenger', '.', 'Thou', \"com'st\", 'to', 'vse', 'thy', 'Tongue', ':', 'thy', 'Story', 'quickly', 'Mes', '.', 'Gracious', 'my', 'Lord', ',', 'I', 'should', 'report', 'that', 'which', 'I', 'say', 'I', 'saw', ',', 'But', 'know', 'not', 'how', 'to', \"doo't\", 'Macb', '.', 'Well', ',', 'say', 'sir', 'Mes', '.', 'As', 'I', 'did', 'stand', 'my', 'watch', 'vpon', 'the', 'Hill', 'I', 'look', \"'d\", 'toward', 'Byrnane', ',', 'and', 'anon', 'me', 'thought', 'The', 'Wood', 'began', 'to', 'moue', 'Macb', '.', 'Lyar', ',', 'and', 'Slaue', 'Mes', '.', 'Let', 'me', 'endure', 'your', 'wrath', ',', \"if't\", 'be', 'not', 'so', ':', 'Within', 'this', 'three', 'Mile', 'may', 'you', 'see', 'it', 'comming', '.', 'I', 'say', ',', 'a', 'mouing', 'Groue', 'Macb', '.', 'If', 'thou', \"speak'st\", 'false', ',', 'Vpon', 'the', 'next', 'Tree', 'shall', 'thou', 'hang', 'aliue', 'Till', 'Famine', 'cling', 'thee', ':', 'If', 'thy', 'speech', 'be', 'sooth', ',', 'I', 'care', 'not', 'if', 'thou', 'dost', 'for', 'me', 'as', 'much', '.', 'I', 'pull', 'in', 'Resolution', ',', 'and', 'begin', 'To', 'doubt', 'th', \"'\", 'Equiuocation', 'of', 'the', 'Fiend', ',', 'That', 'lies', 'like', 'truth', '.', 'Feare', 'not', ',', 'till', 'Byrnane', 'Wood', 'Do', 'come', 'to', 'Dunsinane', ',', 'and', 'now', 'a', 'Wood', 'Comes', 'toward', 'Dunsinane', '.', 'Arme', ',', 'Arme', ',', 'and', 'out', ',', 'If', 'this', 'which', 'he', 'auouches', ',', 'do', \"'s\", 'appeare', ',', 'There', 'is', 'nor', 'flying', 'hence', ',', 'nor', 'tarrying', 'here', '.', 'I', \"'ginne\", 'to', 'be', 'a-weary', 'of', 'the', 'Sun', ',', 'And', 'wish', 'th', \"'\", 'estate', \"o'th\", \"'\", 'world', 'were', 'now', 'vndon', '.', 'Ring', 'the', 'Alarum', 'Bell', ',', 'blow', 'Winde', ',', 'come', 'wracke', ',', 'At', 'least', 'wee', \"'\", 'l', 'dye', 'with', 'Harnesse', 'on', 'our', 'backe', '.', 'Exeunt', '.', 'Scena', 'Sexta', '.', 'Drumme', 'and', 'Colours', '.', 'Enter', 'Malcolme', ',', 'Seyward', ',', 'Macduffe', ',', 'and', 'their', 'Army', ',', 'with', 'Boughes', '.', 'Mal', '.', 'Now', 'neere', 'enough', ':', 'Your', 'leauy', 'Skreenes', 'throw', 'downe', ',', 'And', 'shew', 'like', 'those', 'you', 'are', ':', 'You', '(', 'worthy', 'Vnkle', ')', 'Shall', 'with', 'my', 'Cosin', 'your', 'right', 'Noble', 'Sonne', 'Leade', 'our', 'first', 'Battell', '.', 'Worthy', 'Macduffe', ',', 'and', 'wee', 'Shall', 'take', 'vpon', \"'s\", 'what', 'else', 'remaines', 'to', 'do', ',', 'According', 'to', 'our', 'order', 'Sey', '.', 'Fare', 'you', 'well', ':', 'Do', 'we', 'but', 'finde', 'the', 'Tyrants', 'power', 'to', 'night', ',', 'Let', 'vs', 'be', 'beaten', ',', 'if', 'we', 'can', 'not', 'fight', 'Macd', '.', 'Make', 'all', 'our', 'Trumpets', 'speak', ',', 'giue', 'the', '[', 'm', ']', 'all', 'breath', 'Those', 'clamorous', 'Harbingers', 'of', 'Blood', ',', '&', 'Death', '.', 'Exeunt', '.', 'Alarums', 'continued', '.', 'Scena', 'Septima', '.', 'Enter', 'Macbeth', '.', 'Macb', '.', 'They', 'haue', 'tied', 'me', 'to', 'a', 'stake', ',', 'I', 'can', 'not', 'flye', ',', 'But', 'Beare-like', 'I', 'must', 'fight', 'the', 'course', '.', 'What', \"'s\", 'he', 'That', 'was', 'not', 'borne', 'of', 'Woman', '?', 'Such', 'a', 'one', 'Am', 'I', 'to', 'feare', ',', 'or', 'none', '.', 'Enter', 'young', 'Seyward', '.', 'Y.Sey', '.', 'What', 'is', 'thy', 'name', '?', 'Macb', '.', \"Thou'lt\", 'be', 'affraid', 'to', 'heare', 'it', 'Y.Sey', '.', 'No', ':', 'though', 'thou', \"call'st\", 'thy', 'selfe', 'a', 'hoter', 'name', 'Then', 'any', 'is', 'in', 'hell', 'Macb', '.', 'My', 'name', \"'s\", 'Macbeth', 'Y.Sey', '.', 'The', 'diuell', 'himselfe', 'could', 'not', 'pronounce', 'a', 'Title', 'More', 'hatefull', 'to', 'mine', 'eare', 'Macb', '.', 'No', ':', 'nor', 'more', 'fearefull', 'Y.Sey', '.', 'Thou', 'lyest', 'abhorred', 'Tyrant', ',', 'with', 'my', 'Sword', 'Ile', 'proue', 'the', 'lye', 'thou', \"speak'st\", '.', 'Fight', ',', 'and', 'young', 'Seyward', 'slaine', '.', 'Macb', '.', 'Thou', \"was't\", 'borne', 'of', 'woman', ';', 'But', 'Swords', 'I', 'smile', 'at', ',', 'Weapons', 'laugh', 'to', 'scorne', ',', 'Brandish', \"'d\", 'by', 'man', 'that', \"'s\", 'of', 'a', 'Woman', 'borne', '.', 'Enter', '.', 'Alarums', '.', 'Enter', 'Macduffe', '.', 'Macd', '.', 'That', 'way', 'the', 'noise', 'is', ':', 'Tyrant', 'shew', 'thy', 'face', ',', 'If', 'thou', 'beest', 'slaine', ',', 'and', 'with', 'no', 'stroake', 'of', 'mine', ',', 'My', 'Wife', 'and', 'Childrens', 'Ghosts', 'will', 'haunt', 'me', 'still', ':', 'I', 'can', 'not', 'strike', 'at', 'wretched', 'Kernes', ',', 'whose', 'armes', 'Are', 'hyr', \"'d\", 'to', 'beare', 'their', 'Staues', ';', 'either', 'thou', 'Macbeth', ',', 'Or', 'else', 'my', 'Sword', 'with', 'an', 'vnbattered', 'edge', 'I', 'sheath', 'againe', 'vndeeded', '.', 'There', 'thou', \"should'st\", 'be', ',', 'By', 'this', 'great', 'clatter', ',', 'one', 'of', 'greatest', 'note', 'Seemes', 'bruited', '.', 'Let', 'me', 'finde', 'him', 'Fortune', ',', 'And', 'more', 'I', 'begge', 'not', '.', 'Exit', '.', 'Alarums', '.', 'Enter', 'Malcolme', 'and', 'Seyward', '.', 'Sey', '.', 'This', 'way', 'my', 'Lord', ',', 'the', 'Castles', 'gently', 'rendred', ':', 'The', 'Tyrants', 'people', ',', 'on', 'both', 'sides', 'do', 'fight', ',', 'The', 'Noble', 'Thanes', 'do', 'brauely', 'in', 'the', 'Warre', ',', 'The', 'day', 'almost', 'it', 'selfe', 'professes', 'yours', ',', 'And', 'little', 'is', 'to', 'do', 'Malc', '.', 'We', 'haue', 'met', 'with', 'Foes', 'That', 'strike', 'beside', 'vs', 'Sey', '.', 'Enter', 'Sir', ',', 'the', 'Castle', '.', 'Exeunt', '.', 'Alarum', 'Enter', 'Macbeth', '.', 'Macb', '.', 'Why', 'should', 'I', 'play', 'the', 'Roman', 'Foole', ',', 'and', 'dye', 'On', 'mine', 'owne', 'sword', '?', 'whiles', 'I', 'see', 'liues', ',', 'the', 'gashes', 'Do', 'better', 'vpon', 'them', '.', 'Enter', 'Macduffe', '.', 'Macd', '.', 'Turne', 'Hell-hound', ',', 'turne', 'Macb', '.', 'Of', 'all', 'men', 'else', 'I', 'haue', 'auoyded', 'thee', ':', 'But', 'get', 'thee', 'backe', ',', 'my', 'soule', 'is', 'too', 'much', \"charg'd\", 'With', 'blood', 'of', 'thine', 'already', 'Macd', '.', 'I', 'haue', 'no', 'words', ',', 'My', 'voice', 'is', 'in', 'my', 'Sword', ',', 'thou', 'bloodier', 'Villaine', 'Then', 'tearmes', 'can', 'giue', 'thee', 'out', '.', 'Fight', ':', 'Alarum', 'Macb', '.', 'Thou', 'loosest', 'labour', 'As', 'easie', \"may'st\", 'thou', 'the', 'intrenchant', 'Ayre', 'With', 'thy', 'keene', 'Sword', 'impresse', ',', 'as', 'make', 'me', 'bleed', ':', 'Let', 'fall', 'thy', 'blade', 'on', 'vulnerable', 'Crests', ',', 'I', 'beare', 'a', 'charmed', 'Life', ',', 'which', 'must', 'not', 'yeeld', 'To', 'one', 'of', 'woman', 'borne', 'Macd', '.', 'Dispaire', 'thy', 'Charme', ',', 'And', 'let', 'the', 'Angell', 'whom', 'thou', 'still', 'hast', \"seru'd\", 'Tell', 'thee', ',', 'Macduffe', 'was', 'from', 'his', 'Mothers', 'womb', 'Vntimely', 'ript', 'Macb', '.', 'Accursed', 'be', 'that', 'tongue', 'that', 'tels', 'mee', 'so', ';', 'For', 'it', 'hath', 'Cow', \"'d\", 'my', 'better', 'part', 'of', 'man', ':', 'And', 'be', 'these', 'Iugling', 'Fiends', 'no', 'more', 'beleeu', \"'d\", ',', 'That', 'palter', 'with', 'vs', 'in', 'a', 'double', 'sence', ',', 'That', 'keepe', 'the', 'word', 'of', 'promise', 'to', 'our', 'eare', ',', 'And', 'breake', 'it', 'to', 'our', 'hope', '.', 'Ile', 'not', 'fight', 'with', 'thee', 'Macd', '.', 'Then', 'yeeld', 'thee', 'Coward', ',', 'And', 'liue', 'to', 'be', 'the', 'shew', ',', 'and', 'gaze', \"o'th\", \"'\", 'time', '.', 'Wee', \"'\", 'l', 'haue', 'thee', ',', 'as', 'our', 'rarer', 'Monsters', 'are', 'Painted', 'vpon', 'a', 'pole', ',', 'and', 'vnder-writ', ',', 'Heere', 'may', 'you', 'see', 'the', 'Tyrant', 'Macb', '.', 'I', 'will', 'not', 'yeeld', 'To', 'kisse', 'the', 'ground', 'before', 'young', 'Malcolmes', 'feet', ',', 'And', 'to', 'be', 'baited', 'with', 'the', 'Rabbles', 'curse', '.', 'Though', 'Byrnane', 'wood', 'be', 'come', 'to', 'Dunsinane', ',', 'And', 'thou', 'oppos', \"'d\", ',', 'being', 'of', 'no', 'woman', 'borne', ',', 'Yet', 'I', 'will', 'try', 'the', 'last', '.', 'Before', 'my', 'body', ',', 'I', 'throw', 'my', 'warlike', 'Shield', ':', 'Lay', 'on', 'Macduffe', ',', 'And', 'damn', \"'d\", 'be', 'him', ',', 'that', 'first', 'cries', 'hold', ',', 'enough', '.', 'Exeunt', '.', 'fighting', '.', 'Alarums', '.', 'Enter', 'Fighting', ',', 'and', 'Macbeth', 'slaine', '.', 'Retreat', ',', 'and', 'Flourish', '.', 'Enter', 'with', 'Drumme', 'and', 'Colours', ',', 'Malcolm', ',', 'Seyward', ',', 'Rosse', ',', 'Thanes', ',', '&', 'Soldiers', '.', 'Mal', '.', 'I', 'would', 'the', 'Friends', 'we', 'misse', ',', 'were', 'safe', \"arriu'd\", 'Sey', '.', 'Some', 'must', 'go', 'off', ':', 'and', 'yet', 'by', 'these', 'I', 'see', ',', 'So', 'great', 'a', 'day', 'as', 'this', 'is', 'cheapely', 'bought', 'Mal', '.', 'Macduffe', 'is', 'missing', ',', 'and', 'your', 'Noble', 'Sonne', 'Rosse', '.', 'Your', 'son', 'my', 'Lord', ',', 'ha', \"'s\", 'paid', 'a', 'souldiers', 'debt', ',', 'He', 'onely', 'liu', \"'d\", 'but', 'till', 'he', 'was', 'a', 'man', ',', 'The', 'which', 'no', 'sooner', 'had', 'his', 'Prowesse', \"confirm'd\", 'In', 'the', 'vnshrinking', 'station', 'where', 'he', 'fought', ',', 'But', 'like', 'a', 'man', 'he', \"dy'de\", 'Sey', '.', 'Then', 'he', 'is', 'dead', '?', 'Rosse', '.', 'I', ',', 'and', 'brought', 'off', 'the', 'field', ':', 'your', 'cause', 'of', 'sorrow', 'Must', 'not', 'be', 'measur', \"'d\", 'by', 'his', 'worth', ',', 'for', 'then', 'It', 'hath', 'no', 'end', 'Sey', '.', 'Had', 'he', 'his', 'hurts', 'before', '?', 'Rosse', '.', 'I', ',', 'on', 'the', 'Front', 'Sey', '.', 'Why', 'then', ',', 'Gods', 'Soldier', 'be', 'he', ':', 'Had', 'I', 'as', 'many', 'Sonnes', ',', 'as', 'I', 'haue', 'haires', ',', 'I', 'would', 'not', 'wish', 'them', 'to', 'a', 'fairer', 'death', ':', 'And', 'so', 'his', 'Knell', 'is', \"knoll'd\", 'Mal', '.', 'Hee', \"'s\", 'worth', 'more', 'sorrow', ',', 'and', 'that', 'Ile', 'spend', 'for', 'him', 'Sey', '.', 'He', \"'s\", 'worth', 'no', 'more', ',', 'They', 'say', 'he', 'parted', 'well', ',', 'and', 'paid', 'his', 'score', ',', 'And', 'so', 'God', 'be', 'with', 'him', '.', 'Here', 'comes', 'newer', 'comfort', '.', 'Enter', 'Macduffe', ',', 'with', 'Macbeths', 'head', '.', 'Macd', '.', 'Haile', 'King', ',', 'for', 'so', 'thou', 'art', '.', 'Behold', 'where', 'stands', 'Th', \"'\", 'Vsurpers', 'cursed', 'head', ':', 'the', 'time', 'is', 'free', ':', 'I', 'see', 'thee', 'compast', 'with', 'thy', 'Kingdomes', 'Pearle', ',', 'That', 'speake', 'my', 'salutation', 'in', 'their', 'minds', ':', 'Whose', 'voyces', 'I', 'desire', 'alowd', 'with', 'mine', '.', 'Haile', 'King', 'of', 'Scotland', 'All', '.', 'Haile', 'King', 'of', 'Scotland', '.', 'Flourish', '.', 'Mal', '.', 'We', 'shall', 'not', 'spend', 'a', 'large', 'expence', 'of', 'time', ',', 'Before', 'we', 'reckon', 'with', 'your', 'seuerall', 'loues', ',', 'And', 'make', 'vs', 'euen', 'with', 'you', '.', 'My', 'Thanes', 'and', 'Kinsmen', 'Henceforth', 'be', 'Earles', ',', 'the', 'first', 'that', 'euer', 'Scotland', 'In', 'such', 'an', 'Honor', 'nam', \"'d\", ':', 'What', \"'s\", 'more', 'to', 'do', ',', 'Which', 'would', 'be', 'planted', 'newly', 'with', 'the', 'time', ',', 'As', 'calling', 'home', 'our', 'exil', \"'d\", 'Friends', 'abroad', ',', 'That', 'fled', 'the', 'Snares', 'of', 'watchfull', 'Tyranny', ',', 'Producing', 'forth', 'the', 'cruell', 'Ministers', 'Of', 'this', 'dead', 'Butcher', ',', 'and', 'his', 'Fiend-like', 'Queene', ';', 'Who', '(', 'as', \"'t\", 'is', 'thought', ')', 'by', 'selfe', 'and', 'violent', 'hands', ',', 'Tooke', 'off', 'her', 'life', '.', 'This', ',', 'and', 'what', 'need', 'full', 'else', 'That', 'call', \"'s\", 'vpon', 'vs', ',', 'by', 'the', 'Grace', 'of', 'Grace', ',', 'We', 'will', 'performe', 'in', 'measure', ',', 'time', ',', 'and', 'place', ':', 'So', 'thankes', 'to', 'all', 'at', 'once', ',', 'and', 'to', 'each', 'one', ',', 'Whom', 'we', 'inuite', ',', 'to', 'see', 'vs', 'Crown', \"'d\", 'at', 'Scone', '.', 'Flourish', '.', 'Exeunt', 'Omnes', '.', 'FINIS', '.']\n"
     ]
    }
   ],
   "source": [
    "words = []\n",
    "for s in new_sent:\n",
    "    for w in word_tokenize(s):\n",
    "        words.append(w)\n",
    "print(words)"
   ]
  },
  {
   "cell_type": "code",
   "execution_count": 13,
   "id": "1f2afed9-43f8-45c5-9e58-62e31e2fdce6",
   "metadata": {},
   "outputs": [
    {
     "name": "stderr",
     "output_type": "stream",
     "text": [
      "[nltk_data] Downloading package stopwords to /home/jovyan/nltk_data...\n",
      "[nltk_data]   Package stopwords is already up-to-date!\n"
     ]
    },
    {
     "data": {
      "text/plain": [
       "True"
      ]
     },
     "execution_count": 13,
     "metadata": {},
     "output_type": "execute_result"
    }
   ],
   "source": [
    "from nltk.corpus import stopwords\n",
    "from string import punctuation\n",
    "nltk.download('stopwords')"
   ]
  },
  {
   "cell_type": "code",
   "execution_count": 14,
   "id": "c0059225-68c2-49fe-869e-a5e78cd78a60",
   "metadata": {},
   "outputs": [],
   "source": [
    "# removing Stop Words"
   ]
  },
  {
   "cell_type": "code",
   "execution_count": 15,
   "id": "2b792408-9b6b-4522-88b8-fe9bafd0df25",
   "metadata": {
    "tags": []
   },
   "outputs": [
    {
     "name": "stdout",
     "output_type": "stream",
     "text": [
      "['!', '\"', '#', '$', '%', '&', \"'\", '(', ')', '*', '+', ',', '-', '.', '/', ':', ';', '<', '=', '>', '?', '@', '[', '\\\\', ']', '^', '_', '`', '{', '|', '}', '~', 'i', 'me', 'my', 'myself', 'we', 'our', 'ours', 'ourselves', 'you', \"you're\", \"you've\", \"you'll\", \"you'd\", 'your', 'yours', 'yourself', 'yourselves', 'he', 'him', 'his', 'himself', 'she', \"she's\", 'her', 'hers', 'herself', 'it', \"it's\", 'its', 'itself', 'they', 'them', 'their', 'theirs', 'themselves', 'what', 'which', 'who', 'whom', 'this', 'that', \"that'll\", 'these', 'those', 'am', 'is', 'are', 'was', 'were', 'be', 'been', 'being', 'have', 'has', 'had', 'having', 'do', 'does', 'did', 'doing', 'a', 'an', 'the', 'and', 'but', 'if', 'or', 'because', 'as', 'until', 'while', 'of', 'at', 'by', 'for', 'with', 'about', 'against', 'between', 'into', 'through', 'during', 'before', 'after', 'above', 'below', 'to', 'from', 'up', 'down', 'in', 'out', 'on', 'off', 'over', 'under', 'again', 'further', 'then', 'once', 'here', 'there', 'when', 'where', 'why', 'how', 'all', 'any', 'both', 'each', 'few', 'more', 'most', 'other', 'some', 'such', 'no', 'nor', 'not', 'only', 'own', 'same', 'so', 'than', 'too', 'very', 's', 't', 'can', 'will', 'just', 'don', \"don't\", 'should', \"should've\", 'now', 'd', 'll', 'm', 'o', 're', 've', 'y', 'ain', 'aren', \"aren't\", 'couldn', \"couldn't\", 'didn', \"didn't\", 'doesn', \"doesn't\", 'hadn', \"hadn't\", 'hasn', \"hasn't\", 'haven', \"haven't\", 'isn', \"isn't\", 'ma', 'mightn', \"mightn't\", 'mustn', \"mustn't\", 'needn', \"needn't\", 'shan', \"shan't\", 'shouldn', \"shouldn't\", 'wasn', \"wasn't\", 'weren', \"weren't\", 'won', \"won't\", 'wouldn', \"wouldn't\"]\n"
     ]
    }
   ],
   "source": [
    "myStopWords = list(punctuation) + stopwords.words('english')\n",
    "print(myStopWords)"
   ]
  },
  {
   "cell_type": "code",
   "execution_count": 16,
   "id": "88bd964d-b2dc-4878-a2b9-b2e1d97fc0c5",
   "metadata": {
    "tags": []
   },
   "outputs": [],
   "source": [
    "wordsNoStop = []\n",
    "for i in words:\n",
    "    if i not in myStopWords:\n",
    "        wordsNoStop.append(i)"
   ]
  },
  {
   "cell_type": "code",
   "execution_count": 17,
   "id": "60350564-4a89-42c1-a802-417a50ecb56f",
   "metadata": {
    "collapsed": true,
    "jupyter": {
     "outputs_hidden": true
    },
    "tags": []
   },
   "outputs": [
    {
     "name": "stdout",
     "output_type": "stream",
     "text": [
      "['Scoena', 'Prima', 'Thunder', 'Lightning', 'Enter', 'three', 'Witches', '1', 'When', 'shall', 'three', 'meet', 'againe', 'In', 'Thunder', 'Lightning', 'Raine', '2', 'When', 'Hurley-burley', \"'s\", 'done', 'When', 'Battaile', \"'s\", 'lost', 'wonne', '3', 'That', 'ere', 'set', 'Sunne', '1', 'Where', 'place', '2', 'Vpon', 'Heath', '3', 'There', 'meet', 'Macbeth', '1', 'I', 'come', 'Gray-Malkin', 'All', 'Padock', 'calls', 'anon', 'faire', 'foule', 'foule', 'faire', 'Houer', 'fogge', 'filthie', 'ayre', 'Exeunt', 'Scena', 'Secunda', 'Alarum', 'within', 'Enter', 'King', 'Malcome', 'Donalbaine', 'Lenox', 'attendants', 'meeting', 'bleeding', 'Captaine', 'King', 'What', 'bloody', 'man', 'report', 'As', 'seemeth', 'plight', 'Reuolt', 'The', 'newest', 'state', 'Mal', 'This', 'Serieant', 'Who', 'like', 'good', 'hardie', 'Souldier', 'fought', \"'Gainst\", 'Captiuitie', 'Haile', 'braue', 'friend', 'Say', 'King', 'knowledge', 'Broyle', 'As', 'thou', 'didst', 'leaue', 'Cap', 'Doubtfull', 'stood', 'As', 'two', 'spent', 'Swimmers', 'doe', 'cling', 'together', 'And', 'choake', 'Art', 'The', 'mercilesse', 'Macdonwald', 'Worthie', 'Rebell', 'The', 'multiplying', 'Villanies', 'Nature', 'Doe', 'swarme', 'vpon', 'Westerne', 'Isles', 'Of', 'Kernes', 'Gallowgrosses', 'supply', \"'d\", 'And', 'Fortune', 'damned', 'Quarry', 'smiling', 'Shew', \"'d\", 'like', 'Rebells', 'Whore', \"'s\", 'weake', 'For', 'braue', 'Macbeth', 'well', 'hee', 'deserues', 'Name', 'Disdayning', 'Fortune', 'brandisht', 'Steele', 'Which', 'smoak', \"'d\", 'bloody', 'execution', 'Like', 'Valours', 'Minion', 'caru', \"'d\", 'passage', 'Till', 'hee', 'fac', \"'d\", 'Slaue', 'Which', 'neu', 'r', 'shooke', 'hands', 'bad', 'farwell', 'Till', 'vnseam', \"'d\", 'Naue', 'toth', 'Chops', 'And', 'fix', \"'d\", 'Head', 'vpon', 'Battlements', 'King', 'O', 'valiant', 'Cousin', 'worthy', 'Gentleman', 'Cap', 'As', 'whence', 'Sunne', \"'gins\", 'reflection', 'Shipwracking', 'Stormes', 'direfull', 'Thunders', 'So', 'Spring', 'whence', 'comfort', 'seem', \"'d\", 'come', 'Discomfort', 'swells', 'Marke', 'King', 'Scotland', 'marke', 'No', 'sooner', 'Iustice', 'Valour', 'arm', \"'d\", 'Compell', \"'d\", 'skipping', 'Kernes', 'trust', 'heeles', 'But', 'Norweyan', 'Lord', 'surueying', 'vantage', 'With', 'furbusht', 'Armes', 'new', 'supplyes', 'men', 'Began', 'fresh', 'assault', 'King', 'Dismay', \"'d\", 'Captaines', 'Macbeth', 'Banquoh', 'Cap', 'Yes', 'Sparrowes', 'Eagles', 'Or', 'Hare', 'Lyon', 'If', 'I', 'say', 'sooth', 'I', 'must', 'report', 'As', 'Cannons', 'ouer-charg', \"'d\", 'double', 'Cracks', 'So', 'doubly', 'redoubled', 'stroakes', 'vpon', 'Foe', 'Except', 'meant', 'bathe', 'reeking', 'Wounds', 'Or', 'memorize', 'another', 'Golgotha', 'I', 'tell', 'I', 'faint', 'My', 'Gashes', 'cry', 'helpe', 'King', 'So', 'well', 'thy', 'words', 'become', 'thee', 'thy', 'wounds', 'They', 'smack', 'Honor', 'Goe', 'get', 'Surgeons', 'Enter', 'Rosse', 'Angus', 'Who', 'comes', 'Mal', 'The', 'worthy', 'Thane', 'Rosse', 'Lenox', 'What', 'haste', 'lookes', 'eyes', 'So', 'looke', 'seemes', 'speake', 'things', 'strange', 'Rosse', 'God', 'saue', 'King', 'King', 'Whence', \"cam'st\", 'thou', 'worthy', 'Thane', 'Rosse', 'From', 'Fiffe', 'great', 'King', 'Where', 'Norweyan', 'Banners', 'flowt', 'Skie', 'And', 'fanne', 'people', 'cold', 'Norway', 'himselfe', 'terrible', 'numbers', 'Assisted', 'disloyall', 'Traytor', 'The', 'Thane', 'Cawdor', 'began', 'dismall', 'Conflict', 'Till', 'Bellona', \"'s\", 'Bridegroome', 'lapt', 'proofe', 'Confronted', 'selfe-comparisons', 'Point', 'Point', 'rebellious', 'Arme', \"'gainst\", 'Arme', 'Curbing', 'lauish', 'spirit', 'conclude', 'The', 'Victorie', 'fell', 'vs', 'King', 'Great', 'happinesse', 'Rosse', 'That', 'Sweno', 'Norwayes', 'King', 'Craues', 'composition', 'Nor', 'would', 'deigne', 'buriall', 'men', 'Till', 'disbursed', 'Saint', 'Colmes', 'ynch', 'Ten', 'thousand', 'Dollars', 'generall', 'vse', 'King', 'No', 'Thane', 'Cawdor', 'shall', 'deceiue', 'Our', 'Bosome', 'interest', 'Goe', 'pronounce', 'present', 'death', 'And', 'former', 'Title', 'greet', 'Macbeth', 'Rosse', 'Ile', 'see', 'done', 'King', 'What', 'hath', 'lost', 'Noble', 'Macbeth', 'hath', 'wonne', 'Exeunt', 'Scena', 'Tertia', 'Thunder', 'Enter', 'three', 'Witches', '1', 'Where', 'hast', 'thou', 'beene', 'Sister', '2', 'Killing', 'Swine', '3', 'Sister', 'thou', '1', 'A', 'Saylors', 'Wife', 'Chestnuts', 'Lappe', 'And', 'mouncht', 'mouncht', 'mouncht', 'Giue', 'quoth', 'I.', 'Aroynt', 'thee', 'Witch', 'rumpe-fed', 'Ronyon', 'cryes', 'Her', 'Husband', \"'s\", 'Aleppo', 'gone', 'Master', \"o'th\", 'Tiger', 'But', 'Syue', 'Ile', 'thither', 'sayle', 'And', 'like', 'Rat', 'without', 'tayle', 'Ile', 'doe', 'Ile', 'doe', 'Ile', 'doe', '2', 'Ile', 'giue', 'thee', 'Winde', '1', \"Th'art\", 'kinde', '3', 'And', 'I', 'another', '1', 'I', 'selfe', 'haue', 'And', 'Ports', 'blow', 'All', 'Quarters', 'know', \"I'th\", 'Ship-mans', 'Card', 'Ile', 'dreyne', 'drie', 'Hay', 'Sleepe', 'shall', 'neyther', 'Night', 'Day', 'Hang', 'vpon', 'Pent-house', 'Lid', 'He', 'shall', 'liue', 'man', 'forbid', 'Wearie', \"Seu'nights\", 'nine', 'times', 'nine', 'Shall', 'dwindle', 'peake', 'pine', 'Though', 'Barke', 'lost', 'Yet', 'shall', 'Tempest-tost', 'Looke', 'I', 'haue', '2', 'Shew', 'shew', '1', 'Here', 'I', 'haue', 'Pilots', 'Thumbe', 'Wrackt', 'homeward', 'come', 'Drum', 'within', '3', 'A', 'Drumme', 'Drumme', 'Macbeth', 'doth', 'come', 'All', 'The', 'weyward', 'Sisters', 'hand', 'hand', 'Posters', 'Sea', 'Land', 'Thus', 'doe', 'goe', 'Thrice', 'thine', 'thrice', 'mine', 'And', 'thrice', 'againe', 'make', 'vp', 'nine', 'Peace', 'Charme', \"'s\", 'wound', 'vp', 'Enter', 'Macbeth', 'Banquo', 'Macb', 'So', 'foule', 'faire', 'day', 'I', 'haue', 'seene', 'Banquo', 'How', 'farre', \"is't\", 'call', \"'d\", 'Soris', 'What', 'So', 'wither', \"'d\", 'wilde', 'attyre', 'That', 'looke', 'like', 'th', 'Inhabitants', \"o'th\", 'Earth', 'And', 'yet', \"n't\", 'Liue', 'aught', 'That', 'man', 'may', 'question', 'seeme', 'vnderstand', 'By', 'choppie', 'finger', 'laying', 'Vpon', 'skinnie', 'Lips', 'Women', 'And', 'yet', 'Beards', 'forbid', 'interprete', 'That', 'Mac', 'Speake', '1', 'All', 'haile', 'Macbeth', 'haile', 'thee', 'Thane', 'Glamis', '2', 'All', 'haile', 'Macbeth', 'haile', 'thee', 'Thane', 'Cawdor', '3', 'All', 'haile', 'Macbeth', 'shalt', 'King', 'hereafter', 'Banq', 'Good', 'Sir', 'doe', 'start', 'seeme', 'feare', 'Things', 'doe', 'sound', 'faire', \"i'th\", 'name', 'truth', 'Are', 'ye', 'fantasticall', 'indeed', 'Which', 'outwardly', 'ye', 'shew', 'My', 'Noble', 'Partner', 'You', 'greet', 'present', 'Grace', 'great', 'prediction', 'Of', 'Noble', 'hauing', 'Royall', 'hope', 'That', 'seemes', 'wrapt', 'withall', 'speake', 'If', 'looke', 'Seedes', 'Time', 'And', 'say', 'Graine', 'grow', 'Speake', 'neyther', 'begge', 'feare', 'Your', 'fauors', 'hate', '1', 'Hayle', '2', 'Hayle', '3', 'Hayle', '1', 'Lesser', 'Macbeth', 'greater', '2', 'Not', 'happy', 'yet', 'much', 'happyer', '3', 'Thou', 'shalt', 'get', 'Kings', 'though', 'thou', 'none', 'So', 'haile', 'Macbeth', 'Banquo', '1', 'Banquo', 'Macbeth', 'haile', 'Macb', 'Stay', 'imperfect', 'Speakers', 'tell', 'By', 'Sinells', 'death', 'I', 'know', 'I', 'Thane', 'Glamis', 'But', 'Cawdor', 'Thane', 'Cawdor', 'liues', 'A', 'prosperous', 'Gentleman', 'And', 'King', 'Stands', 'within', 'prospect', 'beleefe', 'No', 'Cawdor', 'Say', 'whence', 'You', 'owe', 'strange', 'Intelligence', 'Vpon', 'blasted', 'Heath', 'stop', 'way', 'With', 'Prophetique', 'greeting', 'Speake', 'I', 'charge', 'Witches', 'vanish', 'Banq', 'The', 'Earth', 'hath', 'bubbles', 'Water', 'ha', \"'s\", 'And', 'whither', 'vanish', \"'d\", 'Macb', 'Into', 'Ayre', 'seem', \"'d\", 'corporall', 'Melted', 'breath', 'Winde', 'Would', \"stay'd\", 'Banq', 'Were', 'things', 'doe', 'speake', 'Or', 'haue', 'eaten', 'insane', 'Root', 'That', 'takes', 'Reason', 'Prisoner', 'Macb', 'Your', 'Children', 'shall', 'Kings', 'Banq', 'You', 'shall', 'King', 'Macb', 'And', 'Thane', 'Cawdor', 'went', 'Banq', 'Toth', 'selfe-same', 'tune', 'words', \"'s\", 'Enter', 'Rosse', 'Angus', 'Rosse', 'The', 'King', 'hath', 'happily', 'receiu', \"'d\", 'Macbeth', 'The', 'newes', 'thy', 'successe', 'reades', 'Thy', 'personall', 'Venture', 'Rebels', 'sight', 'His', 'Wonders', 'Prayses', 'doe', 'contend', 'Which', 'thine', 'silenc', \"'d\", 'In', 'viewing', \"'re\", 'rest', \"o'th\", 'selfe-same', 'day', 'He', 'findes', 'thee', 'stout', 'Norweyan', 'Rankes', 'Nothing', 'afeard', 'thy', 'selfe', 'didst', 'make', 'Strange', 'Images', 'death', 'thick', 'Tale', 'Can', 'post', 'post', 'euery', 'one', 'beare', 'Thy', 'prayses', 'Kingdomes', 'great', 'defence', 'And', 'powr', \"'d\", 'downe', 'Ang', 'Wee', 'sent', 'To', 'giue', 'thee', 'Royall', 'Master', 'thanks', 'Onely', 'harrold', 'thee', 'sight', 'Not', 'pay', 'thee', 'Rosse', 'And', 'earnest', 'greater', 'Honor', 'He', 'bad', 'call', 'thee', 'Thane', 'Cawdor', 'In', 'addition', 'haile', 'worthy', 'Thane', 'For', 'thine', 'Banq', 'What', 'Deuill', 'speake', 'true', 'Macb', 'The', 'Thane', 'Cawdor', 'liues', 'Why', 'doe', 'dresse', 'borrowed', 'Robes', 'Ang', 'Who', 'Thane', 'liues', 'yet', 'But', 'vnder', 'heauie', 'Iudgement', 'beares', 'Life', 'Which', 'deserues', 'loose', 'Whether', 'combin', \"'d\", 'Norway', 'Or', 'lyne', 'Rebell', 'hidden', 'helpe', 'And', 'vantage', \"labour'd\", 'In', 'Countreyes', 'wracke', 'I', 'know', 'But', 'Treasons', 'Capitall', 'confess', \"'d\", 'prou', \"'d\", 'Haue', 'ouerthrowne', 'Macb', 'Glamys', 'Thane', 'Cawdor', 'The', 'greatest', 'behinde', 'Thankes', 'paines', 'Doe', 'hope', 'Children', 'shall', 'Kings', 'When', 'gaue', 'Thane', 'Cawdor', 'Promis', \"'d\", 'lesse', 'Banq', 'That', 'trusted', 'home', 'Might', 'yet', 'enkindle', 'vnto', 'Crowne', 'Besides', 'Thane', 'Cawdor', 'But', \"'t\", 'strange', 'And', 'oftentimes', 'winne', 'vs', 'harme', 'The', 'Instruments', 'Darknesse', 'tell', 'vs', 'Truths', 'Winne', 'vs', 'honest', 'Trifles', \"betray's\", 'In', 'deepest', 'consequence', 'Cousins', 'word', 'I', 'pray', 'Macb', 'Two', 'Truths', 'told', 'As', 'happy', 'Prologues', 'swelling', 'Act', 'Of', 'Imperiall', 'Theame', 'I', 'thanke', 'Gentlemen', 'This', 'supernaturall', 'solliciting', 'Can', 'ill', 'good', 'If', 'ill', 'hath', 'giuen', 'earnest', 'successe', 'Commencing', 'Truth', 'I', 'Thane', 'Cawdor', 'If', 'good', 'doe', 'I', 'yeeld', 'suggestion', 'Whose', 'horrid', 'Image', 'doth', 'vnfixe', 'Heire', 'And', 'make', 'seated', 'Heart', 'knock', 'Ribbes', 'Against', 'vse', 'Nature', 'Present', 'Feares', 'Are', 'lesse', 'horrible', 'Imaginings', 'My', 'Thought', 'whose', 'Murther', 'yet', 'fantasticall', 'Shakes', 'single', 'state', 'Man', 'That', 'Function', 'smother', \"'d\", 'surmise', 'And', 'nothing', 'Banq', 'Looke', 'Partner', \"'s\", 'rapt', 'Macb', 'If', 'Chance', 'haue', 'King', 'Why', 'Chance', 'may', 'Crowne', 'Without', 'stirre', 'Banq', 'New', 'Honors', 'come', 'vpon', 'Like', 'strange', 'Garments', 'cleaue', 'mould', 'But', 'aid', 'vse', 'Macb', 'Come', 'come', 'may', 'Time', 'Houre', 'runs', 'roughest', 'Day', 'Banq', 'Worthy', 'Macbeth', 'wee', 'stay', 'vpon', 'leysure', 'Macb', 'Giue', 'fauour', 'My', 'dull', 'Braine', 'wrought', 'things', 'forgotten', 'Kinde', 'Gentlemen', 'paines', 'registred', 'Where', 'euery', 'day', 'I', 'turne', 'Leafe', 'To', 'reade', 'Let', 'vs', 'toward', 'King', 'thinke', 'vpon', 'What', 'hath', 'chanc', \"'d\", 'time', 'The', 'Interim', 'hauing', 'weigh', \"'d\", 'let', 'vs', 'speake', 'Our', 'free', 'Hearts', 'Banq', 'Very', 'gladly', 'Macb', 'Till', 'enough', 'Come', 'friends', 'Exeunt', 'Scena', 'Quarta', 'Flourish', 'Enter', 'King', 'Lenox', 'Malcolme', 'Donalbaine', 'Attendants', 'King', 'Is', 'execution', 'done', 'Cawdor', 'Or', 'Commission', 'yet', 'return', \"'d\", 'Mal', 'My', 'Liege', 'yet', 'come', 'back', 'But', 'I', 'haue', 'spoke', 'one', 'saw', 'die', 'Who', 'report', 'frankly', 'hee', 'Confess', \"'d\", 'Treasons', 'implor', \"'d\", 'Highnesse', 'Pardon', 'And', 'set', 'forth', 'deepe', 'Repentance', 'Nothing', 'Life', 'became', 'Like', 'leauing', 'Hee', \"dy'de\", 'As', 'one', 'beene', 'studied', 'death', 'To', 'throw', 'away', 'dearest', 'thing', 'ow', \"'d\", 'As', \"'twere\", 'carelesse', 'Trifle', 'King', 'There', \"'s\", 'Art', 'To', 'finde', 'Mindes', 'construction', 'Face', 'He', 'Gentleman', 'I', 'built', 'An', 'absolute', 'Trust', 'Enter', 'Macbeth', 'Banquo', 'Rosse', 'Angus', 'O', 'worthyest', 'Cousin', 'The', 'sinne', 'Ingratitude', 'euen', 'Was', 'heauie', 'Thou', 'art', 'farre', 'That', 'swiftest', 'Wing', 'Recompence', 'slow', 'To', 'ouertake', 'thee', 'Would', 'thou', 'hadst', 'lesse', 'deseru', \"'d\", 'That', 'proportion', 'thanks', 'payment', 'Might', 'haue', 'beene', 'mine', 'onely', 'I', 'haue', 'left', 'say', 'More', 'thy', 'due', 'pay', 'Macb', 'The', 'seruice', 'loyaltie', 'I', 'owe', 'In', 'payes', 'selfe', 'Your', 'Highnesse', 'part', 'receiue', 'Duties', 'And', 'Duties', 'Throne', 'State', 'Children', 'Seruants', 'doe', 'By', 'euery', 'thing', 'safe', 'toward', 'Loue', 'And', 'Honor', 'King', 'Welcome', 'hither', 'I', 'haue', 'begun', 'plant', 'thee', 'labour', 'To', 'make', 'thee', 'full', 'growing', 'Noble', 'Banquo', 'That', 'hast', 'lesse', 'deseru', \"'d\", 'must', 'knowne', 'No', 'lesse', 'haue', 'done', 'Let', 'enfold', 'thee', 'And', 'hold', 'thee', 'Heart', 'Banq', 'There', 'I', 'grow', 'The', 'Haruest', 'owne', 'King', 'My', 'plenteous', 'Ioyes', 'Wanton', 'fulnesse', 'seeke', 'hide', 'themselues', 'In', 'drops', 'sorrow', 'Sonnes', 'Kinsmen', 'Thanes', 'And', 'whose', 'places', 'nearest', 'know', 'We', 'establish', 'Estate', 'vpon', 'Our', 'eldest', 'Malcolme', 'name', 'hereafter', 'The', 'Prince', 'Cumberland', 'Honor', 'must', 'Not', 'vnaccompanied', 'inuest', 'onely', 'But', 'signes', 'Noblenesse', 'like', 'Starres', 'shall', 'shine', 'On', 'deseruers', 'From', 'hence', 'Envernes', 'And', 'binde', 'vs', 'Macb', 'The', 'Rest', 'Labor', 'vs', \"'d\", 'Ile', 'selfe', 'Herbenger', 'make', 'ioyfull', 'The', 'hearing', 'Wife', 'approach', 'So', 'humbly', 'take', 'leaue', 'King', 'My', 'worthy', 'Cawdor', 'Macb', 'The', 'Prince', 'Cumberland', 'step', 'On', 'I', 'must', 'fall', 'downe', 'else', \"o're-leape\", 'For', 'way', 'lyes', 'Starres', 'hide', 'fires', 'Let', 'Light', 'see', 'black', 'deepe', 'desires', 'The', 'Eye', 'winke', 'Hand', 'yet', 'let', 'bee', 'Which', 'Eye', 'feares', 'done', 'see', 'Enter', 'King', 'True', 'worthy', 'Banquo', 'full', 'valiant', 'And', 'commendations', 'I', 'fed', 'It', 'Banquet', 'Let', \"'s\", 'Whose', 'care', 'gone', 'bid', 'vs', 'welcome', 'It', 'peerelesse', 'Kinsman', 'Flourish', 'Exeunt', 'Scena', 'Quinta', 'Enter', 'Macbeths', 'Wife', 'alone', 'Letter', 'Lady', 'They', 'met', 'day', 'successe', 'I', 'haue', 'learn', \"'d\", \"perfect'st\", 'report', 'haue', 'mortall', 'knowledge', 'When', 'I', 'burnt', 'desire', 'question', 'made', 'themselues', 'Ayre', 'vanish', \"'d\", 'Whiles', 'I', 'stood', 'rapt', 'wonder', 'came', 'Missiues', 'King', 'all-hail', \"'d\", 'Thane', 'Cawdor', 'Title', 'weyward', 'Sisters', 'saluted', 'referr', \"'d\", 'comming', 'time', 'haile', 'King', 'shalt', 'This', 'haue', 'I', 'thought', 'good', 'deliuer', 'thee', 'dearest', 'Partner', 'Greatnesse', 'thou', \"might'st\", 'loose', 'dues', 'reioycing', 'ignorant', 'Greatnesse', 'promis', \"'d\", 'thee', 'Lay', 'thy', 'heart', 'farewell', 'Glamys', 'thou', 'art', 'Cawdor', 'shalt', 'What', 'thou', 'art', 'promis', \"'d\", 'yet', 'doe', 'I', 'feare', 'thy', 'Nature', 'It', 'full', \"o'th\", 'Milke', 'humane', 'kindnesse', 'To', 'catch', 'neerest', 'way', 'Thou', \"would'st\", 'great', 'Art', 'without', 'Ambition', 'without', 'The', 'illnesse', 'attend', 'What', 'thou', \"would'st\", 'highly', 'That', \"would'st\", 'thou', 'holily', \"would'st\", 'play', 'false', 'And', 'yet', \"would'st\", 'wrongly', 'winne', \"Thould'st\", 'haue', 'great', 'Glamys', 'cryes', 'Thus', 'thou', 'must', 'doe', 'thou', 'haue', 'And', 'rather', 'thou', \"do'st\", 'feare', 'doe', 'Then', 'wishest', 'vndone', 'High', 'thee', 'hither', 'That', 'I', 'may', 'powre', 'Spirits', 'thine', 'Eare', 'And', 'chastise', 'valour', 'Tongue', 'All', 'impeides', 'thee', 'Golden', 'Round', 'Which', 'Fate', 'Metaphysicall', 'ayde', 'doth', 'seeme', 'To', 'haue', 'thee', 'crown', \"'d\", 'withall', 'Enter', 'Messenger', 'What', 'tidings', 'Mess', 'The', 'King', 'comes', 'Night', 'Lady', \"Thou'rt\", 'mad', 'say', 'Is', 'thy', 'Master', \"wer't\", 'Would', 'haue', 'inform', \"'d\", 'preparation', 'Mess', 'So', 'please', 'true', 'Thane', 'comming', 'One', 'fellowes', 'speed', 'Who', 'almost', 'dead', 'breath', 'scarcely', 'Then', 'would', 'make', 'vp', 'Message', 'Lady', 'Giue', 'tending', 'He', 'brings', 'great', 'newes', 'Exit', 'Messenger', 'The', 'Rauen', 'himselfe', 'hoarse', 'That', 'croakes', 'fatall', 'entrance', 'Duncan', 'Vnder', 'Battlements', 'Come', 'Spirits', 'That', 'tend', 'mortall', 'thoughts', 'vnsex', 'And', 'fill', 'Crowne', 'Toe', 'top-full', 'Of', 'direst', 'Crueltie', 'make', 'thick', 'blood', 'Stop', 'vp', 'th', 'accesse', 'passage', 'Remorse', 'That', 'compunctious', 'visitings', 'Nature', 'Shake', 'fell', 'purpose', 'keepe', 'peace', 'betweene', 'Th', 'effect', 'hit', 'Come', 'Womans', 'Brests', 'And', 'take', 'Milke', 'Gall', \"murth'ring\", 'Ministers', 'Where-euer', 'sightlesse', 'substances', 'You', 'wait', 'Natures', 'Mischiefe', 'Come', 'thick', 'Night', 'And', 'pall', 'thee', 'dunnest', 'smoake', 'Hell', 'That', 'keene', 'Knife', 'see', 'Wound', 'makes', 'Nor', 'Heauen', 'peepe', 'Blanket', 'darke', 'To', 'cry', 'hold', 'hold', 'Enter', 'Macbeth', 'Great', 'Glamys', 'worthy', 'Cawdor', 'Greater', 'all-haile', 'hereafter', 'Thy', 'Letters', 'haue', 'transported', 'beyond', 'This', 'ignorant', 'present', 'I', 'feele', 'The', 'future', 'instant', 'Macb', 'My', 'dearest', 'Loue', 'Duncan', 'comes', 'Night', 'Lady', 'And', 'goes', 'hence', 'Macb', 'To', 'morrow', 'purposes', 'Lady', 'O', 'neuer', 'Shall', 'Sunne', 'Morrow', 'see', 'Your', 'Face', 'Thane', 'Booke', 'men', 'May', 'reade', 'strange', 'matters', 'beguile', 'time', 'Looke', 'like', 'time', 'beare', 'welcome', 'Eye', 'Your', 'Hand', 'Tongue', 'looke', 'like', 'th', 'innocent', 'flower', 'But', 'Serpent', \"vnder't\", 'He', \"'s\", 'comming', 'Must', 'prouided', 'shall', 'put', 'This', 'Nights', 'great', 'Businesse', 'dispatch', 'Which', 'shall', 'Nights', 'Dayes', 'come', 'Giue', 'solely', 'soueraigne', 'sway', 'Masterdome', 'Macb', 'We', 'speake', 'Lady', 'Onely', 'looke', 'vp', 'cleare', 'To', 'alter', 'fauor', 'euer', 'feare', 'Leaue', 'rest', 'Exeunt', 'Scena', 'Sexta', 'Hoboyes', 'Torches', 'Enter', 'King', 'Malcolme', 'Donalbaine', 'Banquo', 'Lenox', 'Macduff', 'Rosse', 'Angus', 'Attendants', 'King', 'This', 'Castle', 'hath', 'pleasant', 'seat', 'The', 'ayre', 'nimbly', 'sweetly', 'recommends', 'selfe', 'Vnto', 'gentle', 'sences', 'Banq', 'This', 'Guest', 'Summer', 'The', 'Temple-haunting', 'Barlet', 'approue', 'By', 'loued', 'Mansonry', 'Heauens', 'breath', 'Smells', 'wooingly', 'Iutty', 'frieze', 'Buttrice', 'Coigne', 'Vantage', 'Bird', 'Hath', 'made', 'pendant', 'Bed', 'procreant', 'Cradle', 'Where', 'must', 'breed', 'haunt', 'I', 'haue', \"obseru'd\", 'The', 'ayre', 'delicate', 'Enter', 'Lady', 'King', 'See', 'see', 'honor', \"'d\", 'Hostesse', 'The', 'Loue', 'followes', 'vs', 'sometime', 'trouble', 'Which', 'still', 'thanke', 'Loue', 'Herein', 'I', 'teach', 'How', 'shall', 'bid', 'God-eyld', 'vs', 'paines', 'And', 'thanke', 'vs', 'trouble', 'Lady', 'All', 'seruice', 'In', 'euery', 'point', 'twice', 'done', 'done', 'double', 'Were', 'poore', 'single', 'Businesse', 'contend', 'Against', 'Honors', 'deepe', 'broad', 'Wherewith', 'Maiestie', 'loades', 'House', 'For', 'old', 'late', 'Dignities', 'Heap', \"'d\", 'vp', 'rest', 'Ermites', 'King', 'Where', \"'s\", 'Thane', 'Cawdor', 'We', 'courst', 'heeles', 'purpose', 'To', 'Purueyor', 'But', 'rides', 'well', 'And', 'great', 'Loue', 'sharpe', 'Spurre', 'hath', 'holp', 'To', 'home', 'vs', 'Faire', 'Noble', 'Hostesse', 'We', 'guest', 'night', 'La', 'Your', 'Seruants', 'euer', 'Haue', 'themselues', 'compt', 'To', 'make', 'Audit', 'Highnesse', 'pleasure', 'Still', 'returne', 'owne', 'King', 'Giue', 'hand', 'Conduct', 'mine', 'Host', 'loue', 'highly', 'And', 'shall', 'continue', 'Graces', 'towards', 'By', 'leaue', 'Hostesse', 'Exeunt', 'Scena', 'Septima', 'Hoboyes', 'Torches', 'Enter', 'Sewer', 'diuers', 'Seruants', 'Dishes', 'Seruice', 'ouer', 'Stage', 'Then', 'enter', 'Macbeth', 'Macb', 'If', 'done', \"'t\", 'done', \"'twer\", 'well', 'It', 'done', 'quickly', 'If', 'th', 'Assassination', 'Could', 'trammell', 'vp', 'Consequence', 'catch', 'With', 'surcease', 'Successe', 'blow', 'Might', 'end', 'Heere', 'But', 'heere', 'vpon', 'Banke', 'Schoole', 'time', \"Wee'ld\", 'iumpe', 'life', 'come', 'But', 'Cases', 'We', 'still', 'haue', 'iudgement', 'heere', 'teach', 'Bloody', 'Instructions', 'taught', 'returne', 'To', 'plague', 'th', 'Inuenter', 'euen-handed', 'Iustice', 'Commends', 'th', 'Ingredience', 'poyson', \"'d\", 'Challice', 'To', 'owne', 'lips', 'Hee', \"'s\", 'heere', 'double', 'trust', 'First', 'I', 'Kinsman', 'Subiect', 'Strong', 'Deed', 'Then', 'Host', 'Who', 'Murtherer', 'shut', 'doore', 'Not', 'beare', 'knife', 'selfe', 'Besides', 'Duncane', 'Hath', 'borne', 'Faculties', 'meeke', 'hath', 'bin', 'So', 'cleere', 'great', 'Office', 'Vertues', 'Will', 'pleade', 'like', 'Angels', 'Trumpet-tongu', \"'d\", 'The', 'deepe', 'damnation', 'taking', 'And', 'Pitty', 'like', 'naked', 'New-borne-Babe', 'Striding', 'blast', 'Heauens', 'Cherubin', \"hors'd\", 'Vpon', 'sightlesse', 'Curriors', 'Ayre', 'Shall', 'blow', 'horrid', 'deed', 'euery', 'eye', 'That', 'teares', 'shall', 'drowne', 'winde', 'I', 'haue', 'Spurre', 'To', 'pricke', 'sides', 'intent', 'onely', 'Vaulting', 'Ambition', 'ore-leapes', 'selfe', 'And', 'falles', 'th', 'Enter', 'Lady', 'How', 'What', 'Newes', 'La', 'He', 'almost', 'supt', 'haue', 'left', 'chamber', 'Mac', 'Hath', 'ask', \"'d\", 'La', 'Know', 'ha', \"'s\", 'Mac', 'We', 'proceed', 'Businesse', 'He', 'hath', 'Honour', \"'d\", 'late', 'I', 'haue', 'bought', 'Golden', 'Opinions', 'sorts', 'people', 'Which', 'would', 'worne', 'newest', 'glosse', 'Not', 'cast', 'aside', 'soone', 'La', 'Was', 'hope', 'drunke', 'Wherein', 'drest', 'selfe', 'Hath', 'slept', 'since', 'And', 'wakes', 'looke', 'greene', 'pale', 'At', 'freely', 'From', 'time', 'Such', 'I', 'account', 'thy', 'loue', 'Art', 'thou', \"affear'd\", 'To', 'thine', 'owne', 'Act', 'Valour', 'As', 'thou', 'art', 'desire', \"Would'st\", 'thou', 'haue', 'Which', 'thou', \"esteem'st\", 'Ornament', 'Life', 'And', 'liue', 'Coward', 'thine', 'owne', 'Esteeme', 'Letting', 'I', 'dare', 'wait', 'vpon', 'I', 'would', 'Like', 'poore', 'Cat', \"i'th\", 'Addage', 'Macb', 'Prythee', 'peace', 'I', 'dare', 'may', 'become', 'man', 'Who', 'dares', 'none', 'La', 'What', 'Beast', \"was't\", 'That', 'made', 'breake', 'enterprize', 'When', 'durst', 'man', 'And', 'would', 'Be', 'much', 'man', 'Nor', 'time', 'place', 'Did', 'adhere', 'yet', 'would', 'make', 'They', 'haue', 'made', 'themselues', 'fitnesse', 'Do', \"'s\", 'vnmake', 'I', 'haue', 'giuen', 'Sucke', 'know', 'How', 'tender', \"'t\", 'loue', 'Babe', 'milkes', 'I', 'would', 'smyling', 'Face', 'Haue', 'pluckt', 'Nipple', 'Bonelesse', 'Gummes', 'And', 'dasht', 'Braines', 'I', 'sworne', 'As', 'haue', 'done', 'Macb', 'If', 'faile', 'Lady', 'We', 'faile', 'But', 'screw', 'courage', 'sticking', 'place', 'And', \"wee'le\", 'fayle', 'Duncan', 'asleepe', 'Whereto', 'rather', 'shall', 'dayes', 'hard', 'Iourney', 'Soundly', 'inuite', 'two', 'Chamberlaines', 'Will', 'I', 'Wine', 'Wassell', 'conuince', 'That', 'Memorie', 'Warder', 'Braine', 'Shall', 'Fume', 'Receit', 'Reason', 'A', 'Lymbeck', 'onely', 'Swinish', 'sleepe', 'Their', 'drenched', 'Natures', 'lyes', 'Death', 'What', 'I', 'performe', 'vpon', 'Th', 'vnguarded', 'Duncan', 'What', 'put', 'vpon', 'His', 'spungie', 'Officers', 'shall', 'beare', 'guilt', 'Of', 'great', 'quell', 'Macb', 'Bring', 'forth', 'Men-Children', 'onely', 'For', 'thy', 'vndaunted', 'Mettle', 'compose', 'Nothing', 'Males', 'Will', 'receiu', \"'d\", 'When', 'haue', 'mark', \"'d\", 'blood', 'sleepie', 'two', 'Of', 'owne', 'Chamber', 'vs', \"'d\", 'Daggers', 'That', 'haue', \"n't\", 'Lady', 'Who', 'dares', 'receiue', 'As', 'shall', 'make', 'Griefes', 'Clamor', 'rore', 'Vpon', 'Death', 'Macb', 'I', 'settled', 'bend', 'vp', 'Each', 'corporall', 'Agent', 'terrible', 'Feat', 'Away', 'mock', 'time', 'fairest', 'show', 'False', 'Face', 'must', 'hide', 'false', 'Heart', 'doth', 'know', 'Exeunt', 'Actus', 'Secundus', 'Scena', 'Prima', 'Enter', 'Banquo', 'Fleance', 'Torch', 'Banq', 'How', 'goes', 'Night', 'Boy', 'Fleance', 'The', 'Moone', 'downe', 'I', 'haue', 'heard', 'Clock', 'Banq', 'And', 'goes', 'downe', 'Twelue', 'Fleance', 'I', \"take't\", \"'t\", 'later', 'Sir', 'Banq', 'Hold', 'take', 'Sword', 'There', \"'s\", 'Husbandry', 'Heauen', 'Their', 'Candles', 'take', 'thee', 'A', 'heauie', 'Summons', 'lyes', 'like', 'Lead', 'vpon', 'And', 'yet', 'I', 'would', 'sleepe', 'Mercifull', 'Powers', 'restraine', 'cursed', 'thoughts', 'That', 'Nature', 'giues', 'way', 'repose', 'Enter', 'Macbeth', 'Seruant', 'Torch', 'Giue', 'Sword', \"'s\", 'Macb', 'A', 'Friend', 'Banq', 'What', 'Sir', 'yet', 'rest', 'King', \"'s\", 'bed', 'He', 'hath', 'beene', 'vnusuall', 'Pleasure', 'And', 'sent', 'forth', 'great', 'Largesse', 'Offices', 'This', 'Diamond', 'greetes', 'Wife', 'withall', 'By', 'name', 'kind', 'Hostesse', 'And', 'shut', 'vp', 'measurelesse', 'content', 'Mac', 'Being', 'vnprepar', \"'d\", 'Our', 'became', 'seruant', 'defect', 'Which', 'else', 'free', 'haue', 'wrought', 'Banq', 'All', \"'s\", 'well', 'I', 'dreamt', 'last', 'Night', 'three', 'weyward', 'Sisters', 'To', 'haue', 'shew', \"'d\", 'truth', 'Macb', 'I', 'thinke', 'Yet', 'entreat', 'houre', 'serue', 'We', 'would', 'spend', 'words', 'vpon', 'Businesse', 'If', 'would', 'graunt', 'time', 'Banq', 'At', \"kind'st\", 'leysure', 'Macb', 'If', 'shall', 'cleaue', 'consent', 'When', \"'t\", 'shall', 'make', 'Honor', 'Banq', 'So', 'I', 'lose', 'none', 'In', 'seeking', 'augment', 'still', 'keepe', 'My', 'Bosome', 'franchis', \"'d\", 'Allegeance', 'cleare', 'I', 'shall', \"counsail'd\", 'Macb', 'Good', 'repose', 'Banq', 'Thankes', 'Sir', 'like', 'Exit', 'Banquo', 'Macb', 'Goe', 'bid', 'thy', 'Mistresse', 'drinke', 'ready', 'She', 'strike', 'vpon', 'Bell', 'Get', 'thee', 'bed', 'Enter', 'Is', 'Dagger', 'I', 'see', 'The', 'Handle', 'toward', 'Hand', 'Come', 'let', 'clutch', 'thee', 'I', 'haue', 'thee', 'yet', 'I', 'see', 'thee', 'still', 'Art', 'thou', 'fatall', 'Vision', 'sensible', 'To', 'feeling', 'sight', 'art', 'thou', 'A', 'Dagger', 'Minde', 'false', 'Creation', 'Proceeding', 'heat-oppressed', 'Braine', 'I', 'see', 'thee', 'yet', 'forme', 'palpable', 'As', 'I', 'draw', 'Thou', \"marshall'st\", 'way', 'I', 'going', 'And', 'Instrument', 'I', 'vse', 'Mine', 'Eyes', 'made', 'fooles', \"o'th\", 'Sences', 'Or', 'else', 'worth', 'rest', 'I', 'see', 'thee', 'still', 'And', 'thy', 'Blade', 'Dudgeon', 'Gouts', 'Blood', 'Which', 'There', \"'s\", 'thing', 'It', 'bloody', 'Businesse', 'informes', 'Thus', 'mine', 'Eyes', 'Now', \"'re\", 'one', 'halfe', 'World', 'Nature', 'seemes', 'dead', 'wicked', 'Dreames', 'abuse', 'The', 'Curtain', \"'d\", 'sleepe', 'Witchcraft', 'celebrates', 'Pale', 'Heccats', 'Offrings', 'wither', \"'d\", 'Murther', 'Alarum', \"'d\", 'Centinell', 'Wolfe', 'Whose', 'howle', \"'s\", 'Watch', 'thus', 'stealthy', 'pace', 'With', 'Tarquins', 'rauishing', 'sides', 'towards', 'designe', 'Moues', 'like', 'Ghost', 'Thou', 'sowre', 'firme-set', 'Earth', 'Heare', 'steps', 'may', 'walke', 'feare', 'Thy', 'stones', 'prate', 'where-about', 'And', 'take', 'present', 'horror', 'time', 'Which', 'sutes', 'Whiles', 'I', 'threat', 'liues', 'Words', 'heat', 'deedes', 'cold', 'breath', 'giues', 'A', 'Bell', 'rings', 'I', 'goe', 'done', 'Bell', 'inuites', 'Heare', 'Duncan', 'Knell', 'That', 'summons', 'thee', 'Heauen', 'Hell', 'Enter', 'Scena', 'Secunda', 'Enter', 'Lady', 'La', 'That', 'hath', 'made', 'drunk', 'hath', 'made', 'bold', 'What', 'hath', 'quench', \"'d\", 'hath', 'giuen', 'fire', 'Hearke', 'peace', 'Owle', 'shriek', \"'d\", 'The', 'fatall', 'Bell-man', 'giues', \"stern'st\", 'good-night', 'He', 'Doores', 'open', 'And', 'surfeted', 'Groomes', 'doe', 'mock', 'charge', 'With', 'Snores', 'I', 'haue', 'drugg', \"'d\", 'Possets', 'That', 'Death', 'Nature', 'doe', 'contend', 'Whether', 'liue', 'dye', 'Enter', 'Macbeth', 'Macb', 'Who', \"'s\", 'hoa', 'Lady', 'Alack', 'I', 'afraid', 'haue', 'awak', \"'d\", 'And', \"'t\", 'done', 'th', 'attempt', 'deed', 'Confounds', 'vs', 'hearke', 'I', 'lay', \"'d\", 'Daggers', 'ready', 'He', 'could', 'misse', \"'em\", 'Had', 'resembled', 'My', 'Father', 'slept', 'I', \"n't\", 'My', 'Husband', 'Macb', 'I', 'haue', 'done', 'deed', 'Didst', 'thou', 'heare', 'noyse', 'Lady', 'I', 'heard', 'Owle', 'schreame', 'Crickets', 'cry', 'Did', 'speake', 'Macb', 'When', 'Lady', 'Now', 'Macb', 'As', 'I', 'descended', 'Lady', 'I', 'Macb', 'Hearke', 'lyes', \"i'th\", 'second', 'Chamber', 'Lady', 'Donalbaine', 'Mac', 'This', 'sorry', 'sight', 'Lady', 'A', 'foolish', 'thought', 'say', 'sorry', 'sight', 'Macb', 'There', \"'s\", 'one', 'laugh', \"'s\", 'sleepe', 'And', 'one', 'cry', \"'d\", 'Murther', 'wake', 'I', 'stood', 'heard', 'But', 'say', 'Prayers', 'And', 'addrest', 'againe', 'sleepe', 'Lady', 'There', 'two', 'lodg', \"'d\", 'together', 'Macb', 'One', 'cry', \"'d\", 'God', 'blesse', 'vs', 'Amen', 'As', 'seene', 'Hangmans', 'hands', 'Listning', 'feare', 'I', 'could', 'say', 'Amen', 'When', 'say', 'God', 'blesse', 'vs', 'Lady', 'Consider', 'deepely', 'Mac', 'But', 'wherefore', 'could', 'I', 'pronounce', 'Amen', 'I', 'need', 'Blessing', 'Amen', 'stuck', 'throat', 'Lady', 'These', 'deeds', 'must', 'thought', 'After', 'wayes', 'make', 'vs', 'mad', 'Macb', 'Me', 'thought', 'I', 'heard', 'voyce', 'cry', 'Sleep', 'Macbeth', 'murther', 'Sleepe', 'innocent', 'Sleepe', 'Sleepe', 'knits', 'vp', 'rauel', \"'d\", 'Sleeue', 'Care', 'The', 'death', 'dayes', 'Life', 'sore', 'Labors', 'Bath', 'Balme', 'hurt', 'Mindes', 'great', 'Natures', 'second', 'Course', 'Chiefe', 'nourisher', 'Life', \"'s\", 'Feast', 'Lady', 'What', 'doe', 'meane', 'Macb', 'Still', 'cry', \"'d\", 'Sleepe', 'House', 'Glamis', 'hath', 'murther', \"'d\", 'Sleepe', 'therefore', 'Cawdor', 'Shall', 'sleepe', 'Macbeth', 'shall', 'sleepe', 'Lady', 'Who', 'thus', 'cry', \"'d\", 'worthy', 'Thane', 'You', 'doe', 'vnbend', 'Noble', 'strength', 'thinke', 'So', 'braine-sickly', 'things', 'Goe', 'get', 'Water', 'And', 'wash', 'filthie', 'Witnesse', 'Hand', 'Why', 'bring', 'Daggers', 'place', 'They', 'must', 'lye', 'goe', 'carry', 'smeare', 'The', 'sleepie', 'Groomes', 'blood', 'Macb', 'Ile', 'goe', 'I', 'afraid', 'thinke', 'I', 'haue', 'done', 'Looke', \"n't\", 'againe', 'I', 'dare', 'Lady', 'Infirme', 'purpose', 'Giue', 'Daggers', 'sleeping', 'dead', 'Are', 'Pictures', \"'t\", 'Eye', 'Childhood', 'That', 'feares', 'painted', 'Deuill', 'If', 'doe', 'bleed', 'Ile', 'guild', 'Faces', 'Groomes', 'withall', 'For', 'must', 'seeme', 'Guilt', 'Enter', 'Knocke', 'within', 'Macb', 'Whence', 'knocking', 'How', \"is't\", 'euery', 'noyse', 'appalls', 'What', 'Hands', 'hah', 'pluck', 'mine', 'Eyes', 'Will', 'great', 'Neptunes', 'Ocean', 'wash', 'blood', 'Cleane', 'Hand', 'Hand', 'rather', 'The', 'multitudinous', 'Seas', 'incarnardine', 'Making', 'Greene', 'one', 'Red', 'Enter', 'Lady', 'Lady', 'My', 'Hands', 'colour', 'I', 'shame', 'To', 'weare', 'Heart', 'white', 'Knocke', 'I', 'heare', 'knocking', 'South', 'entry', 'Retyre', 'Chamber', 'A', 'little', 'Water', 'cleares', 'vs', 'deed', 'How', 'easie', 'Constancie', 'Hath', 'left', 'vnattended', 'Knocke', 'Hearke', 'knocking', 'Get', 'Night-Gowne', 'least', 'occasion', 'call', 'vs', 'And', 'shew', 'vs', 'Watchers', 'lost', 'So', 'poorely', 'thoughts', 'Macb', 'To', 'know', 'deed', 'Knocke', \"'Twere\", 'best', 'know', 'selfe', 'Wake', 'Duncan', 'thy', 'knocking', 'I', 'would', 'thou', \"could'st\", 'Exeunt', 'Scena', 'Tertia', 'Enter', 'Porter', 'Knocking', 'within', 'Porter', 'Here', \"'s\", 'knocking', 'indeede', 'man', 'Porter', 'Hell', 'Gate', 'hee', 'haue', 'old', 'turning', 'Key', 'Knock', 'Knock', 'Knock', 'Knock', 'Who', \"'s\", \"i'th\", 'name', 'Belzebub', 'Here', \"'s\", 'Farmer', \"hang'd\", 'himselfe', 'th', 'expectation', 'Plentie', 'Come', 'time', 'haue', 'Napkins', 'enow', \"you'le\", 'sweat', \"for't\", 'Knock', 'Knock', 'knock', 'Who', \"'s\", 'th', 'Deuils', 'Name', 'Faith', \"'s\", 'Equiuocator', 'could', 'sweare', 'Scales', 'eyther', 'Scale', 'committed', 'Treason', 'enough', 'Gods', 'sake', 'yet', 'could', 'equiuocate', 'Heauen', 'oh', 'come', 'Equiuocator', 'Knock', 'Knock', 'Knock', 'Knock', 'Who', \"'s\", \"'Faith\", \"'s\", 'English', 'Taylor', 'come', 'hither', 'stealing', 'French', 'Hose', 'Come', 'Taylor', 'may', 'rost', 'Goose', 'Knock', 'Knock', 'Knock', 'Neuer', 'quiet', 'What', 'place', 'cold', 'Hell', 'Ile', 'Deuill-Porter', 'I', 'thought', 'haue', 'let', 'Professions', 'goe', 'Primrose', 'way', 'th', 'euerlasting', 'Bonfire', 'Knock', 'Anon', 'anon', 'I', 'pray', 'remember', 'Porter', 'Enter', 'Macduff', 'Lenox', 'Macd', 'Was', 'late', 'friend', 'ere', 'went', 'Bed', 'That', 'doe', 'lye', 'late', 'Port', 'Faith', 'Sir', 'carowsing', 'till', 'second', 'Cock', 'And', 'Drinke', 'Sir', 'great', 'prouoker', 'three', 'things', 'Macd', 'What', 'three', 'things', 'Drinke', 'especially', 'prouoke', 'Port', 'Marry', 'Sir', 'Nose-painting', 'Sleepe', 'Vrine', 'Lecherie', 'Sir', 'prouokes', 'vnprouokes', 'prouokes', 'desire', 'takes', 'away', 'performance', 'Therefore', 'much', 'Drinke', 'may', 'said', 'Equiuocator', 'Lecherie', 'makes', 'marres', 'sets', 'takes', 'perswades', 'dis-heartens', 'makes', 'stand', 'stand', 'conclusion', 'equiuocates', 'sleepe', 'giuing', 'Lye', 'leaues', 'Macd', 'I', 'beleeue', 'Drinke', 'gaue', 'thee', 'Lye', 'last', 'Night', 'Port', 'That', 'Sir', \"i'the\", 'Throat', 'I', 'requited', 'Lye', 'I', 'thinke', 'strong', 'though', 'tooke', 'vp', 'Legges', 'sometime', 'yet', 'I', 'made', 'Shift', 'cast', 'Enter', 'Macbeth', 'Macd', 'Is', 'thy', 'Master', 'stirring', 'Our', 'knocking', 'ha', \"'s\", 'awak', \"'d\", 'comes', 'Lenox', 'Good', 'morrow', 'Noble', 'Sir', 'Macb', 'Good', 'morrow', 'Macd', 'Is', 'King', 'stirring', 'worthy', 'Thane', 'Macb', 'Not', 'yet', 'Macd', 'He', 'command', 'call', 'timely', 'I', 'haue', 'almost', 'slipt', 'houre', 'Macb', 'Ile', 'bring', 'Macd', 'I', 'know', 'ioyfull', 'trouble', 'But', 'yet', \"'t\", 'one', 'Macb', 'The', 'labour', 'delight', 'Physicks', 'paine', 'This', 'Doore', 'Macd', 'Ile', 'make', 'bold', 'call', \"'t\", 'limitted', 'seruice', 'Exit', 'Macduffe', 'Lenox', 'Goes', 'King', 'hence', 'day', 'Macb', 'He', 'appoint', 'Lenox', 'The', 'Night', 'ha', \"'s\", 'vnruly', 'Where', 'lay', 'Chimneys', 'blowne', 'downe', 'And', 'say', 'lamentings', 'heard', \"i'th\", 'Ayre', 'Strange', 'Schreemes', 'Death', 'And', 'Prophecying', 'Accents', 'terrible', 'Of', 'dyre', 'Combustion', 'confus', \"'d\", 'Euents', 'New', 'hatch', \"'d\", 'toth', 'wofull', 'time', 'The', 'obscure', 'Bird', 'clamor', \"'d\", 'liue-long', 'Night', 'Some', 'say', 'Earth', 'Feuorous', 'And', 'shake', 'Macb', \"'T\", 'rough', 'Night', 'Lenox', 'My', 'young', 'remembrance', 'paralell', 'A', 'fellow', 'Enter', 'Macduff', 'Macd', 'O', 'horror', 'horror', 'horror', 'Tongue', 'Heart', 'conceiue', 'name', 'thee', 'Macb', 'Lenox', 'What', \"'s\", 'matter', 'Macd', 'Confusion', 'hath', 'made', 'Master-peece', 'Most', 'sacrilegious', 'Murther', 'hath', 'broke', 'ope', 'The', 'Lords', 'anoynted', 'Temple', 'stole', 'thence', 'The', 'Life', \"o'th\", 'Building', 'Macb', 'What', \"is't\", 'say', 'Life', 'Lenox', 'Meane', 'Maiestie', 'Macd', 'Approch', 'Chamber', 'destroy', 'sight', 'With', 'new', 'Gorgon', 'Doe', 'bid', 'speake', 'See', 'speake', 'selues', 'awake', 'awake', 'Exeunt', 'Macbeth', 'Lenox', 'Ring', 'Alarum', 'Bell', 'Murther', 'Treason', 'Banquo', 'Donalbaine', 'Malcolme', 'awake', 'Shake', 'Downey', 'sleepe', 'Deaths', 'counterfeit', 'And', 'looke', 'Death', 'selfe', 'vp', 'vp', 'see', 'The', 'great', 'Doomes', 'Image', 'Malcolme', 'Banquo', 'As', 'Graues', 'rise', 'vp', 'walke', 'like', 'Sprights', 'To', 'countenance', 'horror', 'Ring', 'Bell', 'Bell', 'rings', 'Enter', 'Lady', 'Lady', 'What', \"'s\", 'Businesse', 'That', 'hideous', 'Trumpet', 'calls', 'parley', 'The', 'sleepers', 'House', 'speake', 'speake', 'Macd', 'O', 'gentle', 'Lady', \"'Tis\", 'heare', 'I', 'speake', 'The', 'repetition', 'Womans', 'eare', 'Would', 'murther', 'fell', 'Enter', 'Banquo', 'O', 'Banquo', 'Banquo', 'Our', 'Royall', 'Master', \"'s\", \"murther'd\", 'Lady', 'Woe', 'alas', 'What', 'House', 'Ban', 'Too', 'cruell', 'Deare', 'Duff', 'I', 'prythee', 'contradict', 'thy', 'selfe', 'And', 'say', 'Enter', 'Macbeth', 'Lenox', 'Rosse', 'Macb', 'Had', 'I', 'dy', \"'d\", 'houre', 'chance', 'I', 'liu', \"'d\", 'blessed', 'time', 'instant', 'There', \"'s\", 'nothing', 'serious', 'Mortalitie', 'All', 'Toyes', 'Renowne', 'Grace', 'dead', 'The', 'Wine', 'Life', 'drawne', 'meere', 'Lees', 'Is', 'left', 'Vault', 'brag', 'Enter', 'Malcolme', 'Donalbaine', 'Donal', 'What', 'amisse', 'Macb', 'You', 'doe', \"know't\", 'The', 'Spring', 'Head', 'Fountaine', 'Blood', 'Is', 'stopt', 'Source', 'stopt', 'Macd', 'Your', 'Royall', 'Father', \"'s\", \"murther'd\", 'Mal', 'Oh', 'Lenox', 'Those', 'Chamber', 'seem', \"'d\", \"n't\", 'Their', 'Hands', 'Faces', 'badg', \"'d\", 'blood', 'So', 'Daggers', 'vnwip', \"'d\", 'found', 'Vpon', 'Pillowes', 'star', \"'d\", 'distracted', 'No', 'mans', 'Life', 'trusted', 'Macb', 'O', 'yet', 'I', 'doe', 'repent', 'furie', 'That', 'I', 'kill', 'Macd', 'Wherefore', 'Macb', 'Who', 'wise', 'amaz', \"'d\", \"temp'rate\", 'furious', 'Loyall', 'Neutrall', 'moment', 'No', 'man', 'Th', 'expedition', 'violent', 'Loue', 'Out-run', 'pawser', 'Reason', 'Here', 'lay', 'Duncan', 'His', 'Siluer', 'skinne', 'lac', \"'d\", 'His', 'Golden', 'Blood', 'And', 'gash', \"'d\", 'Stabs', 'look', \"'d\", 'like', 'Breach', 'Nature', 'For', 'Ruines', 'wastfull', 'entrance', 'Murtherers', 'Steep', \"'d\", 'Colours', 'Trade', 'Daggers', 'Vnmannerly', 'breech', \"'d\", 'gore', 'could', 'refraine', 'That', 'heart', 'loue', 'heart', 'Courage', 'make', \"'s\", 'loue', 'knowne', 'Lady', 'Helpe', 'hence', 'hoa', 'Macd', 'Looke', 'Lady', 'Mal', 'Why', 'doe', 'hold', 'tongues', 'That', 'may', 'clayme', 'argument', 'Donal', 'What', 'spoken', 'Where', 'Fate', 'hid', 'augure', 'hole', 'May', 'rush', 'seize', 'vs', 'Let', \"'s\", 'away', 'Our', 'Teares', 'yet', \"brew'd\", 'Mal', 'Nor', 'strong', 'Sorrow', 'Vpon', 'foot', 'Motion', 'Banq', 'Looke', 'Lady', 'And', 'haue', 'naked', 'Frailties', 'hid', 'That', 'suffer', 'exposure', 'let', 'vs', 'meet', 'And', 'question', 'bloody', 'piece', 'worke', 'To', 'know', 'Feares', 'scruples', 'shake', 'vs', 'In', 'great', 'Hand', 'God', 'I', 'stand', 'thence', 'Against', 'vndivulg', \"'d\", 'pretence', 'I', 'fight', 'Of', 'Treasonous', 'Mallice', 'Macd', 'And', 'doe', 'I', 'All', 'So', 'Macb', 'Let', \"'s\", 'briefely', 'put', 'manly', 'readinesse', 'And', 'meet', \"i'th\", 'Hall', 'together', 'All', 'Well', 'contented', 'Exeunt', 'Malc', 'What', 'doe', 'Let', \"'s\", 'consort', 'To', 'shew', 'vnfelt', 'Sorrow', 'Office', 'Which', 'false', 'man', \"'s\", 'easie', 'Ile', 'England', 'Don', 'To', 'Ireland', 'I', 'Our', 'seperated', 'fortune', 'shall', 'keepe', 'vs', 'safer', 'Where', \"'s\", 'Daggers', 'mens', 'smiles', 'The', 'neere', 'blood', 'neerer', 'bloody', 'Malc', 'This', 'murtherous', 'Shaft', \"'s\", 'shot', 'Hath', 'yet', 'lighted', 'safest', 'way', 'Is', 'auoid', 'ayme', 'Therefore', 'Horse', 'And', 'let', 'vs', 'daintie', 'leaue-taking', 'But', 'shift', 'away', \"'s\", 'warrant', 'Theft', 'Which', 'steales', 'selfe', \"'s\", 'mercie', 'left', 'Exeunt', 'Scena', 'Quarta', 'Enter', 'Rosse', 'Old', 'man', 'Old', 'man', 'Threescore', 'ten', 'I', 'remember', 'well', 'Within', 'Volume', 'Time', 'I', 'haue', 'seene', 'Houres', 'dreadfull', 'things', 'strange', 'sore', 'Night', 'Hath', 'trifled', 'former', 'knowings', 'Rosse', 'Ha', 'good', 'Father', 'Thou', 'seest', 'Heauens', 'troubled', 'mans', 'Act', 'Threatens', 'bloody', 'Stage', 'byth', 'Clock', \"'t\", 'Day', 'And', 'yet', 'darke', 'Night', 'strangles', 'trauailing', 'Lampe', \"Is't\", 'Nights', 'predominance', 'Dayes', 'shame', 'That', 'Darknesse', 'face', 'Earth', 'intombe', 'When', 'liuing', 'Light', 'kisse', 'Old', 'man', \"'T\", 'vnnaturall', 'Euen', 'like', 'deed', \"'s\", 'done', 'On', 'Tuesday', 'last', 'A', 'Faulcon', 'towring', 'pride', 'place', 'Was', 'Mowsing', 'Owle', 'hawkt', \"kill'd\", 'Rosse', 'And', 'Duncans', 'Horses', 'A', 'thing', 'strange', 'certaine', 'Beauteous', 'swift', 'Minions', 'Race', 'Turn', \"'d\", 'wilde', 'nature', 'broke', 'stalls', 'flong', 'Contending', \"'gainst\", 'Obedience', 'would', 'Make', 'Warre', 'Mankinde', 'Old', 'man', \"'T\", 'said', 'eate', 'Rosse', 'They', 'To', 'th', 'amazement', 'mine', 'eyes', 'look', \"'d\", 'vpo', \"n't\", 'Enter', 'Macduffe', 'Heere', 'comes', 'good', 'Macduffe', 'How', 'goes', 'world', 'Sir', 'Macd', 'Why', 'see', 'Ross', \"Is't\", 'known', 'bloody', 'deed', 'Macd', 'Those', 'Macbeth', 'hath', 'slaine', 'Ross', 'Alas', 'day', 'What', 'good', 'could', 'pretend', 'Macd', 'They', 'subborned', 'Malcolme', 'Donalbaine', 'Kings', 'two', 'Sonnes', 'Are', 'stolne', 'away', 'fled', 'puts', 'vpon', 'Suspition', 'deed', 'Rosse', \"'Gainst\", 'Nature', 'still', 'Thriftlesse', 'Ambition', 'rauen', 'vp', 'Thine', 'owne', 'liues', 'meanes', 'Then', \"'t\", 'like', 'The', 'Soueraignty', 'fall', 'vpon', 'Macbeth', 'Macd', 'He', 'already', 'nam', \"'d\", 'gone', 'Scone', 'To', 'inuested', 'Rosse', 'Where', 'Duncans', 'body', 'Macd', 'Carried', 'Colmekill', 'The', 'Sacred', 'Store-house', 'Predecessors', 'And', 'Guardian', 'Bones', 'Rosse', 'Will', 'Scone', 'Macd', 'No', 'Cosin', 'Ile', 'Fife', 'Rosse', 'Well', 'I', 'thither', 'Macd', 'Well', 'may', 'see', 'things', 'wel', 'done', 'Adieu', 'Least', 'old', 'Robes', 'sit', 'easier', 'new', 'Rosse', 'Farewell', 'Father', 'Old', 'M.', 'Gods', 'benyson', 'go', 'That', 'would', 'make', 'good', 'bad', 'Friends', 'Foes', 'Exeunt', 'omnes', 'Actus', 'Tertius', 'Scena', 'Prima', 'Enter', 'Banquo', 'Banq', 'Thou', 'hast', 'King', 'Cawdor', 'Glamis', 'As', 'weyard', 'Women', 'promis', \"'d\", 'I', 'feare', 'Thou', \"playd'st\", 'fowly', \"for't\", 'yet', 'saide', 'It', 'stand', 'thy', 'Posterity', 'But', 'selfe', 'Roote', 'Father', 'Of', 'many', 'Kings', 'If', 'come', 'truth', 'As', 'vpon', 'thee', 'Macbeth', 'Speeches', 'shine', 'Why', 'verities', 'thee', 'made', 'good', 'May', 'Oracles', 'well', 'And', 'set', 'vp', 'hope', 'But', 'hush', 'Senit', 'sounded', 'Enter', 'Macbeth', 'King', 'Lady', 'Lenox', 'Rosse', 'Lords', 'Attendants', 'Macb', 'Heere', \"'s\", 'chiefe', 'Guest', 'La', 'If', 'beene', 'forgotten', 'It', 'bene', 'gap', 'great', 'Feast', 'And', 'all-thing', 'vnbecomming', 'Macb', 'To', 'night', 'hold', 'solemne', 'Supper', 'sir', 'And', 'Ile', 'request', 'presence', 'Banq', 'Let', 'Highnesse', 'Command', 'vpon', 'duties', 'Are', 'indissoluble', 'tye', 'For', 'euer', 'knit', 'Macb', 'Ride', 'afternoone', 'Ban', 'I', 'good', 'Lord', 'Macb', 'We', 'haue', 'else', 'desir', \"'d\", 'good', 'aduice', 'Which', 'still', 'hath', 'graue', 'prosperous', 'In', 'dayes', 'Councell', \"wee'le\", 'take', 'morrow', \"Is't\", 'farre', 'ride', 'Ban', 'As', 'farre', 'Lord', 'fill', 'vp', 'time', \"'Twixt\", 'Supper', 'Goe', 'Horse', 'better', 'I', 'must', 'become', 'borrower', 'Night', 'For', 'darke', 'houre', 'twaine', 'Macb', 'Faile', 'Feast', 'Ban', 'My', 'Lord', 'I', 'Macb', 'We', 'heare', 'bloody', 'Cozens', \"bestow'd\", 'In', 'England', 'Ireland', 'confessing', 'Their', 'cruell', 'Parricide', 'filling', 'hearers', 'With', 'strange', 'inuention', 'But', 'morrow', 'When', 'therewithall', 'shall', 'haue', 'cause', 'State', 'Crauing', 'vs', 'ioyntly', 'Hye', 'Horse', 'Adieu', 'till', 'returne', 'Night', 'Goes', 'Fleance', 'Ban', 'I', 'good', 'Lord', 'time', 'call', \"vpon's\", 'Macb', 'I', 'wish', 'Horses', 'swift', 'sure', 'foot', 'And', 'I', 'doe', 'commend', 'backs', 'Farwell', 'Exit', 'Banquo', 'Let', 'euery', 'man', 'master', 'time', 'Till', 'seuen', 'Night', 'make', 'societie', 'The', 'sweeter', 'welcome', 'We', 'keepe', 'selfe', 'till', 'Supper', 'time', 'alone', 'While', 'God', 'Exeunt', 'Lords', 'Sirrha', 'word', 'Attend', 'men', 'Our', 'pleasure', 'Seruant', 'They', 'Lord', 'without', 'Pallace', 'Gate', 'Macb', 'Bring', 'vs.', 'Exit', 'Seruant', 'To', 'thus', 'nothing', 'safely', 'thus', 'Our', 'feares', 'Banquo', 'sticke', 'deepe', 'And', 'Royaltie', 'Nature', 'reignes', 'Which', 'would', 'fear', \"'d\", \"'T\", 'much', 'dares', 'And', 'dauntlesse', 'temper', 'Minde', 'He', 'hath', 'Wisdome', 'doth', 'guide', 'Valour', 'To', 'act', 'safetie', 'There', 'none', 'Whose', 'I', 'doe', 'feare', 'vnder', 'My', 'Genius', 'rebuk', \"'d\", 'said', 'Mark', 'Anthonies', 'Caesar', 'He', 'chid', 'Sisters', 'When', 'first', 'put', 'Name', 'King', 'vpon', 'And', 'bad', 'speake', 'Then', 'Prophet-like', 'They', 'hayl', \"'d\", 'Father', 'Line', 'Kings', 'Vpon', 'Head', 'plac', \"'d\", 'fruitlesse', 'Crowne', 'And', 'put', 'barren', 'Scepter', 'Gripe', 'Thence', 'wrencht', 'vnlineall', 'Hand', 'No', 'Sonne', 'mine', 'succeeding', \"if't\", 'For', 'Banquo', \"'s\", 'Issue', 'haue', 'I', 'fil', \"'d\", 'Minde', 'For', 'gracious', 'Duncan', 'haue', 'I', 'murther', \"'d\", 'Put', 'Rancours', 'Vessell', 'Peace', 'Onely', 'mine', 'eternall', 'Iewell', 'Giuen', 'common', 'Enemie', 'Man', 'To', 'make', 'Kings', 'Seedes', 'Banquo', 'Kings', 'Rather', 'come', 'Fate', 'Lyst', 'And', 'champion', 'th', 'vtterance', 'Who', \"'s\", 'Enter', 'Seruant', 'two', 'Murtherers', 'Now', 'goe', 'Doore', 'stay', 'till', 'call', 'Exit', 'Seruant', 'Was', 'yesterday', 'spoke', 'together', 'Murth', 'It', 'please', 'Highnesse', 'Macb', 'Well', 'Now', 'haue', 'consider', \"'d\", 'speeches', 'Know', 'times', 'past', 'Which', 'held', 'vnder', 'fortune', 'Which', 'thought', 'innocent', 'selfe', 'This', 'I', 'made', 'good', 'last', 'conference', 'Past', 'probation', 'How', 'borne', 'hand', 'crost', 'The', 'Instruments', 'wrought', 'And', 'things', 'else', 'might', 'To', 'halfe', 'Soule', 'Notion', 'craz', \"'d\", 'Say', 'Thus', 'Banquo', '1.Murth', 'You', 'made', 'knowne', 'vs', 'Macb', 'I', 'And', 'went', 'Our', 'point', 'second', 'meeting', 'Doe', 'finde', 'patience', 'predominant', 'In', 'nature', 'let', 'goe', 'Are', 'Gospell', \"'d\", 'pray', 'good', 'man', 'And', 'Issue', 'whose', 'heauie', 'hand', 'Hath', 'bow', \"'d\", 'Graue', \"begger'd\", 'Yours', 'euer', '1.Murth', 'We', 'men', 'Liege', 'Macb', 'I', 'Catalogue', 'ye', 'goe', 'men', 'As', 'Hounds', 'Greyhounds', 'Mungrels', 'Spaniels', 'Curres', 'Showghes', 'Water-Rugs', 'Demy-Wolues', 'clipt', 'All', 'Name', 'Dogges', 'valued', 'file', 'Distinguishes', 'swift', 'slow', 'subtle', 'The', 'House-keeper', 'Hunter', 'euery', 'one', 'According', 'gift', 'bounteous', 'Nature', 'Hath', 'clos', \"'d\", 'whereby', 'receiue', 'Particular', 'addition', 'Bill', 'That', 'writes', 'alike', 'men', 'Now', 'haue', 'station', 'file', 'Not', \"i'th\", 'worst', 'ranke', 'Manhood', \"say't\", 'And', 'I', 'put', 'Businesse', 'Bosomes', 'Whose', 'execution', 'takes', 'Enemie', 'Grapples', 'heart', 'loue', 'vs', 'Who', 'weare', 'Health', 'sickly', 'Life', 'Which', 'Death', 'perfect', '2.Murth', 'I', 'one', 'Liege', 'Whom', 'vile', 'Blowes', 'Buffets', 'World', 'Hath', 'incens', \"'d\", 'I', 'recklesse', 'I', 'doe', 'To', 'spight', 'World', '1.Murth', 'And', 'I', 'another', 'So', 'wearie', 'Disasters', 'tugg', \"'d\", 'Fortune', 'That', 'I', 'would', 'set', 'Life', 'Chance', 'To', 'mend', 'rid', \"on't\", 'Macb', 'Both', 'know', 'Banquo', 'Enemie', 'Murth', 'True', 'Lord', 'Macb', 'So', 'mine', 'bloody', 'distance', 'That', 'euery', 'minute', 'thrusts', 'Against', \"neer'st\", 'Life', 'though', 'I', 'could', 'With', 'bare-fac', \"'d\", 'power', 'sweepe', 'sight', 'And', 'bid', 'auouch', 'yet', 'I', 'must', 'For', 'certaine', 'friends', 'mine', 'Whose', 'loues', 'I', 'may', 'drop', 'wayle', 'fall', 'Who', 'I', 'selfe', 'struck', 'downe', 'thence', 'That', 'I', 'assistance', 'doe', 'make', 'loue', 'Masking', 'Businesse', 'common', 'Eye', 'For', 'sundry', 'weightie', 'Reasons', '2.Murth', 'We', 'shall', 'Lord', 'Performe', 'command', 'vs', '1.Murth', 'Though', 'Liues-', 'Macb', 'Your', 'Spirits', 'shine', 'Within', 'houre', 'I', 'aduise', 'plant', 'selues', 'Acquaint', 'perfect', 'Spy', \"o'th\", 'time', 'The', 'moment', \"n't\", \"for't\", 'must', 'done', 'Night', 'And', 'something', 'Pallace', 'alwayes', 'thought', 'That', 'I', 'require', 'clearenesse', 'To', 'leaue', 'Rubs', 'Botches', 'Worke', 'Fleans', 'Sonne', 'keepes', 'companie', 'Whose', 'absence', 'lesse', 'materiall', 'Then', 'Fathers', 'must', 'embrace', 'fate', 'Of', 'darke', 'houre', 'resolue', 'selues', 'apart', 'Ile', 'come', 'anon', 'Murth', 'We', 'resolu', \"'d\", 'Lord', 'Macb', 'Ile', 'call', 'vpon', 'straight', 'abide', 'within', 'It', 'concluded', 'Banquo', 'thy', 'Soules', 'flight', 'If', 'finde', 'Heauen', 'must', 'finde', 'Night', 'Exeunt', 'Scena', 'Secunda', 'Enter', 'Macbeths', 'Lady', 'Seruant', 'Lady', 'Is', 'Banquo', 'gone', 'Court', 'Seruant', 'I', 'Madame', 'returnes', 'againe', 'Night', 'Lady', 'Say', 'King', 'I', 'would', 'attend', 'leysure', 'For', 'words', 'Seruant', 'Madame', 'I', 'Enter', 'Lady', 'Nought', \"'s\", \"'s\", 'spent', 'Where', 'desire', 'got', 'without', 'content', \"'Tis\", 'safer', 'destroy', 'Then', 'destruction', 'dwell', 'doubtfull', 'ioy', 'Enter', 'Macbeth', 'How', 'Lord', 'doe', 'keepe', 'alone', 'Of', 'sorryest', 'Fancies', 'Companions', 'making', 'Vsing', 'Thoughts', 'indeed', 'haue', \"dy'd\", 'With', 'thinke', 'things', 'without', 'remedie', 'Should', 'without', 'regard', \"'s\", 'done', 'done', 'Macb', 'We', 'haue', 'scorch', \"'d\", 'Snake', 'kill', \"'d\", \"Shee'le\", 'close', 'selfe', 'whilest', 'poore', 'Mallice', 'Remaines', 'danger', 'former', 'Tooth', 'But', 'let', 'frame', 'things', 'dis-ioynt', 'Both', 'Worlds', 'suffer', 'Ere', 'eate', 'Meale', 'feare', 'sleepe', 'In', 'affliction', 'terrible', 'Dreames', 'That', 'shake', 'vs', 'Nightly', 'Better', 'dead', 'Whom', 'gayne', 'peace', 'haue', 'sent', 'peace', 'Then', 'torture', 'Minde', 'lye', 'In', 'restlesse', 'extasie', 'Duncane', 'Graue', 'After', 'Lifes', 'fitfull', 'Feuer', 'sleepes', 'well', 'Treason', 'ha', \"'s\", 'done', 'worst', 'Steele', 'Poyson', 'Mallice', 'domestique', 'forraine', 'Leuie', 'nothing', 'Can', 'touch', 'Lady', 'Come', 'Gentle', 'Lord', 'sleeke', \"'re\", 'rugged', 'Lookes', 'Be', 'bright', 'Iouiall', 'among', 'Guests', 'Night', 'Macb', 'So', 'shall', 'I', 'Loue', 'I', 'pray', 'Let', 'remembrance', 'apply', 'Banquo', 'Present', 'Eminence', 'Eye', 'Tongue', 'Vnsafe', 'wee', 'must', 'laue', 'Our', 'Honors', 'flattering', 'streames', 'And', 'make', 'Faces', 'Vizards', 'Hearts', 'Disguising', 'Lady', 'You', 'must', 'leaue', 'Macb', 'O', 'full', 'Scorpions', 'Minde', 'deare', 'Wife', 'Thou', \"know'st\", 'Banquo', 'Fleans', 'liues', 'Lady', 'But', 'Natures', 'Coppie', \"'s\", 'eterne', 'Macb', 'There', \"'s\", 'comfort', 'yet', 'assaileable', 'Then', 'thou', 'iocund', 'ere', 'Bat', 'hath', 'flowne', 'His', 'Cloyster', \"'d\", 'flight', 'ere', 'black', 'Heccats', 'summons', 'The', 'shard-borne', 'Beetle', 'drowsie', 'hums', 'Hath', 'rung', 'Nights', 'yawning', 'Peale', 'There', 'shall', 'done', 'deed', 'dreadfull', 'note', 'Lady', 'What', \"'s\", 'done', 'Macb', 'Be', 'innocent', 'knowledge', 'dearest', 'Chuck', 'Till', 'thou', 'applaud', 'deed', 'Come', 'seeling', 'Night', 'Skarfe', 'vp', 'tender', 'Eye', 'pittifull', 'Day', 'And', 'thy', 'bloodie', 'inuisible', 'Hand', 'Cancell', 'teare', 'pieces', 'great', 'Bond', 'Which', 'keepes', 'pale', 'Light', 'thickens', 'And', 'Crow', 'makes', 'Wing', 'toth', 'Rookie', 'Wood', 'Good', 'things', 'Day', 'begin', 'droope', 'drowse', 'Whiles', 'Nights', 'black', 'Agents', 'Prey', \"'s\", 'doe', 'rowse', 'Thou', \"maruell'st\", 'words', 'hold', 'thee', 'still', 'Things', 'bad', 'begun', 'make', 'strong', 'themselues', 'ill', 'So', 'prythee', 'goe', 'Exeunt', 'Scena', 'Tertia', 'Enter', 'three', 'Murtherers', '1', 'But', 'bid', 'thee', 'ioyne', 'vs', '3', 'Macbeth', '2', 'He', 'needes', 'mistrust', 'since', 'deliuers', 'Our', 'Offices', 'haue', 'doe', 'To', 'direction', 'iust', '1', 'Then', 'stand', 'vs', 'The', 'West', 'yet', 'glimmers', 'streakes', 'Day', 'Now', 'spurres', 'lated', 'Traueller', 'apace', 'To', 'gayne', 'timely', 'Inne', 'neere', 'approches', 'The', 'subiect', 'Watch', '3', 'Hearke', 'I', 'heare', 'Horses', 'Banquo', 'within', 'Giue', 'vs', 'Light', 'hoa', '2', 'Then', \"'t\", 'hee', 'The', 'rest', 'within', 'note', 'expectation', 'Alreadie', \"i'th\", 'Court', '1', 'His', 'Horses', 'goe', '3', 'Almost', 'mile', 'vsually', 'So', 'men', 'doe', 'hence', 'toth', 'Pallace', 'Gate', 'Make', 'Walke', 'Enter', 'Banquo', 'Fleans', 'Torch', '2', 'A', 'Light', 'Light', '3', \"'T\", 'hee', '1', 'Stand', \"too't\", 'Ban', 'It', 'Rayne', 'Night', '1', 'Let', 'come', 'downe', 'Ban', 'O', 'Trecherie', 'Flye', 'good', 'Fleans', 'flye', 'flye', 'flye', 'Thou', \"may'st\", 'reuenge', 'O', 'Slaue', '3.', 'Who', 'strike', 'Light', '1', \"Was't\", 'way', '3', 'There', \"'s\", 'one', 'downe', 'Sonne', 'fled', '2', 'We', 'haue', 'lost', 'Best', 'halfe', 'Affaire', '1', 'Well', 'let', \"'s\", 'away', 'say', 'much', 'done', 'Exeunt', 'Scaena', 'Quarta', 'Banquet', 'prepar', \"'d\", 'Enter', 'Macbeth', 'Lady', 'Rosse', 'Lenox', 'Lords', 'Attendants', 'Macb', 'You', 'know', 'owne', 'degrees', 'sit', 'downe', 'At', 'first', 'last', 'hearty', 'welcome', 'Lords', 'Thankes', 'Maiesty', 'Macb', 'Our', 'selfe', 'mingle', 'Society', 'And', 'play', 'humble', 'Host', 'Our', 'Hostesse', 'keepes', 'State', 'best', 'time', 'We', 'require', 'welcome', 'La', 'Pronounce', 'Sir', 'Friends', 'For', 'heart', 'speakes', 'welcome', 'Enter', 'first', 'Murtherer', 'Macb', 'See', 'encounter', 'thee', 'harts', 'thanks', 'Both', 'sides', 'euen', 'heere', 'Ile', 'sit', \"i'th\", \"mid'st\", 'Be', 'large', 'mirth', 'anon', 'wee', 'l', 'drinke', 'Measure', 'The', 'Table', 'round', 'There', \"'s\", 'blood', 'vpon', 'thy', 'face', 'Mur', \"'T\", 'Banquo', \"'s\", 'Macb', \"'T\", 'better', 'thee', 'without', 'within', 'Is', 'dispatch', \"'d\", 'Mur', 'My', 'Lord', 'throat', 'cut', 'I', 'Mac', 'Thou', 'art', 'best', \"o'th\", 'Cut-throats', 'Yet', 'hee', \"'s\", 'good', 'like', 'Fleans', 'If', 'thou', \"did'st\", 'thou', 'art', 'Non-pareill', 'Mur', 'Most', 'Royall', 'Sir', 'Fleans', \"scap'd\", 'Macb', 'Then', 'comes', 'Fit', 'againe', 'I', 'else', 'beene', 'perfect', 'Whole', 'Marble', 'founded', 'Rocke', 'As', 'broad', 'generall', 'casing', 'Ayre', 'But', 'I', 'cabin', \"'d\", 'crib', \"'d\", 'confin', \"'d\", 'bound', 'To', 'sawcy', 'doubts', 'feares', 'But', 'Banquo', \"'s\", 'safe', 'Mur', 'I', 'good', 'Lord', 'safe', 'ditch', 'bides', 'With', 'twenty', 'trenched', 'gashes', 'head', 'The', 'least', 'Death', 'Nature', 'Macb', 'Thankes', 'There', 'growne', 'Serpent', 'lyes', 'worme', \"'s\", 'fled', 'Hath', 'Nature', 'time', 'Venom', 'breed', 'No', 'teeth', 'th', 'present', 'Get', 'thee', 'gone', 'morrow', 'Wee', 'l', 'heare', 'selues', 'againe', 'Exit', 'Murderer', 'Lady', 'My', 'Royall', 'Lord', 'You', 'giue', 'Cheere', 'Feast', 'sold', 'That', 'often', 'vouch', \"'d\", \"'t\", 'making', \"'Tis\", 'giuen', 'welcome', 'feede', 'best', 'home', 'From', 'thence', 'sawce', 'meate', 'Ceremony', 'Meeting', 'bare', 'without', 'Enter', 'Ghost', 'Banquo', 'sits', 'Macbeths', 'place', 'Macb', 'Sweet', 'Remembrancer', 'Now', 'good', 'digestion', 'waite', 'Appetite', 'And', 'health', 'Lenox', \"May't\", 'please', 'Highnesse', 'sit', 'Macb', 'Here', 'Countries', 'Honor', 'roof', \"'d\", 'Were', 'grac', \"'d\", 'person', 'Banquo', 'present', 'Who', 'may', 'I', 'rather', 'challenge', 'vnkindnesse', 'Then', 'pitty', 'Mischance', 'Rosse', 'His', 'absence', 'Sir', 'Layes', 'blame', 'vpon', 'promise', \"Pleas't\", 'Highnesse', 'To', 'grace', 'vs', 'Royall', 'Company', 'Macb', 'The', 'Table', \"'s\", 'full', 'Lenox', 'Heere', 'place', 'reseru', \"'d\", 'Sir', 'Macb', 'Where', 'Lenox', 'Heere', 'good', 'Lord', 'What', \"is't\", 'moues', 'Highnesse', 'Macb', 'Which', 'haue', 'done', 'Lords', 'What', 'good', 'Lord', 'Macb', 'Thou', 'canst', 'say', 'I', 'neuer', 'shake', 'Thy', 'goary', 'lockes', 'Rosse', 'Gentlemen', 'rise', 'Highnesse', 'well', 'Lady', 'Sit', 'worthy', 'Friends', 'Lord', 'often', 'thus', 'And', 'hath', 'beene', 'youth', 'Pray', 'keepe', 'Seat', 'The', 'fit', 'momentary', 'vpon', 'thought', 'He', 'againe', 'well', 'If', 'much', 'note', 'You', 'shall', 'offend', 'extend', 'Passion', 'Feed', 'regard', 'Are', 'man', 'Macb', 'I', 'bold', 'one', 'dare', 'looke', 'Which', 'might', 'appall', 'Diuell', 'La', 'O', 'proper', 'stuffe', 'This', 'painting', 'feare', 'This', 'Ayre-drawne-Dagger', 'said', 'Led', 'Duncan', 'O', 'flawes', 'starts', 'Impostors', 'true', 'feare', 'would', 'well', 'become', 'A', 'womans', 'story', 'Winters', 'fire', 'Authoriz', \"'d\", 'Grandam', 'shame', 'selfe', 'Why', 'make', 'faces', 'When', \"'s\", 'done', 'You', 'looke', 'stoole', 'Macb', 'Prythee', 'see', 'Behold', 'looke', 'loe', 'say', 'Why', 'care', 'I', 'thou', 'canst', 'nod', 'speake', 'If', 'Charnell', 'houses', 'Graues', 'must', 'send', 'Those', 'bury', 'backe', 'Monuments', 'Shall', 'Mawes', 'Kytes', 'La', 'What', 'quite', 'vnmann', \"'d\", 'folly', 'Macb', 'If', 'I', 'stand', 'heere', 'I', 'saw', 'La', 'Fie', 'shame', 'Macb', 'Blood', 'hath', 'bene', 'shed', 'ere', \"i'th\", 'olden', 'time', 'Ere', 'humane', 'Statute', 'purg', \"'d\", 'gentle', 'Weale', 'I', 'since', 'Murthers', 'haue', 'bene', \"perform'd\", 'Too', 'terrible', 'eare', 'The', 'times', 'bene', 'That', 'Braines', 'man', 'would', 'dye', 'And', 'end', 'But', 'rise', 'againe', 'With', 'twenty', 'mortall', 'murthers', 'crownes', 'And', 'push', 'vs', 'stooles', 'This', 'strange', 'Then', 'murther', 'La', 'My', 'worthy', 'Lord', 'Your', 'Noble', 'Friends', 'lacke', 'Macb', 'I', 'forget', 'Do', 'muse', 'worthy', 'Friends', 'I', 'haue', 'strange', 'infirmity', 'nothing', 'To', 'know', 'Come', 'loue', 'health', 'Then', 'Ile', 'sit', 'downe', 'Giue', 'Wine', 'fill', 'full', 'Enter', 'Ghost', 'I', 'drinke', 'th', 'generall', 'ioy', \"o'th\", 'whole', 'Table', 'And', 'deere', 'Friend', 'Banquo', 'misse', 'Would', 'heere', 'thirst', 'And', 'Lords', 'Our', 'duties', 'pledge', 'Mac', 'Auant', 'quit', 'sight', 'let', 'earth', 'hide', 'thee', 'Thy', 'bones', 'marrowlesse', 'thy', 'blood', 'cold', 'Thou', 'hast', 'speculation', 'eyes', 'Which', 'thou', 'dost', 'glare', 'La', 'Thinke', 'good', 'Peeres', 'But', 'thing', 'Custome', \"'T\", 'Onely', 'spoyles', 'pleasure', 'time', 'Macb', 'What', 'man', 'dare', 'I', 'dare', 'Approach', 'thou', 'like', 'rugged', 'Russian', 'Beare', 'The', 'arm', \"'d\", 'Rhinoceros', 'th', 'Hircan', 'Tiger', 'Take', 'shape', 'firme', 'Nerues', 'Shall', 'neuer', 'tremble', 'Or', 'aliue', 'againe', 'And', 'dare', 'Desart', 'thy', 'Sword', 'If', 'trembling', 'I', 'inhabit', 'protest', 'mee', 'The', 'Baby', 'Girle', 'Hence', 'horrible', 'shadow', 'Vnreall', \"mock'ry\", 'hence', 'Why', 'gone', 'I', 'man', 'againe', 'pray', 'sit', 'still', 'La', 'You', 'haue', 'displac', \"'d\", 'mirth', 'Broke', 'good', 'meeting', 'admir', \"'d\", 'disorder', 'Macb', 'Can', 'things', 'And', 'ouercome', 'vs', 'like', 'Summers', 'Clowd', 'Without', 'speciall', 'wonder', 'You', 'make', 'strange', 'Euen', 'disposition', 'I', 'owe', 'When', 'I', 'thinke', 'behold', 'sights', 'And', 'keepe', 'naturall', 'Rubie', 'Cheekes', 'When', 'mine', 'blanch', \"'d\", 'feare', 'Rosse', 'What', 'sights', 'Lord', 'La', 'I', 'pray', 'speake', 'growes', 'worse', 'worse', 'Question', 'enrages', 'goodnight', 'Stand', 'vpon', 'order', 'going', 'But', 'go', 'Len', 'Good', 'night', 'better', 'health', 'Attend', 'Maiesty', 'La', 'A', 'kinde', 'goodnight', 'Exit', 'Lords', 'Macb', 'It', 'haue', 'blood', 'say', 'Blood', 'haue', 'Blood', 'Stones', 'haue', 'beene', 'knowne', 'moue', 'Trees', 'speake', 'Augures', 'vnderstood', 'Relations', 'haue', 'By', 'Maggot', 'Pyes', 'Choughes', 'Rookes', 'brought', 'forth', 'The', \"secret'st\", 'man', 'Blood', 'What', 'night', 'La', 'Almost', 'oddes', 'morning', 'Macb', 'How', \"say'st\", 'thou', 'Macduff', 'denies', 'person', 'At', 'great', 'bidding', 'La', 'Did', 'send', 'Sir', 'Macb', 'I', 'heare', 'way', 'But', 'I', 'send', 'There', \"'s\", 'one', 'house', 'I', 'keepe', 'Seruant', 'Feed', 'I', 'morrow', 'And', 'betimes', 'I', 'weyard', 'Sisters', 'More', 'shall', 'speake', 'I', 'bent', 'know', 'By', 'worst', 'meanes', 'worst', 'mine', 'owne', 'good', 'All', 'causes', 'shall', 'giue', 'way', 'I', 'blood', 'Stept', 'farre', 'I', 'wade', 'Returning', 'tedious', 'go', 'ore', 'Strange', 'things', 'I', 'haue', 'head', 'hand', 'Which', 'must', 'acted', 'ere', 'may', 'scand', 'La', 'You', 'lacke', 'season', 'Natures', 'sleepe', 'Macb', 'Come', 'wee', 'l', 'sleepe', 'My', 'strange', 'self-abuse', 'Is', 'initiate', 'feare', 'wants', 'hard', 'vse', 'We', 'yet', 'yong', 'indeed', 'Exeunt', 'Scena', 'Quinta', 'Thunder', 'Enter', 'three', 'Witches', 'meeting', 'Hecat', '1', 'Why', 'Hecat', 'looke', 'angerly', 'Hec', 'Haue', 'I', 'reason', 'Beldams', 'Sawcy', 'ouer-bold', 'dare', 'To', 'Trade', 'Trafficke', 'Macbeth', 'In', 'Riddles', 'Affaires', 'death', 'And', 'I', 'Mistris', 'Charmes', 'The', 'close', 'contriuer', 'harmes', 'Was', 'neuer', 'call', \"'d\", 'beare', 'part', 'Or', 'shew', 'glory', 'Art', 'And', 'worse', 'haue', 'done', 'Hath', 'bene', 'wayward', 'Sonne', 'Spightfull', 'wrathfull', 'others', 'Loues', 'owne', 'ends', 'But', 'make', 'amends', 'Get', 'gon', 'And', 'pit', 'Acheron', 'Meete', \"i'th\", 'Morning', 'thither', 'Will', 'come', 'know', 'Destinie', 'Your', 'Vessels', 'Spels', 'prouide', 'Your', 'Charmes', 'euery', 'thing', 'beside', 'I', 'th', 'Ayre', 'This', 'night', 'Ile', 'spend', 'Vnto', 'dismall', 'Fatall', 'end', 'Great', 'businesse', 'must', 'wrought', 'ere', 'Noone', 'Vpon', 'Corner', 'Moone', 'There', 'hangs', \"vap'rous\", 'drop', 'profound', 'Ile', 'catch', 'ere', 'come', 'ground', 'And', 'distill', \"'d\", 'Magicke', 'slights', 'Shall', 'raise', 'Artificiall', 'Sprights', 'As', 'strength', 'illusion', 'Shall', 'draw', 'Confusion', 'He', 'shall', 'spurne', 'Fate', 'scorne', 'Death', 'beare', 'His', 'hopes', \"'boue\", 'Wisedome', 'Grace', 'Feare', 'And', 'know', 'Security', 'Is', 'Mortals', 'cheefest', 'Enemie', 'Musicke', 'Song', 'Hearke', 'I', 'call', \"'d\", 'little', 'Spirit', 'see', 'Sits', 'Foggy', 'cloud', 'stayes', 'Sing', 'within', 'Come', 'away', 'come', 'away', 'c.', '1', 'Come', 'let', \"'s\", 'make', 'hast', 'shee', 'l', 'soone', 'Backe', 'againe', 'Exeunt', 'Scaena', 'Sexta', 'Enter', 'Lenox', 'another', 'Lord', 'Lenox', 'My', 'former', 'Speeches', 'Haue', 'hit', 'Thoughts', 'Which', 'interpret', 'farther', 'Onely', 'I', 'say', 'Things', 'haue', 'bin', 'strangely', 'borne', 'The', 'gracious', 'Duncan', 'Was', 'pittied', 'Macbeth', 'marry', 'dead', 'And', 'right', 'valiant', 'Banquo', 'walk', \"'d\", 'late', 'Whom', 'may', 'say', \"if't\", 'please', 'Fleans', 'kill', \"'d\", 'For', 'Fleans', 'fled', 'Men', 'must', 'walke', 'late', 'Who', 'want', 'thought', 'monstrous', 'It', 'Malcolme', 'Donalbane', 'To', 'kill', 'gracious', 'Father', 'Damned', 'Fact', 'How', 'greeue', 'Macbeth', 'Did', 'straight', 'In', 'pious', 'rage', 'two', 'delinquents', 'teare', 'That', 'Slaues', 'drinke', 'thralles', 'sleepe', 'Was', 'Nobly', 'done', 'I', 'wisely', 'For', \"'twould\", 'haue', 'anger', \"'d\", 'heart', 'aliue', 'To', 'heare', 'men', \"deny't\", 'So', 'I', 'say', 'He', 'ha', \"'s\", 'borne', 'things', 'well', 'I', 'thinke', 'That', 'Duncans', 'Sonnes', 'vnder', 'Key', 'As', \"and't\", 'please', 'Heauen', 'shall', 'finde', 'What', \"'twere\", 'kill', 'Father', 'So', 'Fleans', 'But', 'peace', 'broad', 'words', 'cause', \"fayl'd\", 'His', 'presence', 'Tyrants', 'Feast', 'I', 'heare', 'Macduffe', 'liues', 'disgrace', 'Sir', 'tell', 'Where', 'bestowes', 'himselfe', 'Lord', 'The', 'Sonnes', 'Duncane', 'From', 'Tyrant', 'holds', 'due', 'Birth', 'Liues', 'English', 'Court', \"receyu'd\", 'Of', 'Pious', 'Edward', 'grace', 'That', 'maleuolence', 'Fortune', 'nothing', 'Takes', 'high', 'respect', 'Thither', 'Macduffe', 'Is', 'gone', 'pray', 'Holy', 'King', 'vpon', 'ayd', 'To', 'wake', 'Northumberland', 'warlike', 'Seyward', 'That', 'helpe', 'aboue', 'To', 'ratifie', 'Worke', 'may', 'againe', 'Giue', 'Tables', 'meate', 'sleepe', 'Nights', 'Free', 'Feasts', 'Banquets', 'bloody', 'kniues', 'Do', 'faithfull', 'Homage', 'receiue', 'free', 'Honors', 'All', 'pine', 'And', 'report', 'Hath', 'exasperate', 'King', 'hee', 'Prepares', 'attempt', 'Warre', 'Len', 'Sent', 'Macduffe', 'Lord', 'He', 'absolute', 'Sir', 'I', 'The', 'clowdy', 'Messenger', 'turnes', 'backe', 'And', 'hums', 'say', 'l', 'rue', 'time', 'That', 'clogges', 'Answer', 'Lenox', 'And', 'well', 'might', 'Aduise', 'Caution', 'hold', 'distance', 'His', 'wisedome', 'prouide', 'Some', 'holy', 'Angell', 'Flye', 'Court', 'England', 'vnfold', 'His', 'Message', 'ere', 'come', 'swift', 'blessing', 'May', 'soone', 'returne', 'suffering', 'Country', 'Vnder', 'hand', \"accurs'd\", 'Lord', 'Ile', 'send', 'Prayers', 'Exeunt', 'Actus', 'Quartus', 'Scena', 'Prima', 'Thunder', 'Enter', 'three', 'Witches', '1', 'Thrice', 'brinded', 'Cat', 'hath', \"mew'd\", '2', 'Thrice', 'Hedge-Pigge', \"whin'd\", '3', 'Harpier', 'cries', \"'t\", 'time', \"'t\", 'time', '1', 'Round', 'Caldron', 'go', 'In', 'poysond', 'Entrailes', 'throw', 'Toad', 'vnder', 'cold', 'stone', 'Dayes', 'Nights', 'ha', \"'s\", 'thirty', 'one', 'Sweltred', 'Venom', 'sleeping', 'got', 'Boyle', 'thou', 'first', \"i'th\", 'charmed', 'pot', 'All', 'Double', 'double', 'toile', 'trouble', 'Fire', 'burne', 'Cauldron', 'bubble', '2', 'Fillet', 'Fenny', 'Snake', 'In', 'Cauldron', 'boyle', 'bake', 'Eye', 'Newt', 'Toe', 'Frogge', 'Wooll', 'Bat', 'Tongue', 'Dogge', 'Adders', 'Forke', 'Blinde-wormes', 'Sting', 'Lizards', 'legge', 'Howlets', 'wing', 'For', 'Charme', 'powrefull', 'trouble', 'Like', 'Hell-broth', 'boyle', 'bubble', 'All', 'Double', 'double', 'toyle', 'trouble', 'Fire', 'burne', 'Cauldron', 'bubble', '3', 'Scale', 'Dragon', 'Tooth', 'Wolfe', 'Witches', 'Mummey', 'Maw', 'Gulfe', 'Of', 'rauin', \"'d\", 'salt', 'Sea', 'sharke', 'Roote', 'Hemlocke', 'digg', \"'d\", \"i'th\", 'darke', 'Liuer', 'Blaspheming', 'Iew', 'Gall', 'Goate', 'Slippes', 'Yew', 'Sliuer', \"'d\", 'Moones', 'Ecclipse', 'Nose', 'Turke', 'Tartars', 'lips', 'Finger', 'Birth-strangled', 'Babe', 'Ditch-deliuer', \"'d\", 'Drab', 'Make', 'Grewell', 'thicke', 'slab', 'Adde', 'thereto', 'Tigers', 'Chawdron', 'For', 'th', 'Ingredience', 'Cawdron', 'All', 'Double', 'double', 'toyle', 'trouble', 'Fire', 'burne', 'Cauldron', 'bubble', '2', 'Coole', 'Baboones', 'blood', 'Then', 'Charme', 'firme', 'good', 'Enter', 'Hecat', 'three', 'Witches', 'Hec', 'O', 'well', 'done', 'I', 'commend', 'paines', 'And', 'euery', 'one', 'shall', 'share', \"i'th\", 'gaines', 'And', 'Cauldron', 'sing', 'Like', 'Elues', 'Fairies', 'Ring', 'Inchanting', 'put', 'Musicke', 'Song', 'Blacke', 'Spirits', 'c.', '2', 'By', 'pricking', 'Thumbes', 'Something', 'wicked', 'way', 'comes', 'Open', 'Lockes', 'euer', 'knockes', 'Enter', 'Macbeth', 'Macb', 'How', 'secret', 'black', 'midnight', 'Hags', 'What', \"is't\", 'All', 'A', 'deed', 'without', 'name', 'Macb', 'I', 'coniure', 'Professe', 'How', 'ere', 'come', 'know', 'answer', 'Though', 'vntye', 'Windes', 'let', 'fight', 'Against', 'Churches', 'Though', 'yesty', 'Waues', 'Confound', 'swallow', 'Nauigation', 'vp', 'Though', 'bladed', 'Corne', 'lodg', \"'d\", 'Trees', 'blown', 'downe', 'Though', 'Castles', 'topple', 'Warders', 'heads', 'Though', 'Pallaces', 'Pyramids', 'slope', 'Their', 'heads', 'Foundations', 'Though', 'treasure', 'Of', 'Natures', 'Germaine', 'tumble', 'altogether', 'Euen', 'till', 'destruction', 'sicken', 'Answer', 'To', 'I', 'aske', '1', 'Speake', '2', 'Demand', '3', 'Wee', 'l', 'answer', '1', 'Say', \"th'hadst\", 'rather', 'heare', 'mouthes', 'Or', 'Masters', 'Macb', 'Call', \"'em\", 'let', 'see', \"'em\", '1', 'Powre', 'Sowes', 'blood', 'hath', 'eaten', 'Her', 'nine', 'Farrow', 'Greaze', \"'s\", 'sweaten', 'From', 'Murderers', 'Gibbet', 'throw', 'Into', 'Flame', 'All', 'Come', 'high', 'low', 'Thy', 'Selfe', 'Office', 'deaftly', 'show', 'Thunder', '1', 'Apparation', 'Armed', 'Head', 'Macb', 'Tell', 'thou', 'vnknowne', 'power', '1', 'He', 'knowes', 'thy', 'thought', 'Heare', 'speech', 'say', 'thou', 'nought', '1', 'Appar', 'Macbeth', 'Macbeth', 'Macbeth', 'Beware', 'Macduffe', 'Beware', 'Thane', 'Fife', 'dismisse', 'Enough', 'He', 'Descends', 'Macb', 'What', 'ere', 'thou', 'art', 'thy', 'good', 'caution', 'thanks', 'Thou', 'hast', 'harp', \"'d\", 'feare', 'aright', 'But', 'one', 'word', '1', 'He', 'commanded', 'heere', \"'s\", 'another', 'More', 'potent', 'first', 'Thunder', '2', 'Apparition', 'Bloody', 'Childe', '2', 'Appar', 'Macbeth', 'Macbeth', 'Macbeth', 'Macb', 'Had', 'I', 'three', 'eares', 'Il', \"'d\", 'heare', 'thee', 'Appar', 'Be', 'bloody', 'bold', 'resolute', 'Laugh', 'scorne', 'The', 'powre', 'man', 'For', 'none', 'woman', 'borne', 'Shall', 'harme', 'Macbeth', 'Descends', 'Mac', 'Then', 'liue', 'Macduffe', 'need', 'I', 'feare', 'thee', 'But', 'yet', 'Ile', 'make', 'assurance', 'double', 'sure', 'And', 'take', 'Bond', 'Fate', 'thou', 'shalt', 'liue', 'That', 'I', 'may', 'tell', 'pale-hearted', 'Feare', 'lies', 'And', 'sleepe', 'spight', 'Thunder', 'Thunder', '3', 'Apparation', 'Childe', 'Crowned', 'Tree', 'hand', 'What', 'rises', 'like', 'issue', 'King', 'And', 'weares', 'vpon', 'Baby-brow', 'round', 'And', 'top', 'Soueraignty', 'All', 'Listen', 'speake', \"too't\", '3', 'Appar', 'Be', 'Lyon', 'metled', 'proud', 'take', 'care', 'Who', 'chafes', 'frets', 'Conspirers', 'Macbeth', 'shall', 'neuer', 'vanquish', \"'d\", 'vntill', 'Great', 'Byrnam', 'Wood', 'high', 'Dunsmane', 'Hill', 'Shall', 'come', 'Descend', 'Macb', 'That', 'neuer', 'bee', 'Who', 'impresse', 'Forrest', 'bid', 'Tree', 'Vnfixe', 'earth-bound', 'Root', 'Sweet', 'boadments', 'good', 'Rebellious', 'dead', 'rise', 'neuer', 'till', 'Wood', 'Of', 'Byrnan', 'rise', 'high', 'plac', \"'d\", 'Macbeth', 'Shall', 'liue', 'Lease', 'Nature', 'pay', 'breath', 'To', 'time', 'mortall', 'Custome', 'Yet', 'Hart', 'Throbs', 'know', 'one', 'thing', 'Tell', 'Art', 'Can', 'tell', 'much', 'Shall', 'Banquo', \"'s\", 'issue', 'euer', 'Reigne', 'Kingdome', 'All', 'Seeke', 'know', 'Macb', 'I', 'satisfied', 'Deny', 'And', 'eternall', 'Curse', 'fall', 'Let', 'know', 'Why', 'sinkes', 'Caldron', 'noise', 'Hoboyes', '1', 'Shew', '2', 'Shew', '3', 'Shew', 'All', 'Shew', 'Eyes', 'greeue', 'Hart', 'Come', 'like', 'shadowes', 'depart', 'A', 'shew', 'eight', 'Kings', 'Banquo', 'last', 'glasse', 'hand', 'Macb', 'Thou', 'art', 'like', 'Spirit', 'Banquo', 'Down', 'Thy', 'Crowne', \"'s\", 'seare', 'mine', 'Eye-bals', 'And', 'thy', 'haire', 'Thou', 'Gold-bound-brow', 'like', 'first', 'A', 'third', 'like', 'former', 'Filthy', 'Hagges', 'Why', 'shew', 'A', 'fourth', 'Start', 'eyes', 'What', 'Line', 'stretch', \"to'th\", 'cracke', 'Doome', 'Another', 'yet', 'A', 'seauenth', 'Ile', 'see', 'And', 'yet', 'eighth', 'appeares', 'beares', 'glasse', 'Which', 'shewes', 'many', 'I', 'see', 'That', 'two-fold', 'Balles', 'trebble', 'Scepters', 'carry', 'Horrible', 'sight', 'Now', 'I', 'see', \"'t\", 'true', 'For', 'Blood-bolter', \"'d\", 'Banquo', 'smiles', 'vpon', 'And', 'points', 'What', '1', 'I', 'Sir', 'But', 'Stands', 'Macbeth', 'thus', 'amazedly', 'Come', 'Sisters', 'cheere', 'vp', 'sprights', 'And', 'shew', 'best', 'delights', 'Ile', 'Charme', 'Ayre', 'giue', 'sound', 'While', 'performe', 'Antique', 'round', 'That', 'great', 'King', 'may', 'kindly', 'say', 'Our', 'duties', 'welcome', 'pay', 'Musicke', 'The', 'Witches', 'Dance', 'vanish', 'Macb', 'Where', 'Gone', 'Let', 'pernitious', 'houre', 'Stand', 'aye', 'accursed', 'Kalender', 'Come', 'without', 'Enter', 'Lenox', 'Lenox', 'What', \"'s\", 'Graces', 'Macb', 'Saw', 'Weyard', 'Sisters', 'Lenox', 'No', 'Lord', 'Macb', 'Came', 'Lenox', 'No', 'indeed', 'Lord', 'Macb', 'Infected', 'Ayre', 'whereon', 'ride', 'And', 'damn', \"'d\", 'trust', 'I', 'heare', 'The', 'gallopping', 'Horse', 'Who', \"was't\", 'came', 'Len', \"'T\", 'two', 'three', 'Lord', 'bring', 'word', 'Macduff', 'fled', 'England', 'Macb', 'Fled', 'England', 'Len', 'I', 'good', 'Lord', 'Macb', 'Time', 'thou', \"anticipat'st\", 'dread', 'exploits', 'The', 'flighty', 'purpose', 'neuer', \"o're-tooke\", 'Vnlesse', 'deed', 'go', 'From', 'moment', 'The', 'firstlings', 'heart', 'shall', 'The', 'firstlings', 'hand', 'And', 'euen', 'To', 'Crown', 'thoughts', 'Acts', 'thoght', 'done', 'The', 'Castle', 'Macduff', 'I', 'surprize', 'Seize', 'vpon', 'Fife', 'giue', 'th', 'edge', \"o'th\", 'Sword', 'His', 'Wife', 'Babes', 'vnfortunate', 'Soules', 'That', 'trace', 'Line', 'No', 'boasting', 'like', 'Foole', 'This', 'deed', 'Ile', 'purpose', 'coole', 'But', 'sights', 'Where', 'Gentlemen', 'Come', 'bring', 'Exeunt', 'Scena', 'Secunda', 'Enter', 'Macduffes', 'Wife', 'Son', 'Rosse', 'Wife', 'What', 'done', 'make', 'fly', 'Land', 'Rosse', 'You', 'must', 'haue', 'patience', 'Madam', 'Wife', 'He', 'none', 'His', 'flight', 'madnesse', 'Actions', 'Our', 'feares', 'make', 'vs', 'Traitors', 'Rosse', 'You', 'know', 'Whether', 'wisedome', 'feare', 'Wife', 'Wisedom', 'leaue', 'wife', 'leaue', 'Babes', 'His', 'Mansion', 'Titles', 'place', 'From', 'whence', 'himselfe', \"'s\", 'flye', 'He', 'loues', 'vs', 'He', 'wants', 'naturall', 'touch', 'For', 'poore', 'Wren', 'The', 'diminitiue', 'Birds', 'fight', 'Her', 'yong', 'ones', 'Nest', 'Owle', 'All', 'Feare', 'nothing', 'Loue', 'As', 'little', 'Wisedome', 'flight', 'So', 'runnes', 'reason', 'Rosse', 'My', 'deerest', 'Cooz', 'I', 'pray', 'schoole', 'selfe', 'But', 'Husband', 'He', 'Noble', 'Wise', 'Iudicious', 'best', 'knowes', 'The', 'fits', \"o'th\", 'Season', 'I', 'dare', 'speake', 'much', 'But', 'cruell', 'times', 'Traitors', 'And', 'know', 'selues', 'hold', 'Rumor', 'From', 'feare', 'yet', 'know', 'feare', 'But', 'floate', 'vpon', 'wilde', 'violent', 'Sea', 'Each', 'way', 'moue', 'I', 'take', 'leaue', 'Shall', 'long', 'Ile', 'heere', 'againe', 'Things', 'worst', 'cease', 'else', 'climbe', 'vpward', 'To', 'My', 'pretty', 'Cosine', 'Blessing', 'vpon', 'Wife', 'Father', \"'d\", 'And', 'yet', 'hee', \"'s\", 'Father-lesse', 'Rosse', 'I', 'much', 'Foole', 'I', 'stay', 'longer', 'It', 'would', 'disgrace', 'discomfort', 'I', 'take', 'leaue', 'Exit', 'Rosse', 'Wife', 'Sirra', 'Fathers', 'dead', 'And', 'How', 'liue', 'Son', 'As', 'Birds', 'Mother', 'Wife', 'What', 'Wormes', 'Flyes', 'Son', 'With', 'I', 'get', 'I', 'meane', 'Wife', 'Poore', 'Bird', \"Thou'dst\", 'neuer', 'Feare', 'Net', 'Lime', 'The', 'Pitfall', 'Gin', 'Son', 'Why', 'I', 'Mother', 'Poore', 'Birds', 'set', 'My', 'Father', 'dead', 'saying', 'Wife', 'Yes', 'dead', 'How', 'wilt', 'thou', 'Father', 'Son', 'Nay', 'Husband', 'Wife', 'Why', 'I', 'buy', 'twenty', 'Market', 'Son', 'Then', 'l', \"'em\", 'sell', 'againe', 'Wife', 'Thou', \"speak'st\", 'withall', 'thy', 'wit', 'And', 'yet', \"I'faith\", 'wit', 'enough', 'thee', 'Son', 'Was', 'Father', 'Traitor', 'Mother', 'Wife', 'I', 'Son', 'What', 'Traitor', 'Wife', 'Why', 'one', 'sweares', 'lyes', 'Son', 'And', 'Traitors', 'Wife', 'Euery', 'one', \"'s\", 'Traitor', 'And', 'must', \"hang'd\", 'Son', 'And', 'must', 'hang', \"'d\", 'swear', 'lye', 'Wife', 'Euery', 'one', 'Son', 'Who', 'must', 'hang', 'Wife', 'Why', 'honest', 'men', 'Son', 'Then', 'Liars', 'Swearers', 'Fools', 'Lyars', 'Swearers', 'enow', 'beate', 'honest', 'men', 'hang', 'vp', 'Wife', 'Now', 'God', 'helpe', 'thee', 'poore', 'Monkie', 'But', 'wilt', 'thou', 'Father', 'Son', 'If', 'dead', 'youl', \"'d\", 'weepe', 'would', 'good', 'signe', 'I', 'quickely', 'haue', 'new', 'Father', 'Wife', 'Poore', 'pratler', 'thou', \"talk'st\", 'Enter', 'Messenger', 'Mes', 'Blesse', 'faire', 'Dame', 'I', 'known', 'Though', 'state', 'Honor', 'I', 'perfect', 'I', 'doubt', 'danger', \"'s\", 'approach', 'neerely', 'If', 'take', 'homely', 'mans', 'aduice', 'Be', 'found', 'heere', 'Hence', 'little', 'ones', 'To', 'fright', 'thus', 'Me', 'thinkes', 'I', 'sauage', 'To', 'worse', 'fell', 'Cruelty', 'Which', 'nie', 'person', 'Heauen', 'preserue', 'I', 'dare', 'abide', 'longer', 'Exit', 'Messenger', 'Wife', 'Whether', 'I', 'flye', 'I', 'haue', 'done', 'harme', 'But', 'I', 'remember', 'I', 'earthly', 'world', 'harme', 'Is', 'often', 'laudable', 'good', 'sometime', 'Accounted', 'dangerous', 'folly', 'Why', 'alas', 'Do', 'I', 'put', 'vp', 'womanly', 'defence', 'To', 'say', 'I', 'haue', 'done', 'harme', 'What', 'faces', 'Enter', 'Murtherers', 'Mur', 'Where', 'Husband', 'Wife', 'I', 'hope', 'place', 'vnsanctified', 'Where', 'thou', \"may'st\", 'finde', 'Mur', 'He', \"'s\", 'Traitor', 'Son', 'Thou', \"ly'st\", 'thou', 'shagge-ear', \"'d\", 'Villaine', 'Mur', 'What', 'Egge', 'Yong', 'fry', 'Treachery', 'Son', 'He', 'ha', \"'s\", 'kill', \"'d\", 'Mother', 'Run', 'away', 'I', 'pray', 'Exit', 'crying', 'Murther', 'Scaena', 'Tertia', 'Enter', 'Malcolme', 'Macduffe', 'Mal', 'Let', 'vs', 'seeke', 'desolate', 'shade', 'Weepe', 'sad', 'bosomes', 'empty', 'Macd', 'Let', 'vs', 'rather', 'Hold', 'fast', 'mortall', 'Sword', 'like', 'good', 'men', 'Bestride', 'downfall', 'Birthdome', 'new', 'Morne', 'New', 'Widdowes', 'howle', 'new', 'Orphans', 'cry', 'new', 'sorowes', 'Strike', 'heauen', 'face', 'resounds', 'As', 'felt', 'Scotland', 'yell', \"'d\", 'Like', 'Syllable', 'Dolour', 'Mal', 'What', 'I', 'beleeue', 'Ile', 'waile', 'What', 'know', 'beleeue', 'I', 'redresse', 'As', 'I', 'shall', 'finde', 'time', 'friend', 'I', 'wil', 'What', 'haue', 'spoke', 'may', 'perchance', 'This', 'Tyrant', 'whose', 'sole', 'name', 'blisters', 'tongues', 'Was', 'thought', 'honest', 'haue', 'lou', \"'d\", 'well', 'He', 'hath', 'touch', \"'d\", 'yet', 'I', 'yong', 'something', 'You', 'may', 'discerne', 'wisedome', 'To', 'offer', 'vp', 'weake', 'poore', 'innocent', 'Lambe', 'T', 'appease', 'angry', 'God', 'Macd', 'I', 'treacherous', 'Malc', 'But', 'Macbeth', 'A', 'good', 'vertuous', 'Nature', 'may', 'recoyle', 'In', 'Imperiall', 'charge', 'But', 'I', 'shall', 'craue', 'pardon', 'That', 'thoughts', 'transpose', 'Angels', 'bright', 'still', 'though', 'brightest', 'fell', 'Though', 'things', 'foule', 'would', 'wear', 'brows', 'grace', 'Yet', 'Grace', 'must', 'still', 'looke', 'Macd', 'I', 'haue', 'lost', 'Hopes', 'Malc', 'Perchance', 'euen', 'Where', 'I', 'finde', 'doubts', 'Why', 'rawnesse', 'left', 'Wife', 'Childe', 'Those', 'precious', 'Motiues', 'strong', 'knots', 'Loue', 'Without', 'leaue-taking', 'I', 'pray', 'Let', 'Iealousies', 'Dishonors', 'But', 'mine', 'owne', 'Safeties', 'may', 'rightly', 'iust', 'What', 'euer', 'I', 'shall', 'thinke', 'Macd', 'Bleed', 'bleed', 'poore', 'Country', 'Great', 'Tyrrany', 'lay', 'thou', 'thy', 'basis', 'sure', 'For', 'goodnesse', 'dare', 'check', 'thee', 'wear', 'thy', 'wrongs', 'The', 'Title', 'affear', \"'d\", 'Far', 'thee', 'well', 'Lord', 'I', 'would', 'Villaine', 'thou', \"think'st\", 'For', 'whole', 'Space', \"'s\", 'Tyrants', 'Graspe', 'And', 'rich', 'East', 'boot', 'Mal', 'Be', 'offended', 'I', 'speake', 'absolute', 'feare', 'I', 'thinke', 'Country', 'sinkes', 'beneath', 'yoake', 'It', 'weepes', 'bleeds', 'new', 'day', 'gash', 'Is', 'added', 'wounds', 'I', 'thinke', 'withall', 'There', 'would', 'hands', 'vplifted', 'right', 'And', 'heere', 'gracious', 'England', 'haue', 'I', 'offer', 'Of', 'goodly', 'thousands', 'But', 'When', 'I', 'shall', 'treade', 'vpon', 'Tyrants', 'head', 'Or', 'weare', 'Sword', 'yet', 'poore', 'Country', 'Shall', 'haue', 'vices', 'More', 'suffer', 'sundry', 'wayes', 'euer', 'By', 'shall', 'succeede', 'Macd', 'What', 'Mal', 'It', 'selfe', 'I', 'meane', 'I', 'know', 'All', 'particulars', 'Vice', 'grafted', 'That', 'shall', 'open', \"'d\", 'blacke', 'Macbeth', 'Will', 'seeme', 'pure', 'Snow', 'poore', 'State', 'Esteeme', 'Lambe', \"compar'd\", 'With', 'confinelesse', 'harmes', 'Macd', 'Not', 'Legions', 'Of', 'horrid', 'Hell', 'come', 'Diuell', \"damn'd\", 'In', 'euils', 'top', 'Macbeth', 'Mal', 'I', 'grant', 'Bloody', 'Luxurious', 'Auaricious', 'False', 'Deceitfull', 'Sodaine', 'Malicious', 'smacking', 'euery', 'sinne', 'That', 'ha', \"'s\", 'name', 'But', \"'s\", 'bottome', 'none', 'In', 'Voluptuousnesse', 'Your', 'Wiues', 'Daughters', 'Your', 'Matrons', 'Maides', 'could', 'fill', 'vp', 'The', 'Cesterne', 'Lust', 'Desire', 'All', 'continent', 'Impediments', 'would', 'ore-beare', 'That', 'oppose', 'Better', 'Macbeth', 'Then', 'one', 'reigne', 'Macd', 'Boundlesse', 'intemperance', 'In', 'Nature', 'Tyranny', 'It', 'hath', 'beene', 'Th', 'vntimely', 'emptying', 'happy', 'Throne', 'And', 'fall', 'many', 'Kings', 'But', 'feare', 'yet', 'To', 'take', 'vpon', 'may', 'Conuey', 'pleasures', 'spacious', 'plenty', 'And', 'yet', 'seeme', 'cold', 'The', 'time', 'may', 'hoodwinke', 'We', 'haue', 'willing', 'Dames', 'enough', 'That', 'Vulture', 'deuoure', 'many', 'As', 'Greatnesse', 'dedicate', 'themselues', 'Finding', 'inclinde', 'Mal', 'With', 'growes', 'In', 'ill-composd', 'Affection', 'A', 'stanchlesse', 'Auarice', 'I', 'King', 'I', 'cut', 'Nobles', 'Lands', 'Desire', 'Iewels', 'others', 'House', 'And', 'more-hauing', 'would', 'Sawce', 'To', 'make', 'hunger', 'I', 'forge', 'Quarrels', 'vniust', 'Good', 'Loyall', 'Destroying', 'wealth', 'Macd', 'This', 'Auarice', 'stickes', 'deeper', 'growes', 'pernicious', 'roote', 'Then', 'Summer-seeming', 'Lust', 'hath', 'bin', 'The', 'Sword', 'slaine', 'Kings', 'yet', 'feare', 'Scotland', 'hath', 'Foysons', 'fill', 'vp', 'Of', 'meere', 'Owne', 'All', 'portable', 'With', 'Graces', \"weigh'd\", 'Mal', 'But', 'I', 'haue', 'none', 'The', 'King-becoming', 'Graces', 'As', 'Iustice', 'Verity', \"Temp'rance\", 'Stablenesse', 'Bounty', 'Perseuerance', 'Mercy', 'Lowlinesse', 'Deuotion', 'Patience', 'Courage', 'Fortitude', 'I', 'haue', 'rellish', 'abound', 'In', 'diuision', 'seuerall', 'Crime', 'Acting', 'many', 'wayes', 'Nay', 'I', 'powre', 'I', 'Poure', 'sweet', 'Milke', 'Concord', 'Hell', 'Vprore', 'vniuersall', 'peace', 'confound', 'All', 'vnity', 'earth', 'Macd', 'O', 'Scotland', 'Scotland', 'Mal', 'If', 'one', 'fit', 'gouerne', 'speake', 'I', 'I', 'haue', 'spoken', 'Mac', 'Fit', 'gouern', 'No', 'liue', 'O', 'Natio', 'n', 'miserable', 'With', 'vntitled', 'Tyrant', 'bloody', 'Sceptred', 'When', 'shalt', 'thou', 'see', 'thy', 'wholsome', 'dayes', 'againe', 'Since', 'truest', 'Issue', 'thy', 'Throne', 'By', 'owne', 'Interdiction', 'stands', 'accust', 'And', \"'s\", 'blaspheme', 'breed', 'Thy', 'Royall', 'Father', 'Was', 'Sainted-King', 'Queene', 'bore', 'thee', 'Oftner', 'vpon', 'knees', 'feet', \"Dy'de\", 'euery', 'day', 'liu', \"'d\", 'Fare', 'thee', 'well', 'These', 'Euils', 'thou', \"repeat'st\", 'vpon', 'thy', 'selfe', 'Hath', 'banish', \"'d\", 'Scotland', 'O', 'Brest', 'Thy', 'hope', 'ends', 'heere', 'Mal', 'Macduff', 'Noble', 'passion', 'Childe', 'integrity', 'hath', 'soule', 'Wip', \"'d\", 'blacke', 'Scruples', 'reconcil', \"'d\", 'thoughts', 'To', 'thy', 'good', 'Truth', 'Honor', 'Diuellish', 'Macbeth', 'By', 'many', 'traines', 'hath', 'sought', 'win', 'Into', 'power', 'modest', 'Wisedome', 'pluckes', 'From', 'ouer-credulous', 'hast', 'God', 'aboue', 'Deale', 'betweene', 'thee', 'For', 'euen', 'I', 'put', 'selfe', 'thy', 'Direction', 'Vnspeake', 'mine', 'owne', 'detraction', 'Heere', 'abiure', 'The', 'taints', 'blames', 'I', 'laide', 'vpon', 'selfe', 'For', 'strangers', 'Nature', 'I', 'yet', 'Vnknowne', 'Woman', 'neuer', 'forsworne', 'Scarsely', 'haue', 'coueted', 'mine', 'owne', 'At', 'time', 'broke', 'Faith', 'would', 'betray', 'The', 'Deuill', 'Fellow', 'delight', 'No', 'lesse', 'truth', 'life', 'My', 'first', 'false', 'speaking', 'Was', 'vpon', 'selfe', 'What', 'I', 'truly', 'Is', 'thine', 'poore', 'Countries', 'command', 'Whither', 'indeed', 'heere', 'approach', 'Old', 'Seyward', 'ten', 'thousand', 'warlike', 'men', 'Already', 'point', 'setting', 'foorth', 'Now', 'wee', 'l', 'together', 'chance', 'goodnesse', 'Be', 'like', 'warranted', 'Quarrell', 'Why', 'silent', 'Macd', 'Such', 'welcome', 'vnwelcom', 'things', \"'Tis\", 'hard', 'reconcile', 'Enter', 'Doctor', 'Mal', 'Well', 'anon', 'Comes', 'King', 'forth', 'I', 'pray', 'Doct', 'I', 'Sir', 'crew', 'wretched', 'Soules', 'That', 'stay', 'Cure', 'malady', 'conuinces', 'The', 'great', 'assay', 'Art', 'But', 'touch', 'Such', 'sanctity', 'hath', 'Heauen', 'giuen', 'hand', 'They', 'presently', 'amend', 'Enter', 'Mal', 'I', 'thanke', 'Doctor', 'Macd', 'What', \"'s\", 'Disease', 'meanes', 'Mal', 'Tis', 'call', \"'d\", 'Euill', 'A', 'myraculous', 'worke', 'good', 'King', 'Which', 'often', 'since', 'heere', 'remaine', 'England', 'I', 'haue', 'seene', 'How', 'solicites', 'heauen', 'Himselfe', 'best', 'knowes', 'strangely', 'visited', 'people', 'All', 'swolne', 'Vlcerous', 'pittifull', 'eye', 'The', 'meere', 'dispaire', 'Surgery', 'cures', 'Hanging', 'golden', 'stampe', 'neckes', 'Put', 'holy', 'Prayers', \"'t\", 'spoken', 'To', 'succeeding', 'Royalty', 'leaues', 'The', 'healing', 'Benediction', 'With', 'strange', 'vertue', 'He', 'hath', 'heauenly', 'guift', 'Prophesie', 'And', 'sundry', 'Blessings', 'hang', 'Throne', 'That', 'speake', 'full', 'Grace', 'Enter', 'Rosse', 'Macd', 'See', 'comes', 'heere', 'Malc', 'My', 'Countryman', 'yet', 'I', 'know', 'Macd', 'My', 'euer', 'gentle', 'Cozen', 'welcome', 'hither', 'Malc', 'I', 'know', 'Good', 'God', 'betimes', 'remoue', 'The', 'meanes', 'makes', 'vs', 'Strangers', 'Rosse', 'Sir', 'Amen', 'Macd', 'Stands', 'Scotland', 'Rosse', 'Alas', 'poore', 'Countrey', 'Almost', 'affraid', 'know', 'selfe', 'It', 'Be', 'call', \"'d\", 'Mother', 'Graue', 'nothing', 'But', 'knowes', 'nothing', 'seene', 'smile', 'Where', 'sighes', 'groanes', 'shrieks', 'rent', 'ayre', 'Are', 'made', 'mark', \"'d\", 'Where', 'violent', 'sorrow', 'seemes', 'A', 'Moderne', 'extasie', 'The', 'Deadmans', 'knell', 'Is', 'scarse', 'ask', \"'d\", 'good', 'mens', 'liues', 'Expire', 'Flowers', 'Caps', 'Dying', 'ere', 'sicken', 'Macd', 'Oh', 'Relation', 'nice', 'yet', 'true', 'Malc', 'What', \"'s\", 'newest', 'griefe', 'Rosse', 'That', 'houres', 'age', 'doth', 'hisse', 'speaker', 'Each', 'minute', 'teemes', 'new', 'one', 'Macd', 'How', \"'s\", 'Wife', 'Rosse', 'Why', 'well', 'Macd', 'And', 'Children', 'Rosse', 'Well', 'Macd', 'The', 'Tyrant', 'ha', \"'s\", 'batter', \"'d\", 'peace', 'Rosse', 'No', 'wel', 'peace', 'I', 'leaue', \"'em\", 'Macd', 'Be', 'niggard', 'speech', 'How', \"gos't\", 'Rosse', 'When', 'I', 'came', 'hither', 'transport', 'Tydings', 'Which', 'I', 'haue', 'heauily', 'borne', 'ran', 'Rumour', 'Of', 'many', 'worthy', 'Fellowes', 'Which', 'beleefe', 'witnest', 'rather', 'For', 'I', 'saw', 'Tyrants', 'Power', 'a-foot', 'Now', 'time', 'helpe', 'eye', 'Scotland', 'Would', 'create', 'Soldiours', 'make', 'women', 'fight', 'To', 'doffe', 'dire', 'distresses', 'Malc', \"Bee't\", 'comfort', 'We', 'comming', 'thither', 'Gracious', 'England', 'hath', 'Lent', 'vs', 'good', 'Seyward', 'ten', 'thousand', 'men', 'An', 'older', 'better', 'Souldier', 'none', 'That', 'Christendome', 'giues', 'Rosse', 'Would', 'I', 'could', 'answer', 'This', 'comfort', 'like', 'But', 'I', 'haue', 'words', 'That', 'would', 'howl', \"'d\", 'desert', 'ayre', 'Where', 'hearing', 'latch', 'Macd', 'What', 'concerne', 'The', 'generall', 'cause', 'Fee-griefe', 'Due', 'single', 'brest', 'Rosse', 'No', 'minde', \"'s\", 'honest', 'But', 'shares', 'woe', 'though', 'maine', 'part', 'Pertaines', 'alone', 'Macd', 'If', 'mine', 'Keepe', 'quickly', 'let', 'haue', 'Rosse', 'Let', 'eares', 'dispise', 'tongue', 'euer', 'Which', 'shall', 'possesse', 'heauiest', 'sound', 'euer', 'yet', 'heard', 'Macd', 'Humh', 'I', 'guesse', 'Rosse', 'Your', 'Castle', 'surpriz', \"'d\", 'Wife', 'Babes', 'Sauagely', 'slaughter', \"'d\", 'To', 'relate', 'manner', 'Were', 'Quarry', 'murther', \"'d\", 'Deere', 'To', 'adde', 'death', 'Malc', 'Mercifull', 'Heauen', 'What', 'man', 'ne', \"'re\", 'pull', 'hat', 'vpon', 'browes', 'Giue', 'sorrow', 'words', 'griefe', \"'s\", 'speake', 'Whispers', \"o're-fraught\", 'heart', 'bids', 'breake', 'Macd', 'My', 'Children', 'Ro', 'Wife', 'Children', 'Seruants', 'could', 'found', 'Macd', 'And', 'I', 'must', 'thence', 'My', 'wife', 'kil', \"'d\", 'Rosse', 'I', 'haue', 'said', 'Malc', 'Be', 'comforted', 'Let', \"'s\", 'make', 'vs', \"Med'cines\", 'great', 'Reuenge', 'To', 'cure', 'deadly', 'greefe', 'Macd', 'He', 'ha', \"'s\", 'Children', 'All', 'pretty', 'ones', 'Did', 'say', 'All', 'Oh', 'Hell-Kite', 'All', 'What', 'All', 'pretty', 'Chickens', 'Damme', 'At', 'one', 'fell', 'swoope', 'Malc', 'Dispute', 'like', 'man', 'Macd', 'I', 'shall', 'But', 'I', 'must', 'also', 'feele', 'man', 'I', 'remember', 'things', 'That', 'precious', 'Did', 'heauen', 'looke', 'And', 'would', 'take', 'part', 'Sinfull', 'Macduff', 'They', 'strooke', 'thee', 'Naught', 'I', 'Not', 'owne', 'demerits', 'mine', 'Fell', 'slaughter', 'soules', 'Heauen', 'rest', 'Mal', 'Be', 'Whetstone', 'sword', 'let', 'griefe', 'Conuert', 'anger', 'blunt', 'heart', 'enrage', 'Macd', 'O', 'I', 'could', 'play', 'woman', 'mine', 'eyes', 'And', 'Braggart', 'tongue', 'But', 'gentle', 'Heauens', 'Cut', 'short', 'intermission', 'Front', 'Front', 'Bring', 'thou', 'Fiend', 'Scotland', 'selfe', 'Within', 'Swords', 'length', 'set', 'scape', 'Heauen', 'forgiue', 'Mal', 'This', 'time', 'goes', 'manly', 'Come', 'go', 'King', 'Power', 'ready', 'Our', 'lacke', 'nothing', 'leaue', 'Macbeth', 'Is', 'ripe', 'shaking', 'Powres', 'aboue', 'Put', 'Instruments', 'Receiue', 'cheere', 'may', 'The', 'Night', 'long', 'neuer', 'findes', 'Day', 'Exeunt', 'Actus', 'Quintus', 'Scena', 'Prima', 'Enter', 'Doctor', 'Physicke', 'Wayting', 'Gentlewoman', 'Doct', 'I', 'haue', 'Nights', 'watch', \"'d\", 'perceiue', 'truth', 'report', 'When', 'shee', 'last', 'walk', \"'d\", 'Gent', 'Since', 'Maiesty', 'went', 'Field', 'I', 'haue', 'seene', 'rise', 'bed', 'throw', 'Night-Gown', 'vppon', 'vnlocke', 'Closset', 'take', 'foorth', 'paper', 'folde', 'write', 'vpo', \"n't\", 'read', 'afterwards', 'Seale', 'againe', 'returne', 'bed', 'yet', 'fast', 'sleepe', 'Doct', 'A', 'great', 'perturbation', 'Nature', 'receyue', 'benefit', 'sleep', 'effects', 'watching', 'In', 'slumbry', 'agitation', 'besides', 'walking', 'actuall', 'performances', 'time', 'haue', 'heard', 'say', 'Gent', 'That', 'Sir', 'I', 'report', 'Doct', 'You', 'may', \"'t\", 'meet', 'Gent', 'Neither', 'one', 'hauing', 'witnesse', 'confirme', 'speech', 'Enter', 'Lady', 'Taper', 'Lo', 'heere', 'comes', 'This', 'guise', 'vpon', 'life', 'fast', 'asleepe', 'obserue', 'stand', 'close', 'Doct', 'How', 'came', 'light', 'Gent', 'Why', 'stood', 'ha', \"'s\", 'light', 'continually', \"'tis\", 'command', 'Doct', 'You', 'see', 'eyes', 'open', 'Gent', 'I', 'sense', 'shut', 'Doct', 'What', \"'s\", 'Looke', 'rubbes', 'hands', 'Gent', 'It', 'accustom', \"'d\", 'action', 'seeme', 'thus', 'washing', 'hands', 'I', 'haue', 'knowne', 'continue', 'quarter', 'houre', 'Lad', 'Yet', 'heere', \"'s\", 'spot', 'Doct', 'Heark', 'speaks', 'I', 'set', 'downe', 'comes', 'satisfie', 'remembrance', 'strongly', 'La', 'Out', 'damned', 'spot', 'I', 'say', 'One', 'Two', 'Why', \"'t\", 'time', \"doo't\", 'Hell', 'murky', 'Fye', 'Lord', 'fie', 'Souldier', 'affear', \"'d\", 'need', 'feare', 'knowes', 'none', 'call', 'powre', 'accompt', 'yet', 'would', 'haue', 'thought', 'olde', 'man', 'haue', 'much', 'blood', 'Doct', 'Do', 'marke', 'Lad', 'The', 'Thane', 'Fife', 'wife', 'What', 'hands', 'ne', \"'re\", 'cleane', 'No', \"o'that\", 'Lord', \"o'that\", 'marre', 'starting', 'Doct', 'Go', 'go', 'You', 'haue', 'knowne', 'Gent', 'She', 'ha', \"'s\", 'spoke', 'shee', 'I', 'sure', 'Heauen', 'knowes', 'ha', \"'s\", 'knowne', 'La', 'Heere', \"'s\", 'smell', 'blood', 'still', 'perfumes', 'Arabia', 'sweeten', 'little', 'hand', 'Oh', 'oh', 'oh', 'Doct', 'What', 'sigh', 'The', 'hart', 'sorely', \"charg'd\", 'Gent', 'I', 'would', 'haue', 'heart', 'bosome', 'dignity', 'whole', 'body', 'Doct', 'Well', 'well', 'well', 'Gent', 'Pray', 'God', 'sir', 'Doct', 'This', 'disease', 'beyond', 'practise', 'yet', 'I', 'haue', 'knowne', 'haue', 'walkt', 'sleep', 'haue', 'dyed', 'holily', 'beds', 'Lad', 'Wash', 'hands', 'put', 'Night-Gowne', 'looke', 'pale', 'I', 'tell', 'yet', 'againe', 'Banquo', \"'s\", 'buried', 'come', \"'s\", 'graue', 'Doct', 'Euen', 'Lady', 'To', 'bed', 'bed', \"'s\", 'knocking', 'gate', 'Come', 'come', 'come', 'come', 'giue', 'hand', \"What's\", 'done', 'vndone', 'To', 'bed', 'bed', 'bed', 'Exit', 'Lady', 'Doct', 'Will', 'go', 'bed', 'Gent', 'Directly', 'Doct', 'Foule', \"whisp'rings\", 'abroad', 'vnnaturall', 'deeds', 'Do', 'breed', 'vnnaturall', 'troubles', 'infected', 'mindes', 'To', 'deafe', 'pillowes', 'discharge', 'Secrets', 'More', 'needs', 'Diuine', 'Physitian', 'God', 'God', 'forgiue', 'vs', 'Looke', 'Remoue', 'meanes', 'annoyance', 'And', 'still', 'keepe', 'eyes', 'vpon', 'So', 'goodnight', 'My', 'minde', 'ha', \"'s\", 'mated', 'amaz', \"'d\", 'sight', 'I', 'thinke', 'dare', 'speake', 'Gent', 'Good', 'night', 'good', 'Doctor', 'Exeunt', 'Scena', 'Secunda', 'Drum', 'Colours', 'Enter', 'Menteth', 'Cathnes', 'Angus', 'Lenox', 'Soldiers', 'Ment', 'The', 'English', 'powre', 'neere', 'led', 'Malcolm', 'His', 'Vnkle', 'Seyward', 'good', 'Macduff', 'Reuenges', 'burne', 'deere', 'causes', 'Would', 'bleeding', 'grim', 'Alarme', 'Excite', 'mortified', 'man', 'Ang', 'Neere', 'Byrnan', 'wood', 'Shall', 'well', 'meet', 'way', 'comming', 'Cath', 'Who', 'knowes', 'Donalbane', 'brother', 'Len', 'For', 'certaine', 'Sir', 'I', 'haue', 'File', 'Of', 'Gentry', 'Seywards', 'Sonne', 'And', 'many', 'vnruffe', 'youths', 'euen', 'Protest', 'first', 'Manhood', 'Ment', 'What', \"'s\", 'Tyrant', 'Cath', 'Great', 'Dunsinane', 'strongly', 'Fortifies', 'Some', 'say', 'hee', \"'s\", 'mad', 'Others', 'lesser', 'hate', 'Do', 'call', 'valiant', 'Fury', 'certaine', 'He', 'buckle', 'distemper', \"'d\", 'cause', 'Within', 'belt', 'Rule', 'Ang', 'Now', \"'s\", 'feele', 'His', 'secret', 'Murthers', 'sticking', 'hands', 'Now', 'minutely', 'Reuolts', 'vpbraid', 'Faith-breach', 'Those', 'commands', 'moue', 'onely', 'command', 'Nothing', 'loue', 'Now', \"'s\", 'feele', 'Title', 'Hang', 'loose', 'like', 'Giants', 'Robe', 'Vpon', 'dwarfish', 'Theefe', 'Ment', 'Who', 'shall', 'blame', 'His', 'pester', \"'d\", 'Senses', 'recoyle', 'start', 'When', 'within', \"'s\", 'condemne', 'It', 'selfe', 'Cath', 'Well', 'march', 'To', 'giue', 'Obedience', \"'t\", 'truly', 'ow', \"'d\", 'Meet', \"Med'cine\", 'sickly', 'Weale', 'And', 'poure', 'Countries', 'purge', 'Each', 'drop', 'vs', 'Lenox', 'Or', 'much', 'needes', 'To', 'dew', 'Soueraigne', 'Flower', 'drowne', 'Weeds', 'Make', 'March', 'towards', 'Birnan', 'Exeunt', 'marching', 'Scaena', 'Tertia', 'Enter', 'Macbeth', 'Doctor', 'Attendants', 'Macb', 'Bring', 'Reports', 'let', 'flye', 'Till', 'Byrnane', 'wood', 'remoue', 'Dunsinane', 'I', 'taint', 'Feare', 'What', \"'s\", 'Boy', 'Malcolme', 'Was', 'borne', 'woman', 'The', 'Spirits', 'know', 'All', 'mortall', 'Consequences', 'haue', 'pronounc', \"'d\", 'thus', 'Feare', 'Macbeth', 'man', \"'s\", 'borne', 'woman', 'Shall', 'ere', 'haue', 'power', 'vpon', 'thee', 'Then', 'fly', 'false', 'Thanes', 'And', 'mingle', 'English', 'Epicures', 'The', 'minde', 'I', 'sway', 'heart', 'I', 'beare', 'Shall', 'neuer', 'sagge', 'doubt', 'shake', 'feare', 'Enter', 'Seruant', 'The', 'diuell', 'damne', 'thee', 'blacke', 'thou', 'cream-fac', \"'d\", 'Loone', 'Where', \"got'st\", 'thou', 'Goose-looke', 'Ser', 'There', 'ten', 'thousand', 'Macb', 'Geese', 'Villaine', 'Ser', 'Souldiers', 'Sir', 'Macb', 'Go', 'pricke', 'thy', 'face', 'ouer-red', 'thy', 'feare', 'Thou', 'Lilly-liuer', \"'d\", 'Boy', 'What', 'Soldiers', 'Patch', 'Death', 'thy', 'Soule', 'Linnen', 'cheekes', 'thine', 'Are', 'Counsailers', 'feare', 'What', 'Soldiers', 'Whay-face', 'Ser', 'The', 'English', 'Force', 'please', 'Macb', 'Take', 'thy', 'face', 'hence', 'Seyton', 'I', 'sick', 'hart', 'When', 'I', 'behold', 'Seyton', 'I', 'say', 'push', 'Will', 'cheere', 'euer', 'dis-eate', 'I', 'haue', 'liu', \"'d\", 'long', 'enough', 'way', 'life', 'Is', 'falne', 'Seare', 'yellow', 'Leafe', 'And', 'accompany', 'Old-Age', 'As', 'Honor', 'Loue', 'Obedience', 'Troopes', 'Friends', 'I', 'must', 'looke', 'haue', 'steed', 'Curses', 'lowd', 'deepe', 'Mouth-honor', 'breath', 'Which', 'poore', 'heart', 'would', 'faine', 'deny', 'dare', 'Seyton', 'Enter', 'Seyton', 'Sey', 'What', \"'s\", 'gracious', 'pleasure', 'Macb', 'What', 'Newes', 'Sey', 'All', 'confirm', \"'d\", 'Lord', 'reported', 'Macb', 'Ile', 'fight', 'till', 'bones', 'flesh', 'hackt', 'Giue', 'Armor', 'Seyt', \"'T\", 'needed', 'yet', 'Macb', 'Ile', 'put', 'Send', 'moe', 'Horses', 'skirre', 'Country', 'round', 'Hang', 'talke', 'Feare', 'Giue', 'mine', 'Armor', 'How', \"'s\", 'Patient', 'Doctor', 'Doct', 'Not', 'sicke', 'Lord', 'As', 'troubled', 'thicke-comming', 'Fancies', 'That', 'keepe', 'rest', 'Macb', 'Cure', \"Can'st\", 'thou', 'Minister', 'minde', 'diseas', \"'d\", 'Plucke', 'Memory', 'rooted', 'Sorrow', 'Raze', 'written', 'troubles', 'Braine', 'And', 'sweet', 'Obliuious', 'Antidote', 'Cleanse', 'stufft', 'bosome', 'perillous', 'stuffe', 'Which', 'weighes', 'vpon', 'heart', 'Doct', 'Therein', 'Patient', 'Must', 'minister', 'himselfe', 'Macb', 'Throw', 'Physicke', 'Dogs', 'Ile', 'none', 'Come', 'put', 'mine', 'Armour', 'giue', 'Staffe', 'Seyton', 'send', 'Doctor', 'Thanes', 'flye', 'Come', 'sir', 'dispatch', 'If', 'thou', \"could'st\", 'Doctor', 'cast', 'The', 'Water', 'Land', 'finde', 'Disease', 'And', 'purge', 'sound', 'pristine', 'Health', 'I', 'would', 'applaud', 'thee', 'Eccho', 'That', 'applaud', 'againe', \"Pull't\", 'I', 'say', 'What', 'Rubarb', 'Cyme', 'Purgatiue', 'drugge', 'Would', 'scowre', 'English', 'hence', \"hear'st\", 'Doct', 'I', 'good', 'Lord', 'Royall', 'Preparation', 'Makes', 'vs', 'heare', 'something', 'Macb', 'Bring', 'I', 'affraid', 'Death', 'Bane', 'Till', 'Birnane', 'Forrest', 'come', 'Dunsinane', 'Doct', 'Were', 'I', 'Dunsinane', 'away', 'cleere', 'Profit', 'againe', 'hardly', 'draw', 'heere', 'Exeunt', 'Scena', 'Quarta', 'Drum', 'Colours', 'Enter', 'Malcolme', 'Seyward', 'Macduffe', 'Seywards', 'Sonne', 'Menteth', 'Cathnes', 'Angus', 'Soldiers', 'Marching', 'Malc', 'Cosins', 'I', 'hope', 'dayes', 'neere', 'hand', 'That', 'Chambers', 'safe', 'Ment', 'We', 'doubt', 'nothing', 'Seyw', 'What', 'wood', 'vs', 'Ment', 'The', 'wood', 'Birnane', 'Malc', 'Let', 'euery', 'Souldier', 'hew', 'downe', 'Bough', 'And', \"bear't\", 'thereby', 'shall', 'shadow', 'The', 'numbers', 'Hoast', 'make', 'discouery', 'Erre', 'report', 'vs', 'Sold', 'It', 'shall', 'done', 'Syw', 'We', 'learne', 'confident', 'Tyrant', 'Keepes', 'still', 'Dunsinane', 'indure', 'Our', 'setting', 'downe', \"befor't\", 'Malc', \"'T\", 'maine', 'hope', 'For', 'aduantage', 'giuen', 'Both', 'lesse', 'haue', 'giuen', 'Reuolt', 'And', 'none', 'serue', 'constrained', 'things', 'Whose', 'hearts', 'absent', 'Macd', 'Let', 'iust', 'Censures', 'Attend', 'true', 'euent', 'put', 'Industrious', 'Souldiership', 'Sey', 'The', 'time', 'approaches', 'That', 'due', 'decision', 'make', 'vs', 'know', 'What', 'shall', 'say', 'haue', 'owe', 'Thoughts', 'speculatiue', 'vnsure', 'hopes', 'relate', 'But', 'certaine', 'issue', 'stroakes', 'must', 'arbitrate', 'Towards', 'aduance', 'warre', 'Exeunt', 'marching', 'Scena', 'Quinta', 'Enter', 'Macbeth', 'Seyton', 'Souldiers', 'Drum', 'Colours', 'Macb', 'Hang', 'Banners', 'outward', 'walls', 'The', 'Cry', 'still', 'come', 'Castles', 'strength', 'Will', 'laugh', 'Siedge', 'scorne', 'Heere', 'let', 'lye', 'Till', 'Famine', 'Ague', 'eate', 'vp', 'Were', 'forc', \"'d\", 'We', 'might', 'haue', 'met', 'darefull', 'beard', 'beard', 'And', 'beate', 'backward', 'home', 'What', 'noyse', 'A', 'Cry', 'within', 'Women', 'Sey', 'It', 'cry', 'women', 'good', 'Lord', 'Macb', 'I', 'haue', 'almost', 'forgot', 'taste', 'Feares', 'The', 'time', 'ha', \"'s\", 'beene', 'sences', 'would', 'haue', \"cool'd\", 'To', 'heare', 'Night-shrieke', 'Fell', 'haire', 'Would', 'dismall', 'Treatise', 'rowze', 'stirre', 'As', 'life', \"n't\", 'I', 'haue', 'supt', 'full', 'horrors', 'Direnesse', 'familiar', 'slaughterous', 'thoughts', 'Can', 'start', 'Wherefore', 'cry', 'Sey', 'The', 'Queene', 'Lord', 'dead', 'Macb', 'She', 'haue', \"dy'de\", 'heereafter', 'There', 'would', 'haue', 'beene', 'time', 'word', 'To', 'morrow', 'morrow', 'morrow', 'Creepes', 'petty', 'pace', 'day', 'day', 'To', 'last', 'Syllable', 'Recorded', 'time', 'And', 'yesterdayes', 'haue', 'lighted', 'Fooles', 'The', 'way', 'dusty', 'death', 'Out', 'breefe', 'Candle', 'Life', \"'s\", 'walking', 'Shadow', 'poore', 'Player', 'That', 'struts', 'frets', 'houre', 'vpon', 'Stage', 'And', 'heard', 'It', 'Tale', 'Told', 'Ideot', 'full', 'sound', 'fury', 'Signifying', 'nothing', 'Enter', 'Messenger', 'Thou', \"com'st\", 'vse', 'thy', 'Tongue', 'thy', 'Story', 'quickly', 'Mes', 'Gracious', 'Lord', 'I', 'report', 'I', 'say', 'I', 'saw', 'But', 'know', \"doo't\", 'Macb', 'Well', 'say', 'sir', 'Mes', 'As', 'I', 'stand', 'watch', 'vpon', 'Hill', 'I', 'look', \"'d\", 'toward', 'Byrnane', 'anon', 'thought', 'The', 'Wood', 'began', 'moue', 'Macb', 'Lyar', 'Slaue', 'Mes', 'Let', 'endure', 'wrath', \"if't\", 'Within', 'three', 'Mile', 'may', 'see', 'comming', 'I', 'say', 'mouing', 'Groue', 'Macb', 'If', 'thou', \"speak'st\", 'false', 'Vpon', 'next', 'Tree', 'shall', 'thou', 'hang', 'aliue', 'Till', 'Famine', 'cling', 'thee', 'If', 'thy', 'speech', 'sooth', 'I', 'care', 'thou', 'dost', 'much', 'I', 'pull', 'Resolution', 'begin', 'To', 'doubt', 'th', 'Equiuocation', 'Fiend', 'That', 'lies', 'like', 'truth', 'Feare', 'till', 'Byrnane', 'Wood', 'Do', 'come', 'Dunsinane', 'Wood', 'Comes', 'toward', 'Dunsinane', 'Arme', 'Arme', 'If', 'auouches', \"'s\", 'appeare', 'There', 'flying', 'hence', 'tarrying', 'I', \"'ginne\", 'a-weary', 'Sun', 'And', 'wish', 'th', 'estate', \"o'th\", 'world', 'vndon', 'Ring', 'Alarum', 'Bell', 'blow', 'Winde', 'come', 'wracke', 'At', 'least', 'wee', 'l', 'dye', 'Harnesse', 'backe', 'Exeunt', 'Scena', 'Sexta', 'Drumme', 'Colours', 'Enter', 'Malcolme', 'Seyward', 'Macduffe', 'Army', 'Boughes', 'Mal', 'Now', 'neere', 'enough', 'Your', 'leauy', 'Skreenes', 'throw', 'downe', 'And', 'shew', 'like', 'You', 'worthy', 'Vnkle', 'Shall', 'Cosin', 'right', 'Noble', 'Sonne', 'Leade', 'first', 'Battell', 'Worthy', 'Macduffe', 'wee', 'Shall', 'take', 'vpon', \"'s\", 'else', 'remaines', 'According', 'order', 'Sey', 'Fare', 'well', 'Do', 'finde', 'Tyrants', 'power', 'night', 'Let', 'vs', 'beaten', 'fight', 'Macd', 'Make', 'Trumpets', 'speak', 'giue', 'breath', 'Those', 'clamorous', 'Harbingers', 'Blood', 'Death', 'Exeunt', 'Alarums', 'continued', 'Scena', 'Septima', 'Enter', 'Macbeth', 'Macb', 'They', 'haue', 'tied', 'stake', 'I', 'flye', 'But', 'Beare-like', 'I', 'must', 'fight', 'course', 'What', \"'s\", 'That', 'borne', 'Woman', 'Such', 'one', 'Am', 'I', 'feare', 'none', 'Enter', 'young', 'Seyward', 'Y.Sey', 'What', 'thy', 'name', 'Macb', \"Thou'lt\", 'affraid', 'heare', 'Y.Sey', 'No', 'though', 'thou', \"call'st\", 'thy', 'selfe', 'hoter', 'name', 'Then', 'hell', 'Macb', 'My', 'name', \"'s\", 'Macbeth', 'Y.Sey', 'The', 'diuell', 'himselfe', 'could', 'pronounce', 'Title', 'More', 'hatefull', 'mine', 'eare', 'Macb', 'No', 'fearefull', 'Y.Sey', 'Thou', 'lyest', 'abhorred', 'Tyrant', 'Sword', 'Ile', 'proue', 'lye', 'thou', \"speak'st\", 'Fight', 'young', 'Seyward', 'slaine', 'Macb', 'Thou', \"was't\", 'borne', 'woman', 'But', 'Swords', 'I', 'smile', 'Weapons', 'laugh', 'scorne', 'Brandish', \"'d\", 'man', \"'s\", 'Woman', 'borne', 'Enter', 'Alarums', 'Enter', 'Macduffe', 'Macd', 'That', 'way', 'noise', 'Tyrant', 'shew', 'thy', 'face', 'If', 'thou', 'beest', 'slaine', 'stroake', 'mine', 'My', 'Wife', 'Childrens', 'Ghosts', 'haunt', 'still', 'I', 'strike', 'wretched', 'Kernes', 'whose', 'armes', 'Are', 'hyr', \"'d\", 'beare', 'Staues', 'either', 'thou', 'Macbeth', 'Or', 'else', 'Sword', 'vnbattered', 'edge', 'I', 'sheath', 'againe', 'vndeeded', 'There', 'thou', \"should'st\", 'By', 'great', 'clatter', 'one', 'greatest', 'note', 'Seemes', 'bruited', 'Let', 'finde', 'Fortune', 'And', 'I', 'begge', 'Exit', 'Alarums', 'Enter', 'Malcolme', 'Seyward', 'Sey', 'This', 'way', 'Lord', 'Castles', 'gently', 'rendred', 'The', 'Tyrants', 'people', 'sides', 'fight', 'The', 'Noble', 'Thanes', 'brauely', 'Warre', 'The', 'day', 'almost', 'selfe', 'professes', 'And', 'little', 'Malc', 'We', 'haue', 'met', 'Foes', 'That', 'strike', 'beside', 'vs', 'Sey', 'Enter', 'Sir', 'Castle', 'Exeunt', 'Alarum', 'Enter', 'Macbeth', 'Macb', 'Why', 'I', 'play', 'Roman', 'Foole', 'dye', 'On', 'mine', 'owne', 'sword', 'whiles', 'I', 'see', 'liues', 'gashes', 'Do', 'better', 'vpon', 'Enter', 'Macduffe', 'Macd', 'Turne', 'Hell-hound', 'turne', 'Macb', 'Of', 'men', 'else', 'I', 'haue', 'auoyded', 'thee', 'But', 'get', 'thee', 'backe', 'soule', 'much', \"charg'd\", 'With', 'blood', 'thine', 'already', 'Macd', 'I', 'haue', 'words', 'My', 'voice', 'Sword', 'thou', 'bloodier', 'Villaine', 'Then', 'tearmes', 'giue', 'thee', 'Fight', 'Alarum', 'Macb', 'Thou', 'loosest', 'labour', 'As', 'easie', \"may'st\", 'thou', 'intrenchant', 'Ayre', 'With', 'thy', 'keene', 'Sword', 'impresse', 'make', 'bleed', 'Let', 'fall', 'thy', 'blade', 'vulnerable', 'Crests', 'I', 'beare', 'charmed', 'Life', 'must', 'yeeld', 'To', 'one', 'woman', 'borne', 'Macd', 'Dispaire', 'thy', 'Charme', 'And', 'let', 'Angell', 'thou', 'still', 'hast', \"seru'd\", 'Tell', 'thee', 'Macduffe', 'Mothers', 'womb', 'Vntimely', 'ript', 'Macb', 'Accursed', 'tongue', 'tels', 'mee', 'For', 'hath', 'Cow', \"'d\", 'better', 'part', 'man', 'And', 'Iugling', 'Fiends', 'beleeu', \"'d\", 'That', 'palter', 'vs', 'double', 'sence', 'That', 'keepe', 'word', 'promise', 'eare', 'And', 'breake', 'hope', 'Ile', 'fight', 'thee', 'Macd', 'Then', 'yeeld', 'thee', 'Coward', 'And', 'liue', 'shew', 'gaze', \"o'th\", 'time', 'Wee', 'l', 'haue', 'thee', 'rarer', 'Monsters', 'Painted', 'vpon', 'pole', 'vnder-writ', 'Heere', 'may', 'see', 'Tyrant', 'Macb', 'I', 'yeeld', 'To', 'kisse', 'ground', 'young', 'Malcolmes', 'feet', 'And', 'baited', 'Rabbles', 'curse', 'Though', 'Byrnane', 'wood', 'come', 'Dunsinane', 'And', 'thou', 'oppos', \"'d\", 'woman', 'borne', 'Yet', 'I', 'try', 'last', 'Before', 'body', 'I', 'throw', 'warlike', 'Shield', 'Lay', 'Macduffe', 'And', 'damn', \"'d\", 'first', 'cries', 'hold', 'enough', 'Exeunt', 'fighting', 'Alarums', 'Enter', 'Fighting', 'Macbeth', 'slaine', 'Retreat', 'Flourish', 'Enter', 'Drumme', 'Colours', 'Malcolm', 'Seyward', 'Rosse', 'Thanes', 'Soldiers', 'Mal', 'I', 'would', 'Friends', 'misse', 'safe', \"arriu'd\", 'Sey', 'Some', 'must', 'go', 'yet', 'I', 'see', 'So', 'great', 'day', 'cheapely', 'bought', 'Mal', 'Macduffe', 'missing', 'Noble', 'Sonne', 'Rosse', 'Your', 'son', 'Lord', 'ha', \"'s\", 'paid', 'souldiers', 'debt', 'He', 'onely', 'liu', \"'d\", 'till', 'man', 'The', 'sooner', 'Prowesse', \"confirm'd\", 'In', 'vnshrinking', 'station', 'fought', 'But', 'like', 'man', \"dy'de\", 'Sey', 'Then', 'dead', 'Rosse', 'I', 'brought', 'field', 'cause', 'sorrow', 'Must', 'measur', \"'d\", 'worth', 'It', 'hath', 'end', 'Sey', 'Had', 'hurts', 'Rosse', 'I', 'Front', 'Sey', 'Why', 'Gods', 'Soldier', 'Had', 'I', 'many', 'Sonnes', 'I', 'haue', 'haires', 'I', 'would', 'wish', 'fairer', 'death', 'And', 'Knell', \"knoll'd\", 'Mal', 'Hee', \"'s\", 'worth', 'sorrow', 'Ile', 'spend', 'Sey', 'He', \"'s\", 'worth', 'They', 'say', 'parted', 'well', 'paid', 'score', 'And', 'God', 'Here', 'comes', 'newer', 'comfort', 'Enter', 'Macduffe', 'Macbeths', 'head', 'Macd', 'Haile', 'King', 'thou', 'art', 'Behold', 'stands', 'Th', 'Vsurpers', 'cursed', 'head', 'time', 'free', 'I', 'see', 'thee', 'compast', 'thy', 'Kingdomes', 'Pearle', 'That', 'speake', 'salutation', 'minds', 'Whose', 'voyces', 'I', 'desire', 'alowd', 'mine', 'Haile', 'King', 'Scotland', 'All', 'Haile', 'King', 'Scotland', 'Flourish', 'Mal', 'We', 'shall', 'spend', 'large', 'expence', 'time', 'Before', 'reckon', 'seuerall', 'loues', 'And', 'make', 'vs', 'euen', 'My', 'Thanes', 'Kinsmen', 'Henceforth', 'Earles', 'first', 'euer', 'Scotland', 'In', 'Honor', 'nam', \"'d\", 'What', \"'s\", 'Which', 'would', 'planted', 'newly', 'time', 'As', 'calling', 'home', 'exil', \"'d\", 'Friends', 'abroad', 'That', 'fled', 'Snares', 'watchfull', 'Tyranny', 'Producing', 'forth', 'cruell', 'Ministers', 'Of', 'dead', 'Butcher', 'Fiend-like', 'Queene', 'Who', \"'t\", 'thought', 'selfe', 'violent', 'hands', 'Tooke', 'life', 'This', 'need', 'full', 'else', 'That', 'call', \"'s\", 'vpon', 'vs', 'Grace', 'Grace', 'We', 'performe', 'measure', 'time', 'place', 'So', 'thankes', 'one', 'Whom', 'inuite', 'see', 'vs', 'Crown', \"'d\", 'Scone', 'Flourish', 'Exeunt', 'Omnes', 'FINIS']\n"
     ]
    }
   ],
   "source": [
    "wordsNoStopComp = [w for w in words if w not in myStopWords]\n",
    "print(wordsNoStopComp)"
   ]
  },
  {
   "cell_type": "code",
   "execution_count": 18,
   "id": "b08f3546-c62b-4dc3-af25-cd87661fb3a4",
   "metadata": {},
   "outputs": [],
   "source": [
    "# stemming the words"
   ]
  },
  {
   "cell_type": "code",
   "execution_count": 19,
   "id": "a2a5c144-c0cd-4e26-8b88-056f6c8a4b16",
   "metadata": {
    "tags": []
   },
   "outputs": [],
   "source": [
    "stemmed = [WordNetLemmatizer().lemmatize(w) for w in wordsNoStopComp]"
   ]
  },
  {
   "cell_type": "code",
   "execution_count": 20,
   "id": "cc5472e3-e22a-4c55-af2d-1fa06d2a9bf5",
   "metadata": {},
   "outputs": [],
   "source": [
    "# calculating word frequencies"
   ]
  },
  {
   "cell_type": "code",
   "execution_count": 21,
   "id": "62cb9179-0d1b-471a-95c1-a88b7dae632a",
   "metadata": {},
   "outputs": [
    {
     "data": {
      "text/plain": [
       "FreqDist({'I': 330, \"'d\": 192, 'And': 170, 'Macb': 137, \"'s\": 128, 'The': 117, 'haue': 117, 'Enter': 80, 'That': 80, 'What': 73, ...})"
      ]
     },
     "execution_count": 21,
     "metadata": {},
     "output_type": "execute_result"
    }
   ],
   "source": [
    "freq = FreqDist(stemmed)\n",
    "freq"
   ]
  },
  {
   "cell_type": "code",
   "execution_count": 22,
   "id": "4a6b0bbe-e891-47b8-8cf0-6e1d313234b4",
   "metadata": {},
   "outputs": [
    {
     "data": {
      "text/plain": [
       "I            330\n",
       "'d           192\n",
       "And          170\n",
       "Macb         137\n",
       "'s           128\n",
       "            ... \n",
       "Vertues        1\n",
       "Very           1\n",
       "Vessell        1\n",
       "Vessels        1\n",
       "brandisht      1\n",
       "Length: 3884, dtype: int64"
      ]
     },
     "execution_count": 22,
     "metadata": {},
     "output_type": "execute_result"
    }
   ],
   "source": [
    "df = pd.DataFrame(stemmed)\n",
    "df.value_counts()"
   ]
  },
  {
   "cell_type": "code",
   "execution_count": 23,
   "id": "b9e954dc-558c-483b-8793-c86cc78b7881",
   "metadata": {},
   "outputs": [],
   "source": [
    "freq = df.value_counts()"
   ]
  },
  {
   "cell_type": "code",
   "execution_count": 24,
   "id": "91bc0d89-9ee7-4f58-9b4d-4289e92bb921",
   "metadata": {},
   "outputs": [
    {
     "data": {
      "text/html": [
       "<div>\n",
       "<style scoped>\n",
       "    .dataframe tbody tr th:only-of-type {\n",
       "        vertical-align: middle;\n",
       "    }\n",
       "\n",
       "    .dataframe tbody tr th {\n",
       "        vertical-align: top;\n",
       "    }\n",
       "\n",
       "    .dataframe thead th {\n",
       "        text-align: right;\n",
       "    }\n",
       "</style>\n",
       "<table border=\"1\" class=\"dataframe\">\n",
       "  <thead>\n",
       "    <tr style=\"text-align: right;\">\n",
       "      <th></th>\n",
       "      <th>frequency</th>\n",
       "    </tr>\n",
       "    <tr>\n",
       "      <th>0</th>\n",
       "      <th></th>\n",
       "    </tr>\n",
       "  </thead>\n",
       "  <tbody>\n",
       "    <tr>\n",
       "      <th>I</th>\n",
       "      <td>330</td>\n",
       "    </tr>\n",
       "    <tr>\n",
       "      <th>'d</th>\n",
       "      <td>192</td>\n",
       "    </tr>\n",
       "    <tr>\n",
       "      <th>And</th>\n",
       "      <td>170</td>\n",
       "    </tr>\n",
       "    <tr>\n",
       "      <th>Macb</th>\n",
       "      <td>137</td>\n",
       "    </tr>\n",
       "    <tr>\n",
       "      <th>'s</th>\n",
       "      <td>128</td>\n",
       "    </tr>\n",
       "    <tr>\n",
       "      <th>...</th>\n",
       "      <td>...</td>\n",
       "    </tr>\n",
       "    <tr>\n",
       "      <th>Vertues</th>\n",
       "      <td>1</td>\n",
       "    </tr>\n",
       "    <tr>\n",
       "      <th>Very</th>\n",
       "      <td>1</td>\n",
       "    </tr>\n",
       "    <tr>\n",
       "      <th>Vessell</th>\n",
       "      <td>1</td>\n",
       "    </tr>\n",
       "    <tr>\n",
       "      <th>Vessels</th>\n",
       "      <td>1</td>\n",
       "    </tr>\n",
       "    <tr>\n",
       "      <th>brandisht</th>\n",
       "      <td>1</td>\n",
       "    </tr>\n",
       "  </tbody>\n",
       "</table>\n",
       "<p>3884 rows × 1 columns</p>\n",
       "</div>"
      ],
      "text/plain": [
       "           frequency\n",
       "0                   \n",
       "I                330\n",
       "'d               192\n",
       "And              170\n",
       "Macb             137\n",
       "'s               128\n",
       "...              ...\n",
       "Vertues            1\n",
       "Very               1\n",
       "Vessell            1\n",
       "Vessels            1\n",
       "brandisht          1\n",
       "\n",
       "[3884 rows x 1 columns]"
      ]
     },
     "execution_count": 24,
     "metadata": {},
     "output_type": "execute_result"
    }
   ],
   "source": [
    "freq_df = pd.DataFrame(freq)\n",
    "freq_df.columns=['frequency']\n",
    "freq_df"
   ]
  },
  {
   "cell_type": "code",
   "execution_count": 25,
   "id": "ad3b8974-31be-4127-82fd-100876e0b1a3",
   "metadata": {
    "tags": []
   },
   "outputs": [
    {
     "data": {
      "text/plain": [
       "frequency    3.145211\n",
       "dtype: float64"
      ]
     },
     "execution_count": 25,
     "metadata": {},
     "output_type": "execute_result"
    }
   ],
   "source": [
    "freq_df.mean()"
   ]
  },
  {
   "cell_type": "code",
   "execution_count": 26,
   "id": "87feeaf9-eef0-44b0-8cae-f4bc1dc583b3",
   "metadata": {},
   "outputs": [
    {
     "data": {
      "text/plain": [
       "frequency    7.099561\n",
       "dtype: float64"
      ]
     },
     "execution_count": 26,
     "metadata": {},
     "output_type": "execute_result"
    }
   ],
   "source": [
    "freq_df[freq_df['frequency'] > 1].mean()"
   ]
  },
  {
   "cell_type": "code",
   "execution_count": 27,
   "id": "0f3ec435-514f-410f-b0a2-566ad31e00e6",
   "metadata": {},
   "outputs": [
    {
     "data": {
      "text/plain": [
       "frequency    1.0\n",
       "dtype: float64"
      ]
     },
     "execution_count": 27,
     "metadata": {},
     "output_type": "execute_result"
    }
   ],
   "source": [
    "freq_df.median()"
   ]
  },
  {
   "cell_type": "code",
   "execution_count": 28,
   "id": "d53f8771-b2a5-48d2-9d87-8183ddb50204",
   "metadata": {},
   "outputs": [
    {
     "data": {
      "text/html": [
       "<div>\n",
       "<style scoped>\n",
       "    .dataframe tbody tr th:only-of-type {\n",
       "        vertical-align: middle;\n",
       "    }\n",
       "\n",
       "    .dataframe tbody tr th {\n",
       "        vertical-align: top;\n",
       "    }\n",
       "\n",
       "    .dataframe thead th {\n",
       "        text-align: right;\n",
       "    }\n",
       "</style>\n",
       "<table border=\"1\" class=\"dataframe\">\n",
       "  <thead>\n",
       "    <tr style=\"text-align: right;\">\n",
       "      <th></th>\n",
       "      <th>frequency</th>\n",
       "    </tr>\n",
       "  </thead>\n",
       "  <tbody>\n",
       "    <tr>\n",
       "      <th>0</th>\n",
       "      <td>1</td>\n",
       "    </tr>\n",
       "  </tbody>\n",
       "</table>\n",
       "</div>"
      ],
      "text/plain": [
       "   frequency\n",
       "0          1"
      ]
     },
     "execution_count": 28,
     "metadata": {},
     "output_type": "execute_result"
    }
   ],
   "source": [
    "freq_df.mode()"
   ]
  },
  {
   "cell_type": "code",
   "execution_count": 29,
   "id": "a730b2be-9a11-44c4-9f2e-6d14c2239e42",
   "metadata": {},
   "outputs": [],
   "source": [
    "# Creating a histogram of the word frequency data"
   ]
  },
  {
   "cell_type": "code",
   "execution_count": 30,
   "id": "c75f59eb-48ea-4722-aea9-91a39645f178",
   "metadata": {},
   "outputs": [
    {
     "data": {
      "text/plain": [
       "<AxesSubplot:ylabel='Frequency'>"
      ]
     },
     "execution_count": 30,
     "metadata": {},
     "output_type": "execute_result"
    },
    {
     "data": {
      "image/png": "[encoded data removed]",
      "text/plain": [
       "<Figure size 432x288 with 1 Axes>"
      ]
     },
     "metadata": {
      "needs_background": "light"
     },
     "output_type": "display_data"
    }
   ],
   "source": [
    "freq_df.plot(kind = 'hist', bins=100)"
   ]
  },
  {
   "cell_type": "code",
   "execution_count": 31,
   "id": "6e2b5203-8b33-43a3-90a9-eaa019c8be92",
   "metadata": {},
   "outputs": [],
   "source": [
    "# This histogram displays that the majority of words in Macbeth occur only a few times, which is consistent with the mean of around 3, the median of 1, and the mode of 1. "
   ]
  },
  {
   "cell_type": "code",
   "execution_count": 32,
   "id": "3368dfa7-165c-4c7d-aa2a-18d8d87defe5",
   "metadata": {},
   "outputs": [],
   "source": [
    "# Calculating the standard deviation and the interquartile range"
   ]
  },
  {
   "cell_type": "code",
   "execution_count": 33,
   "id": "86017129-8732-4a2d-9050-ca3d5ba8d9f2",
   "metadata": {},
   "outputs": [
    {
     "data": {
      "text/plain": [
       "frequency    9.636827\n",
       "dtype: float64"
      ]
     },
     "execution_count": 33,
     "metadata": {},
     "output_type": "execute_result"
    }
   ],
   "source": [
    "freq_df.std()"
   ]
  },
  {
   "cell_type": "code",
   "execution_count": 34,
   "id": "9850f8c9-a60a-48b2-80a4-6660a419b715",
   "metadata": {},
   "outputs": [
    {
     "data": {
      "text/plain": [
       "frequency    1.0\n",
       "Name: 0.25, dtype: float64"
      ]
     },
     "execution_count": 34,
     "metadata": {},
     "output_type": "execute_result"
    }
   ],
   "source": [
    "q1= freq_df.quantile(0.25)\n",
    "q1"
   ]
  },
  {
   "cell_type": "code",
   "execution_count": 35,
   "id": "e8c5a52b-853e-42aa-956b-31d66349816f",
   "metadata": {},
   "outputs": [
    {
     "data": {
      "text/plain": [
       "frequency    2.0\n",
       "Name: 0.75, dtype: float64"
      ]
     },
     "execution_count": 35,
     "metadata": {},
     "output_type": "execute_result"
    }
   ],
   "source": [
    "q3= freq_df.quantile(0.75)\n",
    "q3"
   ]
  },
  {
   "cell_type": "code",
   "execution_count": 36,
   "id": "a57fff36-4e7d-459b-8021-e556e37e43e7",
   "metadata": {},
   "outputs": [
    {
     "data": {
      "text/plain": [
       "frequency    1.0\n",
       "dtype: float64"
      ]
     },
     "execution_count": 36,
     "metadata": {},
     "output_type": "execute_result"
    }
   ],
   "source": [
    "iqr = q3-q1\n",
    "iqr"
   ]
  },
  {
   "cell_type": "code",
   "execution_count": 37,
   "id": "899665dc-0c22-40e9-8aeb-7ee22c1e29c2",
   "metadata": {},
   "outputs": [],
   "source": [
    "# the standard deviation is 9.636827 and the interquartile range is 1.0"
   ]
  },
  {
   "cell_type": "markdown",
   "id": "ccb5f8d9-afaa-4450-831a-6e3739e2a363",
   "metadata": {},
   "source": [
    "## Foray into machine learning"
   ]
  },
  {
   "cell_type": "code",
   "execution_count": 38,
   "id": "9ae940aa-8244-4ade-a2a4-db2bd420f4f2",
   "metadata": {},
   "outputs": [],
   "source": [
    "from sklearn import datasets\n",
    "df = datasets.load_diabetes(as_frame=True) \n",
    "features_df = df.data\n",
    "target_df = df.target"
   ]
  },
  {
   "cell_type": "code",
   "execution_count": 39,
   "id": "182d7c2e-0fcd-4317-84d7-ad421544e517",
   "metadata": {},
   "outputs": [
    {
     "name": "stdout",
     "output_type": "stream",
     "text": [
      ".. _diabetes_dataset:\n",
      "\n",
      "Diabetes dataset\n",
      "----------------\n",
      "\n",
      "Ten baseline variables, age, sex, body mass index, average blood\n",
      "pressure, and six blood serum measurements were obtained for each of n =\n",
      "442 diabetes patients, as well as the response of interest, a\n",
      "quantitative measure of disease progression one year after baseline.\n",
      "\n",
      "**Data Set Characteristics:**\n",
      "\n",
      "  :Number of Instances: 442\n",
      "\n",
      "  :Number of Attributes: First 10 columns are numeric predictive values\n",
      "\n",
      "  :Target: Column 11 is a quantitative measure of disease progression one year after baseline\n",
      "\n",
      "  :Attribute Information:\n",
      "      - age     age in years\n",
      "      - sex\n",
      "      - bmi     body mass index\n",
      "      - bp      average blood pressure\n",
      "      - s1      tc, total serum cholesterol\n",
      "      - s2      ldl, low-density lipoproteins\n",
      "      - s3      hdl, high-density lipoproteins\n",
      "      - s4      tch, total cholesterol / HDL\n",
      "      - s5      ltg, possibly log of serum triglycerides level\n",
      "      - s6      glu, blood sugar level\n",
      "\n",
      "Note: Each of these 10 feature variables have been mean centered and scaled by the standard deviation times `n_samples` (i.e. the sum of squares of each column totals 1).\n",
      "\n",
      "Source URL:\n",
      "https://www4.stat.ncsu.edu/~boos/var.select/diabetes.html\n",
      "\n",
      "For more information see:\n",
      "Bradley Efron, Trevor Hastie, Iain Johnstone and Robert Tibshirani (2004) \"Least Angle Regression,\" Annals of Statistics (with discussion), 407-499.\n",
      "(https://web.stanford.edu/~hastie/Papers/LARS/LeastAngle_2002.pdf)\n"
     ]
    }
   ],
   "source": [
    "print(df.DESCR)"
   ]
  },
  {
   "cell_type": "code",
   "execution_count": 47,
   "id": "d8c303d2-ae33-4bb8-9847-3e3e1aec43b5",
   "metadata": {},
   "outputs": [
    {
     "data": {
      "text/plain": [
       "{'data':           age       sex       bmi        bp        s1        s2        s3  \\\n",
       " 0    0.038076  0.050680  0.061696  0.021872 -0.044223 -0.034821 -0.043401   \n",
       " 1   -0.001882 -0.044642 -0.051474 -0.026328 -0.008449 -0.019163  0.074412   \n",
       " 2    0.085299  0.050680  0.044451 -0.005671 -0.045599 -0.034194 -0.032356   \n",
       " 3   -0.089063 -0.044642 -0.011595 -0.036656  0.012191  0.024991 -0.036038   \n",
       " 4    0.005383 -0.044642 -0.036385  0.021872  0.003935  0.015596  0.008142   \n",
       " ..        ...       ...       ...       ...       ...       ...       ...   \n",
       " 437  0.041708  0.050680  0.019662  0.059744 -0.005697 -0.002566 -0.028674   \n",
       " 438 -0.005515  0.050680 -0.015906 -0.067642  0.049341  0.079165 -0.028674   \n",
       " 439  0.041708  0.050680 -0.015906  0.017282 -0.037344 -0.013840 -0.024993   \n",
       " 440 -0.045472 -0.044642  0.039062  0.001215  0.016318  0.015283 -0.028674   \n",
       " 441 -0.045472 -0.044642 -0.073030 -0.081414  0.083740  0.027809  0.173816   \n",
       " \n",
       "            s4        s5        s6  \n",
       " 0   -0.002592  0.019908 -0.017646  \n",
       " 1   -0.039493 -0.068330 -0.092204  \n",
       " 2   -0.002592  0.002864 -0.025930  \n",
       " 3    0.034309  0.022692 -0.009362  \n",
       " 4   -0.002592 -0.031991 -0.046641  \n",
       " ..        ...       ...       ...  \n",
       " 437 -0.002592  0.031193  0.007207  \n",
       " 438  0.034309 -0.018118  0.044485  \n",
       " 439 -0.011080 -0.046879  0.015491  \n",
       " 440  0.026560  0.044528 -0.025930  \n",
       " 441 -0.039493 -0.004220  0.003064  \n",
       " \n",
       " [442 rows x 10 columns],\n",
       " 'target': 0      151.0\n",
       " 1       75.0\n",
       " 2      141.0\n",
       " 3      206.0\n",
       " 4      135.0\n",
       "        ...  \n",
       " 437    178.0\n",
       " 438    104.0\n",
       " 439    132.0\n",
       " 440    220.0\n",
       " 441     57.0\n",
       " Name: target, Length: 442, dtype: float64,\n",
       " 'frame':           age       sex       bmi        bp        s1        s2        s3  \\\n",
       " 0    0.038076  0.050680  0.061696  0.021872 -0.044223 -0.034821 -0.043401   \n",
       " 1   -0.001882 -0.044642 -0.051474 -0.026328 -0.008449 -0.019163  0.074412   \n",
       " 2    0.085299  0.050680  0.044451 -0.005671 -0.045599 -0.034194 -0.032356   \n",
       " 3   -0.089063 -0.044642 -0.011595 -0.036656  0.012191  0.024991 -0.036038   \n",
       " 4    0.005383 -0.044642 -0.036385  0.021872  0.003935  0.015596  0.008142   \n",
       " ..        ...       ...       ...       ...       ...       ...       ...   \n",
       " 437  0.041708  0.050680  0.019662  0.059744 -0.005697 -0.002566 -0.028674   \n",
       " 438 -0.005515  0.050680 -0.015906 -0.067642  0.049341  0.079165 -0.028674   \n",
       " 439  0.041708  0.050680 -0.015906  0.017282 -0.037344 -0.013840 -0.024993   \n",
       " 440 -0.045472 -0.044642  0.039062  0.001215  0.016318  0.015283 -0.028674   \n",
       " 441 -0.045472 -0.044642 -0.073030 -0.081414  0.083740  0.027809  0.173816   \n",
       " \n",
       "            s4        s5        s6  target  \n",
       " 0   -0.002592  0.019908 -0.017646   151.0  \n",
       " 1   -0.039493 -0.068330 -0.092204    75.0  \n",
       " 2   -0.002592  0.002864 -0.025930   141.0  \n",
       " 3    0.034309  0.022692 -0.009362   206.0  \n",
       " 4   -0.002592 -0.031991 -0.046641   135.0  \n",
       " ..        ...       ...       ...     ...  \n",
       " 437 -0.002592  0.031193  0.007207   178.0  \n",
       " 438  0.034309 -0.018118  0.044485   104.0  \n",
       " 439 -0.011080 -0.046879  0.015491   132.0  \n",
       " 440  0.026560  0.044528 -0.025930   220.0  \n",
       " 441 -0.039493 -0.004220  0.003064    57.0  \n",
       " \n",
       " [442 rows x 11 columns],\n",
       " 'DESCR': '.. _diabetes_dataset:\\n\\nDiabetes dataset\\n----------------\\n\\nTen baseline variables, age, sex, body mass index, average blood\\npressure, and six blood serum measurements were obtained for each of n =\\n442 diabetes patients, as well as the response of interest, a\\nquantitative measure of disease progression one year after baseline.\\n\\n**Data Set Characteristics:**\\n\\n  :Number of Instances: 442\\n\\n  :Number of Attributes: First 10 columns are numeric predictive values\\n\\n  :Target: Column 11 is a quantitative measure of disease progression one year after baseline\\n\\n  :Attribute Information:\\n      - age     age in years\\n      - sex\\n      - bmi     body mass index\\n      - bp      average blood pressure\\n      - s1      tc, total serum cholesterol\\n      - s2      ldl, low-density lipoproteins\\n      - s3      hdl, high-density lipoproteins\\n      - s4      tch, total cholesterol / HDL\\n      - s5      ltg, possibly log of serum triglycerides level\\n      - s6      glu, blood sugar level\\n\\nNote: Each of these 10 feature variables have been mean centered and scaled by the standard deviation times `n_samples` (i.e. the sum of squares of each column totals 1).\\n\\nSource URL:\\nhttps://www4.stat.ncsu.edu/~boos/var.select/diabetes.html\\n\\nFor more information see:\\nBradley Efron, Trevor Hastie, Iain Johnstone and Robert Tibshirani (2004) \"Least Angle Regression,\" Annals of Statistics (with discussion), 407-499.\\n(https://web.stanford.edu/~hastie/Papers/LARS/LeastAngle_2002.pdf)',\n",
       " 'feature_names': ['age',\n",
       "  'sex',\n",
       "  'bmi',\n",
       "  'bp',\n",
       "  's1',\n",
       "  's2',\n",
       "  's3',\n",
       "  's4',\n",
       "  's5',\n",
       "  's6'],\n",
       " 'data_filename': '/opt/conda/lib/python3.9/site-packages/sklearn/datasets/data/diabetes_data.csv.gz',\n",
       " 'target_filename': '/opt/conda/lib/python3.9/site-packages/sklearn/datasets/data/diabetes_target.csv.gz'}"
      ]
     },
     "execution_count": 47,
     "metadata": {},
     "output_type": "execute_result"
    }
   ],
   "source": [
    "df"
   ]
  },
  {
   "cell_type": "code",
   "execution_count": 41,
   "id": "ca4f1645-9d35-453f-a17f-130210bcc67f",
   "metadata": {
    "tags": []
   },
   "outputs": [
    {
     "data": {
      "text/html": [
       "<div>\n",
       "<style scoped>\n",
       "    .dataframe tbody tr th:only-of-type {\n",
       "        vertical-align: middle;\n",
       "    }\n",
       "\n",
       "    .dataframe tbody tr th {\n",
       "        vertical-align: top;\n",
       "    }\n",
       "\n",
       "    .dataframe thead th {\n",
       "        text-align: right;\n",
       "    }\n",
       "</style>\n",
       "<table border=\"1\" class=\"dataframe\">\n",
       "  <thead>\n",
       "    <tr style=\"text-align: right;\">\n",
       "      <th></th>\n",
       "      <th>age</th>\n",
       "      <th>sex</th>\n",
       "      <th>bmi</th>\n",
       "      <th>bp</th>\n",
       "      <th>s1</th>\n",
       "      <th>s2</th>\n",
       "      <th>s3</th>\n",
       "      <th>s4</th>\n",
       "      <th>s5</th>\n",
       "      <th>s6</th>\n",
       "    </tr>\n",
       "  </thead>\n",
       "  <tbody>\n",
       "    <tr>\n",
       "      <th>0</th>\n",
       "      <td>0.038076</td>\n",
       "      <td>0.050680</td>\n",
       "      <td>0.061696</td>\n",
       "      <td>0.021872</td>\n",
       "      <td>-0.044223</td>\n",
       "      <td>-0.034821</td>\n",
       "      <td>-0.043401</td>\n",
       "      <td>-0.002592</td>\n",
       "      <td>0.019908</td>\n",
       "      <td>-0.017646</td>\n",
       "    </tr>\n",
       "    <tr>\n",
       "      <th>1</th>\n",
       "      <td>-0.001882</td>\n",
       "      <td>-0.044642</td>\n",
       "      <td>-0.051474</td>\n",
       "      <td>-0.026328</td>\n",
       "      <td>-0.008449</td>\n",
       "      <td>-0.019163</td>\n",
       "      <td>0.074412</td>\n",
       "      <td>-0.039493</td>\n",
       "      <td>-0.068330</td>\n",
       "      <td>-0.092204</td>\n",
       "    </tr>\n",
       "    <tr>\n",
       "      <th>2</th>\n",
       "      <td>0.085299</td>\n",
       "      <td>0.050680</td>\n",
       "      <td>0.044451</td>\n",
       "      <td>-0.005671</td>\n",
       "      <td>-0.045599</td>\n",
       "      <td>-0.034194</td>\n",
       "      <td>-0.032356</td>\n",
       "      <td>-0.002592</td>\n",
       "      <td>0.002864</td>\n",
       "      <td>-0.025930</td>\n",
       "    </tr>\n",
       "    <tr>\n",
       "      <th>3</th>\n",
       "      <td>-0.089063</td>\n",
       "      <td>-0.044642</td>\n",
       "      <td>-0.011595</td>\n",
       "      <td>-0.036656</td>\n",
       "      <td>0.012191</td>\n",
       "      <td>0.024991</td>\n",
       "      <td>-0.036038</td>\n",
       "      <td>0.034309</td>\n",
       "      <td>0.022692</td>\n",
       "      <td>-0.009362</td>\n",
       "    </tr>\n",
       "    <tr>\n",
       "      <th>4</th>\n",
       "      <td>0.005383</td>\n",
       "      <td>-0.044642</td>\n",
       "      <td>-0.036385</td>\n",
       "      <td>0.021872</td>\n",
       "      <td>0.003935</td>\n",
       "      <td>0.015596</td>\n",
       "      <td>0.008142</td>\n",
       "      <td>-0.002592</td>\n",
       "      <td>-0.031991</td>\n",
       "      <td>-0.046641</td>\n",
       "    </tr>\n",
       "    <tr>\n",
       "      <th>...</th>\n",
       "      <td>...</td>\n",
       "      <td>...</td>\n",
       "      <td>...</td>\n",
       "      <td>...</td>\n",
       "      <td>...</td>\n",
       "      <td>...</td>\n",
       "      <td>...</td>\n",
       "      <td>...</td>\n",
       "      <td>...</td>\n",
       "      <td>...</td>\n",
       "    </tr>\n",
       "    <tr>\n",
       "      <th>437</th>\n",
       "      <td>0.041708</td>\n",
       "      <td>0.050680</td>\n",
       "      <td>0.019662</td>\n",
       "      <td>0.059744</td>\n",
       "      <td>-0.005697</td>\n",
       "      <td>-0.002566</td>\n",
       "      <td>-0.028674</td>\n",
       "      <td>-0.002592</td>\n",
       "      <td>0.031193</td>\n",
       "      <td>0.007207</td>\n",
       "    </tr>\n",
       "    <tr>\n",
       "      <th>438</th>\n",
       "      <td>-0.005515</td>\n",
       "      <td>0.050680</td>\n",
       "      <td>-0.015906</td>\n",
       "      <td>-0.067642</td>\n",
       "      <td>0.049341</td>\n",
       "      <td>0.079165</td>\n",
       "      <td>-0.028674</td>\n",
       "      <td>0.034309</td>\n",
       "      <td>-0.018118</td>\n",
       "      <td>0.044485</td>\n",
       "    </tr>\n",
       "    <tr>\n",
       "      <th>439</th>\n",
       "      <td>0.041708</td>\n",
       "      <td>0.050680</td>\n",
       "      <td>-0.015906</td>\n",
       "      <td>0.017282</td>\n",
       "      <td>-0.037344</td>\n",
       "      <td>-0.013840</td>\n",
       "      <td>-0.024993</td>\n",
       "      <td>-0.011080</td>\n",
       "      <td>-0.046879</td>\n",
       "      <td>0.015491</td>\n",
       "    </tr>\n",
       "    <tr>\n",
       "      <th>440</th>\n",
       "      <td>-0.045472</td>\n",
       "      <td>-0.044642</td>\n",
       "      <td>0.039062</td>\n",
       "      <td>0.001215</td>\n",
       "      <td>0.016318</td>\n",
       "      <td>0.015283</td>\n",
       "      <td>-0.028674</td>\n",
       "      <td>0.026560</td>\n",
       "      <td>0.044528</td>\n",
       "      <td>-0.025930</td>\n",
       "    </tr>\n",
       "    <tr>\n",
       "      <th>441</th>\n",
       "      <td>-0.045472</td>\n",
       "      <td>-0.044642</td>\n",
       "      <td>-0.073030</td>\n",
       "      <td>-0.081414</td>\n",
       "      <td>0.083740</td>\n",
       "      <td>0.027809</td>\n",
       "      <td>0.173816</td>\n",
       "      <td>-0.039493</td>\n",
       "      <td>-0.004220</td>\n",
       "      <td>0.003064</td>\n",
       "    </tr>\n",
       "  </tbody>\n",
       "</table>\n",
       "<p>442 rows × 10 columns</p>\n",
       "</div>"
      ],
      "text/plain": [
       "          age       sex       bmi        bp        s1        s2        s3  \\\n",
       "0    0.038076  0.050680  0.061696  0.021872 -0.044223 -0.034821 -0.043401   \n",
       "1   -0.001882 -0.044642 -0.051474 -0.026328 -0.008449 -0.019163  0.074412   \n",
       "2    0.085299  0.050680  0.044451 -0.005671 -0.045599 -0.034194 -0.032356   \n",
       "3   -0.089063 -0.044642 -0.011595 -0.036656  0.012191  0.024991 -0.036038   \n",
       "4    0.005383 -0.044642 -0.036385  0.021872  0.003935  0.015596  0.008142   \n",
       "..        ...       ...       ...       ...       ...       ...       ...   \n",
       "437  0.041708  0.050680  0.019662  0.059744 -0.005697 -0.002566 -0.028674   \n",
       "438 -0.005515  0.050680 -0.015906 -0.067642  0.049341  0.079165 -0.028674   \n",
       "439  0.041708  0.050680 -0.015906  0.017282 -0.037344 -0.013840 -0.024993   \n",
       "440 -0.045472 -0.044642  0.039062  0.001215  0.016318  0.015283 -0.028674   \n",
       "441 -0.045472 -0.044642 -0.073030 -0.081414  0.083740  0.027809  0.173816   \n",
       "\n",
       "           s4        s5        s6  \n",
       "0   -0.002592  0.019908 -0.017646  \n",
       "1   -0.039493 -0.068330 -0.092204  \n",
       "2   -0.002592  0.002864 -0.025930  \n",
       "3    0.034309  0.022692 -0.009362  \n",
       "4   -0.002592 -0.031991 -0.046641  \n",
       "..        ...       ...       ...  \n",
       "437 -0.002592  0.031193  0.007207  \n",
       "438  0.034309 -0.018118  0.044485  \n",
       "439 -0.011080 -0.046879  0.015491  \n",
       "440  0.026560  0.044528 -0.025930  \n",
       "441 -0.039493 -0.004220  0.003064  \n",
       "\n",
       "[442 rows x 10 columns]"
      ]
     },
     "execution_count": 41,
     "metadata": {},
     "output_type": "execute_result"
    }
   ],
   "source": [
    "features_df"
   ]
  },
  {
   "cell_type": "code",
   "execution_count": 43,
   "id": "d09ea060-f502-4448-bd08-3776ad205407",
   "metadata": {},
   "outputs": [
    {
     "data": {
      "text/html": [
       "<div>\n",
       "<style scoped>\n",
       "    .dataframe tbody tr th:only-of-type {\n",
       "        vertical-align: middle;\n",
       "    }\n",
       "\n",
       "    .dataframe tbody tr th {\n",
       "        vertical-align: top;\n",
       "    }\n",
       "\n",
       "    .dataframe thead th {\n",
       "        text-align: right;\n",
       "    }\n",
       "</style>\n",
       "<table border=\"1\" class=\"dataframe\">\n",
       "  <thead>\n",
       "    <tr style=\"text-align: right;\">\n",
       "      <th></th>\n",
       "      <th>age</th>\n",
       "      <th>sex</th>\n",
       "      <th>bmi</th>\n",
       "      <th>bp</th>\n",
       "      <th>s1</th>\n",
       "      <th>s2</th>\n",
       "      <th>s3</th>\n",
       "      <th>s4</th>\n",
       "      <th>s5</th>\n",
       "      <th>s6</th>\n",
       "    </tr>\n",
       "  </thead>\n",
       "  <tbody>\n",
       "    <tr>\n",
       "      <th>count</th>\n",
       "      <td>4.420000e+02</td>\n",
       "      <td>4.420000e+02</td>\n",
       "      <td>4.420000e+02</td>\n",
       "      <td>4.420000e+02</td>\n",
       "      <td>4.420000e+02</td>\n",
       "      <td>4.420000e+02</td>\n",
       "      <td>4.420000e+02</td>\n",
       "      <td>4.420000e+02</td>\n",
       "      <td>4.420000e+02</td>\n",
       "      <td>4.420000e+02</td>\n",
       "    </tr>\n",
       "    <tr>\n",
       "      <th>mean</th>\n",
       "      <td>-3.634285e-16</td>\n",
       "      <td>1.308343e-16</td>\n",
       "      <td>-8.045349e-16</td>\n",
       "      <td>1.281655e-16</td>\n",
       "      <td>-8.835316e-17</td>\n",
       "      <td>1.327024e-16</td>\n",
       "      <td>-4.574646e-16</td>\n",
       "      <td>3.777301e-16</td>\n",
       "      <td>-3.830854e-16</td>\n",
       "      <td>-3.412882e-16</td>\n",
       "    </tr>\n",
       "    <tr>\n",
       "      <th>std</th>\n",
       "      <td>4.761905e-02</td>\n",
       "      <td>4.761905e-02</td>\n",
       "      <td>4.761905e-02</td>\n",
       "      <td>4.761905e-02</td>\n",
       "      <td>4.761905e-02</td>\n",
       "      <td>4.761905e-02</td>\n",
       "      <td>4.761905e-02</td>\n",
       "      <td>4.761905e-02</td>\n",
       "      <td>4.761905e-02</td>\n",
       "      <td>4.761905e-02</td>\n",
       "    </tr>\n",
       "    <tr>\n",
       "      <th>min</th>\n",
       "      <td>-1.072256e-01</td>\n",
       "      <td>-4.464164e-02</td>\n",
       "      <td>-9.027530e-02</td>\n",
       "      <td>-1.123996e-01</td>\n",
       "      <td>-1.267807e-01</td>\n",
       "      <td>-1.156131e-01</td>\n",
       "      <td>-1.023071e-01</td>\n",
       "      <td>-7.639450e-02</td>\n",
       "      <td>-1.260974e-01</td>\n",
       "      <td>-1.377672e-01</td>\n",
       "    </tr>\n",
       "    <tr>\n",
       "      <th>25%</th>\n",
       "      <td>-3.729927e-02</td>\n",
       "      <td>-4.464164e-02</td>\n",
       "      <td>-3.422907e-02</td>\n",
       "      <td>-3.665645e-02</td>\n",
       "      <td>-3.424784e-02</td>\n",
       "      <td>-3.035840e-02</td>\n",
       "      <td>-3.511716e-02</td>\n",
       "      <td>-3.949338e-02</td>\n",
       "      <td>-3.324879e-02</td>\n",
       "      <td>-3.317903e-02</td>\n",
       "    </tr>\n",
       "    <tr>\n",
       "      <th>50%</th>\n",
       "      <td>5.383060e-03</td>\n",
       "      <td>-4.464164e-02</td>\n",
       "      <td>-7.283766e-03</td>\n",
       "      <td>-5.670611e-03</td>\n",
       "      <td>-4.320866e-03</td>\n",
       "      <td>-3.819065e-03</td>\n",
       "      <td>-6.584468e-03</td>\n",
       "      <td>-2.592262e-03</td>\n",
       "      <td>-1.947634e-03</td>\n",
       "      <td>-1.077698e-03</td>\n",
       "    </tr>\n",
       "    <tr>\n",
       "      <th>75%</th>\n",
       "      <td>3.807591e-02</td>\n",
       "      <td>5.068012e-02</td>\n",
       "      <td>3.124802e-02</td>\n",
       "      <td>3.564384e-02</td>\n",
       "      <td>2.835801e-02</td>\n",
       "      <td>2.984439e-02</td>\n",
       "      <td>2.931150e-02</td>\n",
       "      <td>3.430886e-02</td>\n",
       "      <td>3.243323e-02</td>\n",
       "      <td>2.791705e-02</td>\n",
       "    </tr>\n",
       "    <tr>\n",
       "      <th>max</th>\n",
       "      <td>1.107267e-01</td>\n",
       "      <td>5.068012e-02</td>\n",
       "      <td>1.705552e-01</td>\n",
       "      <td>1.320442e-01</td>\n",
       "      <td>1.539137e-01</td>\n",
       "      <td>1.987880e-01</td>\n",
       "      <td>1.811791e-01</td>\n",
       "      <td>1.852344e-01</td>\n",
       "      <td>1.335990e-01</td>\n",
       "      <td>1.356118e-01</td>\n",
       "    </tr>\n",
       "  </tbody>\n",
       "</table>\n",
       "</div>"
      ],
      "text/plain": [
       "                age           sex           bmi            bp            s1  \\\n",
       "count  4.420000e+02  4.420000e+02  4.420000e+02  4.420000e+02  4.420000e+02   \n",
       "mean  -3.634285e-16  1.308343e-16 -8.045349e-16  1.281655e-16 -8.835316e-17   \n",
       "std    4.761905e-02  4.761905e-02  4.761905e-02  4.761905e-02  4.761905e-02   \n",
       "min   -1.072256e-01 -4.464164e-02 -9.027530e-02 -1.123996e-01 -1.267807e-01   \n",
       "25%   -3.729927e-02 -4.464164e-02 -3.422907e-02 -3.665645e-02 -3.424784e-02   \n",
       "50%    5.383060e-03 -4.464164e-02 -7.283766e-03 -5.670611e-03 -4.320866e-03   \n",
       "75%    3.807591e-02  5.068012e-02  3.124802e-02  3.564384e-02  2.835801e-02   \n",
       "max    1.107267e-01  5.068012e-02  1.705552e-01  1.320442e-01  1.539137e-01   \n",
       "\n",
       "                 s2            s3            s4            s5            s6  \n",
       "count  4.420000e+02  4.420000e+02  4.420000e+02  4.420000e+02  4.420000e+02  \n",
       "mean   1.327024e-16 -4.574646e-16  3.777301e-16 -3.830854e-16 -3.412882e-16  \n",
       "std    4.761905e-02  4.761905e-02  4.761905e-02  4.761905e-02  4.761905e-02  \n",
       "min   -1.156131e-01 -1.023071e-01 -7.639450e-02 -1.260974e-01 -1.377672e-01  \n",
       "25%   -3.035840e-02 -3.511716e-02 -3.949338e-02 -3.324879e-02 -3.317903e-02  \n",
       "50%   -3.819065e-03 -6.584468e-03 -2.592262e-03 -1.947634e-03 -1.077698e-03  \n",
       "75%    2.984439e-02  2.931150e-02  3.430886e-02  3.243323e-02  2.791705e-02  \n",
       "max    1.987880e-01  1.811791e-01  1.852344e-01  1.335990e-01  1.356118e-01  "
      ]
     },
     "execution_count": 43,
     "metadata": {},
     "output_type": "execute_result"
    }
   ],
   "source": [
    "features_df.describe()"
   ]
  },
  {
   "cell_type": "code",
   "execution_count": 44,
   "id": "e18ada73-c745-4b3c-a61b-6d829bcfdb74",
   "metadata": {},
   "outputs": [
    {
     "data": {
      "text/plain": [
       "count    442.000000\n",
       "mean     152.133484\n",
       "std       77.093005\n",
       "min       25.000000\n",
       "25%       87.000000\n",
       "50%      140.500000\n",
       "75%      211.500000\n",
       "max      346.000000\n",
       "Name: target, dtype: float64"
      ]
     },
     "execution_count": 44,
     "metadata": {},
     "output_type": "execute_result"
    }
   ],
   "source": [
    "target_df.describe()"
   ]
  },
  {
   "cell_type": "code",
   "execution_count": null,
   "id": "93ec3268-566e-4ad3-87c2-7ca5e157390c",
   "metadata": {},
   "outputs": [],
   "source": [
    "# Finding the column in features_df that has the highest correlation coefficient with the target values in target_df"
   ]
  },
  {
   "cell_type": "code",
   "execution_count": 51,
   "id": "793a2dee-78ad-448f-9b2f-b2599e7d08e9",
   "metadata": {
    "tags": []
   },
   "outputs": [
    {
     "data": {
      "text/plain": [
       "Index(['age', 'sex', 'bmi', 'bp', 's1', 's2', 's3', 's4', 's5', 's6'], dtype='object')"
      ]
     },
     "execution_count": 51,
     "metadata": {},
     "output_type": "execute_result"
    }
   ],
   "source": [
    "features_df.columns"
   ]
  },
  {
   "cell_type": "code",
   "execution_count": 57,
   "id": "f5b8073e-20b7-4b8d-85f1-e83d9dc9538f",
   "metadata": {},
   "outputs": [
    {
     "ename": "TypeError",
     "evalue": "unhashable type: 'list'",
     "output_type": "error",
     "traceback": [
      "\u001b[0;31m---------------------------------------------------------------------------\u001b[0m",
      "\u001b[0;31mTypeError\u001b[0m                                 Traceback (most recent call last)",
      "\u001b[0;32m/tmp/ipykernel_52/144506675.py\u001b[0m in \u001b[0;36m<module>\u001b[0;34m\u001b[0m\n\u001b[0;32m----> 1\u001b[0;31m \u001b[0mdf\u001b[0m\u001b[0;34m[\u001b[0m\u001b[0;34m[\u001b[0m\u001b[0;34m'age'\u001b[0m\u001b[0;34m,\u001b[0m\u001b[0;34m'sex'\u001b[0m\u001b[0;34m]\u001b[0m\u001b[0;34m]\u001b[0m\u001b[0;34m.\u001b[0m\u001b[0mcorr\u001b[0m\u001b[0;34m(\u001b[0m\u001b[0;34m)\u001b[0m\u001b[0;34m\u001b[0m\u001b[0;34m\u001b[0m\u001b[0m\n\u001b[0m",
      "\u001b[0;31mTypeError\u001b[0m: unhashable type: 'list'"
     ]
    }
   ],
   "source": [
    "df[['age','sex']].corr()"
   ]
  },
  {
   "cell_type": "code",
   "execution_count": 60,
   "id": "c9bbf508-88cd-4fc5-a78e-b11764c9f885",
   "metadata": {},
   "outputs": [
    {
     "name": "stdout",
     "output_type": "stream",
     "text": [
      "0.18788875071891983\n"
     ]
    }
   ],
   "source": [
    "print(features_df['age'].corr(target_df))"
   ]
  },
  {
   "cell_type": "code",
   "execution_count": 61,
   "id": "5a082016-37e3-4024-a154-5c6318b36309",
   "metadata": {},
   "outputs": [
    {
     "name": "stdout",
     "output_type": "stream",
     "text": [
      "0.0430619984516054\n"
     ]
    }
   ],
   "source": [
    "print(features_df['sex'].corr(target_df))"
   ]
  },
  {
   "cell_type": "code",
   "execution_count": 62,
   "id": "2c9be33c-604f-4d50-824c-143277fa9f71",
   "metadata": {},
   "outputs": [
    {
     "name": "stdout",
     "output_type": "stream",
     "text": [
      "0.5864501344746891\n"
     ]
    }
   ],
   "source": [
    "print(features_df['bmi'].corr(target_df))"
   ]
  },
  {
   "cell_type": "code",
   "execution_count": 63,
   "id": "31c5fc30-bbf5-47ba-9f78-497362b9d99a",
   "metadata": {},
   "outputs": [
    {
     "name": "stdout",
     "output_type": "stream",
     "text": [
      "0.4414838489308862\n"
     ]
    }
   ],
   "source": [
    "print(features_df['bp'].corr(target_df))"
   ]
  },
  {
   "cell_type": "code",
   "execution_count": 64,
   "id": "95bd9b0a-d0e9-4d80-82c8-c06ddfa20024",
   "metadata": {},
   "outputs": [
    {
     "name": "stdout",
     "output_type": "stream",
     "text": [
      "0.2120224810145508\n"
     ]
    }
   ],
   "source": [
    "print(features_df['s1'].corr(target_df))"
   ]
  },
  {
   "cell_type": "code",
   "execution_count": 65,
   "id": "9859e06d-e308-4ee6-8b28-ca839f81401f",
   "metadata": {},
   "outputs": [
    {
     "name": "stdout",
     "output_type": "stream",
     "text": [
      "0.17405358696874249\n"
     ]
    }
   ],
   "source": [
    "print(features_df['s2'].corr(target_df))"
   ]
  },
  {
   "cell_type": "code",
   "execution_count": 67,
   "id": "c70f5c7c-5a79-42bd-b162-475351a30ebb",
   "metadata": {},
   "outputs": [
    {
     "name": "stdout",
     "output_type": "stream",
     "text": [
      "-0.39478925067091847\n"
     ]
    }
   ],
   "source": [
    "print(features_df['s3'].corr(target_df))"
   ]
  },
  {
   "cell_type": "code",
   "execution_count": 68,
   "id": "0aa4b572-e991-4db1-9396-30fb5b0759eb",
   "metadata": {},
   "outputs": [
    {
     "name": "stdout",
     "output_type": "stream",
     "text": [
      "0.4304528847447734\n"
     ]
    }
   ],
   "source": [
    "print(features_df['s4'].corr(target_df))"
   ]
  },
  {
   "cell_type": "code",
   "execution_count": 69,
   "id": "8c7ddd50-0cfe-48fc-a85c-3caf71a77b11",
   "metadata": {},
   "outputs": [
    {
     "name": "stdout",
     "output_type": "stream",
     "text": [
      "0.5658834252428094\n"
     ]
    }
   ],
   "source": [
    "print(features_df['s5'].corr(target_df))"
   ]
  },
  {
   "cell_type": "code",
   "execution_count": 70,
   "id": "e03e61c5-d9a1-4a2e-98ad-a0e08c9d5748",
   "metadata": {},
   "outputs": [
    {
     "name": "stdout",
     "output_type": "stream",
     "text": [
      "0.3824834842485812\n"
     ]
    }
   ],
   "source": [
    "print(features_df['s6'].corr(target_df))"
   ]
  },
  {
   "cell_type": "code",
   "execution_count": 71,
   "id": "a4c30ea9-17ed-4843-a1c3-c6ea27e5e18e",
   "metadata": {},
   "outputs": [],
   "source": [
    "# the column with the highest correlation is with features_df column BMI"
   ]
  },
  {
   "cell_type": "code",
   "execution_count": 72,
   "id": "a05dc370-4168-4a1a-8f54-b87b0307dafe",
   "metadata": {},
   "outputs": [],
   "source": [
    "# creating a scatter plot of the target values vs the BMI column "
   ]
  },
  {
   "cell_type": "code",
   "execution_count": 74,
   "id": "42161e20-1984-4623-8343-bfa5d3f2400c",
   "metadata": {},
   "outputs": [],
   "source": [
    "import matplotlib.pyplot as plt"
   ]
  },
  {
   "cell_type": "code",
   "execution_count": 78,
   "id": "f61276a5-8c7e-4aa4-be1f-8518e00e720e",
   "metadata": {},
   "outputs": [
    {
     "data": {
      "text/plain": [
       "<matplotlib.collections.PathCollection at 0x7f2b7d6780d0>"
      ]
     },
     "execution_count": 78,
     "metadata": {},
     "output_type": "execute_result"
    },
    {
     "data": {
      "image/png": "[encoded data removed]",
      "text/plain": [
       "<Figure size 432x288 with 1 Axes>"
      ]
     },
     "metadata": {
      "needs_background": "light"
     },
     "output_type": "display_data"
    }
   ],
   "source": [
    "plt.scatter(features_df['bmi'], target_df)"
   ]
  },
  {
   "cell_type": "code",
   "execution_count": 79,
   "id": "e3bc4e4b-0d39-4a2c-abcc-e2cd0944a8d4",
   "metadata": {},
   "outputs": [],
   "source": [
    "# the plotted points show some correlation which makes sense given that the correlation coefficient is roughly 0.58"
   ]
  },
  {
   "cell_type": "code",
   "execution_count": null,
   "id": "b0337525-1213-4466-8592-28af68a5c2b9",
   "metadata": {},
   "outputs": [],
   "source": [
    "# performing linear regression with sklearn's LinearRegression"
   ]
  },
  {
   "cell_type": "code",
   "execution_count": 81,
   "id": "ab9d6bbb-e0e6-429a-a83f-2f1f2d37f878",
   "metadata": {},
   "outputs": [],
   "source": [
    "from sklearn.linear_model import LinearRegression\n",
    "from sklearn.metrics import mean_squared_error, r2_score"
   ]
  },
  {
   "cell_type": "code",
   "execution_count": 116,
   "id": "3cb1a14c-3048-4ba7-aac0-c5dd5f6d53d3",
   "metadata": {},
   "outputs": [],
   "source": [
    "X = features_df[['bmi']]\n",
    "y = target_df"
   ]
  },
  {
   "cell_type": "code",
   "execution_count": 117,
   "id": "7da2f5dd-cea9-444d-87c6-5c1012710048",
   "metadata": {},
   "outputs": [],
   "source": [
    "reg = LinearRegression().fit(X, y)"
   ]
  },
  {
   "cell_type": "code",
   "execution_count": 118,
   "id": "aaed309a-9ec1-403e-92f6-9caf21764924",
   "metadata": {},
   "outputs": [
    {
     "data": {
      "text/plain": [
       "array([949.43526038])"
      ]
     },
     "execution_count": 118,
     "metadata": {},
     "output_type": "execute_result"
    }
   ],
   "source": [
    "reg.coef_"
   ]
  },
  {
   "cell_type": "code",
   "execution_count": 119,
   "id": "f5ea0d60-56e9-4df7-985d-0dd62679f3d2",
   "metadata": {},
   "outputs": [
    {
     "data": {
      "text/plain": [
       "152.1334841628967"
      ]
     },
     "execution_count": 119,
     "metadata": {},
     "output_type": "execute_result"
    }
   ],
   "source": [
    "reg.intercept_"
   ]
  },
  {
   "cell_type": "code",
   "execution_count": 120,
   "id": "1e2cf1e9-e4b2-425a-a35d-f80ed2dd2b0b",
   "metadata": {},
   "outputs": [],
   "source": [
    "ytrain = reg.intercept_ + reg.coef_ * X"
   ]
  },
  {
   "cell_type": "code",
   "execution_count": 121,
   "id": "2c4718df-2b19-4a47-b2d6-3c78549234a3",
   "metadata": {},
   "outputs": [
    {
     "data": {
      "image/png": "[encoded data removed]",
      "text/plain": [
       "<Figure size 432x288 with 1 Axes>"
      ]
     },
     "metadata": {
      "needs_background": "light"
     },
     "output_type": "display_data"
    }
   ],
   "source": [
    "plt.plot(X,y,'ro',X,ytrain,'b-');"
   ]
  },
  {
   "cell_type": "code",
   "execution_count": 122,
   "id": "62510502-1bed-427e-a658-95261ead65cb",
   "metadata": {},
   "outputs": [
    {
     "data": {
      "text/plain": [
       "3890.4565854612724"
      ]
     },
     "execution_count": 122,
     "metadata": {},
     "output_type": "execute_result"
    }
   ],
   "source": [
    "mean_squared_error(y, ytrain)"
   ]
  },
  {
   "cell_type": "code",
   "execution_count": 123,
   "id": "c6c293ee-1c71-4cc1-a2d0-32de99bd3f6d",
   "metadata": {},
   "outputs": [
    {
     "data": {
      "text/plain": [
       "0.3439237602253803"
      ]
     },
     "execution_count": 123,
     "metadata": {},
     "output_type": "execute_result"
    }
   ],
   "source": [
    "r2_score(y, ytrain)"
   ]
  },
  {
   "cell_type": "code",
   "execution_count": 93,
   "id": "c6f09fa3-2d63-408b-a556-f230e707b4ab",
   "metadata": {},
   "outputs": [],
   "source": [
    "# Trying linear regression with another variable"
   ]
  },
  {
   "cell_type": "code",
   "execution_count": 108,
   "id": "c158a64d-9cce-471b-a251-95db6052a6f3",
   "metadata": {},
   "outputs": [],
   "source": [
    "A = features_df[['age']]\n",
    "B = target_df"
   ]
  },
  {
   "cell_type": "code",
   "execution_count": 109,
   "id": "1e0c14a4-6b54-49c5-b350-53eecdba40c1",
   "metadata": {},
   "outputs": [],
   "source": [
    "newreg = LinearRegression().fit(A, B)"
   ]
  },
  {
   "cell_type": "code",
   "execution_count": 110,
   "id": "d6c16b3d-7983-4814-98cb-d2df2ad34b0d",
   "metadata": {},
   "outputs": [
    {
     "data": {
      "text/plain": [
       "array([304.18307453])"
      ]
     },
     "execution_count": 110,
     "metadata": {},
     "output_type": "execute_result"
    }
   ],
   "source": [
    "newreg.coef_"
   ]
  },
  {
   "cell_type": "code",
   "execution_count": 111,
   "id": "c4d23c41-4bcb-49f6-b10d-53c7b4205c90",
   "metadata": {},
   "outputs": [
    {
     "data": {
      "text/plain": [
       "152.13348416289605"
      ]
     },
     "execution_count": 111,
     "metadata": {},
     "output_type": "execute_result"
    }
   ],
   "source": [
    "newreg.intercept_"
   ]
  },
  {
   "cell_type": "code",
   "execution_count": 112,
   "id": "8b504f6a-7d04-41fe-973f-90656a351734",
   "metadata": {},
   "outputs": [],
   "source": [
    "btrain = newreg.intercept_ + newreg.coef_ * A"
   ]
  },
  {
   "cell_type": "code",
   "execution_count": 114,
   "id": "1a8f46f7-76e5-4cd5-a0af-10cf4a56ab69",
   "metadata": {},
   "outputs": [
    {
     "data": {
      "image/png": "[encoded data removed]",
      "text/plain": [
       "<Figure size 432x288 with 1 Axes>"
      ]
     },
     "metadata": {
      "needs_background": "light"
     },
     "output_type": "display_data"
    }
   ],
   "source": [
    "plt.plot(A,B,'ro',A,btrain,'b-');"
   ]
  },
  {
   "cell_type": "code",
   "execution_count": 115,
   "id": "3e275d19-17bb-47d3-8e40-97aa93952da8",
   "metadata": {},
   "outputs": [
    {
     "data": {
      "text/plain": [
       "5720.5470172056475"
      ]
     },
     "execution_count": 115,
     "metadata": {},
     "output_type": "execute_result"
    }
   ],
   "source": [
    "mean_squared_error(B, btrain)"
   ]
  },
  {
   "cell_type": "code",
   "execution_count": 124,
   "id": "136f8ec3-3701-4fb1-961a-d72ed282658e",
   "metadata": {},
   "outputs": [
    {
     "data": {
      "text/plain": [
       "0.03530218264671636"
      ]
     },
     "execution_count": 124,
     "metadata": {},
     "output_type": "execute_result"
    }
   ],
   "source": [
    "r2_score(B, btrain)"
   ]
  },
  {
   "cell_type": "code",
   "execution_count": 125,
   "id": "fdab0eaf-1321-403a-b61e-c5729ef01a16",
   "metadata": {},
   "outputs": [],
   "source": [
    "# this mean squared is much higher than the previous mean squared which makes sense as the line isn't as well fitted to these data points "
   ]
  },
  {
   "cell_type": "code",
   "execution_count": 126,
   "id": "fdda3143-ac2a-4c4a-bdcf-e79ae1a5e9ba",
   "metadata": {},
   "outputs": [],
   "source": [
    "# the R-squared score is much lower which makes sense since the correlation between age and the target values is lower than the correlation between bmi and the target values"
   ]
  },
  {
   "cell_type": "code",
   "execution_count": null,
   "id": "ce55466f-f4e5-48ec-baa6-95519c1ec862",
   "metadata": {},
   "outputs": [],
   "source": []
  }
 ],
 "metadata": {
  "kernelspec": {
   "display_name": "Python 3 (ipykernel)",
   "language": "python",
   "name": "python3"
  },
  "language_info": {
   "codemirror_mode": {
    "name": "ipython",
    "version": 3
   },
   "file_extension": ".py",
   "mimetype": "text/x-python",
   "name": "python",
   "nbconvert_exporter": "python",
   "pygments_lexer": "ipython3",
   "version": "3.9.6"
  }
 },
 "nbformat": 4,
 "nbformat_minor": 5
}
